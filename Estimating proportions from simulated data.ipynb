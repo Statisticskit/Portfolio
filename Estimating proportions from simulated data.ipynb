{
 "cells": [
  {
   "cell_type": "markdown",
   "id": "3cb57f38",
   "metadata": {},
   "source": [
    "# Estimating the proportion of population using illegal drugs by simulating 20 hypothetical respondents using a randomised response scheme"
   ]
  },
  {
   "cell_type": "markdown",
   "id": "0c196375",
   "metadata": {},
   "source": [
    "The file **randRes.RData** was obtained from a University website.\n",
    "\n",
    "The following gives a data dictionary for the dataframe `randRes`.\n",
    "\n",
    "* `trueAnswer` - the respondent’s true answer to the survey question, taking the values 1 (for ‘yes’) and 0 (for ‘no’)\n",
    "* `coin` - the result of the respondent’s coin toss, taking the values 1 (for ‘heads’) and 0 (for ‘tails’)\n",
    "* `surveyAnswer` - the respondent’s answer to the survey question when using the randomised response scheme, taking the values 1 (for ‘yes’) and 0 (for ‘no’); this is the only variable for which a real survey could collect data."
   ]
  },
  {
   "cell_type": "code",
   "execution_count": 1,
   "id": "bd3ab69e",
   "metadata": {},
   "outputs": [
    {
     "data": {
      "text/html": [
       "'randRes'"
      ],
      "text/latex": [
       "'randRes'"
      ],
      "text/markdown": [
       "'randRes'"
      ],
      "text/plain": [
       "[1] \"randRes\""
      ]
     },
     "metadata": {},
     "output_type": "display_data"
    }
   ],
   "source": [
    "# load dataframe\n",
    "load(\"randRes.RData\")\n",
    "\n",
    "#Check what dataframes have loaded\n",
    "ls()"
   ]
  },
  {
   "cell_type": "code",
   "execution_count": 2,
   "id": "1e42a4bb",
   "metadata": {},
   "outputs": [
    {
     "name": "stdout",
     "output_type": "stream",
     "text": [
      "'data.frame':\t20 obs. of  3 variables:\n",
      " $ trueAnswer  : int  1 0 0 0 0 0 0 0 0 0 ...\n",
      " $ coin        : int  0 0 1 0 0 1 1 1 1 1 ...\n",
      " $ surveyAnswer: num  1 0 1 0 0 1 1 1 1 1 ...\n"
     ]
    }
   ],
   "source": [
    "# Check structure\n",
    "str(randRes)"
   ]
  },
  {
   "cell_type": "code",
   "execution_count": 4,
   "id": "e27412df",
   "metadata": {
    "scrolled": false
   },
   "outputs": [
    {
     "data": {
      "text/html": [
       "<table>\n",
       "<thead><tr><th scope=col>trueAnswer</th><th scope=col>coin</th><th scope=col>surveyAnswer</th></tr></thead>\n",
       "<tbody>\n",
       "\t<tr><td>1</td><td>0</td><td>1</td></tr>\n",
       "\t<tr><td>0</td><td>0</td><td>0</td></tr>\n",
       "\t<tr><td>0</td><td>1</td><td>1</td></tr>\n",
       "\t<tr><td>0</td><td>0</td><td>0</td></tr>\n",
       "\t<tr><td>0</td><td>0</td><td>0</td></tr>\n",
       "\t<tr><td>0</td><td>1</td><td>1</td></tr>\n",
       "\t<tr><td>0</td><td>1</td><td>1</td></tr>\n",
       "\t<tr><td>0</td><td>1</td><td>1</td></tr>\n",
       "\t<tr><td>0</td><td>1</td><td>1</td></tr>\n",
       "\t<tr><td>0</td><td>1</td><td>1</td></tr>\n",
       "\t<tr><td>1</td><td>0</td><td>1</td></tr>\n",
       "\t<tr><td>1</td><td>1</td><td>1</td></tr>\n",
       "\t<tr><td>0</td><td>0</td><td>0</td></tr>\n",
       "\t<tr><td>0</td><td>1</td><td>1</td></tr>\n",
       "\t<tr><td>0</td><td>0</td><td>0</td></tr>\n",
       "\t<tr><td>0</td><td>0</td><td>0</td></tr>\n",
       "\t<tr><td>0</td><td>0</td><td>0</td></tr>\n",
       "\t<tr><td>0</td><td>1</td><td>1</td></tr>\n",
       "\t<tr><td>0</td><td>1</td><td>1</td></tr>\n",
       "\t<tr><td>0</td><td>0</td><td>0</td></tr>\n",
       "</tbody>\n",
       "</table>\n"
      ],
      "text/latex": [
       "\\begin{tabular}{r|lll}\n",
       " trueAnswer & coin & surveyAnswer\\\\\n",
       "\\hline\n",
       "\t 1 & 0 & 1\\\\\n",
       "\t 0 & 0 & 0\\\\\n",
       "\t 0 & 1 & 1\\\\\n",
       "\t 0 & 0 & 0\\\\\n",
       "\t 0 & 0 & 0\\\\\n",
       "\t 0 & 1 & 1\\\\\n",
       "\t 0 & 1 & 1\\\\\n",
       "\t 0 & 1 & 1\\\\\n",
       "\t 0 & 1 & 1\\\\\n",
       "\t 0 & 1 & 1\\\\\n",
       "\t 1 & 0 & 1\\\\\n",
       "\t 1 & 1 & 1\\\\\n",
       "\t 0 & 0 & 0\\\\\n",
       "\t 0 & 1 & 1\\\\\n",
       "\t 0 & 0 & 0\\\\\n",
       "\t 0 & 0 & 0\\\\\n",
       "\t 0 & 0 & 0\\\\\n",
       "\t 0 & 1 & 1\\\\\n",
       "\t 0 & 1 & 1\\\\\n",
       "\t 0 & 0 & 0\\\\\n",
       "\\end{tabular}\n"
      ],
      "text/markdown": [
       "\n",
       "| trueAnswer | coin | surveyAnswer |\n",
       "|---|---|---|\n",
       "| 1 | 0 | 1 |\n",
       "| 0 | 0 | 0 |\n",
       "| 0 | 1 | 1 |\n",
       "| 0 | 0 | 0 |\n",
       "| 0 | 0 | 0 |\n",
       "| 0 | 1 | 1 |\n",
       "| 0 | 1 | 1 |\n",
       "| 0 | 1 | 1 |\n",
       "| 0 | 1 | 1 |\n",
       "| 0 | 1 | 1 |\n",
       "| 1 | 0 | 1 |\n",
       "| 1 | 1 | 1 |\n",
       "| 0 | 0 | 0 |\n",
       "| 0 | 1 | 1 |\n",
       "| 0 | 0 | 0 |\n",
       "| 0 | 0 | 0 |\n",
       "| 0 | 0 | 0 |\n",
       "| 0 | 1 | 1 |\n",
       "| 0 | 1 | 1 |\n",
       "| 0 | 0 | 0 |\n",
       "\n"
      ],
      "text/plain": [
       "   trueAnswer coin surveyAnswer\n",
       "1  1          0    1           \n",
       "2  0          0    0           \n",
       "3  0          1    1           \n",
       "4  0          0    0           \n",
       "5  0          0    0           \n",
       "6  0          1    1           \n",
       "7  0          1    1           \n",
       "8  0          1    1           \n",
       "9  0          1    1           \n",
       "10 0          1    1           \n",
       "11 1          0    1           \n",
       "12 1          1    1           \n",
       "13 0          0    0           \n",
       "14 0          1    1           \n",
       "15 0          0    0           \n",
       "16 0          0    0           \n",
       "17 0          0    0           \n",
       "18 0          1    1           \n",
       "19 0          1    1           \n",
       "20 0          0    0           "
      ]
     },
     "metadata": {},
     "output_type": "display_data"
    }
   ],
   "source": [
    "#display whole dataframe\n",
    "randRes"
   ]
  },
  {
   "cell_type": "code",
   "execution_count": 15,
   "id": "0f8c175b",
   "metadata": {},
   "outputs": [
    {
     "data": {
      "text/html": [
       "12"
      ],
      "text/latex": [
       "12"
      ],
      "text/markdown": [
       "12"
      ],
      "text/plain": [
       "[1] 12"
      ]
     },
     "metadata": {},
     "output_type": "display_data"
    }
   ],
   "source": [
    "# count how many responses are 'yes'\n",
    "sum(randRes$surveyAnswer)"
   ]
  },
  {
   "cell_type": "code",
   "execution_count": 9,
   "id": "faaa2cad",
   "metadata": {
    "scrolled": true
   },
   "outputs": [
    {
     "data": {
      "text/html": [
       "0.2"
      ],
      "text/latex": [
       "0.2"
      ],
      "text/markdown": [
       "0.2"
      ],
      "text/plain": [
       "[1] 0.2"
      ]
     },
     "metadata": {},
     "output_type": "display_data"
    }
   ],
   "source": [
    "# calc p-hat\n",
    "((2*12)/20)-1"
   ]
  },
  {
   "cell_type": "code",
   "execution_count": 14,
   "id": "21d39f83",
   "metadata": {
    "scrolled": true
   },
   "outputs": [
    {
     "data": {
      "text/html": [
       "3"
      ],
      "text/latex": [
       "3"
      ],
      "text/markdown": [
       "3"
      ],
      "text/plain": [
       "[1] 3"
      ]
     },
     "metadata": {},
     "output_type": "display_data"
    }
   ],
   "source": [
    "# count how many true are 'yes'\n",
    "sum(randRes$trueAnswer)"
   ]
  },
  {
   "cell_type": "code",
   "execution_count": 10,
   "id": "246cba29",
   "metadata": {},
   "outputs": [
    {
     "data": {
      "text/html": [
       "0.15"
      ],
      "text/latex": [
       "0.15"
      ],
      "text/markdown": [
       "0.15"
      ],
      "text/plain": [
       "[1] 0.15"
      ]
     },
     "metadata": {},
     "output_type": "display_data"
    }
   ],
   "source": [
    "# calc proportion of true 'yes'\n",
    "3/20"
   ]
  },
  {
   "cell_type": "markdown",
   "id": "40618458",
   "metadata": {},
   "source": [
    "The randomised response is not that far off from the estimated response. We would expect some extra variation when anonymising data like this, but for a small group (n is less than 25) this isn't too bad. If we had more participants I would expect the estimate and the true value to get even closer. But all things considered this is not bad."
   ]
  },
  {
   "cell_type": "code",
   "execution_count": 48,
   "id": "a542aa3c",
   "metadata": {},
   "outputs": [],
   "source": [
    "# set seed (m is 7 to start)\n",
    "set.seed(7)\n",
    "# generate new objects\n",
    "trueAnswer2 <- rbinom(1000,1,0.1)\n",
    "coin2  <- rbinom(1000,1,0.5)\n",
    "result  <- trueAnswer2 + coin2\n",
    "surveyAnswer2 <- ifelse(result>0,1,0)"
   ]
  },
  {
   "cell_type": "code",
   "execution_count": 49,
   "id": "c79c9995",
   "metadata": {},
   "outputs": [
    {
     "data": {
      "text/html": [
       "523"
      ],
      "text/latex": [
       "523"
      ],
      "text/markdown": [
       "523"
      ],
      "text/plain": [
       "[1] 523"
      ]
     },
     "metadata": {},
     "output_type": "display_data"
    }
   ],
   "source": [
    "# count how many response are 'yes'\n",
    "sum(surveyAnswer2)"
   ]
  },
  {
   "cell_type": "code",
   "execution_count": 50,
   "id": "2988ce81",
   "metadata": {},
   "outputs": [
    {
     "data": {
      "text/html": [
       "0.046"
      ],
      "text/latex": [
       "0.046"
      ],
      "text/markdown": [
       "0.046"
      ],
      "text/plain": [
       "[1] 0.046"
      ]
     },
     "metadata": {},
     "output_type": "display_data"
    }
   ],
   "source": [
    "# calc p-hat\n",
    "((2*523)/1000)-1 "
   ]
  },
  {
   "cell_type": "code",
   "execution_count": 33,
   "id": "e6829aae",
   "metadata": {},
   "outputs": [],
   "source": [
    "# set seed \n",
    "set.seed(4)\n",
    "# generate new objects\n",
    "trueAnswer2 <- rbinom(1000,1,0.1)\n",
    "coin2  <- rbinom(1000,1,0.5)\n",
    "result  <- trueAnswer2 + coin2\n",
    "surveyAnswer2 <- ifelse(result>0,1,0)"
   ]
  },
  {
   "cell_type": "code",
   "execution_count": 34,
   "id": "0bffaaec",
   "metadata": {},
   "outputs": [
    {
     "data": {
      "text/html": [
       "558"
      ],
      "text/latex": [
       "558"
      ],
      "text/markdown": [
       "558"
      ],
      "text/plain": [
       "[1] 558"
      ]
     },
     "metadata": {},
     "output_type": "display_data"
    }
   ],
   "source": [
    "# count how many response are 'yes'\n",
    "sum(surveyAnswer2)"
   ]
  },
  {
   "cell_type": "code",
   "execution_count": 35,
   "id": "b62119e4",
   "metadata": {},
   "outputs": [
    {
     "data": {
      "text/html": [
       "0.116"
      ],
      "text/latex": [
       "0.116"
      ],
      "text/markdown": [
       "0.116"
      ],
      "text/plain": [
       "[1] 0.116"
      ]
     },
     "metadata": {},
     "output_type": "display_data"
    }
   ],
   "source": [
    "# calc p-hat\n",
    "((2*558)/1000)-1 "
   ]
  },
  {
   "cell_type": "code",
   "execution_count": 38,
   "id": "1b193aea",
   "metadata": {},
   "outputs": [],
   "source": [
    "# set seed \n",
    "set.seed(8)\n",
    "# generate new objects\n",
    "trueAnswer2 <- rbinom(1000,1,0.1)\n",
    "coin2  <- rbinom(1000,1,0.5)\n",
    "result  <- trueAnswer2 + coin2\n",
    "surveyAnswer2 <- ifelse(result>0,1,0)"
   ]
  },
  {
   "cell_type": "code",
   "execution_count": 39,
   "id": "c50ffbb0",
   "metadata": {},
   "outputs": [
    {
     "data": {
      "text/html": [
       "556"
      ],
      "text/latex": [
       "556"
      ],
      "text/markdown": [
       "556"
      ],
      "text/plain": [
       "[1] 556"
      ]
     },
     "metadata": {},
     "output_type": "display_data"
    }
   ],
   "source": [
    "# count how many response are 'yes'\n",
    "sum(surveyAnswer2)"
   ]
  },
  {
   "cell_type": "code",
   "execution_count": 40,
   "id": "c72b628d",
   "metadata": {},
   "outputs": [
    {
     "data": {
      "text/html": [
       "0.112"
      ],
      "text/latex": [
       "0.112"
      ],
      "text/markdown": [
       "0.112"
      ],
      "text/plain": [
       "[1] 0.112"
      ]
     },
     "metadata": {},
     "output_type": "display_data"
    }
   ],
   "source": [
    "# calc p-hat\n",
    "((2*556)/1000)-1 "
   ]
  },
  {
   "cell_type": "code",
   "execution_count": 43,
   "id": "664acaaa",
   "metadata": {},
   "outputs": [],
   "source": [
    "# set seed \n",
    "set.seed(3)\n",
    "# generate new objects\n",
    "trueAnswer2 <- rbinom(1000,1,0.1)\n",
    "coin2  <- rbinom(1000,1,0.5)\n",
    "result  <- trueAnswer2 + coin2\n",
    "surveyAnswer2 <- ifelse(result>0,1,0)"
   ]
  },
  {
   "cell_type": "code",
   "execution_count": 44,
   "id": "fc01c10f",
   "metadata": {},
   "outputs": [
    {
     "data": {
      "text/html": [
       "562"
      ],
      "text/latex": [
       "562"
      ],
      "text/markdown": [
       "562"
      ],
      "text/plain": [
       "[1] 562"
      ]
     },
     "metadata": {},
     "output_type": "display_data"
    }
   ],
   "source": [
    "# count how many response are 'yes'\n",
    "sum(surveyAnswer2)"
   ]
  },
  {
   "cell_type": "code",
   "execution_count": 45,
   "id": "84eb7096",
   "metadata": {},
   "outputs": [
    {
     "data": {
      "text/html": [
       "0.124"
      ],
      "text/latex": [
       "0.124"
      ],
      "text/markdown": [
       "0.124"
      ],
      "text/plain": [
       "[1] 0.124"
      ]
     },
     "metadata": {},
     "output_type": "display_data"
    }
   ],
   "source": [
    "# calc p-hat\n",
    "((2*562)/1000)-1 "
   ]
  },
  {
   "cell_type": "markdown",
   "id": "1083a389",
   "metadata": {},
   "source": [
    "The four values for $\\widehat{p}$ were\n",
    "\n",
    "* 0.046\n",
    "* 0.116\n",
    "* 0.112\n",
    "* 0.124\n",
    "\n",
    "Apart from the first result they are all very close to 0.1. However the first result isn't that far off"
   ]
  },
  {
   "cell_type": "code",
   "execution_count": 63,
   "id": "9fa2a821",
   "metadata": {},
   "outputs": [],
   "source": [
    "# set seed \n",
    "set.seed(3)\n",
    "pHat  <- NULL\n",
    "for (k in 1:10000)\n",
    "{\n",
    "trueAnswer3 <- rbinom(1000,1,0.1)\n",
    "coin3  <- rbinom(1000,1,0.5)\n",
    "result  <- trueAnswer3 + coin3\n",
    "surveyAnswer3 <- ifelse(result>0,1,0)\n",
    "nYes  <- sum(surveyAnswer3)\n",
    "pHat[k]  <- (2*nYes)/1000 - 1\n",
    "}"
   ]
  },
  {
   "cell_type": "code",
   "execution_count": 76,
   "id": "cdded49b",
   "metadata": {},
   "outputs": [
    {
     "data": {
      "text/html": [
       "0.100215"
      ],
      "text/latex": [
       "0.100215"
      ],
      "text/markdown": [
       "0.100215"
      ],
      "text/plain": [
       "[1] 0.100215"
      ]
     },
     "metadata": {},
     "output_type": "display_data"
    },
    {
     "data": {
      "image/png": "[encoded data removed]",
      "text/plain": [
       "Plot with title \"Estimated Proportion\""
      ]
     },
     "metadata": {},
     "output_type": "display_data"
    }
   ],
   "source": [
    "# get the mean\n",
    "sum(pHat)/10000\n",
    "\n",
    "# plot histogram\n",
    "hist(pHat, prob = T,\n",
    "     main=\"Estimated Proportion\",\n",
    "     xlab=\"Proportion\",\n",
    "     breaks = 20)"
   ]
  },
  {
   "cell_type": "markdown",
   "id": "269e4e98",
   "metadata": {},
   "source": [
    "The distribution of $\\widehat{p}$ when there are 1000 respondents appears to follow the normal distribution with a peak at around 0.1, when there are 1000 respondents and the actual value of p is 0.1. \n",
    "\n",
    "This is to be expected and is to do with the central limit theorem. Which in essence is that is you take enough samples from any other type of underlying distribution (in this case binomial) then it becomes normally distributed. \n",
    "\n",
    "In this case the probability was 0.1, hence the peak of this distribution is around that value."
   ]
  }
 ],
 "metadata": {
  "kernelspec": {
   "display_name": "R",
   "language": "R",
   "name": "ir"
  },
  "language_info": {
   "codemirror_mode": "r",
   "file_extension": ".r",
   "mimetype": "text/x-r-source",
   "name": "R",
   "pygments_lexer": "r",
   "version": "3.6.1"
  }
 },
 "nbformat": 4,
 "nbformat_minor": 5
}
