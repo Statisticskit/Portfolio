{
 "cells": [
  {
   "cell_type": "markdown",
   "id": "7d157ab9-878b-4efe-80a7-4e65a89f52b9",
   "metadata": {},
   "source": [
    "# Data Cleaning using Python"
   ]
  },
  {
   "cell_type": "markdown",
   "id": "b567f67b-467a-4f63-8e18-4736bfc93d38",
   "metadata": {},
   "source": [
    "## Happiness data cleaning\n",
    "\n",
    "***Scope***\n",
    "\n",
    "Given five csv's from consecutive years, with no furtherf information other than the datasets.\n",
    "\n",
    "The task is to clean & merge them into one df, which will ultimately be used to build a model to predict a country's happiness score."
   ]
  },
  {
   "cell_type": "markdown",
   "id": "9ceafbc2-6b6c-49af-83a0-d8157fa7f342",
   "metadata": {
    "tags": []
   },
   "source": [
    "### Importing required libraries and reading in the datasets"
   ]
  },
  {
   "cell_type": "code",
   "execution_count": 106,
   "id": "b470ac35-1009-43a1-944e-00bf7ba5049e",
   "metadata": {
    "tags": []
   },
   "outputs": [],
   "source": [
    "# Import libraries\n",
    "\n",
    "import numpy as np\n",
    "import pandas as pd\n",
    "import seaborn as sns\n",
    "import matplotlib.pyplot as plt\n",
    "\n",
    "# Panda df options\n",
    "pd.set_option('display.max_columns', None)  \n",
    "#pd.set_option('display.max_rows', None)  \n",
    "#pd.set_option('display.max_colwidth', None) \n",
    "\n",
    "# Notebook Theme\n",
    "rc = {'font.size':10, 'axes.labelsize':8, 'axes.titlesize':10}\n",
    "sns.set_theme(style='whitegrid', palette='Set3', rc=rc)"
   ]
  },
  {
   "cell_type": "code",
   "execution_count": 107,
   "id": "2b127354-725d-4ad3-a125-38a9dd06ce03",
   "metadata": {
    "tags": []
   },
   "outputs": [],
   "source": [
    "# Read in data\n",
    "df_2015 = pd.read_csv('./2015.csv')\n",
    "df_2016 = pd.read_csv('./2016.csv')\n",
    "df_2017 = pd.read_csv('./2017.csv')\n",
    "df_2018 = pd.read_csv('./2018.csv')\n",
    "df_2019 = pd.read_csv('./2019.csv')"
   ]
  },
  {
   "cell_type": "markdown",
   "id": "5c79e070-c185-4455-8b62-5f76b5320e5f",
   "metadata": {
    "tags": []
   },
   "source": [
    "### Looking at the annual dataframes"
   ]
  },
  {
   "cell_type": "code",
   "execution_count": 108,
   "id": "94ae3de5-c73a-4333-9eca-ac5c7eba41c6",
   "metadata": {
    "tags": []
   },
   "outputs": [
    {
     "name": "stdout",
     "output_type": "stream",
     "text": [
      "<class 'pandas.core.frame.DataFrame'>\n",
      "RangeIndex: 158 entries, 0 to 157\n",
      "Data columns (total 12 columns):\n",
      " #   Column                         Non-Null Count  Dtype  \n",
      "---  ------                         --------------  -----  \n",
      " 0   Country                        158 non-null    object \n",
      " 1   Region                         158 non-null    object \n",
      " 2   Happiness Rank                 158 non-null    int64  \n",
      " 3   Happiness Score                158 non-null    float64\n",
      " 4   Standard Error                 158 non-null    float64\n",
      " 5   Economy (GDP per Capita)       158 non-null    float64\n",
      " 6   Family                         158 non-null    float64\n",
      " 7   Health (Life Expectancy)       158 non-null    float64\n",
      " 8   Freedom                        158 non-null    float64\n",
      " 9   Trust (Government Corruption)  158 non-null    float64\n",
      " 10  Generosity                     158 non-null    float64\n",
      " 11  Dystopia Residual              158 non-null    float64\n",
      "dtypes: float64(9), int64(1), object(2)\n",
      "memory usage: 14.9+ KB\n",
      "<class 'pandas.core.frame.DataFrame'>\n",
      "RangeIndex: 157 entries, 0 to 156\n",
      "Data columns (total 13 columns):\n",
      " #   Column                         Non-Null Count  Dtype  \n",
      "---  ------                         --------------  -----  \n",
      " 0   Country                        157 non-null    object \n",
      " 1   Region                         157 non-null    object \n",
      " 2   Happiness Rank                 157 non-null    int64  \n",
      " 3   Happiness Score                157 non-null    float64\n",
      " 4   Lower Confidence Interval      157 non-null    float64\n",
      " 5   Upper Confidence Interval      157 non-null    float64\n",
      " 6   Economy (GDP per Capita)       157 non-null    float64\n",
      " 7   Family                         157 non-null    float64\n",
      " 8   Health (Life Expectancy)       157 non-null    float64\n",
      " 9   Freedom                        157 non-null    float64\n",
      " 10  Trust (Government Corruption)  157 non-null    float64\n",
      " 11  Generosity                     157 non-null    float64\n",
      " 12  Dystopia Residual              157 non-null    float64\n",
      "dtypes: float64(10), int64(1), object(2)\n",
      "memory usage: 16.1+ KB\n",
      "<class 'pandas.core.frame.DataFrame'>\n",
      "RangeIndex: 155 entries, 0 to 154\n",
      "Data columns (total 12 columns):\n",
      " #   Column                         Non-Null Count  Dtype  \n",
      "---  ------                         --------------  -----  \n",
      " 0   Country                        155 non-null    object \n",
      " 1   Happiness.Rank                 155 non-null    int64  \n",
      " 2   Happiness.Score                155 non-null    float64\n",
      " 3   Whisker.high                   155 non-null    float64\n",
      " 4   Whisker.low                    155 non-null    float64\n",
      " 5   Economy..GDP.per.Capita.       155 non-null    float64\n",
      " 6   Family                         155 non-null    float64\n",
      " 7   Health..Life.Expectancy.       155 non-null    float64\n",
      " 8   Freedom                        155 non-null    float64\n",
      " 9   Generosity                     155 non-null    float64\n",
      " 10  Trust..Government.Corruption.  155 non-null    float64\n",
      " 11  Dystopia.Residual              155 non-null    float64\n",
      "dtypes: float64(10), int64(1), object(1)\n",
      "memory usage: 14.7+ KB\n",
      "<class 'pandas.core.frame.DataFrame'>\n",
      "RangeIndex: 156 entries, 0 to 155\n",
      "Data columns (total 9 columns):\n",
      " #   Column                        Non-Null Count  Dtype  \n",
      "---  ------                        --------------  -----  \n",
      " 0   Overall rank                  156 non-null    int64  \n",
      " 1   Country or region             156 non-null    object \n",
      " 2   Score                         156 non-null    float64\n",
      " 3   GDP per capita                156 non-null    float64\n",
      " 4   Social support                156 non-null    float64\n",
      " 5   Healthy life expectancy       156 non-null    float64\n",
      " 6   Freedom to make life choices  156 non-null    float64\n",
      " 7   Generosity                    156 non-null    float64\n",
      " 8   Perceptions of corruption     155 non-null    float64\n",
      "dtypes: float64(7), int64(1), object(1)\n",
      "memory usage: 11.1+ KB\n",
      "<class 'pandas.core.frame.DataFrame'>\n",
      "RangeIndex: 156 entries, 0 to 155\n",
      "Data columns (total 9 columns):\n",
      " #   Column                        Non-Null Count  Dtype  \n",
      "---  ------                        --------------  -----  \n",
      " 0   Overall rank                  156 non-null    int64  \n",
      " 1   Country or region             156 non-null    object \n",
      " 2   Score                         156 non-null    float64\n",
      " 3   GDP per capita                156 non-null    float64\n",
      " 4   Social support                156 non-null    float64\n",
      " 5   Healthy life expectancy       156 non-null    float64\n",
      " 6   Freedom to make life choices  156 non-null    float64\n",
      " 7   Generosity                    156 non-null    float64\n",
      " 8   Perceptions of corruption     156 non-null    float64\n",
      "dtypes: float64(7), int64(1), object(1)\n",
      "memory usage: 11.1+ KB\n",
      "None None None None None\n"
     ]
    }
   ],
   "source": [
    "#view info for each df\n",
    "print(df_2015.info(),\n",
    "df_2016.info(),\n",
    "df_2017.info(),\n",
    "df_2018.info(),\n",
    "df_2019.info())"
   ]
  },
  {
   "cell_type": "markdown",
   "id": "ac4b54c4-5365-4e90-934a-011230d8a820",
   "metadata": {
    "tags": []
   },
   "source": [
    "* df_2015 contains 158 rows of data, 12 variables and has no null values\n",
    "* df_2016 contains 157 rows of data, 13 variables and has no null values\n",
    "* df_2017 contains 155 rows of data, 12 variables and has no null values\n",
    "* df_2018 contains 156 rows of data, 9 variables and has 1 null value\n",
    "* df_2019 contains 157 rows of data, 9 variables and has no null values\n",
    "\n",
    "All the df's contain the variable `Generosity`\n",
    "\n",
    "Ultimately the plan is to combine the 5 data sets into one df. So now is a good time to add a `Year` column into each data set, that way we don't lose traceability of the dataframes."
   ]
  },
  {
   "cell_type": "code",
   "execution_count": 109,
   "id": "abd2ba4f-8a61-428f-b22f-76edb1bfc421",
   "metadata": {
    "tags": []
   },
   "outputs": [],
   "source": [
    "# Add year col into each df\n",
    "df_2015['Year'] = 2015\n",
    "df_2016['Year'] = 2016\n",
    "df_2017['Year'] = 2017\n",
    "df_2018['Year'] = 2018\n",
    "df_2019['Year'] = 2019"
   ]
  },
  {
   "cell_type": "markdown",
   "id": "757740d7-bbd6-45b1-9354-d6a8c61e6e25",
   "metadata": {
    "tags": []
   },
   "source": [
    "### Looking at the indiv variables across the years"
   ]
  },
  {
   "cell_type": "markdown",
   "id": "6de65bd3-c3b2-4348-a031-da9afc0ef5cf",
   "metadata": {},
   "source": [
    "#### Happiness Score"
   ]
  },
  {
   "cell_type": "code",
   "execution_count": 110,
   "id": "4f1893e6-04ee-4594-9152-6da1c4291d59",
   "metadata": {},
   "outputs": [
    {
     "name": "stdout",
     "output_type": "stream",
     "text": [
      "Index(['Country', 'Region', 'Happiness Rank', 'Happiness Score',\n",
      "       'Standard Error', 'Economy (GDP per Capita)', 'Family',\n",
      "       'Health (Life Expectancy)', 'Freedom', 'Trust (Government Corruption)',\n",
      "       'Generosity', 'Dystopia Residual', 'Year'],\n",
      "      dtype='object') Index(['Country', 'Region', 'Happiness Rank', 'Happiness Score',\n",
      "       'Lower Confidence Interval', 'Upper Confidence Interval',\n",
      "       'Economy (GDP per Capita)', 'Family', 'Health (Life Expectancy)',\n",
      "       'Freedom', 'Trust (Government Corruption)', 'Generosity',\n",
      "       'Dystopia Residual', 'Year'],\n",
      "      dtype='object') Index(['Country', 'Happiness.Rank', 'Happiness.Score', 'Whisker.high',\n",
      "       'Whisker.low', 'Economy..GDP.per.Capita.', 'Family',\n",
      "       'Health..Life.Expectancy.', 'Freedom', 'Generosity',\n",
      "       'Trust..Government.Corruption.', 'Dystopia.Residual', 'Year'],\n",
      "      dtype='object') Index(['Overall rank', 'Country or region', 'Score', 'GDP per capita',\n",
      "       'Social support', 'Healthy life expectancy',\n",
      "       'Freedom to make life choices', 'Generosity',\n",
      "       'Perceptions of corruption', 'Year'],\n",
      "      dtype='object') Index(['Overall rank', 'Country or region', 'Score', 'GDP per capita',\n",
      "       'Social support', 'Healthy life expectancy',\n",
      "       'Freedom to make life choices', 'Generosity',\n",
      "       'Perceptions of corruption', 'Year'],\n",
      "      dtype='object')\n"
     ]
    }
   ],
   "source": [
    "# look at each df col names\n",
    "print(df_2015.columns,\n",
    "df_2016.columns,\n",
    "df_2017.columns,\n",
    "df_2018.columns,\n",
    "df_2019.columns)"
   ]
  },
  {
   "cell_type": "markdown",
   "id": "5932c54a-7399-4026-93f2-6fec00c27fa6",
   "metadata": {},
   "source": [
    "We can see in 2016 & 17 we have a variable called `Happiness Score`. \n",
    "\n",
    "In 2018 we have a var called `Happiness.Score`. \n",
    "\n",
    "And in 2018 and 19 we have a var called `Score`. Lets take a look at them together."
   ]
  },
  {
   "cell_type": "code",
   "execution_count": 111,
   "id": "776e20c8-f9e8-4def-abef-4773e20e7f46",
   "metadata": {
    "tags": []
   },
   "outputs": [],
   "source": [
    "# create df from each year for variable\n",
    "df_happiness = pd.concat([df_2015['Happiness Score'], df_2016['Happiness Score'], df_2017['Happiness.Score'], df_2018['Score'], df_2019['Score']], axis=1)"
   ]
  },
  {
   "cell_type": "code",
   "execution_count": 112,
   "id": "54a1c80b-4b02-43a8-aa76-109258c33c8f",
   "metadata": {
    "tags": []
   },
   "outputs": [
    {
     "name": "stdout",
     "output_type": "stream",
     "text": [
      "<class 'pandas.core.frame.DataFrame'>\n",
      "RangeIndex: 158 entries, 0 to 157\n",
      "Data columns (total 5 columns):\n",
      " #   Column           Non-Null Count  Dtype  \n",
      "---  ------           --------------  -----  \n",
      " 0   Happiness Score  158 non-null    float64\n",
      " 1   Happiness Score  157 non-null    float64\n",
      " 2   Happiness.Score  155 non-null    float64\n",
      " 3   Score            156 non-null    float64\n",
      " 4   Score            156 non-null    float64\n",
      "dtypes: float64(5)\n",
      "memory usage: 6.3 KB\n"
     ]
    }
   ],
   "source": [
    "# look at new df info\n",
    "df_happiness.info()"
   ]
  },
  {
   "cell_type": "code",
   "execution_count": 113,
   "id": "d2bca86d-788b-4bdf-bb6a-8c7fc4b0d09d",
   "metadata": {
    "tags": []
   },
   "outputs": [
    {
     "data": {
      "text/html": [
       "<div>\n",
       "<style scoped>\n",
       "    .dataframe tbody tr th:only-of-type {\n",
       "        vertical-align: middle;\n",
       "    }\n",
       "\n",
       "    .dataframe tbody tr th {\n",
       "        vertical-align: top;\n",
       "    }\n",
       "\n",
       "    .dataframe thead th {\n",
       "        text-align: right;\n",
       "    }\n",
       "</style>\n",
       "<table border=\"1\" class=\"dataframe\">\n",
       "  <thead>\n",
       "    <tr style=\"text-align: right;\">\n",
       "      <th></th>\n",
       "      <th>count</th>\n",
       "      <th>mean</th>\n",
       "      <th>std</th>\n",
       "      <th>min</th>\n",
       "      <th>25%</th>\n",
       "      <th>50%</th>\n",
       "      <th>75%</th>\n",
       "      <th>max</th>\n",
       "    </tr>\n",
       "  </thead>\n",
       "  <tbody>\n",
       "    <tr>\n",
       "      <th>Happiness Score</th>\n",
       "      <td>158.0</td>\n",
       "      <td>5.375734</td>\n",
       "      <td>1.145010</td>\n",
       "      <td>2.839</td>\n",
       "      <td>4.52600</td>\n",
       "      <td>5.2325</td>\n",
       "      <td>6.24375</td>\n",
       "      <td>7.587</td>\n",
       "    </tr>\n",
       "    <tr>\n",
       "      <th>Happiness Score</th>\n",
       "      <td>157.0</td>\n",
       "      <td>5.382185</td>\n",
       "      <td>1.141674</td>\n",
       "      <td>2.905</td>\n",
       "      <td>4.40400</td>\n",
       "      <td>5.3140</td>\n",
       "      <td>6.26900</td>\n",
       "      <td>7.526</td>\n",
       "    </tr>\n",
       "    <tr>\n",
       "      <th>Happiness.Score</th>\n",
       "      <td>155.0</td>\n",
       "      <td>5.354019</td>\n",
       "      <td>1.131230</td>\n",
       "      <td>2.693</td>\n",
       "      <td>4.50550</td>\n",
       "      <td>5.2790</td>\n",
       "      <td>6.10150</td>\n",
       "      <td>7.537</td>\n",
       "    </tr>\n",
       "    <tr>\n",
       "      <th>Score</th>\n",
       "      <td>156.0</td>\n",
       "      <td>5.375917</td>\n",
       "      <td>1.119506</td>\n",
       "      <td>2.905</td>\n",
       "      <td>4.45375</td>\n",
       "      <td>5.3780</td>\n",
       "      <td>6.16850</td>\n",
       "      <td>7.632</td>\n",
       "    </tr>\n",
       "    <tr>\n",
       "      <th>Score</th>\n",
       "      <td>156.0</td>\n",
       "      <td>5.407096</td>\n",
       "      <td>1.113120</td>\n",
       "      <td>2.853</td>\n",
       "      <td>4.54450</td>\n",
       "      <td>5.3795</td>\n",
       "      <td>6.18450</td>\n",
       "      <td>7.769</td>\n",
       "    </tr>\n",
       "  </tbody>\n",
       "</table>\n",
       "</div>"
      ],
      "text/plain": [
       "                 count      mean       std    min      25%     50%      75%  \\\n",
       "Happiness Score  158.0  5.375734  1.145010  2.839  4.52600  5.2325  6.24375   \n",
       "Happiness Score  157.0  5.382185  1.141674  2.905  4.40400  5.3140  6.26900   \n",
       "Happiness.Score  155.0  5.354019  1.131230  2.693  4.50550  5.2790  6.10150   \n",
       "Score            156.0  5.375917  1.119506  2.905  4.45375  5.3780  6.16850   \n",
       "Score            156.0  5.407096  1.113120  2.853  4.54450  5.3795  6.18450   \n",
       "\n",
       "                   max  \n",
       "Happiness Score  7.587  \n",
       "Happiness Score  7.526  \n",
       "Happiness.Score  7.537  \n",
       "Score            7.632  \n",
       "Score            7.769  "
      ]
     },
     "execution_count": 113,
     "metadata": {},
     "output_type": "execute_result"
    }
   ],
   "source": [
    "# numerical summary of df\n",
    "df_happiness.describe().T"
   ]
  },
  {
   "cell_type": "markdown",
   "id": "5a962d39-fbd4-4c3b-952e-27db078cd199",
   "metadata": {},
   "source": [
    "The missing values in the new df are because there are 158 obs for this score in 2015 and less obs in the other data frames.\n",
    "\n",
    "However we can see all of the happiness scores are floats and they range from 2.693 to 7.769\n",
    "\n",
    "So we could make the fair assumption they are all measured using the same SI units.\n",
    "\n",
    "Before combining the dataframes it might be a good idea to rename these columns the same, when concatenating them, so they do not add in additional columns for each variation of the spelling `Happiness Score` in the final dataframe."
   ]
  },
  {
   "cell_type": "code",
   "execution_count": 114,
   "id": "1d8e4ee0-ed5d-428e-8b1a-6d902d3da55c",
   "metadata": {
    "tags": []
   },
   "outputs": [],
   "source": [
    "# Rename col names\n",
    "df_2017 = df_2017.rename(columns={'Happiness.Score':'Happiness Score'})\n",
    "df_2018 = df_2018.rename(columns={'Score':'Happiness Score'})\n",
    "df_2019 = df_2019.rename(columns={'Score':'Happiness Score'})"
   ]
  },
  {
   "cell_type": "markdown",
   "id": "71155982-f53a-42a1-9091-47aec393a91b",
   "metadata": {},
   "source": [
    "#### Country and Country or Region"
   ]
  },
  {
   "cell_type": "code",
   "execution_count": 115,
   "id": "719756da-3ec1-4257-a3f5-177b7ae2a3f2",
   "metadata": {
    "tags": []
   },
   "outputs": [
    {
     "name": "stdout",
     "output_type": "stream",
     "text": [
      "Index(['Country', 'Region', 'Happiness Rank', 'Happiness Score',\n",
      "       'Standard Error', 'Economy (GDP per Capita)', 'Family',\n",
      "       'Health (Life Expectancy)', 'Freedom', 'Trust (Government Corruption)',\n",
      "       'Generosity', 'Dystopia Residual', 'Year'],\n",
      "      dtype='object') Index(['Country', 'Region', 'Happiness Rank', 'Happiness Score',\n",
      "       'Lower Confidence Interval', 'Upper Confidence Interval',\n",
      "       'Economy (GDP per Capita)', 'Family', 'Health (Life Expectancy)',\n",
      "       'Freedom', 'Trust (Government Corruption)', 'Generosity',\n",
      "       'Dystopia Residual', 'Year'],\n",
      "      dtype='object') Index(['Country', 'Happiness.Rank', 'Happiness Score', 'Whisker.high',\n",
      "       'Whisker.low', 'Economy..GDP.per.Capita.', 'Family',\n",
      "       'Health..Life.Expectancy.', 'Freedom', 'Generosity',\n",
      "       'Trust..Government.Corruption.', 'Dystopia.Residual', 'Year'],\n",
      "      dtype='object') Index(['Overall rank', 'Country or region', 'Happiness Score',\n",
      "       'GDP per capita', 'Social support', 'Healthy life expectancy',\n",
      "       'Freedom to make life choices', 'Generosity',\n",
      "       'Perceptions of corruption', 'Year'],\n",
      "      dtype='object') Index(['Overall rank', 'Country or region', 'Happiness Score',\n",
      "       'GDP per capita', 'Social support', 'Healthy life expectancy',\n",
      "       'Freedom to make life choices', 'Generosity',\n",
      "       'Perceptions of corruption', 'Year'],\n",
      "      dtype='object')\n"
     ]
    }
   ],
   "source": [
    "# look at each df col names\n",
    "print(df_2015.columns,\n",
    "df_2016.columns,\n",
    "df_2017.columns,\n",
    "df_2018.columns,\n",
    "df_2019.columns)"
   ]
  },
  {
   "cell_type": "markdown",
   "id": "bf9777e6-f306-42f7-83d1-cdf352ad52ae",
   "metadata": {
    "tags": []
   },
   "source": [
    "We can see that compared to 2015 df the following differences between the dataframes\n",
    "\n",
    "* `Country` and `Region` in 2015 & 16\n",
    "* `Country` only in 2017\n",
    "* `Country or region` in 2018 & 19"
   ]
  },
  {
   "cell_type": "code",
   "execution_count": 116,
   "id": "3315f30e-6bb0-4bbb-8f30-12eee5b4cbdf",
   "metadata": {
    "tags": []
   },
   "outputs": [
    {
     "name": "stdout",
     "output_type": "stream",
     "text": [
      "158 157 155 156 156\n"
     ]
    }
   ],
   "source": [
    "# view no. of unique entries in each df for this variable\n",
    "print(df_2015['Country'].nunique(),\n",
    "df_2016['Country'].nunique(),\n",
    "df_2017['Country'].nunique(),\n",
    "df_2018['Country or region'].nunique(),\n",
    "df_2019['Country or region'].nunique())"
   ]
  },
  {
   "cell_type": "code",
   "execution_count": 117,
   "id": "0f1e9fb1-78dd-4691-b546-1c67bca2bc97",
   "metadata": {
    "tags": []
   },
   "outputs": [
    {
     "data": {
      "text/plain": [
       "10"
      ]
     },
     "execution_count": 117,
     "metadata": {},
     "output_type": "execute_result"
    }
   ],
   "source": [
    "# view no. of regions for 2015\n",
    "df_2015['Region'].nunique()"
   ]
  },
  {
   "cell_type": "code",
   "execution_count": 118,
   "id": "5e088a3a-9168-4f56-b3f8-cdb643791a74",
   "metadata": {
    "tags": []
   },
   "outputs": [
    {
     "data": {
      "text/plain": [
       "Region\n",
       "Sub-Saharan Africa                 40\n",
       "Central and Eastern Europe         29\n",
       "Latin America and Caribbean        22\n",
       "Western Europe                     21\n",
       "Middle East and Northern Africa    20\n",
       "Southeastern Asia                   9\n",
       "Southern Asia                       7\n",
       "Eastern Asia                        6\n",
       "North America                       2\n",
       "Australia and New Zealand           2\n",
       "Name: count, dtype: int64"
      ]
     },
     "execution_count": 118,
     "metadata": {},
     "output_type": "execute_result"
    }
   ],
   "source": [
    "# view no. of obs in each of the 10 regions\n",
    "df_2015['Region'].value_counts()"
   ]
  },
  {
   "cell_type": "markdown",
   "id": "35886f18-9f93-4d5f-ad4b-cad84ba9da0c",
   "metadata": {
    "tags": []
   },
   "source": [
    "All of the values for `Country or region` in 2018 & 2019 df's are unique. Which is not expected if the region were the value in some cases. You would expect some of the observations to repeat like we saw in the 2015 df. Which leads me to believe the only country names have been entered. Renaming the df's which have `Country or Region` var as `Country` is more descriptive."
   ]
  },
  {
   "cell_type": "code",
   "execution_count": 119,
   "id": "0adc48d6-7d11-479e-99d4-5c72bf09e9f6",
   "metadata": {
    "tags": []
   },
   "outputs": [],
   "source": [
    "# Rename the cols\n",
    "df_2018 = df_2018.rename(columns={'Country or region':'Country'})\n",
    "df_2019 = df_2019.rename(columns={'Country or region':'Country'})"
   ]
  },
  {
   "cell_type": "markdown",
   "id": "0e615b0c-058d-4f04-aab9-684de97fed52",
   "metadata": {
    "tags": []
   },
   "source": [
    "As the column now called `Country` in each data frame appears to be a unique identifier for each dataset's year. \n",
    "\n",
    "Combined with the knowledge that some yearly datasets have fewer rows than others, this leads to the conclusion that some countries have obs in one data set but not another.\n",
    "\n",
    "Lets take a look at 2015 compared to the other df's."
   ]
  },
  {
   "cell_type": "markdown",
   "id": "c049488f-7a56-4ed6-8468-b78c4d63d904",
   "metadata": {
    "tags": []
   },
   "source": [
    "##### 2015 vs 2016 `Country`"
   ]
  },
  {
   "cell_type": "code",
   "execution_count": 120,
   "id": "b9e61340-4a6a-491a-ac89-862ac40f1056",
   "metadata": {
    "tags": []
   },
   "outputs": [
    {
     "data": {
      "text/plain": [
       "21                         Oman\n",
       "90            Somaliland region\n",
       "93                   Mozambique\n",
       "96                      Lesotho\n",
       "100                   Swaziland\n",
       "125                    Djibouti\n",
       "147    Central African Republic\n",
       "Name: Country, dtype: object"
      ]
     },
     "execution_count": 120,
     "metadata": {},
     "output_type": "execute_result"
    }
   ],
   "source": [
    "# look to see which countries are in 2015 but not in 2016\n",
    "is_in_2015 = ~df_2015['Country'].isin(df_2016['Country'])\n",
    "in_15_not_in_16 = df_2015.loc[is_in_2015]\n",
    "in_15_not_in_16['Country']"
   ]
  },
  {
   "cell_type": "code",
   "execution_count": 121,
   "id": "3e7ad5e3-6bc1-417c-afed-0ae09bc819e6",
   "metadata": {
    "tags": []
   },
   "outputs": [
    {
     "data": {
      "text/plain": [
       "14           Puerto Rico\n",
       "51                Belize\n",
       "75               Somalia\n",
       "96     Somaliland Region\n",
       "112              Namibia\n",
       "142          South Sudan\n",
       "Name: Country, dtype: object"
      ]
     },
     "execution_count": 121,
     "metadata": {},
     "output_type": "execute_result"
    }
   ],
   "source": [
    "# is in 2016 but not in 2015\n",
    "is_in_2016 = ~df_2016['Country'].isin(df_2015['Country'])\n",
    "in_16_not_in_15 = df_2016.loc[is_in_2016]\n",
    "in_16_not_in_15['Country']"
   ]
  },
  {
   "cell_type": "markdown",
   "id": "18e18762-c9a6-4acc-83e3-7a7c692d9044",
   "metadata": {
    "tags": []
   },
   "source": [
    "We have the obs Somiland region in 2015 and Somiliand Region (with capital R) in 2016. \n",
    "\n",
    "In Python strings are case sensitive, so this has been noted to fix later if we are keeping this variable.\n",
    "\n",
    "In 2016 data set we have Somaliland Region and Somalia after doing some research, Somaliland (or Somaliland Region) is actually an autonomous region in northern Somalia, which broke away and declared independence from Somalia in 1991."
   ]
  },
  {
   "cell_type": "markdown",
   "id": "7cf4a635-44ff-44a4-bee7-ab94904c7c8b",
   "metadata": {
    "tags": []
   },
   "source": [
    "##### 2015 vs 2017 `Country`"
   ]
  },
  {
   "cell_type": "code",
   "execution_count": 122,
   "id": "1540fa95-01e8-4d27-9976-47485aee1117",
   "metadata": {
    "tags": []
   },
   "outputs": [
    {
     "data": {
      "text/plain": [
       "21                  Oman\n",
       "37                Taiwan\n",
       "39              Suriname\n",
       "71             Hong Kong\n",
       "90     Somaliland region\n",
       "98                  Laos\n",
       "100            Swaziland\n",
       "125             Djibouti\n",
       "139              Comoros\n",
       "Name: Country, dtype: object"
      ]
     },
     "execution_count": 122,
     "metadata": {},
     "output_type": "execute_result"
    }
   ],
   "source": [
    "# look to see which countries are in 2015 but not in 2017\n",
    "is_in_2015 = ~df_2015['Country'].isin(df_2017['Country'])\n",
    "in_15_not_in_17 = df_2015.loc[is_in_2015]\n",
    "in_15_not_in_17['Country']"
   ]
  },
  {
   "cell_type": "code",
   "execution_count": 123,
   "id": "3ebfa639-26fd-43ae-854a-17bdec8a3b8b",
   "metadata": {
    "tags": []
   },
   "outputs": [
    {
     "data": {
      "text/plain": [
       "32     Taiwan Province of China\n",
       "49                       Belize\n",
       "70      Hong Kong S.A.R., China\n",
       "92                      Somalia\n",
       "110                     Namibia\n",
       "146                 South Sudan\n",
       "Name: Country, dtype: object"
      ]
     },
     "execution_count": 123,
     "metadata": {},
     "output_type": "execute_result"
    }
   ],
   "source": [
    "# is in 2017 but not in 2015\n",
    "is_in_2017 = ~df_2017['Country'].isin(df_2015['Country'])\n",
    "in_17_not_in_15 = df_2017.loc[is_in_2017]\n",
    "in_17_not_in_15['Country']"
   ]
  },
  {
   "cell_type": "markdown",
   "id": "50010dfd-abda-48e9-af22-39f86d45a2f9",
   "metadata": {
    "tags": []
   },
   "source": [
    "We have the obs Hong Kong in 2015 and Hong Kong S.A.R., China) in 2017. Note made.\n",
    "\n",
    "We're now starting to see a pattern of the same countries missing in 2015, which are present in 2016 & 2017. They are Belize, Somalia, Namibia & South Sudan.\n",
    "\n",
    "And vice versa for Oman, Swaziland & Djibouti."
   ]
  },
  {
   "cell_type": "markdown",
   "id": "cacc9aac-e146-406b-9651-eb1cd8fa9204",
   "metadata": {
    "tags": []
   },
   "source": [
    "##### 2015 vs 2018 `Country`"
   ]
  },
  {
   "cell_type": "code",
   "execution_count": 124,
   "id": "c6c7d775-b917-4989-a703-cf1700ce0f33",
   "metadata": {
    "tags": []
   },
   "outputs": [
    {
     "data": {
      "text/plain": [
       "21                    Oman\n",
       "39                Suriname\n",
       "40     Trinidad and Tobago\n",
       "65            North Cyprus\n",
       "90       Somaliland region\n",
       "100              Swaziland\n",
       "125               Djibouti\n",
       "139                Comoros\n",
       "Name: Country, dtype: object"
      ]
     },
     "execution_count": 124,
     "metadata": {},
     "output_type": "execute_result"
    }
   ],
   "source": [
    "# look to see which countries are in 2015 but not in 2018\n",
    "is_in_2015 = ~df_2015['Country'].isin(df_2018['Country'])\n",
    "in_15_not_in_18 = df_2015.loc[is_in_2015]\n",
    "in_15_not_in_18['Country']"
   ]
  },
  {
   "cell_type": "code",
   "execution_count": 125,
   "id": "c51aeafc-434c-4d09-bff3-9897f31cbedf",
   "metadata": {
    "tags": []
   },
   "outputs": [
    {
     "data": {
      "text/plain": [
       "37     Trinidad & Tobago\n",
       "48                Belize\n",
       "57       Northern Cyprus\n",
       "97               Somalia\n",
       "118              Namibia\n",
       "153          South Sudan\n",
       "Name: Country, dtype: object"
      ]
     },
     "execution_count": 125,
     "metadata": {},
     "output_type": "execute_result"
    }
   ],
   "source": [
    "# is in 2018 but not in 2015\n",
    "is_in_2018 = ~df_2018['Country'].isin(df_2015['Country'])\n",
    "in_18_not_in_15 = df_2018.loc[is_in_2018]\n",
    "in_18_not_in_15['Country']"
   ]
  },
  {
   "cell_type": "markdown",
   "id": "8b907373-9e87-4b05-8110-dce9c4825bf5",
   "metadata": {
    "tags": []
   },
   "source": [
    "We have again some alternative spellings for a couple of countries:\n",
    "\n",
    "* Trinidad and Tobago (2015 version) vs Trinidad & Tobago (2018)\n",
    "* North Cyprus (2015) vs Northern Cyprus (2018)\n",
    "\n",
    "We have the same pattern of some repeating countries comparing 2015 to the other datasets. They are:\n",
    "\n",
    "* Belize, Somalia, Namibia & South Sudan - all present in 2016, 17 & 18 datasets but omitted from 2015\n",
    "* Oman, Swaziland & Djibouti - present in 2015 & not present in 2016, 17 & 18.\n"
   ]
  },
  {
   "cell_type": "markdown",
   "id": "d541bbeb-7cd2-4a6d-a97c-9c6c267f5787",
   "metadata": {
    "tags": []
   },
   "source": [
    "##### 2015 vs 2019 `Country`"
   ]
  },
  {
   "cell_type": "code",
   "execution_count": 126,
   "id": "64b3efce-3c9b-48d1-9be4-77c1f9caab3d",
   "metadata": {
    "tags": []
   },
   "outputs": [
    {
     "data": {
      "text/plain": [
       "21                    Oman\n",
       "39                Suriname\n",
       "40     Trinidad and Tobago\n",
       "65            North Cyprus\n",
       "90       Somaliland region\n",
       "92               Macedonia\n",
       "117                  Sudan\n",
       "125               Djibouti\n",
       "136                 Angola\n",
       "Name: Country, dtype: object"
      ]
     },
     "execution_count": 126,
     "metadata": {},
     "output_type": "execute_result"
    }
   ],
   "source": [
    "# look to see which countries are in 2015 but not in 2019\n",
    "is_in_2015 = ~df_2015['Country'].isin(df_2019['Country'])\n",
    "in_15_not_in_19 = df_2015.loc[is_in_2015]\n",
    "in_15_not_in_19['Country']"
   ]
  },
  {
   "cell_type": "code",
   "execution_count": 127,
   "id": "5d06b1d8-f090-40f2-b038-4c0ff3bf5f0f",
   "metadata": {
    "tags": []
   },
   "outputs": [
    {
     "data": {
      "text/plain": [
       "38     Trinidad & Tobago\n",
       "63       Northern Cyprus\n",
       "83       North Macedonia\n",
       "111              Somalia\n",
       "112              Namibia\n",
       "119               Gambia\n",
       "155          South Sudan\n",
       "Name: Country, dtype: object"
      ]
     },
     "execution_count": 127,
     "metadata": {},
     "output_type": "execute_result"
    }
   ],
   "source": [
    "# is in 2019 but not in 2015\n",
    "is_in_2019 = ~df_2019['Country'].isin(df_2015['Country'])\n",
    "in_19_not_in_15 = df_2019.loc[is_in_2019]\n",
    "in_19_not_in_15['Country']"
   ]
  },
  {
   "cell_type": "markdown",
   "id": "516ca2b6-5f06-417c-9251-ccc69440cf30",
   "metadata": {
    "tags": []
   },
   "source": [
    "We have some alternative spellings for a couple of countries:\n",
    "\n",
    "* Trinidad and Tobago (2015 version) vs Trinidad & Tobago (2019)\n",
    "* North Cyprus (2015) vs Northern Cyprus (2019)\n",
    "* Macedonia (2015) vs North Macedonia (2019) - changes its name it 2019 (after bit of research).\n",
    "\n",
    "We have a new pattern of some repeating countries comparing 2015 dataset to the other datasets. They are:\n",
    "\n",
    "* Somalia, Namibia & South Sudan - all present in 2016, 17, 18 & 19 datasets but omitted from 2015\n",
    "* Oman & Djibouti - present in 2015 & not present in 2016, 17, 18 & 19\n"
   ]
  },
  {
   "cell_type": "markdown",
   "id": "69c239f8-212a-4c91-b000-38ed00e6acab",
   "metadata": {
    "tags": []
   },
   "source": [
    "Looking at the inital permutations from comparison of 2015 data set to the others, we have two options to proceed:\n",
    "\n",
    "1. We can systematically go through each permutation of the data sets and find the differences, match the spellings and delete the entire row of data for the countries which are not in the other data sets. This will lose a min of 8 observations for each row deleted, but quite likely more data will be lost.\n",
    "2. We keep all of the other columns of data which can be used to predict the happiness score and delete the `Country` column to eradicate this mismatching of data.\n",
    "\n",
    "For the inital comparison from 2015 to the other data sets. This will mean we would lose the following countries:\n",
    "* (from 2015 dataset) Oman, Mozambique, Lesotho, Swaziland, Djibouti, Central African Republic, Taiwan, Suriname, Somaliland Region, Laos, Comoros, Sudan & Angola\n",
    "* (from 2016) Puerto Rico & Belize\n",
    "* (2017) Belize\n",
    "* (2018) Belize\n",
    "* (2019) Gambia\n",
    "* (from 2016, 17, 18 & 19) Somalia, Namibia & South Sudan\n",
    "\n",
    "So a total of 19 rows of data from just this inital comparison from 2015 to the other data sets meaning a min of 152 other observations out of an initial 6256 probable feature obs. Admittedly it is only 2% of the data at present. However if the comparison of 2016 vs the other data sets, then 2017 vs other years and so on results in the same amout of data points lost we could potentially lose about 10% of the remaining data.\n",
    "\n",
    "Based on the above and the intuition that the name of a country wouldn't really have much effect on the Happiness Score, we'll take the second option and drop this variable."
   ]
  },
  {
   "cell_type": "markdown",
   "id": "af5ef40b-3aa6-4efc-b0eb-6e18afd85fc5",
   "metadata": {
    "tags": []
   },
   "source": [
    "#### Region\n",
    "\n",
    "We have a column called `Region` in 2015 & 2016 dataframes only. We saw earlier that in 2018 & 2019 these were actually looking like countries not regions as you would expect (repetition for other rows of data). And finally this column is entirely omitted from the 2017 dataset. \n",
    "\n",
    "The fact we do not have like for like in each of the data sets and the intuition that a region name is probably not going to have much bearing on `Happiness Score` this variable will also be omittted when combining the data sets."
   ]
  },
  {
   "cell_type": "markdown",
   "id": "b5029c38-473a-4088-9784-40766f78dc0d",
   "metadata": {
    "tags": []
   },
   "source": [
    "#### Happiness Rank"
   ]
  },
  {
   "cell_type": "code",
   "execution_count": 128,
   "id": "983de386-06e1-42f1-bb7c-e3058d68ae54",
   "metadata": {
    "tags": []
   },
   "outputs": [
    {
     "name": "stdout",
     "output_type": "stream",
     "text": [
      "Index(['Country', 'Region', 'Happiness Rank', 'Happiness Score',\n",
      "       'Standard Error', 'Economy (GDP per Capita)', 'Family',\n",
      "       'Health (Life Expectancy)', 'Freedom', 'Trust (Government Corruption)',\n",
      "       'Generosity', 'Dystopia Residual', 'Year'],\n",
      "      dtype='object') Index(['Country', 'Region', 'Happiness Rank', 'Happiness Score',\n",
      "       'Lower Confidence Interval', 'Upper Confidence Interval',\n",
      "       'Economy (GDP per Capita)', 'Family', 'Health (Life Expectancy)',\n",
      "       'Freedom', 'Trust (Government Corruption)', 'Generosity',\n",
      "       'Dystopia Residual', 'Year'],\n",
      "      dtype='object') Index(['Country', 'Happiness.Rank', 'Happiness Score', 'Whisker.high',\n",
      "       'Whisker.low', 'Economy..GDP.per.Capita.', 'Family',\n",
      "       'Health..Life.Expectancy.', 'Freedom', 'Generosity',\n",
      "       'Trust..Government.Corruption.', 'Dystopia.Residual', 'Year'],\n",
      "      dtype='object') Index(['Overall rank', 'Country', 'Happiness Score', 'GDP per capita',\n",
      "       'Social support', 'Healthy life expectancy',\n",
      "       'Freedom to make life choices', 'Generosity',\n",
      "       'Perceptions of corruption', 'Year'],\n",
      "      dtype='object') Index(['Overall rank', 'Country', 'Happiness Score', 'GDP per capita',\n",
      "       'Social support', 'Healthy life expectancy',\n",
      "       'Freedom to make life choices', 'Generosity',\n",
      "       'Perceptions of corruption', 'Year'],\n",
      "      dtype='object')\n"
     ]
    }
   ],
   "source": [
    "# look at each df col names\n",
    "print(df_2015.columns,\n",
    "df_2016.columns,\n",
    "df_2017.columns,\n",
    "df_2018.columns,\n",
    "df_2019.columns)"
   ]
  },
  {
   "cell_type": "markdown",
   "id": "a3305811-8c01-4d75-8e4b-f7e4e3fa5ea3",
   "metadata": {
    "tags": []
   },
   "source": [
    "We can see in 2016 & 17 we have a variable called `Happiness Rank`. \n",
    "\n",
    "In 2018 we have a var called `Happiness.Rank`. \n",
    "\n",
    "And in 2018 and 19 we have a var called `Overall rank`. Lets take a look at them. "
   ]
  },
  {
   "cell_type": "code",
   "execution_count": 129,
   "id": "84697832-d539-4184-9143-cabc7c5c74a6",
   "metadata": {
    "tags": []
   },
   "outputs": [],
   "source": [
    "# create df from each year for variable\n",
    "df_rank = pd.concat([df_2015['Happiness Rank'], df_2016['Happiness Rank'], \n",
    "                     df_2017['Happiness.Rank'], df_2018['Overall rank'], df_2019['Overall rank']], axis=1)"
   ]
  },
  {
   "cell_type": "code",
   "execution_count": 130,
   "id": "2d4ae4e0-cd7c-4d98-8f91-2a7abcfd63cf",
   "metadata": {
    "tags": []
   },
   "outputs": [
    {
     "name": "stdout",
     "output_type": "stream",
     "text": [
      "<class 'pandas.core.frame.DataFrame'>\n",
      "RangeIndex: 158 entries, 0 to 157\n",
      "Data columns (total 5 columns):\n",
      " #   Column          Non-Null Count  Dtype  \n",
      "---  ------          --------------  -----  \n",
      " 0   Happiness Rank  158 non-null    int64  \n",
      " 1   Happiness Rank  157 non-null    float64\n",
      " 2   Happiness.Rank  155 non-null    float64\n",
      " 3   Overall rank    156 non-null    float64\n",
      " 4   Overall rank    156 non-null    float64\n",
      "dtypes: float64(4), int64(1)\n",
      "memory usage: 6.3 KB\n"
     ]
    }
   ],
   "source": [
    "# look at new df info\n",
    "df_rank.info()"
   ]
  },
  {
   "cell_type": "code",
   "execution_count": 131,
   "id": "980abc78-097b-47b2-b6f1-5933cfceec15",
   "metadata": {
    "tags": []
   },
   "outputs": [
    {
     "data": {
      "text/html": [
       "<div>\n",
       "<style scoped>\n",
       "    .dataframe tbody tr th:only-of-type {\n",
       "        vertical-align: middle;\n",
       "    }\n",
       "\n",
       "    .dataframe tbody tr th {\n",
       "        vertical-align: top;\n",
       "    }\n",
       "\n",
       "    .dataframe thead th {\n",
       "        text-align: right;\n",
       "    }\n",
       "</style>\n",
       "<table border=\"1\" class=\"dataframe\">\n",
       "  <thead>\n",
       "    <tr style=\"text-align: right;\">\n",
       "      <th></th>\n",
       "      <th>count</th>\n",
       "      <th>mean</th>\n",
       "      <th>std</th>\n",
       "      <th>min</th>\n",
       "      <th>25%</th>\n",
       "      <th>50%</th>\n",
       "      <th>75%</th>\n",
       "      <th>max</th>\n",
       "    </tr>\n",
       "  </thead>\n",
       "  <tbody>\n",
       "    <tr>\n",
       "      <th>Happiness Rank</th>\n",
       "      <td>158.0</td>\n",
       "      <td>79.493671</td>\n",
       "      <td>45.754363</td>\n",
       "      <td>1.0</td>\n",
       "      <td>40.25</td>\n",
       "      <td>79.5</td>\n",
       "      <td>118.75</td>\n",
       "      <td>158.0</td>\n",
       "    </tr>\n",
       "    <tr>\n",
       "      <th>Happiness Rank</th>\n",
       "      <td>157.0</td>\n",
       "      <td>78.980892</td>\n",
       "      <td>45.466030</td>\n",
       "      <td>1.0</td>\n",
       "      <td>40.00</td>\n",
       "      <td>79.0</td>\n",
       "      <td>118.00</td>\n",
       "      <td>157.0</td>\n",
       "    </tr>\n",
       "    <tr>\n",
       "      <th>Happiness.Rank</th>\n",
       "      <td>155.0</td>\n",
       "      <td>78.000000</td>\n",
       "      <td>44.888751</td>\n",
       "      <td>1.0</td>\n",
       "      <td>39.50</td>\n",
       "      <td>78.0</td>\n",
       "      <td>116.50</td>\n",
       "      <td>155.0</td>\n",
       "    </tr>\n",
       "    <tr>\n",
       "      <th>Overall rank</th>\n",
       "      <td>156.0</td>\n",
       "      <td>78.500000</td>\n",
       "      <td>45.177428</td>\n",
       "      <td>1.0</td>\n",
       "      <td>39.75</td>\n",
       "      <td>78.5</td>\n",
       "      <td>117.25</td>\n",
       "      <td>156.0</td>\n",
       "    </tr>\n",
       "    <tr>\n",
       "      <th>Overall rank</th>\n",
       "      <td>156.0</td>\n",
       "      <td>78.500000</td>\n",
       "      <td>45.177428</td>\n",
       "      <td>1.0</td>\n",
       "      <td>39.75</td>\n",
       "      <td>78.5</td>\n",
       "      <td>117.25</td>\n",
       "      <td>156.0</td>\n",
       "    </tr>\n",
       "  </tbody>\n",
       "</table>\n",
       "</div>"
      ],
      "text/plain": [
       "                count       mean        std  min    25%   50%     75%    max\n",
       "Happiness Rank  158.0  79.493671  45.754363  1.0  40.25  79.5  118.75  158.0\n",
       "Happiness Rank  157.0  78.980892  45.466030  1.0  40.00  79.0  118.00  157.0\n",
       "Happiness.Rank  155.0  78.000000  44.888751  1.0  39.50  78.0  116.50  155.0\n",
       "Overall rank    156.0  78.500000  45.177428  1.0  39.75  78.5  117.25  156.0\n",
       "Overall rank    156.0  78.500000  45.177428  1.0  39.75  78.5  117.25  156.0"
      ]
     },
     "execution_count": 131,
     "metadata": {},
     "output_type": "execute_result"
    }
   ],
   "source": [
    "# numerical summary of df\n",
    "df_rank.describe().T"
   ]
  },
  {
   "cell_type": "markdown",
   "id": "8c5c8508-d99b-45ac-b030-82aa3db67230",
   "metadata": {
    "tags": []
   },
   "source": [
    "The missing values in the new df are for the missing rows (countries) in the other df's.\n",
    "\n",
    "We can see all of the happiness ranks are floats except from 2015 and they range from 1 to to the total no. of rows in the data.\n",
    "\n",
    "This shows they are all the ranks of the countries that have been observed in that annual df and ranked according to their happiness score.\n",
    "\n",
    "We can check also this assumption by using a scatterplot, to see if there is a relationship evident."
   ]
  },
  {
   "cell_type": "code",
   "execution_count": 132,
   "id": "e40c33cd-a5f6-45cb-8c69-5aae409cb141",
   "metadata": {
    "tags": []
   },
   "outputs": [
    {
     "data": {
      "image/png": "[encoded data removed]",
      "text/plain": [
       "<Figure size 600x300 with 1 Axes>"
      ]
     },
     "metadata": {},
     "output_type": "display_data"
    },
    {
     "name": "stdout",
     "output_type": "stream",
     "text": [
      "                 Happiness Score  Happiness Rank\n",
      "Happiness Score         1.000000       -0.992105\n",
      "Happiness Rank         -0.992105        1.000000 \n",
      "                  Happiness Score  Happiness Rank\n",
      "Happiness Score         1.000000       -0.995743\n",
      "Happiness Rank         -0.995743        1.000000 \n",
      "                  Happiness Score  Happiness.Rank\n",
      "Happiness Score         1.000000       -0.992774\n",
      "Happiness.Rank         -0.992774        1.000000 \n",
      "                  Happiness Score  Overall rank\n",
      "Happiness Score         1.000000     -0.991749\n",
      "Overall rank           -0.991749      1.000000 \n",
      "                  Happiness Score  Overall rank\n",
      "Happiness Score         1.000000     -0.989096\n",
      "Overall rank           -0.989096      1.000000\n"
     ]
    }
   ],
   "source": [
    " # scatterplot of two numerical vars\n",
    "fig, ax = plt.subplots (figsize=(6,3))\n",
    "sns.scatterplot(data=df_2015, x='Happiness Rank', y='Happiness Score')\n",
    "ax.set(title='Scatterplot of Happiness Score compared to Happiness Rank for 2015')\n",
    "plt.show()\n",
    "\n",
    "# checking for correlation between the years\n",
    "print(df_2015[['Happiness Score', 'Happiness Rank']].corr(), '\\n',\n",
    "           df_2016[['Happiness Score', 'Happiness Rank']].corr(), '\\n',\n",
    "           df_2017[['Happiness Score', 'Happiness.Rank']].corr(), '\\n',\n",
    "           df_2018[['Happiness Score', 'Overall rank']].corr(), '\\n',\n",
    "           df_2019[['Happiness Score', 'Overall rank']].corr())"
   ]
  },
  {
   "cell_type": "markdown",
   "id": "0bcb209e-fed9-4d3f-9ac0-ffafd7db7790",
   "metadata": {
    "tags": []
   },
   "source": [
    "It appears `Happiness Score` which is the dependant variable, also feeds into the calculation for `Happiness Rank` and this would also cause data leakage, when modelling.\n",
    "\n",
    "Thinking about it chronologically we have a feature here, that we would not be able to input for future predictions of `Happiness Score`, however we could use it as a feature when predicting the `Happiness Score` of past years for countries.\n",
    "\n",
    "The interpretation of the task set, has been to make future predictions of `Happiness Scores`. If we want to know the past years we could simply reference the data sets given. So  will omit this column when combining the data frames."
   ]
  },
  {
   "cell_type": "markdown",
   "id": "c4899f7c-85a2-420d-b74d-a7425f619aaa",
   "metadata": {},
   "source": [
    "#### GPD per Capita"
   ]
  },
  {
   "cell_type": "code",
   "execution_count": 133,
   "id": "22e4c71f-254d-4d2e-97e2-b908197429cf",
   "metadata": {},
   "outputs": [
    {
     "name": "stdout",
     "output_type": "stream",
     "text": [
      "Index(['Country', 'Region', 'Happiness Rank', 'Happiness Score',\n",
      "       'Standard Error', 'Economy (GDP per Capita)', 'Family',\n",
      "       'Health (Life Expectancy)', 'Freedom', 'Trust (Government Corruption)',\n",
      "       'Generosity', 'Dystopia Residual', 'Year'],\n",
      "      dtype='object') Index(['Country', 'Region', 'Happiness Rank', 'Happiness Score',\n",
      "       'Lower Confidence Interval', 'Upper Confidence Interval',\n",
      "       'Economy (GDP per Capita)', 'Family', 'Health (Life Expectancy)',\n",
      "       'Freedom', 'Trust (Government Corruption)', 'Generosity',\n",
      "       'Dystopia Residual', 'Year'],\n",
      "      dtype='object') Index(['Country', 'Happiness.Rank', 'Happiness Score', 'Whisker.high',\n",
      "       'Whisker.low', 'Economy..GDP.per.Capita.', 'Family',\n",
      "       'Health..Life.Expectancy.', 'Freedom', 'Generosity',\n",
      "       'Trust..Government.Corruption.', 'Dystopia.Residual', 'Year'],\n",
      "      dtype='object') Index(['Overall rank', 'Country', 'Happiness Score', 'GDP per capita',\n",
      "       'Social support', 'Healthy life expectancy',\n",
      "       'Freedom to make life choices', 'Generosity',\n",
      "       'Perceptions of corruption', 'Year'],\n",
      "      dtype='object') Index(['Overall rank', 'Country', 'Happiness Score', 'GDP per capita',\n",
      "       'Social support', 'Healthy life expectancy',\n",
      "       'Freedom to make life choices', 'Generosity',\n",
      "       'Perceptions of corruption', 'Year'],\n",
      "      dtype='object')\n"
     ]
    }
   ],
   "source": [
    "# look at each df col names\n",
    "print(df_2015.columns,\n",
    "df_2016.columns,\n",
    "df_2017.columns,\n",
    "df_2018.columns,\n",
    "df_2019.columns)"
   ]
  },
  {
   "cell_type": "markdown",
   "id": "f5adbc1d-0651-43dd-80ee-fecccc9f150d",
   "metadata": {},
   "source": [
    "We can see in 2016 & 17 we have a variable called `Economy (GDP per Capita)`. \n",
    "\n",
    "In 2018 we have a var called `Economy..GDP.per.Capita.`. \n",
    "\n",
    "And in 2018 and 19 we have a var called `GDP per capita`."
   ]
  },
  {
   "cell_type": "code",
   "execution_count": 134,
   "id": "d26e9ab5-94c8-45fe-a21d-422901ca28dd",
   "metadata": {
    "tags": []
   },
   "outputs": [],
   "source": [
    "# create df from each year for variable\n",
    "df_econ = pd.concat([df_2015['Economy (GDP per Capita)'], df_2016['Economy (GDP per Capita)'], \n",
    "                     df_2017['Economy..GDP.per.Capita.'], df_2018['GDP per capita'], df_2019['GDP per capita']], axis=1)"
   ]
  },
  {
   "cell_type": "code",
   "execution_count": 135,
   "id": "5655961f-16ae-4a49-b41a-b74c02e03990",
   "metadata": {
    "tags": []
   },
   "outputs": [
    {
     "name": "stdout",
     "output_type": "stream",
     "text": [
      "<class 'pandas.core.frame.DataFrame'>\n",
      "RangeIndex: 158 entries, 0 to 157\n",
      "Data columns (total 5 columns):\n",
      " #   Column                    Non-Null Count  Dtype  \n",
      "---  ------                    --------------  -----  \n",
      " 0   Economy (GDP per Capita)  158 non-null    float64\n",
      " 1   Economy (GDP per Capita)  157 non-null    float64\n",
      " 2   Economy..GDP.per.Capita.  155 non-null    float64\n",
      " 3   GDP per capita            156 non-null    float64\n",
      " 4   GDP per capita            156 non-null    float64\n",
      "dtypes: float64(5)\n",
      "memory usage: 6.3 KB\n"
     ]
    }
   ],
   "source": [
    "# look at new df info\n",
    "df_econ.info()"
   ]
  },
  {
   "cell_type": "code",
   "execution_count": 136,
   "id": "ef1508c8-953a-4b9e-9c36-aad158c6016b",
   "metadata": {
    "tags": []
   },
   "outputs": [
    {
     "data": {
      "text/html": [
       "<div>\n",
       "<style scoped>\n",
       "    .dataframe tbody tr th:only-of-type {\n",
       "        vertical-align: middle;\n",
       "    }\n",
       "\n",
       "    .dataframe tbody tr th {\n",
       "        vertical-align: top;\n",
       "    }\n",
       "\n",
       "    .dataframe thead th {\n",
       "        text-align: right;\n",
       "    }\n",
       "</style>\n",
       "<table border=\"1\" class=\"dataframe\">\n",
       "  <thead>\n",
       "    <tr style=\"text-align: right;\">\n",
       "      <th></th>\n",
       "      <th>count</th>\n",
       "      <th>mean</th>\n",
       "      <th>std</th>\n",
       "      <th>min</th>\n",
       "      <th>25%</th>\n",
       "      <th>50%</th>\n",
       "      <th>75%</th>\n",
       "      <th>max</th>\n",
       "    </tr>\n",
       "  </thead>\n",
       "  <tbody>\n",
       "    <tr>\n",
       "      <th>Economy (GDP per Capita)</th>\n",
       "      <td>158.0</td>\n",
       "      <td>0.846137</td>\n",
       "      <td>0.403121</td>\n",
       "      <td>0.0</td>\n",
       "      <td>0.545808</td>\n",
       "      <td>0.910245</td>\n",
       "      <td>1.158448</td>\n",
       "      <td>1.690420</td>\n",
       "    </tr>\n",
       "    <tr>\n",
       "      <th>Economy (GDP per Capita)</th>\n",
       "      <td>157.0</td>\n",
       "      <td>0.953880</td>\n",
       "      <td>0.412595</td>\n",
       "      <td>0.0</td>\n",
       "      <td>0.670240</td>\n",
       "      <td>1.027800</td>\n",
       "      <td>1.279640</td>\n",
       "      <td>1.824270</td>\n",
       "    </tr>\n",
       "    <tr>\n",
       "      <th>Economy..GDP.per.Capita.</th>\n",
       "      <td>155.0</td>\n",
       "      <td>0.984718</td>\n",
       "      <td>0.420793</td>\n",
       "      <td>0.0</td>\n",
       "      <td>0.663371</td>\n",
       "      <td>1.064578</td>\n",
       "      <td>1.318027</td>\n",
       "      <td>1.870766</td>\n",
       "    </tr>\n",
       "    <tr>\n",
       "      <th>GDP per capita</th>\n",
       "      <td>156.0</td>\n",
       "      <td>0.891449</td>\n",
       "      <td>0.391921</td>\n",
       "      <td>0.0</td>\n",
       "      <td>0.616250</td>\n",
       "      <td>0.949500</td>\n",
       "      <td>1.197750</td>\n",
       "      <td>2.096000</td>\n",
       "    </tr>\n",
       "    <tr>\n",
       "      <th>GDP per capita</th>\n",
       "      <td>156.0</td>\n",
       "      <td>0.905147</td>\n",
       "      <td>0.398389</td>\n",
       "      <td>0.0</td>\n",
       "      <td>0.602750</td>\n",
       "      <td>0.960000</td>\n",
       "      <td>1.232500</td>\n",
       "      <td>1.684000</td>\n",
       "    </tr>\n",
       "  </tbody>\n",
       "</table>\n",
       "</div>"
      ],
      "text/plain": [
       "                          count      mean       std  min       25%       50%  \\\n",
       "Economy (GDP per Capita)  158.0  0.846137  0.403121  0.0  0.545808  0.910245   \n",
       "Economy (GDP per Capita)  157.0  0.953880  0.412595  0.0  0.670240  1.027800   \n",
       "Economy..GDP.per.Capita.  155.0  0.984718  0.420793  0.0  0.663371  1.064578   \n",
       "GDP per capita            156.0  0.891449  0.391921  0.0  0.616250  0.949500   \n",
       "GDP per capita            156.0  0.905147  0.398389  0.0  0.602750  0.960000   \n",
       "\n",
       "                               75%       max  \n",
       "Economy (GDP per Capita)  1.158448  1.690420  \n",
       "Economy (GDP per Capita)  1.279640  1.824270  \n",
       "Economy..GDP.per.Capita.  1.318027  1.870766  \n",
       "GDP per capita            1.197750  2.096000  \n",
       "GDP per capita            1.232500  1.684000  "
      ]
     },
     "execution_count": 136,
     "metadata": {},
     "output_type": "execute_result"
    }
   ],
   "source": [
    "# numerical summary of df\n",
    "df_econ.describe().T"
   ]
  },
  {
   "cell_type": "markdown",
   "id": "199d4ebf-6a10-4b09-a1f4-9ee037ffb537",
   "metadata": {},
   "source": [
    "The missing values in the new df are for the missing rows (countries) in the other df's.\n",
    "\n",
    "We can see all of the GDP's are floats and they range from 0 to to 2.096. It is possible for the country's GDP to be zero. After some research this indicates the country uses a barter system. However the max values appear low which suggests this is a GDP percentage.\n",
    "\n",
    "The magnitudes are comparable to each other so I will rename to match before combining the df's."
   ]
  },
  {
   "cell_type": "code",
   "execution_count": 137,
   "id": "bdbef539-b61f-49fd-9b2d-d30610aebf7c",
   "metadata": {
    "tags": []
   },
   "outputs": [],
   "source": [
    "# Rename col names\n",
    "df_2017 = df_2017.rename(columns={'Economy..GDP.per.Capita.':'Economy (GDP per Capita)'})\n",
    "df_2018 = df_2018.rename(columns={'GDP per capita':'Economy (GDP per Capita)'})\n",
    "df_2019 = df_2019.rename(columns={'GDP per capita':'Economy (GDP per Capita)'})"
   ]
  },
  {
   "cell_type": "markdown",
   "id": "d2dd5203-3e3f-4a02-a25c-7b1287ee2c72",
   "metadata": {},
   "source": [
    "#### Family"
   ]
  },
  {
   "cell_type": "code",
   "execution_count": 138,
   "id": "f926e584-97a4-4e47-b44c-e28807335b4c",
   "metadata": {},
   "outputs": [
    {
     "name": "stdout",
     "output_type": "stream",
     "text": [
      "Index(['Country', 'Region', 'Happiness Rank', 'Happiness Score',\n",
      "       'Standard Error', 'Economy (GDP per Capita)', 'Family',\n",
      "       'Health (Life Expectancy)', 'Freedom', 'Trust (Government Corruption)',\n",
      "       'Generosity', 'Dystopia Residual', 'Year'],\n",
      "      dtype='object') Index(['Country', 'Region', 'Happiness Rank', 'Happiness Score',\n",
      "       'Lower Confidence Interval', 'Upper Confidence Interval',\n",
      "       'Economy (GDP per Capita)', 'Family', 'Health (Life Expectancy)',\n",
      "       'Freedom', 'Trust (Government Corruption)', 'Generosity',\n",
      "       'Dystopia Residual', 'Year'],\n",
      "      dtype='object') Index(['Country', 'Happiness.Rank', 'Happiness Score', 'Whisker.high',\n",
      "       'Whisker.low', 'Economy (GDP per Capita)', 'Family',\n",
      "       'Health..Life.Expectancy.', 'Freedom', 'Generosity',\n",
      "       'Trust..Government.Corruption.', 'Dystopia.Residual', 'Year'],\n",
      "      dtype='object') Index(['Overall rank', 'Country', 'Happiness Score',\n",
      "       'Economy (GDP per Capita)', 'Social support', 'Healthy life expectancy',\n",
      "       'Freedom to make life choices', 'Generosity',\n",
      "       'Perceptions of corruption', 'Year'],\n",
      "      dtype='object') Index(['Overall rank', 'Country', 'Happiness Score',\n",
      "       'Economy (GDP per Capita)', 'Social support', 'Healthy life expectancy',\n",
      "       'Freedom to make life choices', 'Generosity',\n",
      "       'Perceptions of corruption', 'Year'],\n",
      "      dtype='object')\n"
     ]
    }
   ],
   "source": [
    "# look at each df col names\n",
    "print(df_2015.columns,\n",
    "df_2016.columns,\n",
    "df_2017.columns,\n",
    "df_2018.columns,\n",
    "df_2019.columns)"
   ]
  },
  {
   "cell_type": "markdown",
   "id": "653a82e3-3a1d-4c8e-b556-6a9ea9e3a8f2",
   "metadata": {},
   "source": [
    "We can see in 2016, 17 & 18 we have a variable called `Family`. \n",
    "\n",
    "And in 2018 and 19 we have a var called `Social support`. Lets take a look."
   ]
  },
  {
   "cell_type": "code",
   "execution_count": 139,
   "id": "75ca5292-806d-48ba-9d83-8dae942de394",
   "metadata": {
    "tags": []
   },
   "outputs": [],
   "source": [
    "# create df from each year for variable\n",
    "df_family = pd.concat([df_2015['Family'], df_2016['Family'], df_2017['Family'], df_2018['Social support'], df_2019['Social support']], axis=1)"
   ]
  },
  {
   "cell_type": "code",
   "execution_count": 140,
   "id": "611e2f6b-0a96-41f8-a9d4-6f8166658080",
   "metadata": {
    "tags": []
   },
   "outputs": [
    {
     "name": "stdout",
     "output_type": "stream",
     "text": [
      "<class 'pandas.core.frame.DataFrame'>\n",
      "RangeIndex: 158 entries, 0 to 157\n",
      "Data columns (total 5 columns):\n",
      " #   Column          Non-Null Count  Dtype  \n",
      "---  ------          --------------  -----  \n",
      " 0   Family          158 non-null    float64\n",
      " 1   Family          157 non-null    float64\n",
      " 2   Family          155 non-null    float64\n",
      " 3   Social support  156 non-null    float64\n",
      " 4   Social support  156 non-null    float64\n",
      "dtypes: float64(5)\n",
      "memory usage: 6.3 KB\n"
     ]
    }
   ],
   "source": [
    "# look at new df info\n",
    "df_family.info()"
   ]
  },
  {
   "cell_type": "code",
   "execution_count": 141,
   "id": "f467409e-aab5-4400-8690-d7de91bd0d8d",
   "metadata": {
    "tags": []
   },
   "outputs": [
    {
     "data": {
      "text/html": [
       "<div>\n",
       "<style scoped>\n",
       "    .dataframe tbody tr th:only-of-type {\n",
       "        vertical-align: middle;\n",
       "    }\n",
       "\n",
       "    .dataframe tbody tr th {\n",
       "        vertical-align: top;\n",
       "    }\n",
       "\n",
       "    .dataframe thead th {\n",
       "        text-align: right;\n",
       "    }\n",
       "</style>\n",
       "<table border=\"1\" class=\"dataframe\">\n",
       "  <thead>\n",
       "    <tr style=\"text-align: right;\">\n",
       "      <th></th>\n",
       "      <th>count</th>\n",
       "      <th>mean</th>\n",
       "      <th>std</th>\n",
       "      <th>min</th>\n",
       "      <th>25%</th>\n",
       "      <th>50%</th>\n",
       "      <th>75%</th>\n",
       "      <th>max</th>\n",
       "    </tr>\n",
       "  </thead>\n",
       "  <tbody>\n",
       "    <tr>\n",
       "      <th>Family</th>\n",
       "      <td>158.0</td>\n",
       "      <td>0.991046</td>\n",
       "      <td>0.272369</td>\n",
       "      <td>0.0</td>\n",
       "      <td>0.856823</td>\n",
       "      <td>1.029510</td>\n",
       "      <td>1.214405</td>\n",
       "      <td>1.402230</td>\n",
       "    </tr>\n",
       "    <tr>\n",
       "      <th>Family</th>\n",
       "      <td>157.0</td>\n",
       "      <td>0.793621</td>\n",
       "      <td>0.266706</td>\n",
       "      <td>0.0</td>\n",
       "      <td>0.641840</td>\n",
       "      <td>0.841420</td>\n",
       "      <td>1.021520</td>\n",
       "      <td>1.183260</td>\n",
       "    </tr>\n",
       "    <tr>\n",
       "      <th>Family</th>\n",
       "      <td>155.0</td>\n",
       "      <td>1.188898</td>\n",
       "      <td>0.287263</td>\n",
       "      <td>0.0</td>\n",
       "      <td>1.042635</td>\n",
       "      <td>1.253918</td>\n",
       "      <td>1.414316</td>\n",
       "      <td>1.610574</td>\n",
       "    </tr>\n",
       "    <tr>\n",
       "      <th>Social support</th>\n",
       "      <td>156.0</td>\n",
       "      <td>1.213237</td>\n",
       "      <td>0.302372</td>\n",
       "      <td>0.0</td>\n",
       "      <td>1.066750</td>\n",
       "      <td>1.255000</td>\n",
       "      <td>1.463000</td>\n",
       "      <td>1.644000</td>\n",
       "    </tr>\n",
       "    <tr>\n",
       "      <th>Social support</th>\n",
       "      <td>156.0</td>\n",
       "      <td>1.208814</td>\n",
       "      <td>0.299191</td>\n",
       "      <td>0.0</td>\n",
       "      <td>1.055750</td>\n",
       "      <td>1.271500</td>\n",
       "      <td>1.452500</td>\n",
       "      <td>1.624000</td>\n",
       "    </tr>\n",
       "  </tbody>\n",
       "</table>\n",
       "</div>"
      ],
      "text/plain": [
       "                count      mean       std  min       25%       50%       75%  \\\n",
       "Family          158.0  0.991046  0.272369  0.0  0.856823  1.029510  1.214405   \n",
       "Family          157.0  0.793621  0.266706  0.0  0.641840  0.841420  1.021520   \n",
       "Family          155.0  1.188898  0.287263  0.0  1.042635  1.253918  1.414316   \n",
       "Social support  156.0  1.213237  0.302372  0.0  1.066750  1.255000  1.463000   \n",
       "Social support  156.0  1.208814  0.299191  0.0  1.055750  1.271500  1.452500   \n",
       "\n",
       "                     max  \n",
       "Family          1.402230  \n",
       "Family          1.183260  \n",
       "Family          1.610574  \n",
       "Social support  1.644000  \n",
       "Social support  1.624000  "
      ]
     },
     "execution_count": 141,
     "metadata": {},
     "output_type": "execute_result"
    }
   ],
   "source": [
    "# numerical summary of df\n",
    "df_family.describe().T"
   ]
  },
  {
   "cell_type": "markdown",
   "id": "66caa915-ac6e-4dea-8034-9e2ca197d60b",
   "metadata": {},
   "source": [
    "The missing values in the new df are for the missing rows (countries) in the other df's.\n",
    "\n",
    "We can see all of the GDP's are floats and they range from 0 to to 1.644.\n",
    "Whilst and average family size of a country could be 1.644, it can't be zero.\n",
    "This leads me to believe where the value was missing, zero was used instead.\n",
    "\n",
    "The ranges are all similar so lets rename the variables firstly in the original df's so we don't forget later."
   ]
  },
  {
   "cell_type": "code",
   "execution_count": 142,
   "id": "fa2e52f9-2f4f-4761-a0e4-7c1461068ddc",
   "metadata": {
    "tags": []
   },
   "outputs": [],
   "source": [
    "# Rename col names\n",
    "df_2018 = df_2018.rename(columns={'Social support':'Family'})\n",
    "df_2019 = df_2019.rename(columns={'Social support':'Family'})"
   ]
  },
  {
   "cell_type": "markdown",
   "id": "e9cd4d64-ddec-4fa9-bbc1-9f6d9c84ea9e",
   "metadata": {},
   "source": [
    "Now lets take a look where the values equal zero"
   ]
  },
  {
   "cell_type": "code",
   "execution_count": 143,
   "id": "ed8b1fb7-f203-4b27-8389-79bfa8afaa68",
   "metadata": {
    "tags": []
   },
   "outputs": [
    {
     "data": {
      "text/html": [
       "<div>\n",
       "<style scoped>\n",
       "    .dataframe tbody tr th:only-of-type {\n",
       "        vertical-align: middle;\n",
       "    }\n",
       "\n",
       "    .dataframe tbody tr th {\n",
       "        vertical-align: top;\n",
       "    }\n",
       "\n",
       "    .dataframe thead th {\n",
       "        text-align: right;\n",
       "    }\n",
       "</style>\n",
       "<table border=\"1\" class=\"dataframe\">\n",
       "  <thead>\n",
       "    <tr style=\"text-align: right;\">\n",
       "      <th></th>\n",
       "      <th>Country</th>\n",
       "      <th>Region</th>\n",
       "      <th>Happiness Rank</th>\n",
       "      <th>Happiness Score</th>\n",
       "      <th>Standard Error</th>\n",
       "      <th>Economy (GDP per Capita)</th>\n",
       "      <th>Family</th>\n",
       "      <th>Health (Life Expectancy)</th>\n",
       "      <th>Freedom</th>\n",
       "      <th>Trust (Government Corruption)</th>\n",
       "      <th>Generosity</th>\n",
       "      <th>Dystopia Residual</th>\n",
       "      <th>Year</th>\n",
       "    </tr>\n",
       "  </thead>\n",
       "  <tbody>\n",
       "    <tr>\n",
       "      <th>147</th>\n",
       "      <td>Central African Republic</td>\n",
       "      <td>Sub-Saharan Africa</td>\n",
       "      <td>148</td>\n",
       "      <td>3.678</td>\n",
       "      <td>0.06112</td>\n",
       "      <td>0.0785</td>\n",
       "      <td>0.0</td>\n",
       "      <td>0.06699</td>\n",
       "      <td>0.48879</td>\n",
       "      <td>0.08289</td>\n",
       "      <td>0.23835</td>\n",
       "      <td>2.7223</td>\n",
       "      <td>2015</td>\n",
       "    </tr>\n",
       "  </tbody>\n",
       "</table>\n",
       "</div>"
      ],
      "text/plain": [
       "                      Country              Region  Happiness Rank  \\\n",
       "147  Central African Republic  Sub-Saharan Africa             148   \n",
       "\n",
       "     Happiness Score  Standard Error  Economy (GDP per Capita)  Family  \\\n",
       "147            3.678         0.06112                    0.0785     0.0   \n",
       "\n",
       "     Health (Life Expectancy)  Freedom  Trust (Government Corruption)  \\\n",
       "147                   0.06699  0.48879                        0.08289   \n",
       "\n",
       "     Generosity  Dystopia Residual  Year  \n",
       "147     0.23835             2.7223  2015  "
      ]
     },
     "execution_count": 143,
     "metadata": {},
     "output_type": "execute_result"
    }
   ],
   "source": [
    "df_2015[df_2015['Family'] == 0]"
   ]
  },
  {
   "cell_type": "code",
   "execution_count": 144,
   "id": "d0d25b6f-d045-4cf1-a2aa-b9c11696a960",
   "metadata": {
    "tags": []
   },
   "outputs": [
    {
     "data": {
      "text/html": [
       "<div>\n",
       "<style scoped>\n",
       "    .dataframe tbody tr th:only-of-type {\n",
       "        vertical-align: middle;\n",
       "    }\n",
       "\n",
       "    .dataframe tbody tr th {\n",
       "        vertical-align: top;\n",
       "    }\n",
       "\n",
       "    .dataframe thead th {\n",
       "        text-align: right;\n",
       "    }\n",
       "</style>\n",
       "<table border=\"1\" class=\"dataframe\">\n",
       "  <thead>\n",
       "    <tr style=\"text-align: right;\">\n",
       "      <th></th>\n",
       "      <th>Country</th>\n",
       "      <th>Region</th>\n",
       "      <th>Happiness Rank</th>\n",
       "      <th>Happiness Score</th>\n",
       "      <th>Lower Confidence Interval</th>\n",
       "      <th>Upper Confidence Interval</th>\n",
       "      <th>Economy (GDP per Capita)</th>\n",
       "      <th>Family</th>\n",
       "      <th>Health (Life Expectancy)</th>\n",
       "      <th>Freedom</th>\n",
       "      <th>Trust (Government Corruption)</th>\n",
       "      <th>Generosity</th>\n",
       "      <th>Dystopia Residual</th>\n",
       "      <th>Year</th>\n",
       "    </tr>\n",
       "  </thead>\n",
       "  <tbody>\n",
       "    <tr>\n",
       "      <th>154</th>\n",
       "      <td>Togo</td>\n",
       "      <td>Sub-Saharan Africa</td>\n",
       "      <td>155</td>\n",
       "      <td>3.303</td>\n",
       "      <td>3.192</td>\n",
       "      <td>3.414</td>\n",
       "      <td>0.28123</td>\n",
       "      <td>0.0</td>\n",
       "      <td>0.24811</td>\n",
       "      <td>0.34678</td>\n",
       "      <td>0.11587</td>\n",
       "      <td>0.17517</td>\n",
       "      <td>2.1354</td>\n",
       "      <td>2016</td>\n",
       "    </tr>\n",
       "  </tbody>\n",
       "</table>\n",
       "</div>"
      ],
      "text/plain": [
       "    Country              Region  Happiness Rank  Happiness Score  \\\n",
       "154    Togo  Sub-Saharan Africa             155            3.303   \n",
       "\n",
       "     Lower Confidence Interval  Upper Confidence Interval  \\\n",
       "154                      3.192                      3.414   \n",
       "\n",
       "     Economy (GDP per Capita)  Family  Health (Life Expectancy)  Freedom  \\\n",
       "154                   0.28123     0.0                   0.24811  0.34678   \n",
       "\n",
       "     Trust (Government Corruption)  Generosity  Dystopia Residual  Year  \n",
       "154                        0.11587     0.17517             2.1354  2016  "
      ]
     },
     "execution_count": 144,
     "metadata": {},
     "output_type": "execute_result"
    }
   ],
   "source": [
    "df_2016[df_2016['Family'] == 0]"
   ]
  },
  {
   "cell_type": "code",
   "execution_count": 145,
   "id": "de70f1dc-62c1-416d-a499-5650dcdda3a9",
   "metadata": {
    "tags": []
   },
   "outputs": [
    {
     "data": {
      "text/html": [
       "<div>\n",
       "<style scoped>\n",
       "    .dataframe tbody tr th:only-of-type {\n",
       "        vertical-align: middle;\n",
       "    }\n",
       "\n",
       "    .dataframe tbody tr th {\n",
       "        vertical-align: top;\n",
       "    }\n",
       "\n",
       "    .dataframe thead th {\n",
       "        text-align: right;\n",
       "    }\n",
       "</style>\n",
       "<table border=\"1\" class=\"dataframe\">\n",
       "  <thead>\n",
       "    <tr style=\"text-align: right;\">\n",
       "      <th></th>\n",
       "      <th>Country</th>\n",
       "      <th>Happiness.Rank</th>\n",
       "      <th>Happiness Score</th>\n",
       "      <th>Whisker.high</th>\n",
       "      <th>Whisker.low</th>\n",
       "      <th>Economy (GDP per Capita)</th>\n",
       "      <th>Family</th>\n",
       "      <th>Health..Life.Expectancy.</th>\n",
       "      <th>Freedom</th>\n",
       "      <th>Generosity</th>\n",
       "      <th>Trust..Government.Corruption.</th>\n",
       "      <th>Dystopia.Residual</th>\n",
       "      <th>Year</th>\n",
       "    </tr>\n",
       "  </thead>\n",
       "  <tbody>\n",
       "    <tr>\n",
       "      <th>154</th>\n",
       "      <td>Central African Republic</td>\n",
       "      <td>155</td>\n",
       "      <td>2.693</td>\n",
       "      <td>2.864884</td>\n",
       "      <td>2.521116</td>\n",
       "      <td>0.0</td>\n",
       "      <td>0.0</td>\n",
       "      <td>0.018773</td>\n",
       "      <td>0.270842</td>\n",
       "      <td>0.280876</td>\n",
       "      <td>0.056565</td>\n",
       "      <td>2.066005</td>\n",
       "      <td>2017</td>\n",
       "    </tr>\n",
       "  </tbody>\n",
       "</table>\n",
       "</div>"
      ],
      "text/plain": [
       "                      Country  Happiness.Rank  Happiness Score  Whisker.high  \\\n",
       "154  Central African Republic             155            2.693      2.864884   \n",
       "\n",
       "     Whisker.low  Economy (GDP per Capita)  Family  Health..Life.Expectancy.  \\\n",
       "154     2.521116                       0.0     0.0                  0.018773   \n",
       "\n",
       "      Freedom  Generosity  Trust..Government.Corruption.  Dystopia.Residual  \\\n",
       "154  0.270842    0.280876                       0.056565           2.066005   \n",
       "\n",
       "     Year  \n",
       "154  2017  "
      ]
     },
     "execution_count": 145,
     "metadata": {},
     "output_type": "execute_result"
    }
   ],
   "source": [
    "df_2017[df_2017['Family'] == 0]"
   ]
  },
  {
   "cell_type": "code",
   "execution_count": 146,
   "id": "dc010723-a310-478d-a692-1d4ee50c7e41",
   "metadata": {
    "tags": []
   },
   "outputs": [
    {
     "data": {
      "text/html": [
       "<div>\n",
       "<style scoped>\n",
       "    .dataframe tbody tr th:only-of-type {\n",
       "        vertical-align: middle;\n",
       "    }\n",
       "\n",
       "    .dataframe tbody tr th {\n",
       "        vertical-align: top;\n",
       "    }\n",
       "\n",
       "    .dataframe thead th {\n",
       "        text-align: right;\n",
       "    }\n",
       "</style>\n",
       "<table border=\"1\" class=\"dataframe\">\n",
       "  <thead>\n",
       "    <tr style=\"text-align: right;\">\n",
       "      <th></th>\n",
       "      <th>Overall rank</th>\n",
       "      <th>Country</th>\n",
       "      <th>Happiness Score</th>\n",
       "      <th>Economy (GDP per Capita)</th>\n",
       "      <th>Family</th>\n",
       "      <th>Healthy life expectancy</th>\n",
       "      <th>Freedom to make life choices</th>\n",
       "      <th>Generosity</th>\n",
       "      <th>Perceptions of corruption</th>\n",
       "      <th>Year</th>\n",
       "    </tr>\n",
       "  </thead>\n",
       "  <tbody>\n",
       "    <tr>\n",
       "      <th>154</th>\n",
       "      <td>155</td>\n",
       "      <td>Central African Republic</td>\n",
       "      <td>3.083</td>\n",
       "      <td>0.024</td>\n",
       "      <td>0.0</td>\n",
       "      <td>0.01</td>\n",
       "      <td>0.305</td>\n",
       "      <td>0.218</td>\n",
       "      <td>0.038</td>\n",
       "      <td>2018</td>\n",
       "    </tr>\n",
       "  </tbody>\n",
       "</table>\n",
       "</div>"
      ],
      "text/plain": [
       "     Overall rank                   Country  Happiness Score  \\\n",
       "154           155  Central African Republic            3.083   \n",
       "\n",
       "     Economy (GDP per Capita)  Family  Healthy life expectancy  \\\n",
       "154                     0.024     0.0                     0.01   \n",
       "\n",
       "     Freedom to make life choices  Generosity  Perceptions of corruption  Year  \n",
       "154                         0.305       0.218                      0.038  2018  "
      ]
     },
     "execution_count": 146,
     "metadata": {},
     "output_type": "execute_result"
    }
   ],
   "source": [
    "df_2018[df_2018['Family'] == 0]"
   ]
  },
  {
   "cell_type": "code",
   "execution_count": 147,
   "id": "2433c99d-4302-48c8-a416-adaaa7db0d5c",
   "metadata": {
    "tags": []
   },
   "outputs": [
    {
     "data": {
      "text/html": [
       "<div>\n",
       "<style scoped>\n",
       "    .dataframe tbody tr th:only-of-type {\n",
       "        vertical-align: middle;\n",
       "    }\n",
       "\n",
       "    .dataframe tbody tr th {\n",
       "        vertical-align: top;\n",
       "    }\n",
       "\n",
       "    .dataframe thead th {\n",
       "        text-align: right;\n",
       "    }\n",
       "</style>\n",
       "<table border=\"1\" class=\"dataframe\">\n",
       "  <thead>\n",
       "    <tr style=\"text-align: right;\">\n",
       "      <th></th>\n",
       "      <th>Overall rank</th>\n",
       "      <th>Country</th>\n",
       "      <th>Happiness Score</th>\n",
       "      <th>Economy (GDP per Capita)</th>\n",
       "      <th>Family</th>\n",
       "      <th>Healthy life expectancy</th>\n",
       "      <th>Freedom to make life choices</th>\n",
       "      <th>Generosity</th>\n",
       "      <th>Perceptions of corruption</th>\n",
       "      <th>Year</th>\n",
       "    </tr>\n",
       "  </thead>\n",
       "  <tbody>\n",
       "    <tr>\n",
       "      <th>154</th>\n",
       "      <td>155</td>\n",
       "      <td>Central African Republic</td>\n",
       "      <td>3.083</td>\n",
       "      <td>0.026</td>\n",
       "      <td>0.0</td>\n",
       "      <td>0.105</td>\n",
       "      <td>0.225</td>\n",
       "      <td>0.235</td>\n",
       "      <td>0.035</td>\n",
       "      <td>2019</td>\n",
       "    </tr>\n",
       "  </tbody>\n",
       "</table>\n",
       "</div>"
      ],
      "text/plain": [
       "     Overall rank                   Country  Happiness Score  \\\n",
       "154           155  Central African Republic            3.083   \n",
       "\n",
       "     Economy (GDP per Capita)  Family  Healthy life expectancy  \\\n",
       "154                     0.026     0.0                    0.105   \n",
       "\n",
       "     Freedom to make life choices  Generosity  Perceptions of corruption  Year  \n",
       "154                         0.225       0.235                      0.035  2019  "
      ]
     },
     "execution_count": 147,
     "metadata": {},
     "output_type": "execute_result"
    }
   ],
   "source": [
    "df_2019[df_2019['Family'] == 0]"
   ]
  },
  {
   "cell_type": "markdown",
   "id": "82d53982-5ad7-41b3-9d24-da8db8fcc128",
   "metadata": {},
   "source": [
    "##### CAR\n",
    "\n",
    "We can see Central African Republic has data missing for this value in all df's except 2016. It has also been known as Ubangi-Shari, lets see if we can see these country name in the 2016 df"
   ]
  },
  {
   "cell_type": "code",
   "execution_count": 148,
   "id": "61083225-884a-468a-9505-5cf66213c190",
   "metadata": {
    "tags": []
   },
   "outputs": [
    {
     "data": {
      "text/plain": [
       "['Denmark',\n",
       " 'Switzerland',\n",
       " 'Iceland',\n",
       " 'Norway',\n",
       " 'Finland',\n",
       " 'Canada',\n",
       " 'Netherlands',\n",
       " 'New Zealand',\n",
       " 'Australia',\n",
       " 'Sweden',\n",
       " 'Israel',\n",
       " 'Austria',\n",
       " 'United States',\n",
       " 'Costa Rica',\n",
       " 'Puerto Rico',\n",
       " 'Germany',\n",
       " 'Brazil',\n",
       " 'Belgium',\n",
       " 'Ireland',\n",
       " 'Luxembourg',\n",
       " 'Mexico',\n",
       " 'Singapore',\n",
       " 'United Kingdom',\n",
       " 'Chile',\n",
       " 'Panama',\n",
       " 'Argentina',\n",
       " 'Czech Republic',\n",
       " 'United Arab Emirates',\n",
       " 'Uruguay',\n",
       " 'Malta',\n",
       " 'Colombia',\n",
       " 'France',\n",
       " 'Thailand',\n",
       " 'Saudi Arabia',\n",
       " 'Taiwan',\n",
       " 'Qatar',\n",
       " 'Spain',\n",
       " 'Algeria',\n",
       " 'Guatemala',\n",
       " 'Suriname',\n",
       " 'Kuwait',\n",
       " 'Bahrain',\n",
       " 'Trinidad and Tobago',\n",
       " 'Venezuela',\n",
       " 'Slovakia',\n",
       " 'El Salvador',\n",
       " 'Malaysia',\n",
       " 'Nicaragua',\n",
       " 'Uzbekistan',\n",
       " 'Italy',\n",
       " 'Ecuador',\n",
       " 'Belize',\n",
       " 'Japan',\n",
       " 'Kazakhstan',\n",
       " 'Moldova',\n",
       " 'Russia',\n",
       " 'Poland',\n",
       " 'South Korea',\n",
       " 'Bolivia',\n",
       " 'Lithuania',\n",
       " 'Belarus',\n",
       " 'North Cyprus',\n",
       " 'Slovenia',\n",
       " 'Peru',\n",
       " 'Turkmenistan',\n",
       " 'Mauritius',\n",
       " 'Libya',\n",
       " 'Latvia',\n",
       " 'Cyprus',\n",
       " 'Paraguay',\n",
       " 'Romania',\n",
       " 'Estonia',\n",
       " 'Jamaica',\n",
       " 'Croatia',\n",
       " 'Hong Kong',\n",
       " 'Somalia',\n",
       " 'Kosovo',\n",
       " 'Turkey',\n",
       " 'Indonesia',\n",
       " 'Jordan',\n",
       " 'Azerbaijan',\n",
       " 'Philippines',\n",
       " 'China',\n",
       " 'Bhutan',\n",
       " 'Kyrgyzstan',\n",
       " 'Serbia',\n",
       " 'Bosnia and Herzegovina',\n",
       " 'Montenegro',\n",
       " 'Dominican Republic',\n",
       " 'Morocco',\n",
       " 'Hungary',\n",
       " 'Pakistan',\n",
       " 'Lebanon',\n",
       " 'Portugal',\n",
       " 'Macedonia',\n",
       " 'Vietnam',\n",
       " 'Somaliland Region',\n",
       " 'Tunisia',\n",
       " 'Greece',\n",
       " 'Tajikistan',\n",
       " 'Mongolia',\n",
       " 'Laos',\n",
       " 'Nigeria',\n",
       " 'Honduras',\n",
       " 'Iran',\n",
       " 'Zambia',\n",
       " 'Nepal',\n",
       " 'Palestinian Territories',\n",
       " 'Albania',\n",
       " 'Bangladesh',\n",
       " 'Sierra Leone',\n",
       " 'Iraq',\n",
       " 'Namibia',\n",
       " 'Cameroon',\n",
       " 'Ethiopia',\n",
       " 'South Africa',\n",
       " 'Sri Lanka',\n",
       " 'India',\n",
       " 'Myanmar',\n",
       " 'Egypt',\n",
       " 'Armenia',\n",
       " 'Kenya',\n",
       " 'Ukraine',\n",
       " 'Ghana',\n",
       " 'Congo (Kinshasa)',\n",
       " 'Georgia',\n",
       " 'Congo (Brazzaville)',\n",
       " 'Senegal',\n",
       " 'Bulgaria',\n",
       " 'Mauritania',\n",
       " 'Zimbabwe',\n",
       " 'Malawi',\n",
       " 'Sudan',\n",
       " 'Gabon',\n",
       " 'Mali',\n",
       " 'Haiti',\n",
       " 'Botswana',\n",
       " 'Comoros',\n",
       " 'Ivory Coast',\n",
       " 'Cambodia',\n",
       " 'Angola',\n",
       " 'Niger',\n",
       " 'South Sudan',\n",
       " 'Chad',\n",
       " 'Burkina Faso',\n",
       " 'Uganda',\n",
       " 'Yemen',\n",
       " 'Madagascar',\n",
       " 'Tanzania',\n",
       " 'Liberia',\n",
       " 'Guinea',\n",
       " 'Rwanda',\n",
       " 'Benin',\n",
       " 'Afghanistan',\n",
       " 'Togo',\n",
       " 'Syria',\n",
       " 'Burundi']"
      ]
     },
     "execution_count": 148,
     "metadata": {},
     "output_type": "execute_result"
    }
   ],
   "source": [
    "df_2016['Country'].tolist()"
   ]
  },
  {
   "cell_type": "markdown",
   "id": "c9e5bfa9-1e03-4793-ae54-018fc65f2d60",
   "metadata": {},
   "source": [
    "Neither name is in the list - we can get consensus data from this website to impute it https://globaldatalab.org/areadata/table/hhsize/CAF\n",
    "\n",
    "However the figures are much higher than the remaining countries and our assumption this is average family size may be incorrect.\n",
    "\n",
    "So to ensure the data prepared for modelling is as accurate as possible I will remove this country's data from the data sets so as to not incur spurios predictions when modelling"
   ]
  },
  {
   "cell_type": "code",
   "execution_count": 149,
   "id": "41512618-5e4e-4982-b5bd-46e5aa8b3c39",
   "metadata": {
    "tags": []
   },
   "outputs": [
    {
     "data": {
      "text/html": [
       "<div>\n",
       "<style scoped>\n",
       "    .dataframe tbody tr th:only-of-type {\n",
       "        vertical-align: middle;\n",
       "    }\n",
       "\n",
       "    .dataframe tbody tr th {\n",
       "        vertical-align: top;\n",
       "    }\n",
       "\n",
       "    .dataframe thead th {\n",
       "        text-align: right;\n",
       "    }\n",
       "</style>\n",
       "<table border=\"1\" class=\"dataframe\">\n",
       "  <thead>\n",
       "    <tr style=\"text-align: right;\">\n",
       "      <th></th>\n",
       "      <th>Country</th>\n",
       "      <th>Region</th>\n",
       "      <th>Happiness Rank</th>\n",
       "      <th>Happiness Score</th>\n",
       "      <th>Standard Error</th>\n",
       "      <th>Economy (GDP per Capita)</th>\n",
       "      <th>Family</th>\n",
       "      <th>Health (Life Expectancy)</th>\n",
       "      <th>Freedom</th>\n",
       "      <th>Trust (Government Corruption)</th>\n",
       "      <th>Generosity</th>\n",
       "      <th>Dystopia Residual</th>\n",
       "      <th>Year</th>\n",
       "    </tr>\n",
       "  </thead>\n",
       "  <tbody>\n",
       "    <tr>\n",
       "      <th>0</th>\n",
       "      <td>Switzerland</td>\n",
       "      <td>Western Europe</td>\n",
       "      <td>1</td>\n",
       "      <td>7.587</td>\n",
       "      <td>0.03411</td>\n",
       "      <td>1.39651</td>\n",
       "      <td>1.34951</td>\n",
       "      <td>0.94143</td>\n",
       "      <td>0.66557</td>\n",
       "      <td>0.41978</td>\n",
       "      <td>0.29678</td>\n",
       "      <td>2.51738</td>\n",
       "      <td>2015</td>\n",
       "    </tr>\n",
       "    <tr>\n",
       "      <th>1</th>\n",
       "      <td>Iceland</td>\n",
       "      <td>Western Europe</td>\n",
       "      <td>2</td>\n",
       "      <td>7.561</td>\n",
       "      <td>0.04884</td>\n",
       "      <td>1.30232</td>\n",
       "      <td>1.40223</td>\n",
       "      <td>0.94784</td>\n",
       "      <td>0.62877</td>\n",
       "      <td>0.14145</td>\n",
       "      <td>0.43630</td>\n",
       "      <td>2.70201</td>\n",
       "      <td>2015</td>\n",
       "    </tr>\n",
       "    <tr>\n",
       "      <th>2</th>\n",
       "      <td>Denmark</td>\n",
       "      <td>Western Europe</td>\n",
       "      <td>3</td>\n",
       "      <td>7.527</td>\n",
       "      <td>0.03328</td>\n",
       "      <td>1.32548</td>\n",
       "      <td>1.36058</td>\n",
       "      <td>0.87464</td>\n",
       "      <td>0.64938</td>\n",
       "      <td>0.48357</td>\n",
       "      <td>0.34139</td>\n",
       "      <td>2.49204</td>\n",
       "      <td>2015</td>\n",
       "    </tr>\n",
       "    <tr>\n",
       "      <th>3</th>\n",
       "      <td>Norway</td>\n",
       "      <td>Western Europe</td>\n",
       "      <td>4</td>\n",
       "      <td>7.522</td>\n",
       "      <td>0.03880</td>\n",
       "      <td>1.45900</td>\n",
       "      <td>1.33095</td>\n",
       "      <td>0.88521</td>\n",
       "      <td>0.66973</td>\n",
       "      <td>0.36503</td>\n",
       "      <td>0.34699</td>\n",
       "      <td>2.46531</td>\n",
       "      <td>2015</td>\n",
       "    </tr>\n",
       "    <tr>\n",
       "      <th>4</th>\n",
       "      <td>Canada</td>\n",
       "      <td>North America</td>\n",
       "      <td>5</td>\n",
       "      <td>7.427</td>\n",
       "      <td>0.03553</td>\n",
       "      <td>1.32629</td>\n",
       "      <td>1.32261</td>\n",
       "      <td>0.90563</td>\n",
       "      <td>0.63297</td>\n",
       "      <td>0.32957</td>\n",
       "      <td>0.45811</td>\n",
       "      <td>2.45176</td>\n",
       "      <td>2015</td>\n",
       "    </tr>\n",
       "    <tr>\n",
       "      <th>...</th>\n",
       "      <td>...</td>\n",
       "      <td>...</td>\n",
       "      <td>...</td>\n",
       "      <td>...</td>\n",
       "      <td>...</td>\n",
       "      <td>...</td>\n",
       "      <td>...</td>\n",
       "      <td>...</td>\n",
       "      <td>...</td>\n",
       "      <td>...</td>\n",
       "      <td>...</td>\n",
       "      <td>...</td>\n",
       "      <td>...</td>\n",
       "    </tr>\n",
       "    <tr>\n",
       "      <th>152</th>\n",
       "      <td>Rwanda</td>\n",
       "      <td>Sub-Saharan Africa</td>\n",
       "      <td>154</td>\n",
       "      <td>3.465</td>\n",
       "      <td>0.03464</td>\n",
       "      <td>0.22208</td>\n",
       "      <td>0.77370</td>\n",
       "      <td>0.42864</td>\n",
       "      <td>0.59201</td>\n",
       "      <td>0.55191</td>\n",
       "      <td>0.22628</td>\n",
       "      <td>0.67042</td>\n",
       "      <td>2015</td>\n",
       "    </tr>\n",
       "    <tr>\n",
       "      <th>153</th>\n",
       "      <td>Benin</td>\n",
       "      <td>Sub-Saharan Africa</td>\n",
       "      <td>155</td>\n",
       "      <td>3.340</td>\n",
       "      <td>0.03656</td>\n",
       "      <td>0.28665</td>\n",
       "      <td>0.35386</td>\n",
       "      <td>0.31910</td>\n",
       "      <td>0.48450</td>\n",
       "      <td>0.08010</td>\n",
       "      <td>0.18260</td>\n",
       "      <td>1.63328</td>\n",
       "      <td>2015</td>\n",
       "    </tr>\n",
       "    <tr>\n",
       "      <th>154</th>\n",
       "      <td>Syria</td>\n",
       "      <td>Middle East and Northern Africa</td>\n",
       "      <td>156</td>\n",
       "      <td>3.006</td>\n",
       "      <td>0.05015</td>\n",
       "      <td>0.66320</td>\n",
       "      <td>0.47489</td>\n",
       "      <td>0.72193</td>\n",
       "      <td>0.15684</td>\n",
       "      <td>0.18906</td>\n",
       "      <td>0.47179</td>\n",
       "      <td>0.32858</td>\n",
       "      <td>2015</td>\n",
       "    </tr>\n",
       "    <tr>\n",
       "      <th>155</th>\n",
       "      <td>Burundi</td>\n",
       "      <td>Sub-Saharan Africa</td>\n",
       "      <td>157</td>\n",
       "      <td>2.905</td>\n",
       "      <td>0.08658</td>\n",
       "      <td>0.01530</td>\n",
       "      <td>0.41587</td>\n",
       "      <td>0.22396</td>\n",
       "      <td>0.11850</td>\n",
       "      <td>0.10062</td>\n",
       "      <td>0.19727</td>\n",
       "      <td>1.83302</td>\n",
       "      <td>2015</td>\n",
       "    </tr>\n",
       "    <tr>\n",
       "      <th>156</th>\n",
       "      <td>Togo</td>\n",
       "      <td>Sub-Saharan Africa</td>\n",
       "      <td>158</td>\n",
       "      <td>2.839</td>\n",
       "      <td>0.06727</td>\n",
       "      <td>0.20868</td>\n",
       "      <td>0.13995</td>\n",
       "      <td>0.28443</td>\n",
       "      <td>0.36453</td>\n",
       "      <td>0.10731</td>\n",
       "      <td>0.16681</td>\n",
       "      <td>1.56726</td>\n",
       "      <td>2015</td>\n",
       "    </tr>\n",
       "  </tbody>\n",
       "</table>\n",
       "<p>157 rows × 13 columns</p>\n",
       "</div>"
      ],
      "text/plain": [
       "         Country                           Region  Happiness Rank  \\\n",
       "0    Switzerland                   Western Europe               1   \n",
       "1        Iceland                   Western Europe               2   \n",
       "2        Denmark                   Western Europe               3   \n",
       "3         Norway                   Western Europe               4   \n",
       "4         Canada                    North America               5   \n",
       "..           ...                              ...             ...   \n",
       "152       Rwanda               Sub-Saharan Africa             154   \n",
       "153        Benin               Sub-Saharan Africa             155   \n",
       "154        Syria  Middle East and Northern Africa             156   \n",
       "155      Burundi               Sub-Saharan Africa             157   \n",
       "156         Togo               Sub-Saharan Africa             158   \n",
       "\n",
       "     Happiness Score  Standard Error  Economy (GDP per Capita)   Family  \\\n",
       "0              7.587         0.03411                   1.39651  1.34951   \n",
       "1              7.561         0.04884                   1.30232  1.40223   \n",
       "2              7.527         0.03328                   1.32548  1.36058   \n",
       "3              7.522         0.03880                   1.45900  1.33095   \n",
       "4              7.427         0.03553                   1.32629  1.32261   \n",
       "..               ...             ...                       ...      ...   \n",
       "152            3.465         0.03464                   0.22208  0.77370   \n",
       "153            3.340         0.03656                   0.28665  0.35386   \n",
       "154            3.006         0.05015                   0.66320  0.47489   \n",
       "155            2.905         0.08658                   0.01530  0.41587   \n",
       "156            2.839         0.06727                   0.20868  0.13995   \n",
       "\n",
       "     Health (Life Expectancy)  Freedom  Trust (Government Corruption)  \\\n",
       "0                     0.94143  0.66557                        0.41978   \n",
       "1                     0.94784  0.62877                        0.14145   \n",
       "2                     0.87464  0.64938                        0.48357   \n",
       "3                     0.88521  0.66973                        0.36503   \n",
       "4                     0.90563  0.63297                        0.32957   \n",
       "..                        ...      ...                            ...   \n",
       "152                   0.42864  0.59201                        0.55191   \n",
       "153                   0.31910  0.48450                        0.08010   \n",
       "154                   0.72193  0.15684                        0.18906   \n",
       "155                   0.22396  0.11850                        0.10062   \n",
       "156                   0.28443  0.36453                        0.10731   \n",
       "\n",
       "     Generosity  Dystopia Residual  Year  \n",
       "0       0.29678            2.51738  2015  \n",
       "1       0.43630            2.70201  2015  \n",
       "2       0.34139            2.49204  2015  \n",
       "3       0.34699            2.46531  2015  \n",
       "4       0.45811            2.45176  2015  \n",
       "..          ...                ...   ...  \n",
       "152     0.22628            0.67042  2015  \n",
       "153     0.18260            1.63328  2015  \n",
       "154     0.47179            0.32858  2015  \n",
       "155     0.19727            1.83302  2015  \n",
       "156     0.16681            1.56726  2015  \n",
       "\n",
       "[157 rows x 13 columns]"
      ]
     },
     "execution_count": 149,
     "metadata": {},
     "output_type": "execute_result"
    }
   ],
   "source": [
    "# Drop row from df\n",
    "df_2015.drop(147, inplace=True, axis=0)\n",
    "# reset index as now out of sequence\n",
    "df_2015.reset_index(drop=True)"
   ]
  },
  {
   "cell_type": "code",
   "execution_count": 150,
   "id": "37d03567-ca3b-4a95-802e-85310bdeb717",
   "metadata": {
    "tags": []
   },
   "outputs": [
    {
     "data": {
      "text/html": [
       "<div>\n",
       "<style scoped>\n",
       "    .dataframe tbody tr th:only-of-type {\n",
       "        vertical-align: middle;\n",
       "    }\n",
       "\n",
       "    .dataframe tbody tr th {\n",
       "        vertical-align: top;\n",
       "    }\n",
       "\n",
       "    .dataframe thead th {\n",
       "        text-align: right;\n",
       "    }\n",
       "</style>\n",
       "<table border=\"1\" class=\"dataframe\">\n",
       "  <thead>\n",
       "    <tr style=\"text-align: right;\">\n",
       "      <th></th>\n",
       "      <th>Country</th>\n",
       "      <th>Happiness.Rank</th>\n",
       "      <th>Happiness Score</th>\n",
       "      <th>Whisker.high</th>\n",
       "      <th>Whisker.low</th>\n",
       "      <th>Economy (GDP per Capita)</th>\n",
       "      <th>Family</th>\n",
       "      <th>Health..Life.Expectancy.</th>\n",
       "      <th>Freedom</th>\n",
       "      <th>Generosity</th>\n",
       "      <th>Trust..Government.Corruption.</th>\n",
       "      <th>Dystopia.Residual</th>\n",
       "      <th>Year</th>\n",
       "    </tr>\n",
       "  </thead>\n",
       "  <tbody>\n",
       "    <tr>\n",
       "      <th>0</th>\n",
       "      <td>Norway</td>\n",
       "      <td>1</td>\n",
       "      <td>7.537</td>\n",
       "      <td>7.594445</td>\n",
       "      <td>7.479556</td>\n",
       "      <td>1.616463</td>\n",
       "      <td>1.533524</td>\n",
       "      <td>0.796667</td>\n",
       "      <td>0.635423</td>\n",
       "      <td>0.362012</td>\n",
       "      <td>0.315964</td>\n",
       "      <td>2.277027</td>\n",
       "      <td>2017</td>\n",
       "    </tr>\n",
       "    <tr>\n",
       "      <th>1</th>\n",
       "      <td>Denmark</td>\n",
       "      <td>2</td>\n",
       "      <td>7.522</td>\n",
       "      <td>7.581728</td>\n",
       "      <td>7.462272</td>\n",
       "      <td>1.482383</td>\n",
       "      <td>1.551122</td>\n",
       "      <td>0.792566</td>\n",
       "      <td>0.626007</td>\n",
       "      <td>0.355280</td>\n",
       "      <td>0.400770</td>\n",
       "      <td>2.313707</td>\n",
       "      <td>2017</td>\n",
       "    </tr>\n",
       "    <tr>\n",
       "      <th>2</th>\n",
       "      <td>Iceland</td>\n",
       "      <td>3</td>\n",
       "      <td>7.504</td>\n",
       "      <td>7.622030</td>\n",
       "      <td>7.385970</td>\n",
       "      <td>1.480633</td>\n",
       "      <td>1.610574</td>\n",
       "      <td>0.833552</td>\n",
       "      <td>0.627163</td>\n",
       "      <td>0.475540</td>\n",
       "      <td>0.153527</td>\n",
       "      <td>2.322715</td>\n",
       "      <td>2017</td>\n",
       "    </tr>\n",
       "    <tr>\n",
       "      <th>3</th>\n",
       "      <td>Switzerland</td>\n",
       "      <td>4</td>\n",
       "      <td>7.494</td>\n",
       "      <td>7.561772</td>\n",
       "      <td>7.426227</td>\n",
       "      <td>1.564980</td>\n",
       "      <td>1.516912</td>\n",
       "      <td>0.858131</td>\n",
       "      <td>0.620071</td>\n",
       "      <td>0.290549</td>\n",
       "      <td>0.367007</td>\n",
       "      <td>2.276716</td>\n",
       "      <td>2017</td>\n",
       "    </tr>\n",
       "    <tr>\n",
       "      <th>4</th>\n",
       "      <td>Finland</td>\n",
       "      <td>5</td>\n",
       "      <td>7.469</td>\n",
       "      <td>7.527542</td>\n",
       "      <td>7.410458</td>\n",
       "      <td>1.443572</td>\n",
       "      <td>1.540247</td>\n",
       "      <td>0.809158</td>\n",
       "      <td>0.617951</td>\n",
       "      <td>0.245483</td>\n",
       "      <td>0.382612</td>\n",
       "      <td>2.430182</td>\n",
       "      <td>2017</td>\n",
       "    </tr>\n",
       "    <tr>\n",
       "      <th>...</th>\n",
       "      <td>...</td>\n",
       "      <td>...</td>\n",
       "      <td>...</td>\n",
       "      <td>...</td>\n",
       "      <td>...</td>\n",
       "      <td>...</td>\n",
       "      <td>...</td>\n",
       "      <td>...</td>\n",
       "      <td>...</td>\n",
       "      <td>...</td>\n",
       "      <td>...</td>\n",
       "      <td>...</td>\n",
       "      <td>...</td>\n",
       "    </tr>\n",
       "    <tr>\n",
       "      <th>149</th>\n",
       "      <td>Togo</td>\n",
       "      <td>150</td>\n",
       "      <td>3.495</td>\n",
       "      <td>3.594038</td>\n",
       "      <td>3.395962</td>\n",
       "      <td>0.305445</td>\n",
       "      <td>0.431883</td>\n",
       "      <td>0.247106</td>\n",
       "      <td>0.380426</td>\n",
       "      <td>0.196896</td>\n",
       "      <td>0.095665</td>\n",
       "      <td>1.837229</td>\n",
       "      <td>2017</td>\n",
       "    </tr>\n",
       "    <tr>\n",
       "      <th>150</th>\n",
       "      <td>Rwanda</td>\n",
       "      <td>151</td>\n",
       "      <td>3.471</td>\n",
       "      <td>3.543030</td>\n",
       "      <td>3.398970</td>\n",
       "      <td>0.368746</td>\n",
       "      <td>0.945707</td>\n",
       "      <td>0.326425</td>\n",
       "      <td>0.581844</td>\n",
       "      <td>0.252756</td>\n",
       "      <td>0.455220</td>\n",
       "      <td>0.540061</td>\n",
       "      <td>2017</td>\n",
       "    </tr>\n",
       "    <tr>\n",
       "      <th>151</th>\n",
       "      <td>Syria</td>\n",
       "      <td>152</td>\n",
       "      <td>3.462</td>\n",
       "      <td>3.663669</td>\n",
       "      <td>3.260331</td>\n",
       "      <td>0.777153</td>\n",
       "      <td>0.396103</td>\n",
       "      <td>0.500533</td>\n",
       "      <td>0.081539</td>\n",
       "      <td>0.493664</td>\n",
       "      <td>0.151347</td>\n",
       "      <td>1.061574</td>\n",
       "      <td>2017</td>\n",
       "    </tr>\n",
       "    <tr>\n",
       "      <th>152</th>\n",
       "      <td>Tanzania</td>\n",
       "      <td>153</td>\n",
       "      <td>3.349</td>\n",
       "      <td>3.461430</td>\n",
       "      <td>3.236570</td>\n",
       "      <td>0.511136</td>\n",
       "      <td>1.041990</td>\n",
       "      <td>0.364509</td>\n",
       "      <td>0.390018</td>\n",
       "      <td>0.354256</td>\n",
       "      <td>0.066035</td>\n",
       "      <td>0.621130</td>\n",
       "      <td>2017</td>\n",
       "    </tr>\n",
       "    <tr>\n",
       "      <th>153</th>\n",
       "      <td>Burundi</td>\n",
       "      <td>154</td>\n",
       "      <td>2.905</td>\n",
       "      <td>3.074690</td>\n",
       "      <td>2.735310</td>\n",
       "      <td>0.091623</td>\n",
       "      <td>0.629794</td>\n",
       "      <td>0.151611</td>\n",
       "      <td>0.059901</td>\n",
       "      <td>0.204435</td>\n",
       "      <td>0.084148</td>\n",
       "      <td>1.683024</td>\n",
       "      <td>2017</td>\n",
       "    </tr>\n",
       "  </tbody>\n",
       "</table>\n",
       "<p>154 rows × 13 columns</p>\n",
       "</div>"
      ],
      "text/plain": [
       "         Country  Happiness.Rank  Happiness Score  Whisker.high  Whisker.low  \\\n",
       "0         Norway               1            7.537      7.594445     7.479556   \n",
       "1        Denmark               2            7.522      7.581728     7.462272   \n",
       "2        Iceland               3            7.504      7.622030     7.385970   \n",
       "3    Switzerland               4            7.494      7.561772     7.426227   \n",
       "4        Finland               5            7.469      7.527542     7.410458   \n",
       "..           ...             ...              ...           ...          ...   \n",
       "149         Togo             150            3.495      3.594038     3.395962   \n",
       "150       Rwanda             151            3.471      3.543030     3.398970   \n",
       "151        Syria             152            3.462      3.663669     3.260331   \n",
       "152     Tanzania             153            3.349      3.461430     3.236570   \n",
       "153      Burundi             154            2.905      3.074690     2.735310   \n",
       "\n",
       "     Economy (GDP per Capita)    Family  Health..Life.Expectancy.   Freedom  \\\n",
       "0                    1.616463  1.533524                  0.796667  0.635423   \n",
       "1                    1.482383  1.551122                  0.792566  0.626007   \n",
       "2                    1.480633  1.610574                  0.833552  0.627163   \n",
       "3                    1.564980  1.516912                  0.858131  0.620071   \n",
       "4                    1.443572  1.540247                  0.809158  0.617951   \n",
       "..                        ...       ...                       ...       ...   \n",
       "149                  0.305445  0.431883                  0.247106  0.380426   \n",
       "150                  0.368746  0.945707                  0.326425  0.581844   \n",
       "151                  0.777153  0.396103                  0.500533  0.081539   \n",
       "152                  0.511136  1.041990                  0.364509  0.390018   \n",
       "153                  0.091623  0.629794                  0.151611  0.059901   \n",
       "\n",
       "     Generosity  Trust..Government.Corruption.  Dystopia.Residual  Year  \n",
       "0      0.362012                       0.315964           2.277027  2017  \n",
       "1      0.355280                       0.400770           2.313707  2017  \n",
       "2      0.475540                       0.153527           2.322715  2017  \n",
       "3      0.290549                       0.367007           2.276716  2017  \n",
       "4      0.245483                       0.382612           2.430182  2017  \n",
       "..          ...                            ...                ...   ...  \n",
       "149    0.196896                       0.095665           1.837229  2017  \n",
       "150    0.252756                       0.455220           0.540061  2017  \n",
       "151    0.493664                       0.151347           1.061574  2017  \n",
       "152    0.354256                       0.066035           0.621130  2017  \n",
       "153    0.204435                       0.084148           1.683024  2017  \n",
       "\n",
       "[154 rows x 13 columns]"
      ]
     },
     "execution_count": 150,
     "metadata": {},
     "output_type": "execute_result"
    }
   ],
   "source": [
    "# Drop row from df\n",
    "df_2017.drop(154, inplace=True, axis=0)\n",
    "# reset index as now out of sequence\n",
    "df_2017.reset_index(drop=True)"
   ]
  },
  {
   "cell_type": "code",
   "execution_count": 151,
   "id": "3a6fb057-1d5d-4812-858f-9628fb4676e3",
   "metadata": {
    "tags": []
   },
   "outputs": [
    {
     "data": {
      "text/html": [
       "<div>\n",
       "<style scoped>\n",
       "    .dataframe tbody tr th:only-of-type {\n",
       "        vertical-align: middle;\n",
       "    }\n",
       "\n",
       "    .dataframe tbody tr th {\n",
       "        vertical-align: top;\n",
       "    }\n",
       "\n",
       "    .dataframe thead th {\n",
       "        text-align: right;\n",
       "    }\n",
       "</style>\n",
       "<table border=\"1\" class=\"dataframe\">\n",
       "  <thead>\n",
       "    <tr style=\"text-align: right;\">\n",
       "      <th></th>\n",
       "      <th>Overall rank</th>\n",
       "      <th>Country</th>\n",
       "      <th>Happiness Score</th>\n",
       "      <th>Economy (GDP per Capita)</th>\n",
       "      <th>Family</th>\n",
       "      <th>Healthy life expectancy</th>\n",
       "      <th>Freedom to make life choices</th>\n",
       "      <th>Generosity</th>\n",
       "      <th>Perceptions of corruption</th>\n",
       "      <th>Year</th>\n",
       "    </tr>\n",
       "  </thead>\n",
       "  <tbody>\n",
       "    <tr>\n",
       "      <th>0</th>\n",
       "      <td>1</td>\n",
       "      <td>Finland</td>\n",
       "      <td>7.632</td>\n",
       "      <td>1.305</td>\n",
       "      <td>1.592</td>\n",
       "      <td>0.874</td>\n",
       "      <td>0.681</td>\n",
       "      <td>0.202</td>\n",
       "      <td>0.393</td>\n",
       "      <td>2018</td>\n",
       "    </tr>\n",
       "    <tr>\n",
       "      <th>1</th>\n",
       "      <td>2</td>\n",
       "      <td>Norway</td>\n",
       "      <td>7.594</td>\n",
       "      <td>1.456</td>\n",
       "      <td>1.582</td>\n",
       "      <td>0.861</td>\n",
       "      <td>0.686</td>\n",
       "      <td>0.286</td>\n",
       "      <td>0.340</td>\n",
       "      <td>2018</td>\n",
       "    </tr>\n",
       "    <tr>\n",
       "      <th>2</th>\n",
       "      <td>3</td>\n",
       "      <td>Denmark</td>\n",
       "      <td>7.555</td>\n",
       "      <td>1.351</td>\n",
       "      <td>1.590</td>\n",
       "      <td>0.868</td>\n",
       "      <td>0.683</td>\n",
       "      <td>0.284</td>\n",
       "      <td>0.408</td>\n",
       "      <td>2018</td>\n",
       "    </tr>\n",
       "    <tr>\n",
       "      <th>3</th>\n",
       "      <td>4</td>\n",
       "      <td>Iceland</td>\n",
       "      <td>7.495</td>\n",
       "      <td>1.343</td>\n",
       "      <td>1.644</td>\n",
       "      <td>0.914</td>\n",
       "      <td>0.677</td>\n",
       "      <td>0.353</td>\n",
       "      <td>0.138</td>\n",
       "      <td>2018</td>\n",
       "    </tr>\n",
       "    <tr>\n",
       "      <th>4</th>\n",
       "      <td>5</td>\n",
       "      <td>Switzerland</td>\n",
       "      <td>7.487</td>\n",
       "      <td>1.420</td>\n",
       "      <td>1.549</td>\n",
       "      <td>0.927</td>\n",
       "      <td>0.660</td>\n",
       "      <td>0.256</td>\n",
       "      <td>0.357</td>\n",
       "      <td>2018</td>\n",
       "    </tr>\n",
       "    <tr>\n",
       "      <th>...</th>\n",
       "      <td>...</td>\n",
       "      <td>...</td>\n",
       "      <td>...</td>\n",
       "      <td>...</td>\n",
       "      <td>...</td>\n",
       "      <td>...</td>\n",
       "      <td>...</td>\n",
       "      <td>...</td>\n",
       "      <td>...</td>\n",
       "      <td>...</td>\n",
       "    </tr>\n",
       "    <tr>\n",
       "      <th>150</th>\n",
       "      <td>151</td>\n",
       "      <td>Rwanda</td>\n",
       "      <td>3.408</td>\n",
       "      <td>0.332</td>\n",
       "      <td>0.896</td>\n",
       "      <td>0.400</td>\n",
       "      <td>0.636</td>\n",
       "      <td>0.200</td>\n",
       "      <td>0.444</td>\n",
       "      <td>2018</td>\n",
       "    </tr>\n",
       "    <tr>\n",
       "      <th>151</th>\n",
       "      <td>152</td>\n",
       "      <td>Yemen</td>\n",
       "      <td>3.355</td>\n",
       "      <td>0.442</td>\n",
       "      <td>1.073</td>\n",
       "      <td>0.343</td>\n",
       "      <td>0.244</td>\n",
       "      <td>0.083</td>\n",
       "      <td>0.064</td>\n",
       "      <td>2018</td>\n",
       "    </tr>\n",
       "    <tr>\n",
       "      <th>152</th>\n",
       "      <td>153</td>\n",
       "      <td>Tanzania</td>\n",
       "      <td>3.303</td>\n",
       "      <td>0.455</td>\n",
       "      <td>0.991</td>\n",
       "      <td>0.381</td>\n",
       "      <td>0.481</td>\n",
       "      <td>0.270</td>\n",
       "      <td>0.097</td>\n",
       "      <td>2018</td>\n",
       "    </tr>\n",
       "    <tr>\n",
       "      <th>153</th>\n",
       "      <td>154</td>\n",
       "      <td>South Sudan</td>\n",
       "      <td>3.254</td>\n",
       "      <td>0.337</td>\n",
       "      <td>0.608</td>\n",
       "      <td>0.177</td>\n",
       "      <td>0.112</td>\n",
       "      <td>0.224</td>\n",
       "      <td>0.106</td>\n",
       "      <td>2018</td>\n",
       "    </tr>\n",
       "    <tr>\n",
       "      <th>154</th>\n",
       "      <td>156</td>\n",
       "      <td>Burundi</td>\n",
       "      <td>2.905</td>\n",
       "      <td>0.091</td>\n",
       "      <td>0.627</td>\n",
       "      <td>0.145</td>\n",
       "      <td>0.065</td>\n",
       "      <td>0.149</td>\n",
       "      <td>0.076</td>\n",
       "      <td>2018</td>\n",
       "    </tr>\n",
       "  </tbody>\n",
       "</table>\n",
       "<p>155 rows × 10 columns</p>\n",
       "</div>"
      ],
      "text/plain": [
       "     Overall rank      Country  Happiness Score  Economy (GDP per Capita)  \\\n",
       "0               1      Finland            7.632                     1.305   \n",
       "1               2       Norway            7.594                     1.456   \n",
       "2               3      Denmark            7.555                     1.351   \n",
       "3               4      Iceland            7.495                     1.343   \n",
       "4               5  Switzerland            7.487                     1.420   \n",
       "..            ...          ...              ...                       ...   \n",
       "150           151       Rwanda            3.408                     0.332   \n",
       "151           152        Yemen            3.355                     0.442   \n",
       "152           153     Tanzania            3.303                     0.455   \n",
       "153           154  South Sudan            3.254                     0.337   \n",
       "154           156      Burundi            2.905                     0.091   \n",
       "\n",
       "     Family  Healthy life expectancy  Freedom to make life choices  \\\n",
       "0     1.592                    0.874                         0.681   \n",
       "1     1.582                    0.861                         0.686   \n",
       "2     1.590                    0.868                         0.683   \n",
       "3     1.644                    0.914                         0.677   \n",
       "4     1.549                    0.927                         0.660   \n",
       "..      ...                      ...                           ...   \n",
       "150   0.896                    0.400                         0.636   \n",
       "151   1.073                    0.343                         0.244   \n",
       "152   0.991                    0.381                         0.481   \n",
       "153   0.608                    0.177                         0.112   \n",
       "154   0.627                    0.145                         0.065   \n",
       "\n",
       "     Generosity  Perceptions of corruption  Year  \n",
       "0         0.202                      0.393  2018  \n",
       "1         0.286                      0.340  2018  \n",
       "2         0.284                      0.408  2018  \n",
       "3         0.353                      0.138  2018  \n",
       "4         0.256                      0.357  2018  \n",
       "..          ...                        ...   ...  \n",
       "150       0.200                      0.444  2018  \n",
       "151       0.083                      0.064  2018  \n",
       "152       0.270                      0.097  2018  \n",
       "153       0.224                      0.106  2018  \n",
       "154       0.149                      0.076  2018  \n",
       "\n",
       "[155 rows x 10 columns]"
      ]
     },
     "execution_count": 151,
     "metadata": {},
     "output_type": "execute_result"
    }
   ],
   "source": [
    "# Drop row from df\n",
    "df_2018.drop(154, inplace=True, axis=0)\n",
    "# reset index as now out of sequence\n",
    "df_2018.reset_index(drop=True)"
   ]
  },
  {
   "cell_type": "code",
   "execution_count": 152,
   "id": "9e6c5d2b-fbf8-454c-81da-826402038e6c",
   "metadata": {
    "tags": []
   },
   "outputs": [
    {
     "data": {
      "text/html": [
       "<div>\n",
       "<style scoped>\n",
       "    .dataframe tbody tr th:only-of-type {\n",
       "        vertical-align: middle;\n",
       "    }\n",
       "\n",
       "    .dataframe tbody tr th {\n",
       "        vertical-align: top;\n",
       "    }\n",
       "\n",
       "    .dataframe thead th {\n",
       "        text-align: right;\n",
       "    }\n",
       "</style>\n",
       "<table border=\"1\" class=\"dataframe\">\n",
       "  <thead>\n",
       "    <tr style=\"text-align: right;\">\n",
       "      <th></th>\n",
       "      <th>Overall rank</th>\n",
       "      <th>Country</th>\n",
       "      <th>Happiness Score</th>\n",
       "      <th>Economy (GDP per Capita)</th>\n",
       "      <th>Family</th>\n",
       "      <th>Healthy life expectancy</th>\n",
       "      <th>Freedom to make life choices</th>\n",
       "      <th>Generosity</th>\n",
       "      <th>Perceptions of corruption</th>\n",
       "      <th>Year</th>\n",
       "    </tr>\n",
       "  </thead>\n",
       "  <tbody>\n",
       "    <tr>\n",
       "      <th>0</th>\n",
       "      <td>1</td>\n",
       "      <td>Finland</td>\n",
       "      <td>7.769</td>\n",
       "      <td>1.340</td>\n",
       "      <td>1.587</td>\n",
       "      <td>0.986</td>\n",
       "      <td>0.596</td>\n",
       "      <td>0.153</td>\n",
       "      <td>0.393</td>\n",
       "      <td>2019</td>\n",
       "    </tr>\n",
       "    <tr>\n",
       "      <th>1</th>\n",
       "      <td>2</td>\n",
       "      <td>Denmark</td>\n",
       "      <td>7.600</td>\n",
       "      <td>1.383</td>\n",
       "      <td>1.573</td>\n",
       "      <td>0.996</td>\n",
       "      <td>0.592</td>\n",
       "      <td>0.252</td>\n",
       "      <td>0.410</td>\n",
       "      <td>2019</td>\n",
       "    </tr>\n",
       "    <tr>\n",
       "      <th>2</th>\n",
       "      <td>3</td>\n",
       "      <td>Norway</td>\n",
       "      <td>7.554</td>\n",
       "      <td>1.488</td>\n",
       "      <td>1.582</td>\n",
       "      <td>1.028</td>\n",
       "      <td>0.603</td>\n",
       "      <td>0.271</td>\n",
       "      <td>0.341</td>\n",
       "      <td>2019</td>\n",
       "    </tr>\n",
       "    <tr>\n",
       "      <th>3</th>\n",
       "      <td>4</td>\n",
       "      <td>Iceland</td>\n",
       "      <td>7.494</td>\n",
       "      <td>1.380</td>\n",
       "      <td>1.624</td>\n",
       "      <td>1.026</td>\n",
       "      <td>0.591</td>\n",
       "      <td>0.354</td>\n",
       "      <td>0.118</td>\n",
       "      <td>2019</td>\n",
       "    </tr>\n",
       "    <tr>\n",
       "      <th>4</th>\n",
       "      <td>5</td>\n",
       "      <td>Netherlands</td>\n",
       "      <td>7.488</td>\n",
       "      <td>1.396</td>\n",
       "      <td>1.522</td>\n",
       "      <td>0.999</td>\n",
       "      <td>0.557</td>\n",
       "      <td>0.322</td>\n",
       "      <td>0.298</td>\n",
       "      <td>2019</td>\n",
       "    </tr>\n",
       "    <tr>\n",
       "      <th>...</th>\n",
       "      <td>...</td>\n",
       "      <td>...</td>\n",
       "      <td>...</td>\n",
       "      <td>...</td>\n",
       "      <td>...</td>\n",
       "      <td>...</td>\n",
       "      <td>...</td>\n",
       "      <td>...</td>\n",
       "      <td>...</td>\n",
       "      <td>...</td>\n",
       "    </tr>\n",
       "    <tr>\n",
       "      <th>150</th>\n",
       "      <td>151</td>\n",
       "      <td>Yemen</td>\n",
       "      <td>3.380</td>\n",
       "      <td>0.287</td>\n",
       "      <td>1.163</td>\n",
       "      <td>0.463</td>\n",
       "      <td>0.143</td>\n",
       "      <td>0.108</td>\n",
       "      <td>0.077</td>\n",
       "      <td>2019</td>\n",
       "    </tr>\n",
       "    <tr>\n",
       "      <th>151</th>\n",
       "      <td>152</td>\n",
       "      <td>Rwanda</td>\n",
       "      <td>3.334</td>\n",
       "      <td>0.359</td>\n",
       "      <td>0.711</td>\n",
       "      <td>0.614</td>\n",
       "      <td>0.555</td>\n",
       "      <td>0.217</td>\n",
       "      <td>0.411</td>\n",
       "      <td>2019</td>\n",
       "    </tr>\n",
       "    <tr>\n",
       "      <th>152</th>\n",
       "      <td>153</td>\n",
       "      <td>Tanzania</td>\n",
       "      <td>3.231</td>\n",
       "      <td>0.476</td>\n",
       "      <td>0.885</td>\n",
       "      <td>0.499</td>\n",
       "      <td>0.417</td>\n",
       "      <td>0.276</td>\n",
       "      <td>0.147</td>\n",
       "      <td>2019</td>\n",
       "    </tr>\n",
       "    <tr>\n",
       "      <th>153</th>\n",
       "      <td>154</td>\n",
       "      <td>Afghanistan</td>\n",
       "      <td>3.203</td>\n",
       "      <td>0.350</td>\n",
       "      <td>0.517</td>\n",
       "      <td>0.361</td>\n",
       "      <td>0.000</td>\n",
       "      <td>0.158</td>\n",
       "      <td>0.025</td>\n",
       "      <td>2019</td>\n",
       "    </tr>\n",
       "    <tr>\n",
       "      <th>154</th>\n",
       "      <td>156</td>\n",
       "      <td>South Sudan</td>\n",
       "      <td>2.853</td>\n",
       "      <td>0.306</td>\n",
       "      <td>0.575</td>\n",
       "      <td>0.295</td>\n",
       "      <td>0.010</td>\n",
       "      <td>0.202</td>\n",
       "      <td>0.091</td>\n",
       "      <td>2019</td>\n",
       "    </tr>\n",
       "  </tbody>\n",
       "</table>\n",
       "<p>155 rows × 10 columns</p>\n",
       "</div>"
      ],
      "text/plain": [
       "     Overall rank      Country  Happiness Score  Economy (GDP per Capita)  \\\n",
       "0               1      Finland            7.769                     1.340   \n",
       "1               2      Denmark            7.600                     1.383   \n",
       "2               3       Norway            7.554                     1.488   \n",
       "3               4      Iceland            7.494                     1.380   \n",
       "4               5  Netherlands            7.488                     1.396   \n",
       "..            ...          ...              ...                       ...   \n",
       "150           151        Yemen            3.380                     0.287   \n",
       "151           152       Rwanda            3.334                     0.359   \n",
       "152           153     Tanzania            3.231                     0.476   \n",
       "153           154  Afghanistan            3.203                     0.350   \n",
       "154           156  South Sudan            2.853                     0.306   \n",
       "\n",
       "     Family  Healthy life expectancy  Freedom to make life choices  \\\n",
       "0     1.587                    0.986                         0.596   \n",
       "1     1.573                    0.996                         0.592   \n",
       "2     1.582                    1.028                         0.603   \n",
       "3     1.624                    1.026                         0.591   \n",
       "4     1.522                    0.999                         0.557   \n",
       "..      ...                      ...                           ...   \n",
       "150   1.163                    0.463                         0.143   \n",
       "151   0.711                    0.614                         0.555   \n",
       "152   0.885                    0.499                         0.417   \n",
       "153   0.517                    0.361                         0.000   \n",
       "154   0.575                    0.295                         0.010   \n",
       "\n",
       "     Generosity  Perceptions of corruption  Year  \n",
       "0         0.153                      0.393  2019  \n",
       "1         0.252                      0.410  2019  \n",
       "2         0.271                      0.341  2019  \n",
       "3         0.354                      0.118  2019  \n",
       "4         0.322                      0.298  2019  \n",
       "..          ...                        ...   ...  \n",
       "150       0.108                      0.077  2019  \n",
       "151       0.217                      0.411  2019  \n",
       "152       0.276                      0.147  2019  \n",
       "153       0.158                      0.025  2019  \n",
       "154       0.202                      0.091  2019  \n",
       "\n",
       "[155 rows x 10 columns]"
      ]
     },
     "execution_count": 152,
     "metadata": {},
     "output_type": "execute_result"
    }
   ],
   "source": [
    "# Drop row from df\n",
    "df_2019.drop(154, inplace=True, axis=0)\n",
    "# reset index as now out of sequence\n",
    "df_2019.reset_index(drop=True)"
   ]
  },
  {
   "cell_type": "markdown",
   "id": "e03b90ee-fdc6-41b0-9bce-77232479b8a7",
   "metadata": {},
   "source": [
    "##### Togo\n",
    "\n",
    "In 2016 df Togo family is missing it is also known as Togolese Republic, lets see if either name is in any of the other dataframes"
   ]
  },
  {
   "cell_type": "code",
   "execution_count": 153,
   "id": "a018a909-20c9-43b9-9d20-5ad1d6e703f1",
   "metadata": {
    "tags": []
   },
   "outputs": [
    {
     "data": {
      "text/html": [
       "<div>\n",
       "<style scoped>\n",
       "    .dataframe tbody tr th:only-of-type {\n",
       "        vertical-align: middle;\n",
       "    }\n",
       "\n",
       "    .dataframe tbody tr th {\n",
       "        vertical-align: top;\n",
       "    }\n",
       "\n",
       "    .dataframe thead th {\n",
       "        text-align: right;\n",
       "    }\n",
       "</style>\n",
       "<table border=\"1\" class=\"dataframe\">\n",
       "  <thead>\n",
       "    <tr style=\"text-align: right;\">\n",
       "      <th></th>\n",
       "      <th>Country</th>\n",
       "      <th>Region</th>\n",
       "      <th>Happiness Rank</th>\n",
       "      <th>Happiness Score</th>\n",
       "      <th>Standard Error</th>\n",
       "      <th>Economy (GDP per Capita)</th>\n",
       "      <th>Family</th>\n",
       "      <th>Health (Life Expectancy)</th>\n",
       "      <th>Freedom</th>\n",
       "      <th>Trust (Government Corruption)</th>\n",
       "      <th>Generosity</th>\n",
       "      <th>Dystopia Residual</th>\n",
       "      <th>Year</th>\n",
       "    </tr>\n",
       "  </thead>\n",
       "  <tbody>\n",
       "    <tr>\n",
       "      <th>157</th>\n",
       "      <td>Togo</td>\n",
       "      <td>Sub-Saharan Africa</td>\n",
       "      <td>158</td>\n",
       "      <td>2.839</td>\n",
       "      <td>0.06727</td>\n",
       "      <td>0.20868</td>\n",
       "      <td>0.13995</td>\n",
       "      <td>0.28443</td>\n",
       "      <td>0.36453</td>\n",
       "      <td>0.10731</td>\n",
       "      <td>0.16681</td>\n",
       "      <td>1.56726</td>\n",
       "      <td>2015</td>\n",
       "    </tr>\n",
       "  </tbody>\n",
       "</table>\n",
       "</div>"
      ],
      "text/plain": [
       "    Country              Region  Happiness Rank  Happiness Score  \\\n",
       "157    Togo  Sub-Saharan Africa             158            2.839   \n",
       "\n",
       "     Standard Error  Economy (GDP per Capita)   Family  \\\n",
       "157         0.06727                   0.20868  0.13995   \n",
       "\n",
       "     Health (Life Expectancy)  Freedom  Trust (Government Corruption)  \\\n",
       "157                   0.28443  0.36453                        0.10731   \n",
       "\n",
       "     Generosity  Dystopia Residual  Year  \n",
       "157     0.16681            1.56726  2015  "
      ]
     },
     "execution_count": 153,
     "metadata": {},
     "output_type": "execute_result"
    }
   ],
   "source": [
    "df_2015[df_2015['Country'] == 'Togo']"
   ]
  },
  {
   "cell_type": "code",
   "execution_count": 154,
   "id": "34f11129-b741-47b4-a8cb-916b9cefd342",
   "metadata": {
    "tags": []
   },
   "outputs": [
    {
     "data": {
      "text/html": [
       "<div>\n",
       "<style scoped>\n",
       "    .dataframe tbody tr th:only-of-type {\n",
       "        vertical-align: middle;\n",
       "    }\n",
       "\n",
       "    .dataframe tbody tr th {\n",
       "        vertical-align: top;\n",
       "    }\n",
       "\n",
       "    .dataframe thead th {\n",
       "        text-align: right;\n",
       "    }\n",
       "</style>\n",
       "<table border=\"1\" class=\"dataframe\">\n",
       "  <thead>\n",
       "    <tr style=\"text-align: right;\">\n",
       "      <th></th>\n",
       "      <th>Country</th>\n",
       "      <th>Happiness.Rank</th>\n",
       "      <th>Happiness Score</th>\n",
       "      <th>Whisker.high</th>\n",
       "      <th>Whisker.low</th>\n",
       "      <th>Economy (GDP per Capita)</th>\n",
       "      <th>Family</th>\n",
       "      <th>Health..Life.Expectancy.</th>\n",
       "      <th>Freedom</th>\n",
       "      <th>Generosity</th>\n",
       "      <th>Trust..Government.Corruption.</th>\n",
       "      <th>Dystopia.Residual</th>\n",
       "      <th>Year</th>\n",
       "    </tr>\n",
       "  </thead>\n",
       "  <tbody>\n",
       "    <tr>\n",
       "      <th>149</th>\n",
       "      <td>Togo</td>\n",
       "      <td>150</td>\n",
       "      <td>3.495</td>\n",
       "      <td>3.594038</td>\n",
       "      <td>3.395962</td>\n",
       "      <td>0.305445</td>\n",
       "      <td>0.431883</td>\n",
       "      <td>0.247106</td>\n",
       "      <td>0.380426</td>\n",
       "      <td>0.196896</td>\n",
       "      <td>0.095665</td>\n",
       "      <td>1.837229</td>\n",
       "      <td>2017</td>\n",
       "    </tr>\n",
       "  </tbody>\n",
       "</table>\n",
       "</div>"
      ],
      "text/plain": [
       "    Country  Happiness.Rank  Happiness Score  Whisker.high  Whisker.low  \\\n",
       "149    Togo             150            3.495      3.594038     3.395962   \n",
       "\n",
       "     Economy (GDP per Capita)    Family  Health..Life.Expectancy.   Freedom  \\\n",
       "149                  0.305445  0.431883                  0.247106  0.380426   \n",
       "\n",
       "     Generosity  Trust..Government.Corruption.  Dystopia.Residual  Year  \n",
       "149    0.196896                       0.095665           1.837229  2017  "
      ]
     },
     "execution_count": 154,
     "metadata": {},
     "output_type": "execute_result"
    }
   ],
   "source": [
    "df_2017[df_2017['Country'] == 'Togo']"
   ]
  },
  {
   "cell_type": "code",
   "execution_count": 155,
   "id": "853f30c9-eed9-4512-a0ba-30a300dce03e",
   "metadata": {
    "tags": []
   },
   "outputs": [
    {
     "data": {
      "text/html": [
       "<div>\n",
       "<style scoped>\n",
       "    .dataframe tbody tr th:only-of-type {\n",
       "        vertical-align: middle;\n",
       "    }\n",
       "\n",
       "    .dataframe tbody tr th {\n",
       "        vertical-align: top;\n",
       "    }\n",
       "\n",
       "    .dataframe thead th {\n",
       "        text-align: right;\n",
       "    }\n",
       "</style>\n",
       "<table border=\"1\" class=\"dataframe\">\n",
       "  <thead>\n",
       "    <tr style=\"text-align: right;\">\n",
       "      <th></th>\n",
       "      <th>Overall rank</th>\n",
       "      <th>Country</th>\n",
       "      <th>Happiness Score</th>\n",
       "      <th>Economy (GDP per Capita)</th>\n",
       "      <th>Family</th>\n",
       "      <th>Healthy life expectancy</th>\n",
       "      <th>Freedom to make life choices</th>\n",
       "      <th>Generosity</th>\n",
       "      <th>Perceptions of corruption</th>\n",
       "      <th>Year</th>\n",
       "    </tr>\n",
       "  </thead>\n",
       "  <tbody>\n",
       "    <tr>\n",
       "      <th>138</th>\n",
       "      <td>139</td>\n",
       "      <td>Togo</td>\n",
       "      <td>3.999</td>\n",
       "      <td>0.259</td>\n",
       "      <td>0.474</td>\n",
       "      <td>0.253</td>\n",
       "      <td>0.434</td>\n",
       "      <td>0.158</td>\n",
       "      <td>0.101</td>\n",
       "      <td>2018</td>\n",
       "    </tr>\n",
       "  </tbody>\n",
       "</table>\n",
       "</div>"
      ],
      "text/plain": [
       "     Overall rank Country  Happiness Score  Economy (GDP per Capita)  Family  \\\n",
       "138           139    Togo            3.999                     0.259   0.474   \n",
       "\n",
       "     Healthy life expectancy  Freedom to make life choices  Generosity  \\\n",
       "138                    0.253                         0.434       0.158   \n",
       "\n",
       "     Perceptions of corruption  Year  \n",
       "138                      0.101  2018  "
      ]
     },
     "execution_count": 155,
     "metadata": {},
     "output_type": "execute_result"
    }
   ],
   "source": [
    "df_2018[df_2018['Country'] == 'Togo']"
   ]
  },
  {
   "cell_type": "code",
   "execution_count": 156,
   "id": "6c8f1969-e875-44cd-830b-39bb2132201f",
   "metadata": {
    "tags": []
   },
   "outputs": [
    {
     "data": {
      "text/html": [
       "<div>\n",
       "<style scoped>\n",
       "    .dataframe tbody tr th:only-of-type {\n",
       "        vertical-align: middle;\n",
       "    }\n",
       "\n",
       "    .dataframe tbody tr th {\n",
       "        vertical-align: top;\n",
       "    }\n",
       "\n",
       "    .dataframe thead th {\n",
       "        text-align: right;\n",
       "    }\n",
       "</style>\n",
       "<table border=\"1\" class=\"dataframe\">\n",
       "  <thead>\n",
       "    <tr style=\"text-align: right;\">\n",
       "      <th></th>\n",
       "      <th>Overall rank</th>\n",
       "      <th>Country</th>\n",
       "      <th>Happiness Score</th>\n",
       "      <th>Economy (GDP per Capita)</th>\n",
       "      <th>Family</th>\n",
       "      <th>Healthy life expectancy</th>\n",
       "      <th>Freedom to make life choices</th>\n",
       "      <th>Generosity</th>\n",
       "      <th>Perceptions of corruption</th>\n",
       "      <th>Year</th>\n",
       "    </tr>\n",
       "  </thead>\n",
       "  <tbody>\n",
       "    <tr>\n",
       "      <th>138</th>\n",
       "      <td>139</td>\n",
       "      <td>Togo</td>\n",
       "      <td>4.085</td>\n",
       "      <td>0.275</td>\n",
       "      <td>0.572</td>\n",
       "      <td>0.41</td>\n",
       "      <td>0.293</td>\n",
       "      <td>0.177</td>\n",
       "      <td>0.085</td>\n",
       "      <td>2019</td>\n",
       "    </tr>\n",
       "  </tbody>\n",
       "</table>\n",
       "</div>"
      ],
      "text/plain": [
       "     Overall rank Country  Happiness Score  Economy (GDP per Capita)  Family  \\\n",
       "138           139    Togo            4.085                     0.275   0.572   \n",
       "\n",
       "     Healthy life expectancy  Freedom to make life choices  Generosity  \\\n",
       "138                     0.41                         0.293       0.177   \n",
       "\n",
       "     Perceptions of corruption  Year  \n",
       "138                      0.085  2019  "
      ]
     },
     "execution_count": 156,
     "metadata": {},
     "output_type": "execute_result"
    }
   ],
   "source": [
    "df_2019[df_2019['Country'] == 'Togo']"
   ]
  },
  {
   "cell_type": "markdown",
   "id": "161eef22-9e96-49fe-aceb-4f49c234b135",
   "metadata": {},
   "source": [
    "In 2015 the value was 0.13995, in '17 its 0.431883, in '18 its 0.474 and in '19 it is 0.572"
   ]
  },
  {
   "cell_type": "code",
   "execution_count": 157,
   "id": "4cefb89f-e76a-4a9b-a283-59064a4540a2",
   "metadata": {
    "tags": []
   },
   "outputs": [
    {
     "data": {
      "image/png": "[encoded data removed]",
      "text/plain": [
       "<Figure size 600x300 with 1 Axes>"
      ]
     },
     "metadata": {},
     "output_type": "display_data"
    }
   ],
   "source": [
    "# Plot existing data points\n",
    "x_point = [2015, 2016, 2017, 2018, 2019]\n",
    "y_point = [0.13995, 0, 0.431883, 0.474, 0.572]\n",
    "\n",
    "fig, ax = plt.subplots (figsize=(6,3))\n",
    "sns.barplot(x=x_point, y=y_point)\n",
    "ax.set(xlabel='Years', ylabel='Family', title='Family for Togo over the years');"
   ]
  },
  {
   "cell_type": "markdown",
   "id": "91d69d1e-8635-46ed-bd57-e8f2909bcdc6",
   "metadata": {},
   "source": [
    "Here we can see that family size has grown over the years, but simply drawing a straight line across will not give us an accurate value to impute. \n",
    "\n",
    "Instead I will opt to take the middle point of the difference between 2015 and 2017 and impute this instead. "
   ]
  },
  {
   "cell_type": "code",
   "execution_count": 158,
   "id": "0ae8faad-a0f6-4681-bc3b-f9c799fd8f3c",
   "metadata": {
    "tags": []
   },
   "outputs": [
    {
     "data": {
      "text/plain": [
       "0.2859165"
      ]
     },
     "execution_count": 158,
     "metadata": {},
     "output_type": "execute_result"
    }
   ],
   "source": [
    "((0.431883-0.13995) /2) + 0.13995"
   ]
  },
  {
   "cell_type": "code",
   "execution_count": 159,
   "id": "a00a87da-5f8f-4b29-af1c-c52110bd7845",
   "metadata": {
    "tags": []
   },
   "outputs": [
    {
     "data": {
      "image/png": "[encoded data removed]",
      "text/plain": [
       "<Figure size 600x300 with 1 Axes>"
      ]
     },
     "metadata": {},
     "output_type": "display_data"
    }
   ],
   "source": [
    "# replot with calculated value\n",
    "x_point_a = [2015, 2016, 2017, 2018, 2019]\n",
    "y_point_a = [0.13995, 0.2859165, 0.431883, 0.474, 0.572]\n",
    "\n",
    "fig, ax = plt.subplots (figsize=(6,3))\n",
    "sns.barplot(x=x_point_a, y=y_point_a)\n",
    "ax.set(xlabel='Years', ylabel='Family', title='Family for Togo over the years with calculated value for 2016');"
   ]
  },
  {
   "cell_type": "markdown",
   "id": "7bdef838-e354-4384-a262-dc1e7a627732",
   "metadata": {},
   "source": [
    "This looks to be a more realistic value so I'll choose this one"
   ]
  },
  {
   "cell_type": "code",
   "execution_count": 160,
   "id": "ca22f965-1c22-4f03-b903-e35f555d29b9",
   "metadata": {
    "tags": []
   },
   "outputs": [],
   "source": [
    "# replace the zero value in df\n",
    "df_2016['Family'].replace(0, 0.2859165, inplace=True)"
   ]
  },
  {
   "cell_type": "markdown",
   "id": "23ea4538-5472-4920-8744-33672c1dc9fc",
   "metadata": {},
   "source": [
    "#### Health (Life Expectancy)"
   ]
  },
  {
   "cell_type": "code",
   "execution_count": 161,
   "id": "f133216a-4888-42f3-be18-80f3d7b11cde",
   "metadata": {},
   "outputs": [
    {
     "name": "stdout",
     "output_type": "stream",
     "text": [
      "Index(['Country', 'Region', 'Happiness Rank', 'Happiness Score',\n",
      "       'Standard Error', 'Economy (GDP per Capita)', 'Family',\n",
      "       'Health (Life Expectancy)', 'Freedom', 'Trust (Government Corruption)',\n",
      "       'Generosity', 'Dystopia Residual', 'Year'],\n",
      "      dtype='object') Index(['Country', 'Region', 'Happiness Rank', 'Happiness Score',\n",
      "       'Lower Confidence Interval', 'Upper Confidence Interval',\n",
      "       'Economy (GDP per Capita)', 'Family', 'Health (Life Expectancy)',\n",
      "       'Freedom', 'Trust (Government Corruption)', 'Generosity',\n",
      "       'Dystopia Residual', 'Year'],\n",
      "      dtype='object') Index(['Country', 'Happiness.Rank', 'Happiness Score', 'Whisker.high',\n",
      "       'Whisker.low', 'Economy (GDP per Capita)', 'Family',\n",
      "       'Health..Life.Expectancy.', 'Freedom', 'Generosity',\n",
      "       'Trust..Government.Corruption.', 'Dystopia.Residual', 'Year'],\n",
      "      dtype='object') Index(['Overall rank', 'Country', 'Happiness Score',\n",
      "       'Economy (GDP per Capita)', 'Family', 'Healthy life expectancy',\n",
      "       'Freedom to make life choices', 'Generosity',\n",
      "       'Perceptions of corruption', 'Year'],\n",
      "      dtype='object') Index(['Overall rank', 'Country', 'Happiness Score',\n",
      "       'Economy (GDP per Capita)', 'Family', 'Healthy life expectancy',\n",
      "       'Freedom to make life choices', 'Generosity',\n",
      "       'Perceptions of corruption', 'Year'],\n",
      "      dtype='object')\n"
     ]
    }
   ],
   "source": [
    "# look at each df col names\n",
    "print(df_2015.columns,\n",
    "df_2016.columns,\n",
    "df_2017.columns,\n",
    "df_2018.columns,\n",
    "df_2019.columns)"
   ]
  },
  {
   "cell_type": "markdown",
   "id": "ca61e871-397f-42a1-a681-4c73952cbe49",
   "metadata": {},
   "source": [
    "We can see in 2016 & 17 we have a variable called `Health (Life Expectancy)`\n",
    "\n",
    "In 2018 we have a var called `Health..Life.Expectancy.`\n",
    "\n",
    "And in 2018 and 19 we have a var called `Healthy life expectancy`. Lets take a look. "
   ]
  },
  {
   "cell_type": "code",
   "execution_count": 162,
   "id": "395a2836-22d3-488b-b197-940efea336b3",
   "metadata": {
    "tags": []
   },
   "outputs": [],
   "source": [
    "# create df from each year for variable\n",
    "df_health = pd.concat([df_2015['Health (Life Expectancy)'], df_2016['Health (Life Expectancy)'], \n",
    "                       df_2017['Health..Life.Expectancy.'], df_2018['Healthy life expectancy'], df_2019['Healthy life expectancy']], axis=1)"
   ]
  },
  {
   "cell_type": "code",
   "execution_count": 163,
   "id": "12846a96-944d-404c-aff9-72db6e0dddc9",
   "metadata": {
    "tags": []
   },
   "outputs": [
    {
     "name": "stdout",
     "output_type": "stream",
     "text": [
      "<class 'pandas.core.frame.DataFrame'>\n",
      "Index: 158 entries, 0 to 147\n",
      "Data columns (total 5 columns):\n",
      " #   Column                    Non-Null Count  Dtype  \n",
      "---  ------                    --------------  -----  \n",
      " 0   Health (Life Expectancy)  157 non-null    float64\n",
      " 1   Health (Life Expectancy)  157 non-null    float64\n",
      " 2   Health..Life.Expectancy.  154 non-null    float64\n",
      " 3   Healthy life expectancy   155 non-null    float64\n",
      " 4   Healthy life expectancy   155 non-null    float64\n",
      "dtypes: float64(5)\n",
      "memory usage: 7.4 KB\n"
     ]
    }
   ],
   "source": [
    "# look at new df info\n",
    "df_health.info()"
   ]
  },
  {
   "cell_type": "code",
   "execution_count": 164,
   "id": "77abc309-9582-444c-8e27-8e0499d12b79",
   "metadata": {
    "tags": []
   },
   "outputs": [
    {
     "data": {
      "text/html": [
       "<div>\n",
       "<style scoped>\n",
       "    .dataframe tbody tr th:only-of-type {\n",
       "        vertical-align: middle;\n",
       "    }\n",
       "\n",
       "    .dataframe tbody tr th {\n",
       "        vertical-align: top;\n",
       "    }\n",
       "\n",
       "    .dataframe thead th {\n",
       "        text-align: right;\n",
       "    }\n",
       "</style>\n",
       "<table border=\"1\" class=\"dataframe\">\n",
       "  <thead>\n",
       "    <tr style=\"text-align: right;\">\n",
       "      <th></th>\n",
       "      <th>count</th>\n",
       "      <th>mean</th>\n",
       "      <th>std</th>\n",
       "      <th>min</th>\n",
       "      <th>25%</th>\n",
       "      <th>50%</th>\n",
       "      <th>75%</th>\n",
       "      <th>max</th>\n",
       "    </tr>\n",
       "  </thead>\n",
       "  <tbody>\n",
       "    <tr>\n",
       "      <th>Health (Life Expectancy)</th>\n",
       "      <td>157.0</td>\n",
       "      <td>0.633847</td>\n",
       "      <td>0.243705</td>\n",
       "      <td>0.0</td>\n",
       "      <td>0.440550</td>\n",
       "      <td>0.697020</td>\n",
       "      <td>0.811600</td>\n",
       "      <td>1.025250</td>\n",
       "    </tr>\n",
       "    <tr>\n",
       "      <th>Health (Life Expectancy)</th>\n",
       "      <td>157.0</td>\n",
       "      <td>0.557619</td>\n",
       "      <td>0.229349</td>\n",
       "      <td>0.0</td>\n",
       "      <td>0.382910</td>\n",
       "      <td>0.596590</td>\n",
       "      <td>0.729930</td>\n",
       "      <td>0.952770</td>\n",
       "    </tr>\n",
       "    <tr>\n",
       "      <th>Health..Life.Expectancy.</th>\n",
       "      <td>154.0</td>\n",
       "      <td>0.554799</td>\n",
       "      <td>0.233891</td>\n",
       "      <td>0.0</td>\n",
       "      <td>0.380798</td>\n",
       "      <td>0.609627</td>\n",
       "      <td>0.724903</td>\n",
       "      <td>0.949492</td>\n",
       "    </tr>\n",
       "    <tr>\n",
       "      <th>Healthy life expectancy</th>\n",
       "      <td>155.0</td>\n",
       "      <td>0.601135</td>\n",
       "      <td>0.243801</td>\n",
       "      <td>0.0</td>\n",
       "      <td>0.426500</td>\n",
       "      <td>0.645000</td>\n",
       "      <td>0.778500</td>\n",
       "      <td>1.030000</td>\n",
       "    </tr>\n",
       "    <tr>\n",
       "      <th>Healthy life expectancy</th>\n",
       "      <td>155.0</td>\n",
       "      <td>0.729245</td>\n",
       "      <td>0.237677</td>\n",
       "      <td>0.0</td>\n",
       "      <td>0.553000</td>\n",
       "      <td>0.789000</td>\n",
       "      <td>0.882500</td>\n",
       "      <td>1.141000</td>\n",
       "    </tr>\n",
       "  </tbody>\n",
       "</table>\n",
       "</div>"
      ],
      "text/plain": [
       "                          count      mean       std  min       25%       50%  \\\n",
       "Health (Life Expectancy)  157.0  0.633847  0.243705  0.0  0.440550  0.697020   \n",
       "Health (Life Expectancy)  157.0  0.557619  0.229349  0.0  0.382910  0.596590   \n",
       "Health..Life.Expectancy.  154.0  0.554799  0.233891  0.0  0.380798  0.609627   \n",
       "Healthy life expectancy   155.0  0.601135  0.243801  0.0  0.426500  0.645000   \n",
       "Healthy life expectancy   155.0  0.729245  0.237677  0.0  0.553000  0.789000   \n",
       "\n",
       "                               75%       max  \n",
       "Health (Life Expectancy)  0.811600  1.025250  \n",
       "Health (Life Expectancy)  0.729930  0.952770  \n",
       "Health..Life.Expectancy.  0.724903  0.949492  \n",
       "Healthy life expectancy   0.778500  1.030000  \n",
       "Healthy life expectancy   0.882500  1.141000  "
      ]
     },
     "execution_count": 164,
     "metadata": {},
     "output_type": "execute_result"
    }
   ],
   "source": [
    "# numerical summary of df\n",
    "df_health.describe().T"
   ]
  },
  {
   "cell_type": "markdown",
   "id": "fa418282-3446-40bc-bc42-6ca7fd74a7c5",
   "metadata": {},
   "source": [
    "The missing values in the new df are for the missing rows (countries) in the other df's.\n",
    "\n",
    "We can see all of the obs are floats and they range from 0 to to 1.03 (to 2 d.p.).\n",
    "\n",
    "It appears the ages have been divided by 100 so I'll rename the cols and multiply the values by 100 to return back.\n",
    "\n",
    "It is possible that the life expectancy can be zero or it could be the data has been omitted. So we'll take a look at these countries as well."
   ]
  },
  {
   "cell_type": "code",
   "execution_count": 165,
   "id": "675f841e-557e-4533-bd7f-398264a7def7",
   "metadata": {
    "tags": []
   },
   "outputs": [],
   "source": [
    "# Rename col names in orig df\n",
    "df_2017 = df_2017.rename(columns={'Health..Life.Expectancy.':'Health (Life Expectancy)'})\n",
    "df_2018 = df_2018.rename(columns={'Healthy life expectancy':'Health (Life Expectancy)'})\n",
    "df_2019 = df_2019.rename(columns={'Healthy life expectancy':'Health (Life Expectancy)'})"
   ]
  },
  {
   "cell_type": "code",
   "execution_count": 166,
   "id": "44e76c27-4384-4f92-a6dd-48d6ad99d389",
   "metadata": {
    "tags": []
   },
   "outputs": [],
   "source": [
    "#multiply the cols by 100\n",
    "df_2015['Health (Life Expectancy)'] = df_2015['Health (Life Expectancy)'].multiply(100)\n",
    "df_2016['Health (Life Expectancy)'] = df_2016['Health (Life Expectancy)'].multiply(100)\n",
    "df_2017['Health (Life Expectancy)'] = df_2017['Health (Life Expectancy)'].multiply(100)\n",
    "df_2018['Health (Life Expectancy)'] = df_2018['Health (Life Expectancy)'].multiply(100)\n",
    "df_2019['Health (Life Expectancy)'] = df_2019['Health (Life Expectancy)'].multiply(100)"
   ]
  },
  {
   "cell_type": "code",
   "execution_count": 167,
   "id": "a9a13d05-72ca-475f-80dc-4d9f4cf69e3e",
   "metadata": {
    "tags": []
   },
   "outputs": [
    {
     "data": {
      "text/html": [
       "<div>\n",
       "<style scoped>\n",
       "    .dataframe tbody tr th:only-of-type {\n",
       "        vertical-align: middle;\n",
       "    }\n",
       "\n",
       "    .dataframe tbody tr th {\n",
       "        vertical-align: top;\n",
       "    }\n",
       "\n",
       "    .dataframe thead th {\n",
       "        text-align: right;\n",
       "    }\n",
       "</style>\n",
       "<table border=\"1\" class=\"dataframe\">\n",
       "  <thead>\n",
       "    <tr style=\"text-align: right;\">\n",
       "      <th></th>\n",
       "      <th>Country</th>\n",
       "      <th>Region</th>\n",
       "      <th>Happiness Rank</th>\n",
       "      <th>Happiness Score</th>\n",
       "      <th>Standard Error</th>\n",
       "      <th>Economy (GDP per Capita)</th>\n",
       "      <th>Family</th>\n",
       "      <th>Health (Life Expectancy)</th>\n",
       "      <th>Freedom</th>\n",
       "      <th>Trust (Government Corruption)</th>\n",
       "      <th>Generosity</th>\n",
       "      <th>Dystopia Residual</th>\n",
       "      <th>Year</th>\n",
       "    </tr>\n",
       "  </thead>\n",
       "  <tbody>\n",
       "    <tr>\n",
       "      <th>122</th>\n",
       "      <td>Sierra Leone</td>\n",
       "      <td>Sub-Saharan Africa</td>\n",
       "      <td>123</td>\n",
       "      <td>4.507</td>\n",
       "      <td>0.07068</td>\n",
       "      <td>0.33024</td>\n",
       "      <td>0.95571</td>\n",
       "      <td>0.0</td>\n",
       "      <td>0.4084</td>\n",
       "      <td>0.08786</td>\n",
       "      <td>0.21488</td>\n",
       "      <td>2.51009</td>\n",
       "      <td>2015</td>\n",
       "    </tr>\n",
       "  </tbody>\n",
       "</table>\n",
       "</div>"
      ],
      "text/plain": [
       "          Country              Region  Happiness Rank  Happiness Score  \\\n",
       "122  Sierra Leone  Sub-Saharan Africa             123            4.507   \n",
       "\n",
       "     Standard Error  Economy (GDP per Capita)   Family  \\\n",
       "122         0.07068                   0.33024  0.95571   \n",
       "\n",
       "     Health (Life Expectancy)  Freedom  Trust (Government Corruption)  \\\n",
       "122                       0.0   0.4084                        0.08786   \n",
       "\n",
       "     Generosity  Dystopia Residual  Year  \n",
       "122     0.21488            2.51009  2015  "
      ]
     },
     "execution_count": 167,
     "metadata": {},
     "output_type": "execute_result"
    }
   ],
   "source": [
    "df_2015[df_2015['Health (Life Expectancy)'] == 0]"
   ]
  },
  {
   "cell_type": "code",
   "execution_count": 168,
   "id": "b862147e-6276-43d3-9ebc-bfcbb9abd257",
   "metadata": {
    "tags": []
   },
   "outputs": [
    {
     "data": {
      "text/html": [
       "<div>\n",
       "<style scoped>\n",
       "    .dataframe tbody tr th:only-of-type {\n",
       "        vertical-align: middle;\n",
       "    }\n",
       "\n",
       "    .dataframe tbody tr th {\n",
       "        vertical-align: top;\n",
       "    }\n",
       "\n",
       "    .dataframe thead th {\n",
       "        text-align: right;\n",
       "    }\n",
       "</style>\n",
       "<table border=\"1\" class=\"dataframe\">\n",
       "  <thead>\n",
       "    <tr style=\"text-align: right;\">\n",
       "      <th></th>\n",
       "      <th>Country</th>\n",
       "      <th>Region</th>\n",
       "      <th>Happiness Rank</th>\n",
       "      <th>Happiness Score</th>\n",
       "      <th>Lower Confidence Interval</th>\n",
       "      <th>Upper Confidence Interval</th>\n",
       "      <th>Economy (GDP per Capita)</th>\n",
       "      <th>Family</th>\n",
       "      <th>Health (Life Expectancy)</th>\n",
       "      <th>Freedom</th>\n",
       "      <th>Trust (Government Corruption)</th>\n",
       "      <th>Generosity</th>\n",
       "      <th>Dystopia Residual</th>\n",
       "      <th>Year</th>\n",
       "    </tr>\n",
       "  </thead>\n",
       "  <tbody>\n",
       "    <tr>\n",
       "      <th>110</th>\n",
       "      <td>Sierra Leone</td>\n",
       "      <td>Sub-Saharan Africa</td>\n",
       "      <td>111</td>\n",
       "      <td>4.635</td>\n",
       "      <td>4.505</td>\n",
       "      <td>4.765</td>\n",
       "      <td>0.36485</td>\n",
       "      <td>0.628</td>\n",
       "      <td>0.0</td>\n",
       "      <td>0.30685</td>\n",
       "      <td>0.08196</td>\n",
       "      <td>0.23897</td>\n",
       "      <td>3.01402</td>\n",
       "      <td>2016</td>\n",
       "    </tr>\n",
       "  </tbody>\n",
       "</table>\n",
       "</div>"
      ],
      "text/plain": [
       "          Country              Region  Happiness Rank  Happiness Score  \\\n",
       "110  Sierra Leone  Sub-Saharan Africa             111            4.635   \n",
       "\n",
       "     Lower Confidence Interval  Upper Confidence Interval  \\\n",
       "110                      4.505                      4.765   \n",
       "\n",
       "     Economy (GDP per Capita)  Family  Health (Life Expectancy)  Freedom  \\\n",
       "110                   0.36485   0.628                       0.0  0.30685   \n",
       "\n",
       "     Trust (Government Corruption)  Generosity  Dystopia Residual  Year  \n",
       "110                        0.08196     0.23897            3.01402  2016  "
      ]
     },
     "execution_count": 168,
     "metadata": {},
     "output_type": "execute_result"
    }
   ],
   "source": [
    "df_2016[df_2016['Health (Life Expectancy)'] == 0]"
   ]
  },
  {
   "cell_type": "code",
   "execution_count": 169,
   "id": "34b09c3b-3ef1-4a68-94a0-bcfcdd179371",
   "metadata": {
    "tags": []
   },
   "outputs": [
    {
     "data": {
      "text/html": [
       "<div>\n",
       "<style scoped>\n",
       "    .dataframe tbody tr th:only-of-type {\n",
       "        vertical-align: middle;\n",
       "    }\n",
       "\n",
       "    .dataframe tbody tr th {\n",
       "        vertical-align: top;\n",
       "    }\n",
       "\n",
       "    .dataframe thead th {\n",
       "        text-align: right;\n",
       "    }\n",
       "</style>\n",
       "<table border=\"1\" class=\"dataframe\">\n",
       "  <thead>\n",
       "    <tr style=\"text-align: right;\">\n",
       "      <th></th>\n",
       "      <th>Country</th>\n",
       "      <th>Happiness.Rank</th>\n",
       "      <th>Happiness Score</th>\n",
       "      <th>Whisker.high</th>\n",
       "      <th>Whisker.low</th>\n",
       "      <th>Economy (GDP per Capita)</th>\n",
       "      <th>Family</th>\n",
       "      <th>Health (Life Expectancy)</th>\n",
       "      <th>Freedom</th>\n",
       "      <th>Generosity</th>\n",
       "      <th>Trust..Government.Corruption.</th>\n",
       "      <th>Dystopia.Residual</th>\n",
       "      <th>Year</th>\n",
       "    </tr>\n",
       "  </thead>\n",
       "  <tbody>\n",
       "    <tr>\n",
       "      <th>138</th>\n",
       "      <td>Lesotho</td>\n",
       "      <td>139</td>\n",
       "      <td>3.808</td>\n",
       "      <td>4.044344</td>\n",
       "      <td>3.571656</td>\n",
       "      <td>0.521021</td>\n",
       "      <td>1.190095</td>\n",
       "      <td>0.0</td>\n",
       "      <td>0.390661</td>\n",
       "      <td>0.157497</td>\n",
       "      <td>0.119095</td>\n",
       "      <td>1.429835</td>\n",
       "      <td>2017</td>\n",
       "    </tr>\n",
       "  </tbody>\n",
       "</table>\n",
       "</div>"
      ],
      "text/plain": [
       "     Country  Happiness.Rank  Happiness Score  Whisker.high  Whisker.low  \\\n",
       "138  Lesotho             139            3.808      4.044344     3.571656   \n",
       "\n",
       "     Economy (GDP per Capita)    Family  Health (Life Expectancy)   Freedom  \\\n",
       "138                  0.521021  1.190095                       0.0  0.390661   \n",
       "\n",
       "     Generosity  Trust..Government.Corruption.  Dystopia.Residual  Year  \n",
       "138    0.157497                       0.119095           1.429835  2017  "
      ]
     },
     "execution_count": 169,
     "metadata": {},
     "output_type": "execute_result"
    }
   ],
   "source": [
    "df_2017[df_2017['Health (Life Expectancy)'] == 0]"
   ]
  },
  {
   "cell_type": "code",
   "execution_count": 170,
   "id": "2975279c-fbe1-4ab7-bf8a-ea3ecee18c7c",
   "metadata": {
    "tags": []
   },
   "outputs": [
    {
     "data": {
      "text/html": [
       "<div>\n",
       "<style scoped>\n",
       "    .dataframe tbody tr th:only-of-type {\n",
       "        vertical-align: middle;\n",
       "    }\n",
       "\n",
       "    .dataframe tbody tr th {\n",
       "        vertical-align: top;\n",
       "    }\n",
       "\n",
       "    .dataframe thead th {\n",
       "        text-align: right;\n",
       "    }\n",
       "</style>\n",
       "<table border=\"1\" class=\"dataframe\">\n",
       "  <thead>\n",
       "    <tr style=\"text-align: right;\">\n",
       "      <th></th>\n",
       "      <th>Overall rank</th>\n",
       "      <th>Country</th>\n",
       "      <th>Happiness Score</th>\n",
       "      <th>Economy (GDP per Capita)</th>\n",
       "      <th>Family</th>\n",
       "      <th>Health (Life Expectancy)</th>\n",
       "      <th>Freedom to make life choices</th>\n",
       "      <th>Generosity</th>\n",
       "      <th>Perceptions of corruption</th>\n",
       "      <th>Year</th>\n",
       "    </tr>\n",
       "  </thead>\n",
       "  <tbody>\n",
       "    <tr>\n",
       "      <th>112</th>\n",
       "      <td>113</td>\n",
       "      <td>Sierra Leone</td>\n",
       "      <td>4.571</td>\n",
       "      <td>0.256</td>\n",
       "      <td>0.813</td>\n",
       "      <td>0.0</td>\n",
       "      <td>0.355</td>\n",
       "      <td>0.238</td>\n",
       "      <td>0.053</td>\n",
       "      <td>2018</td>\n",
       "    </tr>\n",
       "  </tbody>\n",
       "</table>\n",
       "</div>"
      ],
      "text/plain": [
       "     Overall rank       Country  Happiness Score  Economy (GDP per Capita)  \\\n",
       "112           113  Sierra Leone            4.571                     0.256   \n",
       "\n",
       "     Family  Health (Life Expectancy)  Freedom to make life choices  \\\n",
       "112   0.813                       0.0                         0.355   \n",
       "\n",
       "     Generosity  Perceptions of corruption  Year  \n",
       "112       0.238                      0.053  2018  "
      ]
     },
     "execution_count": 170,
     "metadata": {},
     "output_type": "execute_result"
    }
   ],
   "source": [
    "df_2018[df_2018['Health (Life Expectancy)'] == 0]"
   ]
  },
  {
   "cell_type": "code",
   "execution_count": 173,
   "id": "e01317ac-b509-4fdc-b8f0-46390ab75687",
   "metadata": {
    "tags": []
   },
   "outputs": [
    {
     "data": {
      "text/html": [
       "<div>\n",
       "<style scoped>\n",
       "    .dataframe tbody tr th:only-of-type {\n",
       "        vertical-align: middle;\n",
       "    }\n",
       "\n",
       "    .dataframe tbody tr th {\n",
       "        vertical-align: top;\n",
       "    }\n",
       "\n",
       "    .dataframe thead th {\n",
       "        text-align: right;\n",
       "    }\n",
       "</style>\n",
       "<table border=\"1\" class=\"dataframe\">\n",
       "  <thead>\n",
       "    <tr style=\"text-align: right;\">\n",
       "      <th></th>\n",
       "      <th>Overall rank</th>\n",
       "      <th>Country</th>\n",
       "      <th>Happiness Score</th>\n",
       "      <th>Economy (GDP per Capita)</th>\n",
       "      <th>Family</th>\n",
       "      <th>Health (Life Expectancy)</th>\n",
       "      <th>Freedom to make life choices</th>\n",
       "      <th>Generosity</th>\n",
       "      <th>Perceptions of corruption</th>\n",
       "      <th>Year</th>\n",
       "    </tr>\n",
       "  </thead>\n",
       "  <tbody>\n",
       "    <tr>\n",
       "      <th>134</th>\n",
       "      <td>135</td>\n",
       "      <td>Swaziland</td>\n",
       "      <td>4.212</td>\n",
       "      <td>0.811</td>\n",
       "      <td>1.149</td>\n",
       "      <td>0.0</td>\n",
       "      <td>0.313</td>\n",
       "      <td>0.074</td>\n",
       "      <td>0.135</td>\n",
       "      <td>2019</td>\n",
       "    </tr>\n",
       "  </tbody>\n",
       "</table>\n",
       "</div>"
      ],
      "text/plain": [
       "     Overall rank    Country  Happiness Score  Economy (GDP per Capita)  \\\n",
       "134           135  Swaziland            4.212                     0.811   \n",
       "\n",
       "     Family  Health (Life Expectancy)  Freedom to make life choices  \\\n",
       "134   1.149                       0.0                         0.313   \n",
       "\n",
       "     Generosity  Perceptions of corruption  Year  \n",
       "134       0.074                      0.135  2019  "
      ]
     },
     "execution_count": 173,
     "metadata": {},
     "output_type": "execute_result"
    }
   ],
   "source": [
    "df_2019[df_2019['Health (Life Expectancy)'] == 0]"
   ]
  },
  {
   "cell_type": "markdown",
   "id": "fd27afaa-9346-43b5-832d-211b258e1ce2",
   "metadata": {
    "tags": []
   },
   "source": [
    "The 3 affected countries are:\n",
    "    \n",
    "* Sierra Leone in 2015, '16 & '18\n",
    "* Lesotho in 2017\n",
    "* Swaziland in 2019"
   ]
  },
  {
   "cell_type": "markdown",
   "id": "fa366e6f-87d8-448a-9dd9-686957747255",
   "metadata": {},
   "source": [
    "##### Sierra Leone"
   ]
  },
  {
   "cell_type": "code",
   "execution_count": 174,
   "id": "8b12948d-deb4-4c43-b420-aace0a1d6477",
   "metadata": {
    "tags": []
   },
   "outputs": [
    {
     "data": {
      "text/html": [
       "<div>\n",
       "<style scoped>\n",
       "    .dataframe tbody tr th:only-of-type {\n",
       "        vertical-align: middle;\n",
       "    }\n",
       "\n",
       "    .dataframe tbody tr th {\n",
       "        vertical-align: top;\n",
       "    }\n",
       "\n",
       "    .dataframe thead th {\n",
       "        text-align: right;\n",
       "    }\n",
       "</style>\n",
       "<table border=\"1\" class=\"dataframe\">\n",
       "  <thead>\n",
       "    <tr style=\"text-align: right;\">\n",
       "      <th></th>\n",
       "      <th>Country</th>\n",
       "      <th>Happiness.Rank</th>\n",
       "      <th>Happiness Score</th>\n",
       "      <th>Whisker.high</th>\n",
       "      <th>Whisker.low</th>\n",
       "      <th>Economy (GDP per Capita)</th>\n",
       "      <th>Family</th>\n",
       "      <th>Health (Life Expectancy)</th>\n",
       "      <th>Freedom</th>\n",
       "      <th>Generosity</th>\n",
       "      <th>Trust..Government.Corruption.</th>\n",
       "      <th>Dystopia.Residual</th>\n",
       "      <th>Year</th>\n",
       "    </tr>\n",
       "  </thead>\n",
       "  <tbody>\n",
       "    <tr>\n",
       "      <th>105</th>\n",
       "      <td>Sierra Leone</td>\n",
       "      <td>106</td>\n",
       "      <td>4.709</td>\n",
       "      <td>4.850643</td>\n",
       "      <td>4.567357</td>\n",
       "      <td>0.368421</td>\n",
       "      <td>0.984136</td>\n",
       "      <td>0.556475</td>\n",
       "      <td>0.318698</td>\n",
       "      <td>0.293041</td>\n",
       "      <td>0.071095</td>\n",
       "      <td>2.66846</td>\n",
       "      <td>2017</td>\n",
       "    </tr>\n",
       "  </tbody>\n",
       "</table>\n",
       "</div>"
      ],
      "text/plain": [
       "          Country  Happiness.Rank  Happiness Score  Whisker.high  Whisker.low  \\\n",
       "105  Sierra Leone             106            4.709      4.850643     4.567357   \n",
       "\n",
       "     Economy (GDP per Capita)    Family  Health (Life Expectancy)   Freedom  \\\n",
       "105                  0.368421  0.984136                  0.556475  0.318698   \n",
       "\n",
       "     Generosity  Trust..Government.Corruption.  Dystopia.Residual  Year  \n",
       "105    0.293041                       0.071095            2.66846  2017  "
      ]
     },
     "execution_count": 174,
     "metadata": {},
     "output_type": "execute_result"
    }
   ],
   "source": [
    "df_2017[df_2017['Country'] == 'Sierra Leone']"
   ]
  },
  {
   "cell_type": "code",
   "execution_count": 175,
   "id": "dc4207dc-70d8-4e0b-8363-e3e4fa18eb97",
   "metadata": {
    "tags": []
   },
   "outputs": [
    {
     "data": {
      "text/html": [
       "<div>\n",
       "<style scoped>\n",
       "    .dataframe tbody tr th:only-of-type {\n",
       "        vertical-align: middle;\n",
       "    }\n",
       "\n",
       "    .dataframe tbody tr th {\n",
       "        vertical-align: top;\n",
       "    }\n",
       "\n",
       "    .dataframe thead th {\n",
       "        text-align: right;\n",
       "    }\n",
       "</style>\n",
       "<table border=\"1\" class=\"dataframe\">\n",
       "  <thead>\n",
       "    <tr style=\"text-align: right;\">\n",
       "      <th></th>\n",
       "      <th>Overall rank</th>\n",
       "      <th>Country</th>\n",
       "      <th>Happiness Score</th>\n",
       "      <th>Economy (GDP per Capita)</th>\n",
       "      <th>Family</th>\n",
       "      <th>Health (Life Expectancy)</th>\n",
       "      <th>Freedom to make life choices</th>\n",
       "      <th>Generosity</th>\n",
       "      <th>Perceptions of corruption</th>\n",
       "      <th>Year</th>\n",
       "    </tr>\n",
       "  </thead>\n",
       "  <tbody>\n",
       "    <tr>\n",
       "      <th>128</th>\n",
       "      <td>129</td>\n",
       "      <td>Sierra Leone</td>\n",
       "      <td>4.374</td>\n",
       "      <td>0.268</td>\n",
       "      <td>0.841</td>\n",
       "      <td>24.2</td>\n",
       "      <td>0.309</td>\n",
       "      <td>0.252</td>\n",
       "      <td>0.045</td>\n",
       "      <td>2019</td>\n",
       "    </tr>\n",
       "  </tbody>\n",
       "</table>\n",
       "</div>"
      ],
      "text/plain": [
       "     Overall rank       Country  Happiness Score  Economy (GDP per Capita)  \\\n",
       "128           129  Sierra Leone            4.374                     0.268   \n",
       "\n",
       "     Family  Health (Life Expectancy)  Freedom to make life choices  \\\n",
       "128   0.841                      24.2                         0.309   \n",
       "\n",
       "     Generosity  Perceptions of corruption  Year  \n",
       "128       0.252                      0.045  2019  "
      ]
     },
     "execution_count": 175,
     "metadata": {},
     "output_type": "execute_result"
    }
   ],
   "source": [
    "df_2019[df_2019['Country'] == 'Sierra Leone']"
   ]
  },
  {
   "cell_type": "markdown",
   "id": "a5d4bd3b-d369-4c6c-aa68-dc3f9f9efe29",
   "metadata": {},
   "source": [
    "2017 is in between 2016 & 2018 where the life expectancy shows as less than 1, so it is possible that these values are correct (and in 2015. But there was certainly a change in 2019 where it jumped to 24.2. Still a very low figure considering but this could be explained by an introduction of health initiative of some kind so I will leave this values as is for now."
   ]
  },
  {
   "cell_type": "markdown",
   "id": "1b6135a5-3e43-47ce-a1d0-20da5878de7f",
   "metadata": {},
   "source": [
    "##### Lesotho"
   ]
  },
  {
   "cell_type": "code",
   "execution_count": 176,
   "id": "be1942c9-d761-416d-a9d5-2e3b6dd05e67",
   "metadata": {
    "tags": []
   },
   "outputs": [
    {
     "data": {
      "text/html": [
       "<div>\n",
       "<style scoped>\n",
       "    .dataframe tbody tr th:only-of-type {\n",
       "        vertical-align: middle;\n",
       "    }\n",
       "\n",
       "    .dataframe tbody tr th {\n",
       "        vertical-align: top;\n",
       "    }\n",
       "\n",
       "    .dataframe thead th {\n",
       "        text-align: right;\n",
       "    }\n",
       "</style>\n",
       "<table border=\"1\" class=\"dataframe\">\n",
       "  <thead>\n",
       "    <tr style=\"text-align: right;\">\n",
       "      <th></th>\n",
       "      <th>Country</th>\n",
       "      <th>Region</th>\n",
       "      <th>Happiness Rank</th>\n",
       "      <th>Happiness Score</th>\n",
       "      <th>Standard Error</th>\n",
       "      <th>Economy (GDP per Capita)</th>\n",
       "      <th>Family</th>\n",
       "      <th>Health (Life Expectancy)</th>\n",
       "      <th>Freedom</th>\n",
       "      <th>Trust (Government Corruption)</th>\n",
       "      <th>Generosity</th>\n",
       "      <th>Dystopia Residual</th>\n",
       "      <th>Year</th>\n",
       "    </tr>\n",
       "  </thead>\n",
       "  <tbody>\n",
       "    <tr>\n",
       "      <th>96</th>\n",
       "      <td>Lesotho</td>\n",
       "      <td>Sub-Saharan Africa</td>\n",
       "      <td>97</td>\n",
       "      <td>4.898</td>\n",
       "      <td>0.09438</td>\n",
       "      <td>0.37545</td>\n",
       "      <td>1.04103</td>\n",
       "      <td>7.612</td>\n",
       "      <td>0.31767</td>\n",
       "      <td>0.12504</td>\n",
       "      <td>0.16388</td>\n",
       "      <td>2.79832</td>\n",
       "      <td>2015</td>\n",
       "    </tr>\n",
       "  </tbody>\n",
       "</table>\n",
       "</div>"
      ],
      "text/plain": [
       "    Country              Region  Happiness Rank  Happiness Score  \\\n",
       "96  Lesotho  Sub-Saharan Africa              97            4.898   \n",
       "\n",
       "    Standard Error  Economy (GDP per Capita)   Family  \\\n",
       "96         0.09438                   0.37545  1.04103   \n",
       "\n",
       "    Health (Life Expectancy)  Freedom  Trust (Government Corruption)  \\\n",
       "96                     7.612  0.31767                        0.12504   \n",
       "\n",
       "    Generosity  Dystopia Residual  Year  \n",
       "96     0.16388            2.79832  2015  "
      ]
     },
     "execution_count": 176,
     "metadata": {},
     "output_type": "execute_result"
    }
   ],
   "source": [
    "df_2015[df_2015['Country'] == 'Lesotho']"
   ]
  },
  {
   "cell_type": "code",
   "execution_count": 177,
   "id": "60b46bf5-d518-4618-8907-109b8fc7dd82",
   "metadata": {
    "tags": []
   },
   "outputs": [
    {
     "data": {
      "text/html": [
       "<div>\n",
       "<style scoped>\n",
       "    .dataframe tbody tr th:only-of-type {\n",
       "        vertical-align: middle;\n",
       "    }\n",
       "\n",
       "    .dataframe tbody tr th {\n",
       "        vertical-align: top;\n",
       "    }\n",
       "\n",
       "    .dataframe thead th {\n",
       "        text-align: right;\n",
       "    }\n",
       "</style>\n",
       "<table border=\"1\" class=\"dataframe\">\n",
       "  <thead>\n",
       "    <tr style=\"text-align: right;\">\n",
       "      <th></th>\n",
       "      <th>Overall rank</th>\n",
       "      <th>Country</th>\n",
       "      <th>Happiness Score</th>\n",
       "      <th>Economy (GDP per Capita)</th>\n",
       "      <th>Family</th>\n",
       "      <th>Health (Life Expectancy)</th>\n",
       "      <th>Freedom to make life choices</th>\n",
       "      <th>Generosity</th>\n",
       "      <th>Perceptions of corruption</th>\n",
       "      <th>Year</th>\n",
       "    </tr>\n",
       "  </thead>\n",
       "  <tbody>\n",
       "    <tr>\n",
       "      <th>140</th>\n",
       "      <td>141</td>\n",
       "      <td>Lesotho</td>\n",
       "      <td>3.808</td>\n",
       "      <td>0.472</td>\n",
       "      <td>1.215</td>\n",
       "      <td>7.9</td>\n",
       "      <td>0.423</td>\n",
       "      <td>0.116</td>\n",
       "      <td>0.112</td>\n",
       "      <td>2018</td>\n",
       "    </tr>\n",
       "  </tbody>\n",
       "</table>\n",
       "</div>"
      ],
      "text/plain": [
       "     Overall rank  Country  Happiness Score  Economy (GDP per Capita)  Family  \\\n",
       "140           141  Lesotho            3.808                     0.472   1.215   \n",
       "\n",
       "     Health (Life Expectancy)  Freedom to make life choices  Generosity  \\\n",
       "140                       7.9                         0.423       0.116   \n",
       "\n",
       "     Perceptions of corruption  Year  \n",
       "140                      0.112  2018  "
      ]
     },
     "execution_count": 177,
     "metadata": {},
     "output_type": "execute_result"
    }
   ],
   "source": [
    "df_2018[df_2018['Country'] == 'Lesotho']"
   ]
  },
  {
   "cell_type": "code",
   "execution_count": 178,
   "id": "30ce2aff-5d0c-4b33-8320-81ff8bf3b6f5",
   "metadata": {
    "tags": []
   },
   "outputs": [
    {
     "data": {
      "text/html": [
       "<div>\n",
       "<style scoped>\n",
       "    .dataframe tbody tr th:only-of-type {\n",
       "        vertical-align: middle;\n",
       "    }\n",
       "\n",
       "    .dataframe tbody tr th {\n",
       "        vertical-align: top;\n",
       "    }\n",
       "\n",
       "    .dataframe thead th {\n",
       "        text-align: right;\n",
       "    }\n",
       "</style>\n",
       "<table border=\"1\" class=\"dataframe\">\n",
       "  <thead>\n",
       "    <tr style=\"text-align: right;\">\n",
       "      <th></th>\n",
       "      <th>Overall rank</th>\n",
       "      <th>Country</th>\n",
       "      <th>Happiness Score</th>\n",
       "      <th>Economy (GDP per Capita)</th>\n",
       "      <th>Family</th>\n",
       "      <th>Health (Life Expectancy)</th>\n",
       "      <th>Freedom to make life choices</th>\n",
       "      <th>Generosity</th>\n",
       "      <th>Perceptions of corruption</th>\n",
       "      <th>Year</th>\n",
       "    </tr>\n",
       "  </thead>\n",
       "  <tbody>\n",
       "    <tr>\n",
       "      <th>143</th>\n",
       "      <td>144</td>\n",
       "      <td>Lesotho</td>\n",
       "      <td>3.802</td>\n",
       "      <td>0.489</td>\n",
       "      <td>1.169</td>\n",
       "      <td>16.8</td>\n",
       "      <td>0.359</td>\n",
       "      <td>0.107</td>\n",
       "      <td>0.093</td>\n",
       "      <td>2019</td>\n",
       "    </tr>\n",
       "  </tbody>\n",
       "</table>\n",
       "</div>"
      ],
      "text/plain": [
       "     Overall rank  Country  Happiness Score  Economy (GDP per Capita)  Family  \\\n",
       "143           144  Lesotho            3.802                     0.489   1.169   \n",
       "\n",
       "     Health (Life Expectancy)  Freedom to make life choices  Generosity  \\\n",
       "143                      16.8                         0.359       0.107   \n",
       "\n",
       "     Perceptions of corruption  Year  \n",
       "143                      0.093  2019  "
      ]
     },
     "execution_count": 178,
     "metadata": {},
     "output_type": "execute_result"
    }
   ],
   "source": [
    "df_2019[df_2019['Country'] == 'Lesotho']"
   ]
  },
  {
   "cell_type": "markdown",
   "id": "3be15b81-dcd3-4205-9b43-f83abc2f76b6",
   "metadata": {},
   "source": [
    "There is no data for Lesotho in 2016 however the ages for Lesotho in 2015 & 2018 are 7.612 and 7.9 with a jump in 2019 again seen.\n",
    "\n",
    "Therefore I'll impute the value for this country with the middle of the difference of 2015 & 2018 values"
   ]
  },
  {
   "cell_type": "code",
   "execution_count": 179,
   "id": "c1941460-ff48-434c-ab55-ab0a3d0c3f2c",
   "metadata": {
    "tags": []
   },
   "outputs": [
    {
     "data": {
      "text/plain": [
       "7.756"
      ]
     },
     "execution_count": 179,
     "metadata": {},
     "output_type": "execute_result"
    }
   ],
   "source": [
    "((7.9 - 7.612) /2) + 7.612"
   ]
  },
  {
   "cell_type": "code",
   "execution_count": 180,
   "id": "929c904c-f175-4d8c-99f9-b7f5beb6b0ce",
   "metadata": {
    "tags": []
   },
   "outputs": [],
   "source": [
    "# replace the zero value in df\n",
    "df_2017['Health (Life Expectancy)'].replace(0, 7.756, inplace=True)"
   ]
  },
  {
   "cell_type": "markdown",
   "id": "1d696283-4097-431e-abf4-78c68339217e",
   "metadata": {},
   "source": [
    "##### Swaziland"
   ]
  },
  {
   "cell_type": "code",
   "execution_count": 181,
   "id": "1e49003f-899c-4df4-8512-1ecedc091a24",
   "metadata": {
    "tags": []
   },
   "outputs": [
    {
     "data": {
      "text/html": [
       "<div>\n",
       "<style scoped>\n",
       "    .dataframe tbody tr th:only-of-type {\n",
       "        vertical-align: middle;\n",
       "    }\n",
       "\n",
       "    .dataframe tbody tr th {\n",
       "        vertical-align: top;\n",
       "    }\n",
       "\n",
       "    .dataframe thead th {\n",
       "        text-align: right;\n",
       "    }\n",
       "</style>\n",
       "<table border=\"1\" class=\"dataframe\">\n",
       "  <thead>\n",
       "    <tr style=\"text-align: right;\">\n",
       "      <th></th>\n",
       "      <th>Country</th>\n",
       "      <th>Region</th>\n",
       "      <th>Happiness Rank</th>\n",
       "      <th>Happiness Score</th>\n",
       "      <th>Standard Error</th>\n",
       "      <th>Economy (GDP per Capita)</th>\n",
       "      <th>Family</th>\n",
       "      <th>Health (Life Expectancy)</th>\n",
       "      <th>Freedom</th>\n",
       "      <th>Trust (Government Corruption)</th>\n",
       "      <th>Generosity</th>\n",
       "      <th>Dystopia Residual</th>\n",
       "      <th>Year</th>\n",
       "    </tr>\n",
       "  </thead>\n",
       "  <tbody>\n",
       "    <tr>\n",
       "      <th>100</th>\n",
       "      <td>Swaziland</td>\n",
       "      <td>Sub-Saharan Africa</td>\n",
       "      <td>101</td>\n",
       "      <td>4.867</td>\n",
       "      <td>0.08742</td>\n",
       "      <td>0.71206</td>\n",
       "      <td>1.07284</td>\n",
       "      <td>7.566</td>\n",
       "      <td>0.30658</td>\n",
       "      <td>0.0306</td>\n",
       "      <td>0.18259</td>\n",
       "      <td>2.48676</td>\n",
       "      <td>2015</td>\n",
       "    </tr>\n",
       "  </tbody>\n",
       "</table>\n",
       "</div>"
      ],
      "text/plain": [
       "       Country              Region  Happiness Rank  Happiness Score  \\\n",
       "100  Swaziland  Sub-Saharan Africa             101            4.867   \n",
       "\n",
       "     Standard Error  Economy (GDP per Capita)   Family  \\\n",
       "100         0.08742                   0.71206  1.07284   \n",
       "\n",
       "     Health (Life Expectancy)  Freedom  Trust (Government Corruption)  \\\n",
       "100                     7.566  0.30658                         0.0306   \n",
       "\n",
       "     Generosity  Dystopia Residual  Year  \n",
       "100     0.18259            2.48676  2015  "
      ]
     },
     "execution_count": 181,
     "metadata": {},
     "output_type": "execute_result"
    }
   ],
   "source": [
    "df_2015[df_2015['Country'] == 'Swaziland']"
   ]
  },
  {
   "cell_type": "markdown",
   "id": "57b9f7a6-283a-4ec8-ba55-946375e1211f",
   "metadata": {
    "tags": []
   },
   "source": [
    "There is no data for 2016, '17 & 2018 for Swaziland and given we saw a jump in the last two countries in 2019, I can't imagine it decreasing in 2019. Therefore I will impute the value as the same for 2015 leaving out the assumed jump. However assuming it is above zero at this point"
   ]
  },
  {
   "cell_type": "code",
   "execution_count": 182,
   "id": "abe15399-4b84-4095-a3c6-7d40d824b867",
   "metadata": {
    "tags": []
   },
   "outputs": [],
   "source": [
    "# replace the zero value in df\n",
    "df_2019['Health (Life Expectancy)'].replace(0, 7.566, inplace=True)"
   ]
  },
  {
   "cell_type": "markdown",
   "id": "12f65795-9018-4a80-9743-b7b86b16dc85",
   "metadata": {},
   "source": [
    "#### Freedom"
   ]
  },
  {
   "cell_type": "code",
   "execution_count": 183,
   "id": "3387181b-543c-4132-8611-8be9eeefa346",
   "metadata": {
    "tags": []
   },
   "outputs": [
    {
     "name": "stdout",
     "output_type": "stream",
     "text": [
      "Index(['Country', 'Region', 'Happiness Rank', 'Happiness Score',\n",
      "       'Standard Error', 'Economy (GDP per Capita)', 'Family',\n",
      "       'Health (Life Expectancy)', 'Freedom', 'Trust (Government Corruption)',\n",
      "       'Generosity', 'Dystopia Residual', 'Year'],\n",
      "      dtype='object') Index(['Country', 'Region', 'Happiness Rank', 'Happiness Score',\n",
      "       'Lower Confidence Interval', 'Upper Confidence Interval',\n",
      "       'Economy (GDP per Capita)', 'Family', 'Health (Life Expectancy)',\n",
      "       'Freedom', 'Trust (Government Corruption)', 'Generosity',\n",
      "       'Dystopia Residual', 'Year'],\n",
      "      dtype='object') Index(['Country', 'Happiness.Rank', 'Happiness Score', 'Whisker.high',\n",
      "       'Whisker.low', 'Economy (GDP per Capita)', 'Family',\n",
      "       'Health (Life Expectancy)', 'Freedom', 'Generosity',\n",
      "       'Trust..Government.Corruption.', 'Dystopia.Residual', 'Year'],\n",
      "      dtype='object') Index(['Overall rank', 'Country', 'Happiness Score',\n",
      "       'Economy (GDP per Capita)', 'Family', 'Health (Life Expectancy)',\n",
      "       'Freedom to make life choices', 'Generosity',\n",
      "       'Perceptions of corruption', 'Year'],\n",
      "      dtype='object') Index(['Overall rank', 'Country', 'Happiness Score',\n",
      "       'Economy (GDP per Capita)', 'Family', 'Health (Life Expectancy)',\n",
      "       'Freedom to make life choices', 'Generosity',\n",
      "       'Perceptions of corruption', 'Year'],\n",
      "      dtype='object')\n"
     ]
    }
   ],
   "source": [
    "# look at each df col names\n",
    "print(df_2015.columns,\n",
    "df_2016.columns,\n",
    "df_2017.columns,\n",
    "df_2018.columns,\n",
    "df_2019.columns)"
   ]
  },
  {
   "cell_type": "markdown",
   "id": "6a60e99b-d063-40c9-8b9d-88e5784457f1",
   "metadata": {},
   "source": [
    "We can see in 2016, 17 & 18 we have a variable called `Freedom`. \n",
    "\n",
    "And in 2018 and 19 we have a var called `Freedom to make life choices`. Lets take a look at them. "
   ]
  },
  {
   "cell_type": "code",
   "execution_count": 184,
   "id": "6821d669-e103-41fe-b07e-05fde2816624",
   "metadata": {
    "tags": []
   },
   "outputs": [],
   "source": [
    "# create df from each year for variable\n",
    "df_freedom = pd.concat([df_2015['Freedom'], df_2016['Freedom'], df_2017['Freedom'], df_2018['Freedom to make life choices'], df_2019['Freedom to make life choices']], axis=1)"
   ]
  },
  {
   "cell_type": "code",
   "execution_count": 185,
   "id": "340b1373-6434-4826-9ba6-eedb62a5ed37",
   "metadata": {
    "tags": []
   },
   "outputs": [
    {
     "name": "stdout",
     "output_type": "stream",
     "text": [
      "<class 'pandas.core.frame.DataFrame'>\n",
      "Index: 158 entries, 0 to 147\n",
      "Data columns (total 5 columns):\n",
      " #   Column                        Non-Null Count  Dtype  \n",
      "---  ------                        --------------  -----  \n",
      " 0   Freedom                       157 non-null    float64\n",
      " 1   Freedom                       157 non-null    float64\n",
      " 2   Freedom                       154 non-null    float64\n",
      " 3   Freedom to make life choices  155 non-null    float64\n",
      " 4   Freedom to make life choices  155 non-null    float64\n",
      "dtypes: float64(5)\n",
      "memory usage: 7.4 KB\n"
     ]
    }
   ],
   "source": [
    "# look at new df info\n",
    "df_freedom.info()"
   ]
  },
  {
   "cell_type": "code",
   "execution_count": 186,
   "id": "33e32cb9-1593-46df-b92e-ddfd2b35ed24",
   "metadata": {
    "tags": []
   },
   "outputs": [
    {
     "data": {
      "text/html": [
       "<div>\n",
       "<style scoped>\n",
       "    .dataframe tbody tr th:only-of-type {\n",
       "        vertical-align: middle;\n",
       "    }\n",
       "\n",
       "    .dataframe tbody tr th {\n",
       "        vertical-align: top;\n",
       "    }\n",
       "\n",
       "    .dataframe thead th {\n",
       "        text-align: right;\n",
       "    }\n",
       "</style>\n",
       "<table border=\"1\" class=\"dataframe\">\n",
       "  <thead>\n",
       "    <tr style=\"text-align: right;\">\n",
       "      <th></th>\n",
       "      <th>count</th>\n",
       "      <th>mean</th>\n",
       "      <th>std</th>\n",
       "      <th>min</th>\n",
       "      <th>25%</th>\n",
       "      <th>50%</th>\n",
       "      <th>75%</th>\n",
       "      <th>max</th>\n",
       "    </tr>\n",
       "  </thead>\n",
       "  <tbody>\n",
       "    <tr>\n",
       "      <th>Freedom</th>\n",
       "      <td>157.0</td>\n",
       "      <td>0.428232</td>\n",
       "      <td>0.151098</td>\n",
       "      <td>0.0</td>\n",
       "      <td>0.328180</td>\n",
       "      <td>0.43477</td>\n",
       "      <td>0.550110</td>\n",
       "      <td>0.669730</td>\n",
       "    </tr>\n",
       "    <tr>\n",
       "      <th>Freedom</th>\n",
       "      <td>157.0</td>\n",
       "      <td>0.370994</td>\n",
       "      <td>0.145507</td>\n",
       "      <td>0.0</td>\n",
       "      <td>0.257480</td>\n",
       "      <td>0.39747</td>\n",
       "      <td>0.484530</td>\n",
       "      <td>0.608480</td>\n",
       "    </tr>\n",
       "    <tr>\n",
       "      <th>Freedom</th>\n",
       "      <td>154.0</td>\n",
       "      <td>0.409682</td>\n",
       "      <td>0.150070</td>\n",
       "      <td>0.0</td>\n",
       "      <td>0.307313</td>\n",
       "      <td>0.43888</td>\n",
       "      <td>0.517596</td>\n",
       "      <td>0.658249</td>\n",
       "    </tr>\n",
       "    <tr>\n",
       "      <th>Freedom to make life choices</th>\n",
       "      <td>155.0</td>\n",
       "      <td>0.455471</td>\n",
       "      <td>0.162502</td>\n",
       "      <td>0.0</td>\n",
       "      <td>0.357500</td>\n",
       "      <td>0.49300</td>\n",
       "      <td>0.579000</td>\n",
       "      <td>0.724000</td>\n",
       "    </tr>\n",
       "    <tr>\n",
       "      <th>Freedom to make life choices</th>\n",
       "      <td>155.0</td>\n",
       "      <td>0.393652</td>\n",
       "      <td>0.143114</td>\n",
       "      <td>0.0</td>\n",
       "      <td>0.310000</td>\n",
       "      <td>0.41700</td>\n",
       "      <td>0.507500</td>\n",
       "      <td>0.631000</td>\n",
       "    </tr>\n",
       "  </tbody>\n",
       "</table>\n",
       "</div>"
      ],
      "text/plain": [
       "                              count      mean       std  min       25%  \\\n",
       "Freedom                       157.0  0.428232  0.151098  0.0  0.328180   \n",
       "Freedom                       157.0  0.370994  0.145507  0.0  0.257480   \n",
       "Freedom                       154.0  0.409682  0.150070  0.0  0.307313   \n",
       "Freedom to make life choices  155.0  0.455471  0.162502  0.0  0.357500   \n",
       "Freedom to make life choices  155.0  0.393652  0.143114  0.0  0.310000   \n",
       "\n",
       "                                  50%       75%       max  \n",
       "Freedom                       0.43477  0.550110  0.669730  \n",
       "Freedom                       0.39747  0.484530  0.608480  \n",
       "Freedom                       0.43888  0.517596  0.658249  \n",
       "Freedom to make life choices  0.49300  0.579000  0.724000  \n",
       "Freedom to make life choices  0.41700  0.507500  0.631000  "
      ]
     },
     "execution_count": 186,
     "metadata": {},
     "output_type": "execute_result"
    }
   ],
   "source": [
    "# numerical summary of df\n",
    "df_freedom.describe().T"
   ]
  },
  {
   "cell_type": "markdown",
   "id": "7553d41c-9b1f-4336-bd64-51bef14bf40d",
   "metadata": {},
   "source": [
    "The missing values in the new df are for the missing rows (countries) in the other df's.\n",
    "\n",
    "We can see all of the obs are floats and they range from 0 to to 0.724.\n",
    "\n",
    "It is possible a country has zero as a Freedom figure so I will leave that as it is for now.\n",
    "\n",
    "They all measured using the same SI units (possibly a percentage) and so are comparable to each other so I will rename to match before combining the df's."
   ]
  },
  {
   "cell_type": "code",
   "execution_count": 191,
   "id": "a5fa6958-ff5c-4869-a425-4e52bfb64cf1",
   "metadata": {
    "tags": []
   },
   "outputs": [],
   "source": [
    "# Rename col names\n",
    "df_2018 = df_2018.rename(columns={'Freedom to make life choices':'Freedom'})\n",
    "df_2019 = df_2019.rename(columns={'Freedom to make life choices':'Freedom'})"
   ]
  },
  {
   "cell_type": "markdown",
   "id": "07473845-4e7e-47c3-98f2-752d25c03ad4",
   "metadata": {},
   "source": [
    "#### Trust (Government Corruption)"
   ]
  },
  {
   "cell_type": "code",
   "execution_count": 192,
   "id": "d5cac8fe-e994-40c9-ab93-3c15e57dde14",
   "metadata": {
    "tags": []
   },
   "outputs": [
    {
     "name": "stdout",
     "output_type": "stream",
     "text": [
      "Index(['Country', 'Region', 'Happiness Rank', 'Happiness Score',\n",
      "       'Standard Error', 'Economy (GDP per Capita)', 'Family',\n",
      "       'Health (Life Expectancy)', 'Freedom', 'Trust (Government Corruption)',\n",
      "       'Generosity', 'Dystopia Residual', 'Year'],\n",
      "      dtype='object') Index(['Country', 'Region', 'Happiness Rank', 'Happiness Score',\n",
      "       'Lower Confidence Interval', 'Upper Confidence Interval',\n",
      "       'Economy (GDP per Capita)', 'Family', 'Health (Life Expectancy)',\n",
      "       'Freedom', 'Trust (Government Corruption)', 'Generosity',\n",
      "       'Dystopia Residual', 'Year'],\n",
      "      dtype='object') Index(['Country', 'Happiness.Rank', 'Happiness Score', 'Whisker.high',\n",
      "       'Whisker.low', 'Economy (GDP per Capita)', 'Family',\n",
      "       'Health (Life Expectancy)', 'Freedom', 'Generosity',\n",
      "       'Trust..Government.Corruption.', 'Dystopia.Residual', 'Year'],\n",
      "      dtype='object') Index(['Overall rank', 'Country', 'Happiness Score',\n",
      "       'Economy (GDP per Capita)', 'Family', 'Health (Life Expectancy)',\n",
      "       'Freedom', 'Generosity', 'Perceptions of corruption', 'Year'],\n",
      "      dtype='object') Index(['Overall rank', 'Country', 'Happiness Score',\n",
      "       'Economy (GDP per Capita)', 'Family', 'Health (Life Expectancy)',\n",
      "       'Freedom', 'Generosity', 'Perceptions of corruption', 'Year'],\n",
      "      dtype='object')\n"
     ]
    }
   ],
   "source": [
    "# look at each df col names\n",
    "print(df_2015.columns,\n",
    "df_2016.columns,\n",
    "df_2017.columns,\n",
    "df_2018.columns,\n",
    "df_2019.columns)"
   ]
  },
  {
   "cell_type": "markdown",
   "id": "8503db51-bb56-42c2-aa79-6330b62129b3",
   "metadata": {},
   "source": [
    "We can see in 2016 & 17 we have a variable called `Trust (Government Corruption)`. \n",
    "\n",
    "In 2018 we have a var called `Trust..Government.Corruption.`\n",
    "\n",
    "And in 2018 and 19 we have a var called `Perceptions of corruption`. Lets take a look at them. "
   ]
  },
  {
   "cell_type": "code",
   "execution_count": 193,
   "id": "8fbe371c-a5fe-4cf0-895d-68a5b5f5ec39",
   "metadata": {
    "tags": []
   },
   "outputs": [],
   "source": [
    "# create df from each year for variable\n",
    "df_trust = pd.concat([df_2015['Trust (Government Corruption)' ], df_2016['Trust (Government Corruption)'], \n",
    "                      df_2017['Trust..Government.Corruption.'], df_2018['Perceptions of corruption'], df_2019['Perceptions of corruption']], axis=1)"
   ]
  },
  {
   "cell_type": "code",
   "execution_count": 194,
   "id": "4de6b33a-344c-4dbc-aa16-01f5c3f4a651",
   "metadata": {
    "tags": []
   },
   "outputs": [
    {
     "name": "stdout",
     "output_type": "stream",
     "text": [
      "<class 'pandas.core.frame.DataFrame'>\n",
      "Index: 158 entries, 0 to 147\n",
      "Data columns (total 5 columns):\n",
      " #   Column                         Non-Null Count  Dtype  \n",
      "---  ------                         --------------  -----  \n",
      " 0   Trust (Government Corruption)  157 non-null    float64\n",
      " 1   Trust (Government Corruption)  157 non-null    float64\n",
      " 2   Trust..Government.Corruption.  154 non-null    float64\n",
      " 3   Perceptions of corruption      154 non-null    float64\n",
      " 4   Perceptions of corruption      155 non-null    float64\n",
      "dtypes: float64(5)\n",
      "memory usage: 7.4 KB\n"
     ]
    }
   ],
   "source": [
    "# look at new df info\n",
    "df_trust.info()"
   ]
  },
  {
   "cell_type": "code",
   "execution_count": 195,
   "id": "55803858-14ab-4534-9af5-92a409d86b5a",
   "metadata": {
    "tags": []
   },
   "outputs": [
    {
     "data": {
      "text/html": [
       "<div>\n",
       "<style scoped>\n",
       "    .dataframe tbody tr th:only-of-type {\n",
       "        vertical-align: middle;\n",
       "    }\n",
       "\n",
       "    .dataframe tbody tr th {\n",
       "        vertical-align: top;\n",
       "    }\n",
       "\n",
       "    .dataframe thead th {\n",
       "        text-align: right;\n",
       "    }\n",
       "</style>\n",
       "<table border=\"1\" class=\"dataframe\">\n",
       "  <thead>\n",
       "    <tr style=\"text-align: right;\">\n",
       "      <th></th>\n",
       "      <th>count</th>\n",
       "      <th>mean</th>\n",
       "      <th>std</th>\n",
       "      <th>min</th>\n",
       "      <th>25%</th>\n",
       "      <th>50%</th>\n",
       "      <th>75%</th>\n",
       "      <th>max</th>\n",
       "    </tr>\n",
       "  </thead>\n",
       "  <tbody>\n",
       "    <tr>\n",
       "      <th>Trust (Government Corruption)</th>\n",
       "      <td>157.0</td>\n",
       "      <td>0.143807</td>\n",
       "      <td>0.120320</td>\n",
       "      <td>0.0</td>\n",
       "      <td>0.061460</td>\n",
       "      <td>0.107310</td>\n",
       "      <td>0.180600</td>\n",
       "      <td>0.551910</td>\n",
       "    </tr>\n",
       "    <tr>\n",
       "      <th>Trust (Government Corruption)</th>\n",
       "      <td>157.0</td>\n",
       "      <td>0.137624</td>\n",
       "      <td>0.111038</td>\n",
       "      <td>0.0</td>\n",
       "      <td>0.061260</td>\n",
       "      <td>0.105470</td>\n",
       "      <td>0.175540</td>\n",
       "      <td>0.505210</td>\n",
       "    </tr>\n",
       "    <tr>\n",
       "      <th>Trust..Government.Corruption.</th>\n",
       "      <td>154.0</td>\n",
       "      <td>0.123552</td>\n",
       "      <td>0.101849</td>\n",
       "      <td>0.0</td>\n",
       "      <td>0.057931</td>\n",
       "      <td>0.089914</td>\n",
       "      <td>0.153411</td>\n",
       "      <td>0.464308</td>\n",
       "    </tr>\n",
       "    <tr>\n",
       "      <th>Perceptions of corruption</th>\n",
       "      <td>154.0</td>\n",
       "      <td>0.112481</td>\n",
       "      <td>0.096620</td>\n",
       "      <td>0.0</td>\n",
       "      <td>0.051250</td>\n",
       "      <td>0.082000</td>\n",
       "      <td>0.137500</td>\n",
       "      <td>0.457000</td>\n",
       "    </tr>\n",
       "    <tr>\n",
       "      <th>Perceptions of corruption</th>\n",
       "      <td>155.0</td>\n",
       "      <td>0.111090</td>\n",
       "      <td>0.094647</td>\n",
       "      <td>0.0</td>\n",
       "      <td>0.048500</td>\n",
       "      <td>0.086000</td>\n",
       "      <td>0.141500</td>\n",
       "      <td>0.453000</td>\n",
       "    </tr>\n",
       "  </tbody>\n",
       "</table>\n",
       "</div>"
      ],
      "text/plain": [
       "                               count      mean       std  min       25%  \\\n",
       "Trust (Government Corruption)  157.0  0.143807  0.120320  0.0  0.061460   \n",
       "Trust (Government Corruption)  157.0  0.137624  0.111038  0.0  0.061260   \n",
       "Trust..Government.Corruption.  154.0  0.123552  0.101849  0.0  0.057931   \n",
       "Perceptions of corruption      154.0  0.112481  0.096620  0.0  0.051250   \n",
       "Perceptions of corruption      155.0  0.111090  0.094647  0.0  0.048500   \n",
       "\n",
       "                                    50%       75%       max  \n",
       "Trust (Government Corruption)  0.107310  0.180600  0.551910  \n",
       "Trust (Government Corruption)  0.105470  0.175540  0.505210  \n",
       "Trust..Government.Corruption.  0.089914  0.153411  0.464308  \n",
       "Perceptions of corruption      0.082000  0.137500  0.457000  \n",
       "Perceptions of corruption      0.086000  0.141500  0.453000  "
      ]
     },
     "execution_count": 195,
     "metadata": {},
     "output_type": "execute_result"
    }
   ],
   "source": [
    "# numerical summary of df\n",
    "df_trust.describe().T"
   ]
  },
  {
   "cell_type": "markdown",
   "id": "34bcf2ab-6de3-4f65-bd62-6869d0e14899",
   "metadata": {},
   "source": [
    "The missing values in the new df are for the missing rows (countries) in the other df's.\n",
    "\n",
    "We can see all of the obs are floats and they range from 0 to to 0.55191\n",
    "\n",
    "It is also possible that the countries have zero Trust in a government.\n",
    "\n",
    "This leads me to believe they are all measured using the same SI units (another percentage perhaps) and so are comparable to each other so I will rename to match before combining the df's."
   ]
  },
  {
   "cell_type": "code",
   "execution_count": 196,
   "id": "7df6a376-3b6d-493d-91b7-05a7faefa6bc",
   "metadata": {
    "tags": []
   },
   "outputs": [],
   "source": [
    "# Rename col names\n",
    "df_2017 = df_2017.rename(columns={'Trust..Government.Corruption.':'Trust (Government Corruption)'})\n",
    "df_2018 = df_2018.rename(columns={'Perceptions of corruption':'Trust (Government Corruption)'})\n",
    "df_2019 = df_2019.rename(columns={'Perceptions of corruption':'Trust (Government Corruption)'})"
   ]
  },
  {
   "cell_type": "markdown",
   "id": "f514014b-b39b-4890-9058-5d94d9124daf",
   "metadata": {
    "tags": []
   },
   "source": [
    "We saw earlier that df_2018 has one missing value in `Perceptions of corruption` which is now `Trust (Government Corruption)`"
   ]
  },
  {
   "cell_type": "code",
   "execution_count": 197,
   "id": "585bc618-a360-46e1-9ef4-42d58a2b8116",
   "metadata": {
    "tags": []
   },
   "outputs": [
    {
     "data": {
      "text/html": [
       "<div>\n",
       "<style scoped>\n",
       "    .dataframe tbody tr th:only-of-type {\n",
       "        vertical-align: middle;\n",
       "    }\n",
       "\n",
       "    .dataframe tbody tr th {\n",
       "        vertical-align: top;\n",
       "    }\n",
       "\n",
       "    .dataframe thead th {\n",
       "        text-align: right;\n",
       "    }\n",
       "</style>\n",
       "<table border=\"1\" class=\"dataframe\">\n",
       "  <thead>\n",
       "    <tr style=\"text-align: right;\">\n",
       "      <th></th>\n",
       "      <th>Overall rank</th>\n",
       "      <th>Country</th>\n",
       "      <th>Happiness Score</th>\n",
       "      <th>Economy (GDP per Capita)</th>\n",
       "      <th>Family</th>\n",
       "      <th>Health (Life Expectancy)</th>\n",
       "      <th>Freedom</th>\n",
       "      <th>Generosity</th>\n",
       "      <th>Trust (Government Corruption)</th>\n",
       "      <th>Year</th>\n",
       "    </tr>\n",
       "  </thead>\n",
       "  <tbody>\n",
       "    <tr>\n",
       "      <th>19</th>\n",
       "      <td>20</td>\n",
       "      <td>United Arab Emirates</td>\n",
       "      <td>6.774</td>\n",
       "      <td>2.096</td>\n",
       "      <td>0.776</td>\n",
       "      <td>67.0</td>\n",
       "      <td>0.284</td>\n",
       "      <td>0.186</td>\n",
       "      <td>NaN</td>\n",
       "      <td>2018</td>\n",
       "    </tr>\n",
       "  </tbody>\n",
       "</table>\n",
       "</div>"
      ],
      "text/plain": [
       "    Overall rank               Country  Happiness Score  \\\n",
       "19            20  United Arab Emirates            6.774   \n",
       "\n",
       "    Economy (GDP per Capita)  Family  Health (Life Expectancy)  Freedom  \\\n",
       "19                     2.096   0.776                      67.0    0.284   \n",
       "\n",
       "    Generosity  Trust (Government Corruption)  Year  \n",
       "19       0.186                            NaN  2018  "
      ]
     },
     "execution_count": 197,
     "metadata": {},
     "output_type": "execute_result"
    }
   ],
   "source": [
    "# look at the entry\n",
    "df_2018[df_2018['Trust (Government Corruption)'].isna()]"
   ]
  },
  {
   "cell_type": "code",
   "execution_count": 198,
   "id": "eb675b20-e16c-453f-890d-49e6ac782764",
   "metadata": {
    "tags": []
   },
   "outputs": [
    {
     "data": {
      "text/html": [
       "<div>\n",
       "<style scoped>\n",
       "    .dataframe tbody tr th:only-of-type {\n",
       "        vertical-align: middle;\n",
       "    }\n",
       "\n",
       "    .dataframe tbody tr th {\n",
       "        vertical-align: top;\n",
       "    }\n",
       "\n",
       "    .dataframe thead th {\n",
       "        text-align: right;\n",
       "    }\n",
       "</style>\n",
       "<table border=\"1\" class=\"dataframe\">\n",
       "  <thead>\n",
       "    <tr style=\"text-align: right;\">\n",
       "      <th></th>\n",
       "      <th>Year</th>\n",
       "      <th>Trust</th>\n",
       "    </tr>\n",
       "  </thead>\n",
       "  <tbody>\n",
       "    <tr>\n",
       "      <th>0</th>\n",
       "      <td>2015</td>\n",
       "      <td>0.38583</td>\n",
       "    </tr>\n",
       "    <tr>\n",
       "      <th>1</th>\n",
       "      <td>2016</td>\n",
       "      <td>0.35561</td>\n",
       "    </tr>\n",
       "    <tr>\n",
       "      <th>2</th>\n",
       "      <td>2017</td>\n",
       "      <td>0.32449</td>\n",
       "    </tr>\n",
       "    <tr>\n",
       "      <th>3</th>\n",
       "      <td>2018</td>\n",
       "      <td>0.00000</td>\n",
       "    </tr>\n",
       "    <tr>\n",
       "      <th>4</th>\n",
       "      <td>2019</td>\n",
       "      <td>0.18200</td>\n",
       "    </tr>\n",
       "  </tbody>\n",
       "</table>\n",
       "</div>"
      ],
      "text/plain": [
       "   Year    Trust\n",
       "0  2015  0.38583\n",
       "1  2016  0.35561\n",
       "2  2017  0.32449\n",
       "3  2018  0.00000\n",
       "4  2019  0.18200"
      ]
     },
     "execution_count": 198,
     "metadata": {},
     "output_type": "execute_result"
    }
   ],
   "source": [
    "# get values for UAE over the years\n",
    "Trust_15 = pd.Series(df_2015[df_2015['Country']=='United Arab Emirates']['Trust (Government Corruption)']).reset_index(drop=True)\n",
    "Trust_16 = pd.Series(df_2016[df_2016['Country']=='United Arab Emirates']['Trust (Government Corruption)']).reset_index(drop=True)\n",
    "Trust_17 = pd.Series(df_2017[df_2017['Country']=='United Arab Emirates']['Trust (Government Corruption)']).reset_index(drop=True)\n",
    "Trust_19 = pd.Series(df_2019[df_2019['Country']=='United Arab Emirates']['Trust (Government Corruption)']).reset_index(drop=True)\n",
    "\n",
    "UAE_trust = pd.DataFrame({'2015':Trust_15, '2016':Trust_16, '2017':Trust_17 ,'2018':0, '2019':Trust_19})\n",
    "UAE_trust = UAE_trust.T.reset_index()\n",
    "# UAE_trust\n",
    "\n",
    "# Rename col names\n",
    "UAE_trust.rename(columns={ UAE_trust.columns[0]: 'Year', UAE_trust.columns[1]: 'Trust',}, inplace = True)\n",
    "UAE_trust"
   ]
  },
  {
   "cell_type": "code",
   "execution_count": 199,
   "id": "5fd3ab67-57f9-41d1-bfc3-9a4f36604ce2",
   "metadata": {
    "tags": []
   },
   "outputs": [
    {
     "data": {
      "image/png": "[encoded data removed]",
      "text/plain": [
       "<Figure size 600x300 with 1 Axes>"
      ]
     },
     "metadata": {},
     "output_type": "display_data"
    }
   ],
   "source": [
    "# plot UAE trust\n",
    "fig, ax = plt.subplots (figsize=(6,3))\n",
    "sns.barplot(data=UAE_trust, x='Year', y='Trust')\n",
    "ax.set(xlabel='Years', ylabel='Trust', title='Trust (Perceptions of corruption) for UAE over the years', xticklabels=['2015', '2016', '2017', '2018', '2019']);"
   ]
  },
  {
   "cell_type": "markdown",
   "id": "45425ab0-0cef-41a9-983a-a32981da6c94",
   "metadata": {},
   "source": [
    "We can see here there is a downward trend in the years for Trust for UAE over the years in pretty much a straight line. \n",
    "\n",
    "So to impute a realistic value for this missing value we can find the equation of this line and then pop in the year 2018."
   ]
  },
  {
   "cell_type": "code",
   "execution_count": 200,
   "id": "b7fe5a81-45b9-418c-911b-4fc536b4a6f8",
   "metadata": {
    "tags": []
   },
   "outputs": [
    {
     "name": "stdout",
     "output_type": "stream",
     "text": [
      "m = -0.05157571428569167\n",
      "c = 104.32730428566863\n",
      "The eqn of the stright line is y = -0.052x + 104.327 (to 3 d.p.)\n"
     ]
    }
   ],
   "source": [
    "# eqn of stright line (y = mx + c)\n",
    "# Define the known x and y points\n",
    "x_points = [2015, 2016, 2017, 2019]\n",
    "y_points = [0.38583, 0.35561, 0.32449, 0.182]\n",
    "\n",
    "# Calculate the coefficients m & c\n",
    "coefficients = np.polyfit(x_points, y_points, 1)\n",
    "\n",
    "# Print the findings & eqn of stright line\n",
    "print('m =', coefficients[0])\n",
    "print('c =', coefficients[1])\n",
    "print(f'The eqn of the stright line is y = {coefficients[0].round(3)}x + {coefficients[1].round(3)} (to 3 d.p.)')"
   ]
  },
  {
   "cell_type": "code",
   "execution_count": 201,
   "id": "e6deb53d-39d5-437f-b6a3-bf92279aab68",
   "metadata": {
    "tags": []
   },
   "outputs": [
    {
     "data": {
      "text/plain": [
       "0.2475128571428371"
      ]
     },
     "execution_count": 201,
     "metadata": {},
     "output_type": "execute_result"
    }
   ],
   "source": [
    "# pop in 2018 for x\n",
    "(-0.05157571428569167*2018) + 104.32730428566863"
   ]
  },
  {
   "cell_type": "code",
   "execution_count": 202,
   "id": "a5df0d67-0ba3-485a-a3b8-59818cca6daa",
   "metadata": {},
   "outputs": [],
   "source": [
    "# impute the calculated value for 2018\n",
    "df_2018['Trust (Government Corruption)'].fillna(0.2475128571428371, inplace=True)"
   ]
  },
  {
   "cell_type": "markdown",
   "id": "4d058ec7-5c4f-4783-89d1-f4ddde7bc10f",
   "metadata": {
    "tags": []
   },
   "source": [
    "#### Dystopia Residual"
   ]
  },
  {
   "cell_type": "code",
   "execution_count": 203,
   "id": "b9a21529-bf5f-48ce-89fd-b714aa3a1773",
   "metadata": {
    "tags": []
   },
   "outputs": [
    {
     "name": "stdout",
     "output_type": "stream",
     "text": [
      "Index(['Country', 'Region', 'Happiness Rank', 'Happiness Score',\n",
      "       'Standard Error', 'Economy (GDP per Capita)', 'Family',\n",
      "       'Health (Life Expectancy)', 'Freedom', 'Trust (Government Corruption)',\n",
      "       'Generosity', 'Dystopia Residual', 'Year'],\n",
      "      dtype='object') Index(['Country', 'Region', 'Happiness Rank', 'Happiness Score',\n",
      "       'Lower Confidence Interval', 'Upper Confidence Interval',\n",
      "       'Economy (GDP per Capita)', 'Family', 'Health (Life Expectancy)',\n",
      "       'Freedom', 'Trust (Government Corruption)', 'Generosity',\n",
      "       'Dystopia Residual', 'Year'],\n",
      "      dtype='object') Index(['Country', 'Happiness.Rank', 'Happiness Score', 'Whisker.high',\n",
      "       'Whisker.low', 'Economy (GDP per Capita)', 'Family',\n",
      "       'Health (Life Expectancy)', 'Freedom', 'Generosity',\n",
      "       'Trust (Government Corruption)', 'Dystopia.Residual', 'Year'],\n",
      "      dtype='object') Index(['Overall rank', 'Country', 'Happiness Score',\n",
      "       'Economy (GDP per Capita)', 'Family', 'Health (Life Expectancy)',\n",
      "       'Freedom', 'Generosity', 'Trust (Government Corruption)', 'Year'],\n",
      "      dtype='object') Index(['Overall rank', 'Country', 'Happiness Score',\n",
      "       'Economy (GDP per Capita)', 'Family', 'Health (Life Expectancy)',\n",
      "       'Freedom', 'Generosity', 'Trust (Government Corruption)', 'Year'],\n",
      "      dtype='object')\n"
     ]
    }
   ],
   "source": [
    "# look at each df col names\n",
    "print(df_2015.columns,\n",
    "df_2016.columns,\n",
    "df_2017.columns,\n",
    "df_2018.columns,\n",
    "df_2019.columns)"
   ]
  },
  {
   "cell_type": "markdown",
   "id": "76061f87-d03f-4324-b43c-5610ea3c1da8",
   "metadata": {
    "tags": []
   },
   "source": [
    "We can see in 2016 & 17 we have a variable called `Dystopia Residual`. \n",
    "\n",
    "In 2018 we have a var called `Dystopia.Residual`. \n",
    "\n",
    "And in 2018 and 19 this variable is missing (nothing comparable) so I will omit this variable when combining df's later"
   ]
  },
  {
   "cell_type": "markdown",
   "id": "48d6ef13-3273-4c10-a529-d162c192bae5",
   "metadata": {
    "tags": []
   },
   "source": [
    "#### Standard error, LCI, UCI, Whisker.high, Whisker.low"
   ]
  },
  {
   "cell_type": "code",
   "execution_count": 204,
   "id": "97678ddd-61de-4be7-bf1e-5a592186b146",
   "metadata": {
    "tags": []
   },
   "outputs": [
    {
     "name": "stdout",
     "output_type": "stream",
     "text": [
      "Index(['Country', 'Region', 'Happiness Rank', 'Happiness Score',\n",
      "       'Standard Error', 'Economy (GDP per Capita)', 'Family',\n",
      "       'Health (Life Expectancy)', 'Freedom', 'Trust (Government Corruption)',\n",
      "       'Generosity', 'Dystopia Residual', 'Year'],\n",
      "      dtype='object') Index(['Country', 'Region', 'Happiness Rank', 'Happiness Score',\n",
      "       'Lower Confidence Interval', 'Upper Confidence Interval',\n",
      "       'Economy (GDP per Capita)', 'Family', 'Health (Life Expectancy)',\n",
      "       'Freedom', 'Trust (Government Corruption)', 'Generosity',\n",
      "       'Dystopia Residual', 'Year'],\n",
      "      dtype='object') Index(['Country', 'Happiness.Rank', 'Happiness Score', 'Whisker.high',\n",
      "       'Whisker.low', 'Economy (GDP per Capita)', 'Family',\n",
      "       'Health (Life Expectancy)', 'Freedom', 'Generosity',\n",
      "       'Trust (Government Corruption)', 'Dystopia.Residual', 'Year'],\n",
      "      dtype='object') Index(['Overall rank', 'Country', 'Happiness Score',\n",
      "       'Economy (GDP per Capita)', 'Family', 'Health (Life Expectancy)',\n",
      "       'Freedom', 'Generosity', 'Trust (Government Corruption)', 'Year'],\n",
      "      dtype='object') Index(['Overall rank', 'Country', 'Happiness Score',\n",
      "       'Economy (GDP per Capita)', 'Family', 'Health (Life Expectancy)',\n",
      "       'Freedom', 'Generosity', 'Trust (Government Corruption)', 'Year'],\n",
      "      dtype='object')\n"
     ]
    }
   ],
   "source": [
    "# look at each df col names\n",
    "print(df_2015.columns,\n",
    "df_2016.columns,\n",
    "df_2017.columns,\n",
    "df_2018.columns,\n",
    "df_2019.columns)"
   ]
  },
  {
   "cell_type": "markdown",
   "id": "88c6577f-2c35-4341-ad10-a56d98182dfb",
   "metadata": {
    "tags": []
   },
   "source": [
    "* 2015 contains `Standard Error`\n",
    "* 2016 contains `Lower Confidence Interval` & `Upper Confidence Interval`\n",
    "* 2017 contains `Whisker.high` & `Whisker.low`\n",
    "\n",
    "And in 2018 and 19 this variable is missing (nothing comparable) so I will omit this variable as well when combining df's"
   ]
  },
  {
   "cell_type": "markdown",
   "id": "515a21f4-96a4-4df1-a683-26bc2c6c52d6",
   "metadata": {},
   "source": [
    "### Combining the df's (using concat instead of merge)\n",
    "\n",
    "As mentioned earlier some of the data sets contain the columns `Region`, `Standard Error`, `Lower Confidence Interval`, `Upper Confidence Interval`, `Whisker.high`, `Whisker.low` & `Dystopia`, whilst other data sets do not have these columns or something comparable. So I will remove these columns so we do not have null values in the combined datasets for these obs for these columns.\n",
    "\n",
    "We also decided to omit the column `Country` & `Happiness Rank` as explained earlier.\n",
    "\n",
    "When we stack the data sets on top of each other, I imagine we will need the same column names in the same order so we don't stack the columns incorrectly. I will use the 2015 data set as a template for re-arranging the columns in the other data sets. I will move the new column `Year` to the first column. I will also move the variable we are going to predict (the label) to the rightmost column, just to help with coding it to seperate out later when required, (so it's iloc will be -1)."
   ]
  },
  {
   "cell_type": "code",
   "execution_count": 205,
   "id": "a3ea1316-1270-43a7-b351-cc7c0ad980b0",
   "metadata": {
    "tags": []
   },
   "outputs": [
    {
     "name": "stdout",
     "output_type": "stream",
     "text": [
      "<class 'pandas.core.frame.DataFrame'>\n",
      "Index: 157 entries, 0 to 157\n",
      "Data columns (total 13 columns):\n",
      " #   Column                         Non-Null Count  Dtype  \n",
      "---  ------                         --------------  -----  \n",
      " 0   Country                        157 non-null    object \n",
      " 1   Region                         157 non-null    object \n",
      " 2   Happiness Rank                 157 non-null    int64  \n",
      " 3   Happiness Score                157 non-null    float64\n",
      " 4   Standard Error                 157 non-null    float64\n",
      " 5   Economy (GDP per Capita)       157 non-null    float64\n",
      " 6   Family                         157 non-null    float64\n",
      " 7   Health (Life Expectancy)       157 non-null    float64\n",
      " 8   Freedom                        157 non-null    float64\n",
      " 9   Trust (Government Corruption)  157 non-null    float64\n",
      " 10  Generosity                     157 non-null    float64\n",
      " 11  Dystopia Residual              157 non-null    float64\n",
      " 12  Year                           157 non-null    int64  \n",
      "dtypes: float64(9), int64(2), object(2)\n",
      "memory usage: 21.2+ KB\n"
     ]
    }
   ],
   "source": [
    "# look at the order of cols for 2015 template\n",
    "df_2015.info()"
   ]
  },
  {
   "cell_type": "code",
   "execution_count": 206,
   "id": "f6cc8196-fd8b-4edf-8a77-a5749b7f58fa",
   "metadata": {
    "tags": []
   },
   "outputs": [
    {
     "data": {
      "text/html": [
       "<div>\n",
       "<style scoped>\n",
       "    .dataframe tbody tr th:only-of-type {\n",
       "        vertical-align: middle;\n",
       "    }\n",
       "\n",
       "    .dataframe tbody tr th {\n",
       "        vertical-align: top;\n",
       "    }\n",
       "\n",
       "    .dataframe thead th {\n",
       "        text-align: right;\n",
       "    }\n",
       "</style>\n",
       "<table border=\"1\" class=\"dataframe\">\n",
       "  <thead>\n",
       "    <tr style=\"text-align: right;\">\n",
       "      <th></th>\n",
       "      <th>Year</th>\n",
       "      <th>Economy (GDP per Capita)</th>\n",
       "      <th>Family</th>\n",
       "      <th>Health (Life Expectancy)</th>\n",
       "      <th>Freedom</th>\n",
       "      <th>Trust (Government Corruption)</th>\n",
       "      <th>Generosity</th>\n",
       "      <th>Happiness Score</th>\n",
       "    </tr>\n",
       "  </thead>\n",
       "  <tbody>\n",
       "    <tr>\n",
       "      <th>0</th>\n",
       "      <td>2015</td>\n",
       "      <td>1.39651</td>\n",
       "      <td>1.34951</td>\n",
       "      <td>94.143</td>\n",
       "      <td>0.66557</td>\n",
       "      <td>0.41978</td>\n",
       "      <td>0.29678</td>\n",
       "      <td>7.587</td>\n",
       "    </tr>\n",
       "    <tr>\n",
       "      <th>1</th>\n",
       "      <td>2015</td>\n",
       "      <td>1.30232</td>\n",
       "      <td>1.40223</td>\n",
       "      <td>94.784</td>\n",
       "      <td>0.62877</td>\n",
       "      <td>0.14145</td>\n",
       "      <td>0.43630</td>\n",
       "      <td>7.561</td>\n",
       "    </tr>\n",
       "    <tr>\n",
       "      <th>2</th>\n",
       "      <td>2015</td>\n",
       "      <td>1.32548</td>\n",
       "      <td>1.36058</td>\n",
       "      <td>87.464</td>\n",
       "      <td>0.64938</td>\n",
       "      <td>0.48357</td>\n",
       "      <td>0.34139</td>\n",
       "      <td>7.527</td>\n",
       "    </tr>\n",
       "    <tr>\n",
       "      <th>3</th>\n",
       "      <td>2015</td>\n",
       "      <td>1.45900</td>\n",
       "      <td>1.33095</td>\n",
       "      <td>88.521</td>\n",
       "      <td>0.66973</td>\n",
       "      <td>0.36503</td>\n",
       "      <td>0.34699</td>\n",
       "      <td>7.522</td>\n",
       "    </tr>\n",
       "    <tr>\n",
       "      <th>4</th>\n",
       "      <td>2015</td>\n",
       "      <td>1.32629</td>\n",
       "      <td>1.32261</td>\n",
       "      <td>90.563</td>\n",
       "      <td>0.63297</td>\n",
       "      <td>0.32957</td>\n",
       "      <td>0.45811</td>\n",
       "      <td>7.427</td>\n",
       "    </tr>\n",
       "    <tr>\n",
       "      <th>...</th>\n",
       "      <td>...</td>\n",
       "      <td>...</td>\n",
       "      <td>...</td>\n",
       "      <td>...</td>\n",
       "      <td>...</td>\n",
       "      <td>...</td>\n",
       "      <td>...</td>\n",
       "      <td>...</td>\n",
       "    </tr>\n",
       "    <tr>\n",
       "      <th>153</th>\n",
       "      <td>2015</td>\n",
       "      <td>0.22208</td>\n",
       "      <td>0.77370</td>\n",
       "      <td>42.864</td>\n",
       "      <td>0.59201</td>\n",
       "      <td>0.55191</td>\n",
       "      <td>0.22628</td>\n",
       "      <td>3.465</td>\n",
       "    </tr>\n",
       "    <tr>\n",
       "      <th>154</th>\n",
       "      <td>2015</td>\n",
       "      <td>0.28665</td>\n",
       "      <td>0.35386</td>\n",
       "      <td>31.910</td>\n",
       "      <td>0.48450</td>\n",
       "      <td>0.08010</td>\n",
       "      <td>0.18260</td>\n",
       "      <td>3.340</td>\n",
       "    </tr>\n",
       "    <tr>\n",
       "      <th>155</th>\n",
       "      <td>2015</td>\n",
       "      <td>0.66320</td>\n",
       "      <td>0.47489</td>\n",
       "      <td>72.193</td>\n",
       "      <td>0.15684</td>\n",
       "      <td>0.18906</td>\n",
       "      <td>0.47179</td>\n",
       "      <td>3.006</td>\n",
       "    </tr>\n",
       "    <tr>\n",
       "      <th>156</th>\n",
       "      <td>2015</td>\n",
       "      <td>0.01530</td>\n",
       "      <td>0.41587</td>\n",
       "      <td>22.396</td>\n",
       "      <td>0.11850</td>\n",
       "      <td>0.10062</td>\n",
       "      <td>0.19727</td>\n",
       "      <td>2.905</td>\n",
       "    </tr>\n",
       "    <tr>\n",
       "      <th>157</th>\n",
       "      <td>2015</td>\n",
       "      <td>0.20868</td>\n",
       "      <td>0.13995</td>\n",
       "      <td>28.443</td>\n",
       "      <td>0.36453</td>\n",
       "      <td>0.10731</td>\n",
       "      <td>0.16681</td>\n",
       "      <td>2.839</td>\n",
       "    </tr>\n",
       "  </tbody>\n",
       "</table>\n",
       "<p>157 rows × 8 columns</p>\n",
       "</div>"
      ],
      "text/plain": [
       "     Year  Economy (GDP per Capita)   Family  Health (Life Expectancy)  \\\n",
       "0    2015                   1.39651  1.34951                    94.143   \n",
       "1    2015                   1.30232  1.40223                    94.784   \n",
       "2    2015                   1.32548  1.36058                    87.464   \n",
       "3    2015                   1.45900  1.33095                    88.521   \n",
       "4    2015                   1.32629  1.32261                    90.563   \n",
       "..    ...                       ...      ...                       ...   \n",
       "153  2015                   0.22208  0.77370                    42.864   \n",
       "154  2015                   0.28665  0.35386                    31.910   \n",
       "155  2015                   0.66320  0.47489                    72.193   \n",
       "156  2015                   0.01530  0.41587                    22.396   \n",
       "157  2015                   0.20868  0.13995                    28.443   \n",
       "\n",
       "     Freedom  Trust (Government Corruption)  Generosity  Happiness Score  \n",
       "0    0.66557                        0.41978     0.29678            7.587  \n",
       "1    0.62877                        0.14145     0.43630            7.561  \n",
       "2    0.64938                        0.48357     0.34139            7.527  \n",
       "3    0.66973                        0.36503     0.34699            7.522  \n",
       "4    0.63297                        0.32957     0.45811            7.427  \n",
       "..       ...                            ...         ...              ...  \n",
       "153  0.59201                        0.55191     0.22628            3.465  \n",
       "154  0.48450                        0.08010     0.18260            3.340  \n",
       "155  0.15684                        0.18906     0.47179            3.006  \n",
       "156  0.11850                        0.10062     0.19727            2.905  \n",
       "157  0.36453                        0.10731     0.16681            2.839  \n",
       "\n",
       "[157 rows x 8 columns]"
      ]
     },
     "execution_count": 206,
     "metadata": {},
     "output_type": "execute_result"
    }
   ],
   "source": [
    "# re-order the columns \n",
    "df_2015_a = df_2015.iloc[:,[12,5,6,7,8,9,10,3]]\n",
    "df_2015_a"
   ]
  },
  {
   "cell_type": "code",
   "execution_count": 207,
   "id": "406e040b-7bb9-4fcd-b2c7-215205a946a6",
   "metadata": {
    "tags": []
   },
   "outputs": [
    {
     "name": "stdout",
     "output_type": "stream",
     "text": [
      "<class 'pandas.core.frame.DataFrame'>\n",
      "RangeIndex: 157 entries, 0 to 156\n",
      "Data columns (total 14 columns):\n",
      " #   Column                         Non-Null Count  Dtype  \n",
      "---  ------                         --------------  -----  \n",
      " 0   Country                        157 non-null    object \n",
      " 1   Region                         157 non-null    object \n",
      " 2   Happiness Rank                 157 non-null    int64  \n",
      " 3   Happiness Score                157 non-null    float64\n",
      " 4   Lower Confidence Interval      157 non-null    float64\n",
      " 5   Upper Confidence Interval      157 non-null    float64\n",
      " 6   Economy (GDP per Capita)       157 non-null    float64\n",
      " 7   Family                         157 non-null    float64\n",
      " 8   Health (Life Expectancy)       157 non-null    float64\n",
      " 9   Freedom                        157 non-null    float64\n",
      " 10  Trust (Government Corruption)  157 non-null    float64\n",
      " 11  Generosity                     157 non-null    float64\n",
      " 12  Dystopia Residual              157 non-null    float64\n",
      " 13  Year                           157 non-null    int64  \n",
      "dtypes: float64(10), int64(2), object(2)\n",
      "memory usage: 17.3+ KB\n"
     ]
    }
   ],
   "source": [
    "# locate column index\n",
    "df_2016.info()"
   ]
  },
  {
   "cell_type": "code",
   "execution_count": 208,
   "id": "126a3c2f-07d3-418e-ab0d-c33d3d46be32",
   "metadata": {
    "tags": []
   },
   "outputs": [
    {
     "data": {
      "text/html": [
       "<div>\n",
       "<style scoped>\n",
       "    .dataframe tbody tr th:only-of-type {\n",
       "        vertical-align: middle;\n",
       "    }\n",
       "\n",
       "    .dataframe tbody tr th {\n",
       "        vertical-align: top;\n",
       "    }\n",
       "\n",
       "    .dataframe thead th {\n",
       "        text-align: right;\n",
       "    }\n",
       "</style>\n",
       "<table border=\"1\" class=\"dataframe\">\n",
       "  <thead>\n",
       "    <tr style=\"text-align: right;\">\n",
       "      <th></th>\n",
       "      <th>Year</th>\n",
       "      <th>Economy (GDP per Capita)</th>\n",
       "      <th>Family</th>\n",
       "      <th>Health (Life Expectancy)</th>\n",
       "      <th>Freedom</th>\n",
       "      <th>Trust (Government Corruption)</th>\n",
       "      <th>Generosity</th>\n",
       "      <th>Happiness Score</th>\n",
       "    </tr>\n",
       "  </thead>\n",
       "  <tbody>\n",
       "    <tr>\n",
       "      <th>0</th>\n",
       "      <td>2016</td>\n",
       "      <td>1.44178</td>\n",
       "      <td>1.163740</td>\n",
       "      <td>79.504</td>\n",
       "      <td>0.57941</td>\n",
       "      <td>0.44453</td>\n",
       "      <td>0.36171</td>\n",
       "      <td>7.526</td>\n",
       "    </tr>\n",
       "    <tr>\n",
       "      <th>1</th>\n",
       "      <td>2016</td>\n",
       "      <td>1.52733</td>\n",
       "      <td>1.145240</td>\n",
       "      <td>86.303</td>\n",
       "      <td>0.58557</td>\n",
       "      <td>0.41203</td>\n",
       "      <td>0.28083</td>\n",
       "      <td>7.509</td>\n",
       "    </tr>\n",
       "    <tr>\n",
       "      <th>2</th>\n",
       "      <td>2016</td>\n",
       "      <td>1.42666</td>\n",
       "      <td>1.183260</td>\n",
       "      <td>86.733</td>\n",
       "      <td>0.56624</td>\n",
       "      <td>0.14975</td>\n",
       "      <td>0.47678</td>\n",
       "      <td>7.501</td>\n",
       "    </tr>\n",
       "    <tr>\n",
       "      <th>3</th>\n",
       "      <td>2016</td>\n",
       "      <td>1.57744</td>\n",
       "      <td>1.126900</td>\n",
       "      <td>79.579</td>\n",
       "      <td>0.59609</td>\n",
       "      <td>0.35776</td>\n",
       "      <td>0.37895</td>\n",
       "      <td>7.498</td>\n",
       "    </tr>\n",
       "    <tr>\n",
       "      <th>4</th>\n",
       "      <td>2016</td>\n",
       "      <td>1.40598</td>\n",
       "      <td>1.134640</td>\n",
       "      <td>81.091</td>\n",
       "      <td>0.57104</td>\n",
       "      <td>0.41004</td>\n",
       "      <td>0.25492</td>\n",
       "      <td>7.413</td>\n",
       "    </tr>\n",
       "    <tr>\n",
       "      <th>...</th>\n",
       "      <td>...</td>\n",
       "      <td>...</td>\n",
       "      <td>...</td>\n",
       "      <td>...</td>\n",
       "      <td>...</td>\n",
       "      <td>...</td>\n",
       "      <td>...</td>\n",
       "      <td>...</td>\n",
       "    </tr>\n",
       "    <tr>\n",
       "      <th>152</th>\n",
       "      <td>2016</td>\n",
       "      <td>0.39499</td>\n",
       "      <td>0.104190</td>\n",
       "      <td>21.028</td>\n",
       "      <td>0.39747</td>\n",
       "      <td>0.06681</td>\n",
       "      <td>0.20180</td>\n",
       "      <td>3.484</td>\n",
       "    </tr>\n",
       "    <tr>\n",
       "      <th>153</th>\n",
       "      <td>2016</td>\n",
       "      <td>0.38227</td>\n",
       "      <td>0.110370</td>\n",
       "      <td>17.344</td>\n",
       "      <td>0.16430</td>\n",
       "      <td>0.07112</td>\n",
       "      <td>0.31268</td>\n",
       "      <td>3.360</td>\n",
       "    </tr>\n",
       "    <tr>\n",
       "      <th>154</th>\n",
       "      <td>2016</td>\n",
       "      <td>0.28123</td>\n",
       "      <td>0.285917</td>\n",
       "      <td>24.811</td>\n",
       "      <td>0.34678</td>\n",
       "      <td>0.11587</td>\n",
       "      <td>0.17517</td>\n",
       "      <td>3.303</td>\n",
       "    </tr>\n",
       "    <tr>\n",
       "      <th>155</th>\n",
       "      <td>2016</td>\n",
       "      <td>0.74719</td>\n",
       "      <td>0.148660</td>\n",
       "      <td>62.994</td>\n",
       "      <td>0.06912</td>\n",
       "      <td>0.17233</td>\n",
       "      <td>0.48397</td>\n",
       "      <td>3.069</td>\n",
       "    </tr>\n",
       "    <tr>\n",
       "      <th>156</th>\n",
       "      <td>2016</td>\n",
       "      <td>0.06831</td>\n",
       "      <td>0.234420</td>\n",
       "      <td>15.747</td>\n",
       "      <td>0.04320</td>\n",
       "      <td>0.09419</td>\n",
       "      <td>0.20290</td>\n",
       "      <td>2.905</td>\n",
       "    </tr>\n",
       "  </tbody>\n",
       "</table>\n",
       "<p>157 rows × 8 columns</p>\n",
       "</div>"
      ],
      "text/plain": [
       "     Year  Economy (GDP per Capita)    Family  Health (Life Expectancy)  \\\n",
       "0    2016                   1.44178  1.163740                    79.504   \n",
       "1    2016                   1.52733  1.145240                    86.303   \n",
       "2    2016                   1.42666  1.183260                    86.733   \n",
       "3    2016                   1.57744  1.126900                    79.579   \n",
       "4    2016                   1.40598  1.134640                    81.091   \n",
       "..    ...                       ...       ...                       ...   \n",
       "152  2016                   0.39499  0.104190                    21.028   \n",
       "153  2016                   0.38227  0.110370                    17.344   \n",
       "154  2016                   0.28123  0.285917                    24.811   \n",
       "155  2016                   0.74719  0.148660                    62.994   \n",
       "156  2016                   0.06831  0.234420                    15.747   \n",
       "\n",
       "     Freedom  Trust (Government Corruption)  Generosity  Happiness Score  \n",
       "0    0.57941                        0.44453     0.36171            7.526  \n",
       "1    0.58557                        0.41203     0.28083            7.509  \n",
       "2    0.56624                        0.14975     0.47678            7.501  \n",
       "3    0.59609                        0.35776     0.37895            7.498  \n",
       "4    0.57104                        0.41004     0.25492            7.413  \n",
       "..       ...                            ...         ...              ...  \n",
       "152  0.39747                        0.06681     0.20180            3.484  \n",
       "153  0.16430                        0.07112     0.31268            3.360  \n",
       "154  0.34678                        0.11587     0.17517            3.303  \n",
       "155  0.06912                        0.17233     0.48397            3.069  \n",
       "156  0.04320                        0.09419     0.20290            2.905  \n",
       "\n",
       "[157 rows x 8 columns]"
      ]
     },
     "execution_count": 208,
     "metadata": {},
     "output_type": "execute_result"
    }
   ],
   "source": [
    "# re-order the cols\n",
    "df_2016_a = df_2016.iloc[:,[13,6,7,8,9,10,11,3]]\n",
    "df_2016_a"
   ]
  },
  {
   "cell_type": "code",
   "execution_count": 209,
   "id": "8564f208-b6ae-4f69-b351-2fa72027c2fc",
   "metadata": {
    "tags": []
   },
   "outputs": [
    {
     "name": "stdout",
     "output_type": "stream",
     "text": [
      "<class 'pandas.core.frame.DataFrame'>\n",
      "RangeIndex: 154 entries, 0 to 153\n",
      "Data columns (total 13 columns):\n",
      " #   Column                         Non-Null Count  Dtype  \n",
      "---  ------                         --------------  -----  \n",
      " 0   Country                        154 non-null    object \n",
      " 1   Happiness.Rank                 154 non-null    int64  \n",
      " 2   Happiness Score                154 non-null    float64\n",
      " 3   Whisker.high                   154 non-null    float64\n",
      " 4   Whisker.low                    154 non-null    float64\n",
      " 5   Economy (GDP per Capita)       154 non-null    float64\n",
      " 6   Family                         154 non-null    float64\n",
      " 7   Health (Life Expectancy)       154 non-null    float64\n",
      " 8   Freedom                        154 non-null    float64\n",
      " 9   Generosity                     154 non-null    float64\n",
      " 10  Trust (Government Corruption)  154 non-null    float64\n",
      " 11  Dystopia.Residual              154 non-null    float64\n",
      " 12  Year                           154 non-null    int64  \n",
      "dtypes: float64(10), int64(2), object(1)\n",
      "memory usage: 15.8+ KB\n"
     ]
    }
   ],
   "source": [
    "# look at df info\n",
    "df_2017.info()"
   ]
  },
  {
   "cell_type": "code",
   "execution_count": 210,
   "id": "57970c72-df09-4d1b-8693-de7c85272533",
   "metadata": {
    "tags": []
   },
   "outputs": [
    {
     "data": {
      "text/html": [
       "<div>\n",
       "<style scoped>\n",
       "    .dataframe tbody tr th:only-of-type {\n",
       "        vertical-align: middle;\n",
       "    }\n",
       "\n",
       "    .dataframe tbody tr th {\n",
       "        vertical-align: top;\n",
       "    }\n",
       "\n",
       "    .dataframe thead th {\n",
       "        text-align: right;\n",
       "    }\n",
       "</style>\n",
       "<table border=\"1\" class=\"dataframe\">\n",
       "  <thead>\n",
       "    <tr style=\"text-align: right;\">\n",
       "      <th></th>\n",
       "      <th>Year</th>\n",
       "      <th>Economy (GDP per Capita)</th>\n",
       "      <th>Family</th>\n",
       "      <th>Health (Life Expectancy)</th>\n",
       "      <th>Freedom</th>\n",
       "      <th>Trust (Government Corruption)</th>\n",
       "      <th>Generosity</th>\n",
       "      <th>Happiness Score</th>\n",
       "    </tr>\n",
       "  </thead>\n",
       "  <tbody>\n",
       "    <tr>\n",
       "      <th>0</th>\n",
       "      <td>2017</td>\n",
       "      <td>1.616463</td>\n",
       "      <td>1.533524</td>\n",
       "      <td>79.666650</td>\n",
       "      <td>0.635423</td>\n",
       "      <td>0.315964</td>\n",
       "      <td>0.362012</td>\n",
       "      <td>7.537</td>\n",
       "    </tr>\n",
       "    <tr>\n",
       "      <th>1</th>\n",
       "      <td>2017</td>\n",
       "      <td>1.482383</td>\n",
       "      <td>1.551122</td>\n",
       "      <td>79.256552</td>\n",
       "      <td>0.626007</td>\n",
       "      <td>0.400770</td>\n",
       "      <td>0.355280</td>\n",
       "      <td>7.522</td>\n",
       "    </tr>\n",
       "    <tr>\n",
       "      <th>2</th>\n",
       "      <td>2017</td>\n",
       "      <td>1.480633</td>\n",
       "      <td>1.610574</td>\n",
       "      <td>83.355212</td>\n",
       "      <td>0.627163</td>\n",
       "      <td>0.153527</td>\n",
       "      <td>0.475540</td>\n",
       "      <td>7.504</td>\n",
       "    </tr>\n",
       "    <tr>\n",
       "      <th>3</th>\n",
       "      <td>2017</td>\n",
       "      <td>1.564980</td>\n",
       "      <td>1.516912</td>\n",
       "      <td>85.813129</td>\n",
       "      <td>0.620071</td>\n",
       "      <td>0.367007</td>\n",
       "      <td>0.290549</td>\n",
       "      <td>7.494</td>\n",
       "    </tr>\n",
       "    <tr>\n",
       "      <th>4</th>\n",
       "      <td>2017</td>\n",
       "      <td>1.443572</td>\n",
       "      <td>1.540247</td>\n",
       "      <td>80.915767</td>\n",
       "      <td>0.617951</td>\n",
       "      <td>0.382612</td>\n",
       "      <td>0.245483</td>\n",
       "      <td>7.469</td>\n",
       "    </tr>\n",
       "    <tr>\n",
       "      <th>...</th>\n",
       "      <td>...</td>\n",
       "      <td>...</td>\n",
       "      <td>...</td>\n",
       "      <td>...</td>\n",
       "      <td>...</td>\n",
       "      <td>...</td>\n",
       "      <td>...</td>\n",
       "      <td>...</td>\n",
       "    </tr>\n",
       "    <tr>\n",
       "      <th>149</th>\n",
       "      <td>2017</td>\n",
       "      <td>0.305445</td>\n",
       "      <td>0.431883</td>\n",
       "      <td>24.710557</td>\n",
       "      <td>0.380426</td>\n",
       "      <td>0.095665</td>\n",
       "      <td>0.196896</td>\n",
       "      <td>3.495</td>\n",
       "    </tr>\n",
       "    <tr>\n",
       "      <th>150</th>\n",
       "      <td>2017</td>\n",
       "      <td>0.368746</td>\n",
       "      <td>0.945707</td>\n",
       "      <td>32.642481</td>\n",
       "      <td>0.581844</td>\n",
       "      <td>0.455220</td>\n",
       "      <td>0.252756</td>\n",
       "      <td>3.471</td>\n",
       "    </tr>\n",
       "    <tr>\n",
       "      <th>151</th>\n",
       "      <td>2017</td>\n",
       "      <td>0.777153</td>\n",
       "      <td>0.396103</td>\n",
       "      <td>50.053334</td>\n",
       "      <td>0.081539</td>\n",
       "      <td>0.151347</td>\n",
       "      <td>0.493664</td>\n",
       "      <td>3.462</td>\n",
       "    </tr>\n",
       "    <tr>\n",
       "      <th>152</th>\n",
       "      <td>2017</td>\n",
       "      <td>0.511136</td>\n",
       "      <td>1.041990</td>\n",
       "      <td>36.450928</td>\n",
       "      <td>0.390018</td>\n",
       "      <td>0.066035</td>\n",
       "      <td>0.354256</td>\n",
       "      <td>3.349</td>\n",
       "    </tr>\n",
       "    <tr>\n",
       "      <th>153</th>\n",
       "      <td>2017</td>\n",
       "      <td>0.091623</td>\n",
       "      <td>0.629794</td>\n",
       "      <td>15.161079</td>\n",
       "      <td>0.059901</td>\n",
       "      <td>0.084148</td>\n",
       "      <td>0.204435</td>\n",
       "      <td>2.905</td>\n",
       "    </tr>\n",
       "  </tbody>\n",
       "</table>\n",
       "<p>154 rows × 8 columns</p>\n",
       "</div>"
      ],
      "text/plain": [
       "     Year  Economy (GDP per Capita)    Family  Health (Life Expectancy)  \\\n",
       "0    2017                  1.616463  1.533524                 79.666650   \n",
       "1    2017                  1.482383  1.551122                 79.256552   \n",
       "2    2017                  1.480633  1.610574                 83.355212   \n",
       "3    2017                  1.564980  1.516912                 85.813129   \n",
       "4    2017                  1.443572  1.540247                 80.915767   \n",
       "..    ...                       ...       ...                       ...   \n",
       "149  2017                  0.305445  0.431883                 24.710557   \n",
       "150  2017                  0.368746  0.945707                 32.642481   \n",
       "151  2017                  0.777153  0.396103                 50.053334   \n",
       "152  2017                  0.511136  1.041990                 36.450928   \n",
       "153  2017                  0.091623  0.629794                 15.161079   \n",
       "\n",
       "      Freedom  Trust (Government Corruption)  Generosity  Happiness Score  \n",
       "0    0.635423                       0.315964    0.362012            7.537  \n",
       "1    0.626007                       0.400770    0.355280            7.522  \n",
       "2    0.627163                       0.153527    0.475540            7.504  \n",
       "3    0.620071                       0.367007    0.290549            7.494  \n",
       "4    0.617951                       0.382612    0.245483            7.469  \n",
       "..        ...                            ...         ...              ...  \n",
       "149  0.380426                       0.095665    0.196896            3.495  \n",
       "150  0.581844                       0.455220    0.252756            3.471  \n",
       "151  0.081539                       0.151347    0.493664            3.462  \n",
       "152  0.390018                       0.066035    0.354256            3.349  \n",
       "153  0.059901                       0.084148    0.204435            2.905  \n",
       "\n",
       "[154 rows x 8 columns]"
      ]
     },
     "execution_count": 210,
     "metadata": {},
     "output_type": "execute_result"
    }
   ],
   "source": [
    "df_2017_a = df_2017.iloc[:,[12,5,6,7,8,10,9,2]]\n",
    "df_2017_a"
   ]
  },
  {
   "cell_type": "code",
   "execution_count": 211,
   "id": "75e8f175-2cf9-44ca-9ac5-059ab27e4033",
   "metadata": {
    "tags": []
   },
   "outputs": [
    {
     "name": "stdout",
     "output_type": "stream",
     "text": [
      "<class 'pandas.core.frame.DataFrame'>\n",
      "Index: 155 entries, 0 to 155\n",
      "Data columns (total 10 columns):\n",
      " #   Column                         Non-Null Count  Dtype  \n",
      "---  ------                         --------------  -----  \n",
      " 0   Overall rank                   155 non-null    int64  \n",
      " 1   Country                        155 non-null    object \n",
      " 2   Happiness Score                155 non-null    float64\n",
      " 3   Economy (GDP per Capita)       155 non-null    float64\n",
      " 4   Family                         155 non-null    float64\n",
      " 5   Health (Life Expectancy)       155 non-null    float64\n",
      " 6   Freedom                        155 non-null    float64\n",
      " 7   Generosity                     155 non-null    float64\n",
      " 8   Trust (Government Corruption)  155 non-null    float64\n",
      " 9   Year                           155 non-null    int64  \n",
      "dtypes: float64(7), int64(2), object(1)\n",
      "memory usage: 17.4+ KB\n"
     ]
    }
   ],
   "source": [
    "df_2018.info()"
   ]
  },
  {
   "cell_type": "code",
   "execution_count": 212,
   "id": "bd2155e4-2aa6-425e-a5ce-1a8fc7359e1f",
   "metadata": {
    "tags": []
   },
   "outputs": [
    {
     "data": {
      "text/html": [
       "<div>\n",
       "<style scoped>\n",
       "    .dataframe tbody tr th:only-of-type {\n",
       "        vertical-align: middle;\n",
       "    }\n",
       "\n",
       "    .dataframe tbody tr th {\n",
       "        vertical-align: top;\n",
       "    }\n",
       "\n",
       "    .dataframe thead th {\n",
       "        text-align: right;\n",
       "    }\n",
       "</style>\n",
       "<table border=\"1\" class=\"dataframe\">\n",
       "  <thead>\n",
       "    <tr style=\"text-align: right;\">\n",
       "      <th></th>\n",
       "      <th>Year</th>\n",
       "      <th>Economy (GDP per Capita)</th>\n",
       "      <th>Family</th>\n",
       "      <th>Health (Life Expectancy)</th>\n",
       "      <th>Freedom</th>\n",
       "      <th>Trust (Government Corruption)</th>\n",
       "      <th>Generosity</th>\n",
       "      <th>Happiness Score</th>\n",
       "    </tr>\n",
       "  </thead>\n",
       "  <tbody>\n",
       "    <tr>\n",
       "      <th>0</th>\n",
       "      <td>2018</td>\n",
       "      <td>1.305</td>\n",
       "      <td>1.592</td>\n",
       "      <td>87.4</td>\n",
       "      <td>0.681</td>\n",
       "      <td>0.393</td>\n",
       "      <td>0.202</td>\n",
       "      <td>7.632</td>\n",
       "    </tr>\n",
       "    <tr>\n",
       "      <th>1</th>\n",
       "      <td>2018</td>\n",
       "      <td>1.456</td>\n",
       "      <td>1.582</td>\n",
       "      <td>86.1</td>\n",
       "      <td>0.686</td>\n",
       "      <td>0.340</td>\n",
       "      <td>0.286</td>\n",
       "      <td>7.594</td>\n",
       "    </tr>\n",
       "    <tr>\n",
       "      <th>2</th>\n",
       "      <td>2018</td>\n",
       "      <td>1.351</td>\n",
       "      <td>1.590</td>\n",
       "      <td>86.8</td>\n",
       "      <td>0.683</td>\n",
       "      <td>0.408</td>\n",
       "      <td>0.284</td>\n",
       "      <td>7.555</td>\n",
       "    </tr>\n",
       "    <tr>\n",
       "      <th>3</th>\n",
       "      <td>2018</td>\n",
       "      <td>1.343</td>\n",
       "      <td>1.644</td>\n",
       "      <td>91.4</td>\n",
       "      <td>0.677</td>\n",
       "      <td>0.138</td>\n",
       "      <td>0.353</td>\n",
       "      <td>7.495</td>\n",
       "    </tr>\n",
       "    <tr>\n",
       "      <th>4</th>\n",
       "      <td>2018</td>\n",
       "      <td>1.420</td>\n",
       "      <td>1.549</td>\n",
       "      <td>92.7</td>\n",
       "      <td>0.660</td>\n",
       "      <td>0.357</td>\n",
       "      <td>0.256</td>\n",
       "      <td>7.487</td>\n",
       "    </tr>\n",
       "    <tr>\n",
       "      <th>...</th>\n",
       "      <td>...</td>\n",
       "      <td>...</td>\n",
       "      <td>...</td>\n",
       "      <td>...</td>\n",
       "      <td>...</td>\n",
       "      <td>...</td>\n",
       "      <td>...</td>\n",
       "      <td>...</td>\n",
       "    </tr>\n",
       "    <tr>\n",
       "      <th>150</th>\n",
       "      <td>2018</td>\n",
       "      <td>0.332</td>\n",
       "      <td>0.896</td>\n",
       "      <td>40.0</td>\n",
       "      <td>0.636</td>\n",
       "      <td>0.444</td>\n",
       "      <td>0.200</td>\n",
       "      <td>3.408</td>\n",
       "    </tr>\n",
       "    <tr>\n",
       "      <th>151</th>\n",
       "      <td>2018</td>\n",
       "      <td>0.442</td>\n",
       "      <td>1.073</td>\n",
       "      <td>34.3</td>\n",
       "      <td>0.244</td>\n",
       "      <td>0.064</td>\n",
       "      <td>0.083</td>\n",
       "      <td>3.355</td>\n",
       "    </tr>\n",
       "    <tr>\n",
       "      <th>152</th>\n",
       "      <td>2018</td>\n",
       "      <td>0.455</td>\n",
       "      <td>0.991</td>\n",
       "      <td>38.1</td>\n",
       "      <td>0.481</td>\n",
       "      <td>0.097</td>\n",
       "      <td>0.270</td>\n",
       "      <td>3.303</td>\n",
       "    </tr>\n",
       "    <tr>\n",
       "      <th>153</th>\n",
       "      <td>2018</td>\n",
       "      <td>0.337</td>\n",
       "      <td>0.608</td>\n",
       "      <td>17.7</td>\n",
       "      <td>0.112</td>\n",
       "      <td>0.106</td>\n",
       "      <td>0.224</td>\n",
       "      <td>3.254</td>\n",
       "    </tr>\n",
       "    <tr>\n",
       "      <th>155</th>\n",
       "      <td>2018</td>\n",
       "      <td>0.091</td>\n",
       "      <td>0.627</td>\n",
       "      <td>14.5</td>\n",
       "      <td>0.065</td>\n",
       "      <td>0.076</td>\n",
       "      <td>0.149</td>\n",
       "      <td>2.905</td>\n",
       "    </tr>\n",
       "  </tbody>\n",
       "</table>\n",
       "<p>155 rows × 8 columns</p>\n",
       "</div>"
      ],
      "text/plain": [
       "     Year  Economy (GDP per Capita)  Family  Health (Life Expectancy)  \\\n",
       "0    2018                     1.305   1.592                      87.4   \n",
       "1    2018                     1.456   1.582                      86.1   \n",
       "2    2018                     1.351   1.590                      86.8   \n",
       "3    2018                     1.343   1.644                      91.4   \n",
       "4    2018                     1.420   1.549                      92.7   \n",
       "..    ...                       ...     ...                       ...   \n",
       "150  2018                     0.332   0.896                      40.0   \n",
       "151  2018                     0.442   1.073                      34.3   \n",
       "152  2018                     0.455   0.991                      38.1   \n",
       "153  2018                     0.337   0.608                      17.7   \n",
       "155  2018                     0.091   0.627                      14.5   \n",
       "\n",
       "     Freedom  Trust (Government Corruption)  Generosity  Happiness Score  \n",
       "0      0.681                          0.393       0.202            7.632  \n",
       "1      0.686                          0.340       0.286            7.594  \n",
       "2      0.683                          0.408       0.284            7.555  \n",
       "3      0.677                          0.138       0.353            7.495  \n",
       "4      0.660                          0.357       0.256            7.487  \n",
       "..       ...                            ...         ...              ...  \n",
       "150    0.636                          0.444       0.200            3.408  \n",
       "151    0.244                          0.064       0.083            3.355  \n",
       "152    0.481                          0.097       0.270            3.303  \n",
       "153    0.112                          0.106       0.224            3.254  \n",
       "155    0.065                          0.076       0.149            2.905  \n",
       "\n",
       "[155 rows x 8 columns]"
      ]
     },
     "execution_count": 212,
     "metadata": {},
     "output_type": "execute_result"
    }
   ],
   "source": [
    "df_2018_a = df_2018.iloc[:,[9,3,4,5,6,8,7,2]]\n",
    "df_2018_a"
   ]
  },
  {
   "cell_type": "code",
   "execution_count": 213,
   "id": "3e5b6208-5cce-4b70-b835-0eaf2b526583",
   "metadata": {
    "tags": []
   },
   "outputs": [
    {
     "name": "stdout",
     "output_type": "stream",
     "text": [
      "<class 'pandas.core.frame.DataFrame'>\n",
      "Index: 155 entries, 0 to 155\n",
      "Data columns (total 10 columns):\n",
      " #   Column                         Non-Null Count  Dtype  \n",
      "---  ------                         --------------  -----  \n",
      " 0   Overall rank                   155 non-null    int64  \n",
      " 1   Country                        155 non-null    object \n",
      " 2   Happiness Score                155 non-null    float64\n",
      " 3   Economy (GDP per Capita)       155 non-null    float64\n",
      " 4   Family                         155 non-null    float64\n",
      " 5   Health (Life Expectancy)       155 non-null    float64\n",
      " 6   Freedom                        155 non-null    float64\n",
      " 7   Generosity                     155 non-null    float64\n",
      " 8   Trust (Government Corruption)  155 non-null    float64\n",
      " 9   Year                           155 non-null    int64  \n",
      "dtypes: float64(7), int64(2), object(1)\n",
      "memory usage: 17.4+ KB\n"
     ]
    }
   ],
   "source": [
    "df_2019.info()"
   ]
  },
  {
   "cell_type": "code",
   "execution_count": 214,
   "id": "4f17daef-83d4-4881-bc1c-926c6a86677d",
   "metadata": {
    "tags": []
   },
   "outputs": [
    {
     "data": {
      "text/html": [
       "<div>\n",
       "<style scoped>\n",
       "    .dataframe tbody tr th:only-of-type {\n",
       "        vertical-align: middle;\n",
       "    }\n",
       "\n",
       "    .dataframe tbody tr th {\n",
       "        vertical-align: top;\n",
       "    }\n",
       "\n",
       "    .dataframe thead th {\n",
       "        text-align: right;\n",
       "    }\n",
       "</style>\n",
       "<table border=\"1\" class=\"dataframe\">\n",
       "  <thead>\n",
       "    <tr style=\"text-align: right;\">\n",
       "      <th></th>\n",
       "      <th>Year</th>\n",
       "      <th>Economy (GDP per Capita)</th>\n",
       "      <th>Family</th>\n",
       "      <th>Health (Life Expectancy)</th>\n",
       "      <th>Freedom</th>\n",
       "      <th>Trust (Government Corruption)</th>\n",
       "      <th>Generosity</th>\n",
       "      <th>Happiness Score</th>\n",
       "    </tr>\n",
       "  </thead>\n",
       "  <tbody>\n",
       "    <tr>\n",
       "      <th>0</th>\n",
       "      <td>2019</td>\n",
       "      <td>1.340</td>\n",
       "      <td>1.587</td>\n",
       "      <td>98.6</td>\n",
       "      <td>0.596</td>\n",
       "      <td>0.393</td>\n",
       "      <td>0.153</td>\n",
       "      <td>7.769</td>\n",
       "    </tr>\n",
       "    <tr>\n",
       "      <th>1</th>\n",
       "      <td>2019</td>\n",
       "      <td>1.383</td>\n",
       "      <td>1.573</td>\n",
       "      <td>99.6</td>\n",
       "      <td>0.592</td>\n",
       "      <td>0.410</td>\n",
       "      <td>0.252</td>\n",
       "      <td>7.600</td>\n",
       "    </tr>\n",
       "    <tr>\n",
       "      <th>2</th>\n",
       "      <td>2019</td>\n",
       "      <td>1.488</td>\n",
       "      <td>1.582</td>\n",
       "      <td>102.8</td>\n",
       "      <td>0.603</td>\n",
       "      <td>0.341</td>\n",
       "      <td>0.271</td>\n",
       "      <td>7.554</td>\n",
       "    </tr>\n",
       "    <tr>\n",
       "      <th>3</th>\n",
       "      <td>2019</td>\n",
       "      <td>1.380</td>\n",
       "      <td>1.624</td>\n",
       "      <td>102.6</td>\n",
       "      <td>0.591</td>\n",
       "      <td>0.118</td>\n",
       "      <td>0.354</td>\n",
       "      <td>7.494</td>\n",
       "    </tr>\n",
       "    <tr>\n",
       "      <th>4</th>\n",
       "      <td>2019</td>\n",
       "      <td>1.396</td>\n",
       "      <td>1.522</td>\n",
       "      <td>99.9</td>\n",
       "      <td>0.557</td>\n",
       "      <td>0.298</td>\n",
       "      <td>0.322</td>\n",
       "      <td>7.488</td>\n",
       "    </tr>\n",
       "    <tr>\n",
       "      <th>...</th>\n",
       "      <td>...</td>\n",
       "      <td>...</td>\n",
       "      <td>...</td>\n",
       "      <td>...</td>\n",
       "      <td>...</td>\n",
       "      <td>...</td>\n",
       "      <td>...</td>\n",
       "      <td>...</td>\n",
       "    </tr>\n",
       "    <tr>\n",
       "      <th>150</th>\n",
       "      <td>2019</td>\n",
       "      <td>0.287</td>\n",
       "      <td>1.163</td>\n",
       "      <td>46.3</td>\n",
       "      <td>0.143</td>\n",
       "      <td>0.077</td>\n",
       "      <td>0.108</td>\n",
       "      <td>3.380</td>\n",
       "    </tr>\n",
       "    <tr>\n",
       "      <th>151</th>\n",
       "      <td>2019</td>\n",
       "      <td>0.359</td>\n",
       "      <td>0.711</td>\n",
       "      <td>61.4</td>\n",
       "      <td>0.555</td>\n",
       "      <td>0.411</td>\n",
       "      <td>0.217</td>\n",
       "      <td>3.334</td>\n",
       "    </tr>\n",
       "    <tr>\n",
       "      <th>152</th>\n",
       "      <td>2019</td>\n",
       "      <td>0.476</td>\n",
       "      <td>0.885</td>\n",
       "      <td>49.9</td>\n",
       "      <td>0.417</td>\n",
       "      <td>0.147</td>\n",
       "      <td>0.276</td>\n",
       "      <td>3.231</td>\n",
       "    </tr>\n",
       "    <tr>\n",
       "      <th>153</th>\n",
       "      <td>2019</td>\n",
       "      <td>0.350</td>\n",
       "      <td>0.517</td>\n",
       "      <td>36.1</td>\n",
       "      <td>0.000</td>\n",
       "      <td>0.025</td>\n",
       "      <td>0.158</td>\n",
       "      <td>3.203</td>\n",
       "    </tr>\n",
       "    <tr>\n",
       "      <th>155</th>\n",
       "      <td>2019</td>\n",
       "      <td>0.306</td>\n",
       "      <td>0.575</td>\n",
       "      <td>29.5</td>\n",
       "      <td>0.010</td>\n",
       "      <td>0.091</td>\n",
       "      <td>0.202</td>\n",
       "      <td>2.853</td>\n",
       "    </tr>\n",
       "  </tbody>\n",
       "</table>\n",
       "<p>155 rows × 8 columns</p>\n",
       "</div>"
      ],
      "text/plain": [
       "     Year  Economy (GDP per Capita)  Family  Health (Life Expectancy)  \\\n",
       "0    2019                     1.340   1.587                      98.6   \n",
       "1    2019                     1.383   1.573                      99.6   \n",
       "2    2019                     1.488   1.582                     102.8   \n",
       "3    2019                     1.380   1.624                     102.6   \n",
       "4    2019                     1.396   1.522                      99.9   \n",
       "..    ...                       ...     ...                       ...   \n",
       "150  2019                     0.287   1.163                      46.3   \n",
       "151  2019                     0.359   0.711                      61.4   \n",
       "152  2019                     0.476   0.885                      49.9   \n",
       "153  2019                     0.350   0.517                      36.1   \n",
       "155  2019                     0.306   0.575                      29.5   \n",
       "\n",
       "     Freedom  Trust (Government Corruption)  Generosity  Happiness Score  \n",
       "0      0.596                          0.393       0.153            7.769  \n",
       "1      0.592                          0.410       0.252            7.600  \n",
       "2      0.603                          0.341       0.271            7.554  \n",
       "3      0.591                          0.118       0.354            7.494  \n",
       "4      0.557                          0.298       0.322            7.488  \n",
       "..       ...                            ...         ...              ...  \n",
       "150    0.143                          0.077       0.108            3.380  \n",
       "151    0.555                          0.411       0.217            3.334  \n",
       "152    0.417                          0.147       0.276            3.231  \n",
       "153    0.000                          0.025       0.158            3.203  \n",
       "155    0.010                          0.091       0.202            2.853  \n",
       "\n",
       "[155 rows x 8 columns]"
      ]
     },
     "execution_count": 214,
     "metadata": {},
     "output_type": "execute_result"
    }
   ],
   "source": [
    "df_2019_a = df_2019.iloc[:,[9,3,4,5,6,8,7,2]]\n",
    "df_2019_a"
   ]
  },
  {
   "cell_type": "code",
   "execution_count": 215,
   "id": "0f3836b6-33ea-44d9-b346-198ace428072",
   "metadata": {
    "tags": []
   },
   "outputs": [
    {
     "name": "stdout",
     "output_type": "stream",
     "text": [
      "<class 'pandas.core.frame.DataFrame'>\n",
      "RangeIndex: 778 entries, 0 to 777\n",
      "Data columns (total 8 columns):\n",
      " #   Column                         Non-Null Count  Dtype  \n",
      "---  ------                         --------------  -----  \n",
      " 0   Year                           778 non-null    int64  \n",
      " 1   Economy (GDP per Capita)       778 non-null    float64\n",
      " 2   Family                         778 non-null    float64\n",
      " 3   Health (Life Expectancy)       778 non-null    float64\n",
      " 4   Freedom                        778 non-null    float64\n",
      " 5   Trust (Government Corruption)  778 non-null    float64\n",
      " 6   Generosity                     778 non-null    float64\n",
      " 7   Happiness Score                778 non-null    float64\n",
      "dtypes: float64(7), int64(1)\n",
      "memory usage: 48.8 KB\n"
     ]
    }
   ],
   "source": [
    "# Stack the DataFrames on top of each other now the columns match the same order, drop the old index as will be out of sequence and set new row index\n",
    "df = pd.concat([df_2015_a, df_2016_a, df_2017_a, df_2018_a, df_2019_a], axis=0)\n",
    "df.reset_index(drop=True, inplace=True)\n",
    "# look at new df info\n",
    "df.info()"
   ]
  },
  {
   "cell_type": "code",
   "execution_count": 216,
   "id": "ae8733ea-ea65-41ff-9f60-157c4b41fa26",
   "metadata": {
    "tags": []
   },
   "outputs": [
    {
     "data": {
      "text/plain": [
       "Year                             0\n",
       "Economy (GDP per Capita)         0\n",
       "Family                           0\n",
       "Health (Life Expectancy)         0\n",
       "Freedom                          0\n",
       "Trust (Government Corruption)    0\n",
       "Generosity                       0\n",
       "Happiness Score                  0\n",
       "dtype: int64"
      ]
     },
     "execution_count": 216,
     "metadata": {},
     "output_type": "execute_result"
    }
   ],
   "source": [
    "# Check for missing values\n",
    "df.isna().sum()"
   ]
  },
  {
   "cell_type": "markdown",
   "id": "ab33b705-5853-4c6f-a3ef-88dd964c0a5a",
   "metadata": {},
   "source": [
    "Now we are ready to do our EDA analysis for another project."
   ]
  },
  {
   "cell_type": "code",
   "execution_count": null,
   "id": "33221c0f-f79e-4958-97e1-871d152d29bd",
   "metadata": {},
   "outputs": [],
   "source": []
  }
 ],
 "metadata": {
  "kernelspec": {
   "display_name": "Python 3 (ipykernel)",
   "language": "python",
   "name": "python3"
  },
  "language_info": {
   "codemirror_mode": {
    "name": "ipython",
    "version": 3
   },
   "file_extension": ".py",
   "mimetype": "text/x-python",
   "name": "python",
   "nbconvert_exporter": "python",
   "pygments_lexer": "ipython3",
   "version": "3.11.5"
  }
 },
 "nbformat": 4,
 "nbformat_minor": 5
}
