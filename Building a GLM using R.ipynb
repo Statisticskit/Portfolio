{
 "cells": [
  {
   "cell_type": "markdown",
   "id": "3cb57f38",
   "metadata": {},
   "source": [
    "# Build a model of runner's performance in Greensand Relay Race using R"
   ]
  },
  {
   "cell_type": "code",
   "execution_count": 1,
   "id": "954befd2",
   "metadata": {
    "scrolled": true
   },
   "outputs": [
    {
     "data": {
      "text/html": [
       "'greensand'"
      ],
      "text/latex": [
       "'greensand'"
      ],
      "text/markdown": [
       "'greensand'"
      ],
      "text/plain": [
       "[1] \"greensand\""
      ]
     },
     "metadata": {},
     "output_type": "display_data"
    }
   ],
   "source": [
    "# load dataframe\n",
    "load(\"greensand.RData\")\n",
    "\n",
    "#Check what dataframes have loaded\n",
    "ls()"
   ]
  },
  {
   "cell_type": "code",
   "execution_count": 2,
   "id": "a809908e",
   "metadata": {},
   "outputs": [
    {
     "name": "stdout",
     "output_type": "stream",
     "text": [
      "'data.frame':\t4186 obs. of  9 variables:\n",
      " $ year    : Factor w/ 31 levels \"1988\",\"1989\",..: 1 1 1 1 1 1 1 1 1 1 ...\n",
      " $ id      : Factor w/ 1506 levels \"10008\",\"1001\",..: 2 6 15 19 23 25 29 32 33 34 ...\n",
      " $ gender  : Factor w/ 2 levels \"F\",\"M\": 2 2 2 2 2 1 2 2 2 2 ...\n",
      " $ ageClass: Factor w/ 14 levels \"14\",\"16\",\"20\",..: 6 3 8 8 4 4 6 8 3 6 ...\n",
      " $ age     : num  44.5 18.5 51 54.5 33 34 43 53.5 18 41.5 ...\n",
      " $ leg     : Factor w/ 6 levels \"1\",\"2\",\"3\",\"4\",..: 1 2 3 4 5 6 1 2 3 4 ...\n",
      " $ legLen  : num  5.75 3.67 7.74 4.1 7.58 3.18 5.75 3.67 7.74 4.1 ...\n",
      " $ legTime : num  43.5 31.3 59.5 42.8 66 ...\n",
      " $ mpm     : num  7.56 8.52 7.69 10.43 8.7 ...\n"
     ]
    }
   ],
   "source": [
    "# check structure of dataframe loaded\n",
    "str(greensand)"
   ]
  },
  {
   "cell_type": "markdown",
   "id": "89a0f6bc",
   "metadata": {},
   "source": [
    "The file **greensand.RData** was obtained from a University website.\n",
    "\n",
    "The following gives a data dictionary for the dataframe `greensand`.\n",
    "\n",
    "The columns in `greensand` are as follows:\n",
    "\n",
    "* `legTime` - the time taken by the runner (in minutes), given in a decimal format: i.e. 30.75 corresponds to 30 minutes and 45 seconds. This will be the response variable.\n",
    "* `year` - the year in which the race was run.\n",
    "* `id` - a unique number indicating the runner (which remains the same if a runner takes part in two or more years)\n",
    "* `gender` - the declared gender for the runner, taking the value M for male and F for female\n",
    "* `ageClass` - the declared age class for the runner \n",
    "* `age` - the estimated age (in years) of the runner on the day of the race, which is based on the declared age class for the runner in each year they have taken part (a reasonable estimate is not possible for all runners)\n",
    "* `leg` - the leg number that the runner had in the race, taking the values 1, 2, 3, 4, 5 or 6\n",
    "* `legLen` - the length (in miles) of the leg \n",
    "* `mpm` - the speed of the runner (in minutes per mile)"
   ]
  },
  {
   "cell_type": "markdown",
   "id": "764ee3d5",
   "metadata": {},
   "source": [
    "## Pose questions and design study"
   ]
  },
  {
   "cell_type": "markdown",
   "id": "cf6bffd5",
   "metadata": {},
   "source": [
    "The question that has been posed, is to find a model that represents the performance of runners in previous years. Then to use these predictions to generate new handicap times for each leg of the Greensand Relay race, to help make them fairer for more diverse runners. \n",
    "\n",
    "So intuitively we are looking to use this data to predict how much time it will take on average for a runner to complete a leg of the race, depending on the applicable explanatory variables (such as age, gender etc.)\n",
    "\n",
    "The most obvious response variables are therefore `legTime` and `mpm`, as the former can be used to predict how long it will take to complete a leg. The latter can be used predict the average speed of a type of runner, of which we can then use to calculate a fair leg time by multiplying it by the leg mileage.\n",
    "\n",
    "As the variables `legTime` and `mpm` are the dependent variables in this case, then either should not be fit as an explanatory variable."
   ]
  },
  {
   "cell_type": "code",
   "execution_count": 4,
   "id": "54b3a684",
   "metadata": {
    "scrolled": false
   },
   "outputs": [
    {
     "data": {
      "text/html": [
       "<table>\n",
       "<thead><tr><th scope=col>year</th><th scope=col>id</th><th scope=col>gender</th><th scope=col>ageClass</th><th scope=col>age</th><th scope=col>leg</th><th scope=col>legLen</th><th scope=col>legTime</th><th scope=col>mpm</th></tr></thead>\n",
       "<tbody>\n",
       "\t<tr><td>1988 </td><td>1001 </td><td>M    </td><td>40   </td><td>44.5 </td><td>1    </td><td>5.75 </td><td>43.48</td><td> 7.56</td></tr>\n",
       "\t<tr><td>1988 </td><td>1002 </td><td>M    </td><td>20   </td><td>18.5 </td><td>2    </td><td>3.67 </td><td>31.27</td><td> 8.52</td></tr>\n",
       "\t<tr><td>1988 </td><td>1003 </td><td>M    </td><td>50   </td><td>51.0 </td><td>3    </td><td>7.74 </td><td>59.52</td><td> 7.69</td></tr>\n",
       "\t<tr><td>1988 </td><td>1004 </td><td>M    </td><td>50   </td><td>54.5 </td><td>4    </td><td>4.10 </td><td>42.77</td><td>10.43</td></tr>\n",
       "\t<tr><td>1988 </td><td>1005 </td><td>M    </td><td>21   </td><td>33.0 </td><td>5    </td><td>7.58 </td><td>65.95</td><td> 8.70</td></tr>\n",
       "\t<tr><td>1988 </td><td>1006 </td><td>F    </td><td>21   </td><td>34.0 </td><td>6    </td><td>3.18 </td><td>29.88</td><td> 9.40</td></tr>\n",
       "</tbody>\n",
       "</table>\n"
      ],
      "text/latex": [
       "\\begin{tabular}{r|lllllllll}\n",
       " year & id & gender & ageClass & age & leg & legLen & legTime & mpm\\\\\n",
       "\\hline\n",
       "\t 1988  & 1001  & M     & 40    & 44.5  & 1     & 5.75  & 43.48 &  7.56\\\\\n",
       "\t 1988  & 1002  & M     & 20    & 18.5  & 2     & 3.67  & 31.27 &  8.52\\\\\n",
       "\t 1988  & 1003  & M     & 50    & 51.0  & 3     & 7.74  & 59.52 &  7.69\\\\\n",
       "\t 1988  & 1004  & M     & 50    & 54.5  & 4     & 4.10  & 42.77 & 10.43\\\\\n",
       "\t 1988  & 1005  & M     & 21    & 33.0  & 5     & 7.58  & 65.95 &  8.70\\\\\n",
       "\t 1988  & 1006  & F     & 21    & 34.0  & 6     & 3.18  & 29.88 &  9.40\\\\\n",
       "\\end{tabular}\n"
      ],
      "text/markdown": [
       "\n",
       "| year | id | gender | ageClass | age | leg | legLen | legTime | mpm |\n",
       "|---|---|---|---|---|---|---|---|---|\n",
       "| 1988  | 1001  | M     | 40    | 44.5  | 1     | 5.75  | 43.48 |  7.56 |\n",
       "| 1988  | 1002  | M     | 20    | 18.5  | 2     | 3.67  | 31.27 |  8.52 |\n",
       "| 1988  | 1003  | M     | 50    | 51.0  | 3     | 7.74  | 59.52 |  7.69 |\n",
       "| 1988  | 1004  | M     | 50    | 54.5  | 4     | 4.10  | 42.77 | 10.43 |\n",
       "| 1988  | 1005  | M     | 21    | 33.0  | 5     | 7.58  | 65.95 |  8.70 |\n",
       "| 1988  | 1006  | F     | 21    | 34.0  | 6     | 3.18  | 29.88 |  9.40 |\n",
       "\n"
      ],
      "text/plain": [
       "  year id   gender ageClass age  leg legLen legTime mpm  \n",
       "1 1988 1001 M      40       44.5 1   5.75   43.48    7.56\n",
       "2 1988 1002 M      20       18.5 2   3.67   31.27    8.52\n",
       "3 1988 1003 M      50       51.0 3   7.74   59.52    7.69\n",
       "4 1988 1004 M      50       54.5 4   4.10   42.77   10.43\n",
       "5 1988 1005 M      21       33.0 5   7.58   65.95    8.70\n",
       "6 1988 1006 F      21       34.0 6   3.18   29.88    9.40"
      ]
     },
     "metadata": {},
     "output_type": "display_data"
    },
    {
     "data": {
      "text/html": [
       "<table>\n",
       "<thead><tr><th></th><th scope=col>year</th><th scope=col>id</th><th scope=col>gender</th><th scope=col>ageClass</th><th scope=col>age</th><th scope=col>leg</th><th scope=col>legLen</th><th scope=col>legTime</th><th scope=col>mpm</th></tr></thead>\n",
       "<tbody>\n",
       "\t<tr><th scope=row>4181</th><td>2019 </td><td>32271</td><td>F    </td><td>45   </td><td>49.5 </td><td>1    </td><td>5.54 </td><td>60.78</td><td>10.97</td></tr>\n",
       "\t<tr><th scope=row>4182</th><td>2019 </td><td>30205</td><td>F    </td><td>45   </td><td>50.5 </td><td>2    </td><td>4.05 </td><td>43.73</td><td>10.80</td></tr>\n",
       "\t<tr><th scope=row>4183</th><td>2019 </td><td>30203</td><td>M    </td><td>50   </td><td>51.0 </td><td>3    </td><td>9.10 </td><td>84.28</td><td> 9.26</td></tr>\n",
       "\t<tr><th scope=row>4184</th><td>2019 </td><td>31209</td><td>F    </td><td>45   </td><td>50.0 </td><td>4    </td><td>5.84 </td><td>54.70</td><td> 9.37</td></tr>\n",
       "\t<tr><th scope=row>4185</th><td>2019 </td><td>32275</td><td>F    </td><td>35   </td><td>39.5 </td><td>5    </td><td>5.28 </td><td>66.97</td><td>12.68</td></tr>\n",
       "\t<tr><th scope=row>4186</th><td>2019 </td><td>32276</td><td>F    </td><td>55   </td><td>59.5 </td><td>6    </td><td>4.68 </td><td>60.33</td><td>12.89</td></tr>\n",
       "</tbody>\n",
       "</table>\n"
      ],
      "text/latex": [
       "\\begin{tabular}{r|lllllllll}\n",
       "  & year & id & gender & ageClass & age & leg & legLen & legTime & mpm\\\\\n",
       "\\hline\n",
       "\t4181 & 2019  & 32271 & F     & 45    & 49.5  & 1     & 5.54  & 60.78 & 10.97\\\\\n",
       "\t4182 & 2019  & 30205 & F     & 45    & 50.5  & 2     & 4.05  & 43.73 & 10.80\\\\\n",
       "\t4183 & 2019  & 30203 & M     & 50    & 51.0  & 3     & 9.10  & 84.28 &  9.26\\\\\n",
       "\t4184 & 2019  & 31209 & F     & 45    & 50.0  & 4     & 5.84  & 54.70 &  9.37\\\\\n",
       "\t4185 & 2019  & 32275 & F     & 35    & 39.5  & 5     & 5.28  & 66.97 & 12.68\\\\\n",
       "\t4186 & 2019  & 32276 & F     & 55    & 59.5  & 6     & 4.68  & 60.33 & 12.89\\\\\n",
       "\\end{tabular}\n"
      ],
      "text/markdown": [
       "\n",
       "| <!--/--> | year | id | gender | ageClass | age | leg | legLen | legTime | mpm |\n",
       "|---|---|---|---|---|---|---|---|---|---|\n",
       "| 4181 | 2019  | 32271 | F     | 45    | 49.5  | 1     | 5.54  | 60.78 | 10.97 |\n",
       "| 4182 | 2019  | 30205 | F     | 45    | 50.5  | 2     | 4.05  | 43.73 | 10.80 |\n",
       "| 4183 | 2019  | 30203 | M     | 50    | 51.0  | 3     | 9.10  | 84.28 |  9.26 |\n",
       "| 4184 | 2019  | 31209 | F     | 45    | 50.0  | 4     | 5.84  | 54.70 |  9.37 |\n",
       "| 4185 | 2019  | 32275 | F     | 35    | 39.5  | 5     | 5.28  | 66.97 | 12.68 |\n",
       "| 4186 | 2019  | 32276 | F     | 55    | 59.5  | 6     | 4.68  | 60.33 | 12.89 |\n",
       "\n"
      ],
      "text/plain": [
       "     year id    gender ageClass age  leg legLen legTime mpm  \n",
       "4181 2019 32271 F      45       49.5 1   5.54   60.78   10.97\n",
       "4182 2019 30205 F      45       50.5 2   4.05   43.73   10.80\n",
       "4183 2019 30203 M      50       51.0 3   9.10   84.28    9.26\n",
       "4184 2019 31209 F      45       50.0 4   5.84   54.70    9.37\n",
       "4185 2019 32275 F      35       39.5 5   5.28   66.97   12.68\n",
       "4186 2019 32276 F      55       59.5 6   4.68   60.33   12.89"
      ]
     },
     "metadata": {},
     "output_type": "display_data"
    }
   ],
   "source": [
    "# Make the vectors (variables) in the data frame directly accessible to R\n",
    "attach(greensand)\n",
    "\n",
    "# Check the dataframe has loaded OK\n",
    "head(greensand)\n",
    "tail(greensand)"
   ]
  },
  {
   "cell_type": "code",
   "execution_count": 9,
   "id": "55fe5eb5",
   "metadata": {
    "scrolled": false
   },
   "outputs": [
    {
     "name": "stdout",
     "output_type": "stream",
     "text": [
      "Missing values by variable"
     ]
    },
    {
     "data": {
      "text/html": [
       "<dl class=dl-horizontal>\n",
       "\t<dt>year</dt>\n",
       "\t\t<dd>0</dd>\n",
       "\t<dt>id</dt>\n",
       "\t\t<dd>0</dd>\n",
       "\t<dt>gender</dt>\n",
       "\t\t<dd>0</dd>\n",
       "\t<dt>ageClass</dt>\n",
       "\t\t<dd>0</dd>\n",
       "\t<dt>age</dt>\n",
       "\t\t<dd>101</dd>\n",
       "\t<dt>leg</dt>\n",
       "\t\t<dd>0</dd>\n",
       "\t<dt>legLen</dt>\n",
       "\t\t<dd>0</dd>\n",
       "\t<dt>legTime</dt>\n",
       "\t\t<dd>0</dd>\n",
       "\t<dt>mpm</dt>\n",
       "\t\t<dd>0</dd>\n",
       "</dl>\n"
      ],
      "text/latex": [
       "\\begin{description*}\n",
       "\\item[year] 0\n",
       "\\item[id] 0\n",
       "\\item[gender] 0\n",
       "\\item[ageClass] 0\n",
       "\\item[age] 101\n",
       "\\item[leg] 0\n",
       "\\item[legLen] 0\n",
       "\\item[legTime] 0\n",
       "\\item[mpm] 0\n",
       "\\end{description*}\n"
      ],
      "text/markdown": [
       "year\n",
       ":   0id\n",
       ":   0gender\n",
       ":   0ageClass\n",
       ":   0age\n",
       ":   101leg\n",
       ":   0legLen\n",
       ":   0legTime\n",
       ":   0mpm\n",
       ":   0\n",
       "\n"
      ],
      "text/plain": [
       "    year       id   gender ageClass      age      leg   legLen  legTime \n",
       "       0        0        0        0      101        0        0        0 \n",
       "     mpm \n",
       "       0 "
      ]
     },
     "metadata": {},
     "output_type": "display_data"
    }
   ],
   "source": [
    "# code to check if missing values for any other variables\n",
    "cat(\"Missing values by variable\")\n",
    "colSums(is.na(greensand))"
   ]
  },
  {
   "cell_type": "code",
   "execution_count": 5,
   "id": "a259b71e",
   "metadata": {},
   "outputs": [],
   "source": [
    "#create dataframe without missing values\n",
    "greensandNoNA  <- na.omit(greensand)"
   ]
  },
  {
   "cell_type": "code",
   "execution_count": 6,
   "id": "6d48600d",
   "metadata": {
    "scrolled": true
   },
   "outputs": [
    {
     "name": "stdout",
     "output_type": "stream",
     "text": [
      "'data.frame':\t4085 obs. of  9 variables:\n",
      " $ year    : Factor w/ 31 levels \"1988\",\"1989\",..: 1 1 1 1 1 1 1 1 1 1 ...\n",
      " $ id      : Factor w/ 1506 levels \"10008\",\"1001\",..: 2 6 15 19 23 25 29 32 33 34 ...\n",
      " $ gender  : Factor w/ 2 levels \"F\",\"M\": 2 2 2 2 2 1 2 2 2 2 ...\n",
      " $ ageClass: Factor w/ 14 levels \"14\",\"16\",\"20\",..: 6 3 8 8 4 4 6 8 3 6 ...\n",
      " $ age     : num  44.5 18.5 51 54.5 33 34 43 53.5 18 41.5 ...\n",
      " $ leg     : Factor w/ 6 levels \"1\",\"2\",\"3\",\"4\",..: 1 2 3 4 5 6 1 2 3 4 ...\n",
      " $ legLen  : num  5.75 3.67 7.74 4.1 7.58 3.18 5.75 3.67 7.74 4.1 ...\n",
      " $ legTime : num  43.5 31.3 59.5 42.8 66 ...\n",
      " $ mpm     : num  7.56 8.52 7.69 10.43 8.7 ...\n",
      " - attr(*, \"na.action\")= 'omit' Named int  21 55 114 155 162 215 231 294 300 364 ...\n",
      "  ..- attr(*, \"names\")= chr  \"21\" \"55\" \"114\" \"155\" ...\n"
     ]
    }
   ],
   "source": [
    "str(greensandNoNA)"
   ]
  },
  {
   "cell_type": "code",
   "execution_count": 14,
   "id": "f9823fa1",
   "metadata": {},
   "outputs": [
    {
     "data": {
      "image/png": "[encoded data removed]",
      "text/plain": [
       "plot without title"
      ]
     },
     "metadata": {},
     "output_type": "display_data"
    }
   ],
   "source": [
    "#create comparitive boxplot of leg length\n",
    "plot(legLen ~ leg, xlab=\"Leg Num\", ylab=\"Length (miles)\")"
   ]
  },
  {
   "cell_type": "markdown",
   "id": "d8bffd82",
   "metadata": {},
   "source": [
    "We can see that `leg` and `legLen` are not independent variables. As `leg` changes so does `legLen` and thus to avoid multicollinearity we should use one variable or another but not both."
   ]
  },
  {
   "cell_type": "markdown",
   "id": "8e0967c3",
   "metadata": {},
   "source": [
    "##### Removing unique `id` justification\n",
    "\n",
    "The first variable I will choose to omit is the unique runner ID, my justification for this is, if I include it then I am modelling the leg times of specific unique runners, rather than what the generic properties of the runners (age, gender etc.) when predicting the leg times. \n",
    "\n",
    "Looking at the context I'm assuming this is what the organisers of the race is requesting when predicting \"fairer\" leg times. As opposed to \"how quickly did runner no. \"x\" run the leg\". \n",
    "\n",
    "So I will leave this variable out of my modelling from now on.\n"
   ]
  },
  {
   "cell_type": "code",
   "execution_count": 8,
   "id": "c6dd8b26",
   "metadata": {},
   "outputs": [],
   "source": [
    "# detach greensand data frame from R to remove possibility for errors\n",
    "detach(greensand)"
   ]
  },
  {
   "cell_type": "markdown",
   "id": "da65e250",
   "metadata": {},
   "source": [
    "## Building a generalised linear model"
   ]
  },
  {
   "cell_type": "code",
   "execution_count": 91,
   "id": "a9a4ccd2",
   "metadata": {
    "scrolled": true
   },
   "outputs": [],
   "source": [
    "attach(greensand)"
   ]
  },
  {
   "cell_type": "code",
   "execution_count": 92,
   "id": "77b96e6c",
   "metadata": {},
   "outputs": [
    {
     "data": {
      "image/png": "[encoded data removed]",
      "text/plain": [
       "Plot with title \"Leg Time\""
      ]
     },
     "metadata": {},
     "output_type": "display_data"
    }
   ],
   "source": [
    "#create hist & boxplot of leg time\n",
    "par(mfrow=c(1,2))\n",
    "\n",
    "hist(legTime,\n",
    "     main=\"Time taken to complete a leg\",\n",
    "     xlab=\"Leg Time\",\n",
    "     col=\"cornflowerblue\",\n",
    "     breaks = 10)\n",
    "\n",
    "boxplot(legTime, main = \"Leg Time\")"
   ]
  },
  {
   "cell_type": "markdown",
   "id": "3605ff29",
   "metadata": {},
   "source": [
    "## Choosing which GLM to use\n",
    "\n",
    "From the box plot and histogram we can see the response `legTime` is right skewed. \n",
    "\n",
    "The data values are also positive, continuous (not a count) and partially bounded (values can go from zero to $\\infty$), leading me to think this follows an exponential distribution. The fact it is a time for a runner to complete a leg as well makes me think this, as the exponential distribution has the memoryless property, as in it starts from zero for each participant.\n",
    "\n",
    "The canonical link for this function is the negative reciprocal link, however this is not practical because this function only allows us to take negative values, therefore the log link is commonly used instead of the canonical link. So the log link function would be most appropriate."
   ]
  },
  {
   "cell_type": "markdown",
   "id": "29b7b6ec",
   "metadata": {},
   "source": [
    "##### Available case analysis\n",
    "\n",
    "I will create my dataframe from the data which has no age values missing so I don't have to add additional code later on in my analysis. As explained earlier this is not complete case analysis because its inferred we are interested in having this independent variable in the final model."
   ]
  },
  {
   "cell_type": "code",
   "execution_count": 93,
   "id": "248f60b2",
   "metadata": {},
   "outputs": [
    {
     "data": {
      "text/html": [
       "<table>\n",
       "<thead><tr><th scope=col>year</th><th scope=col>id</th><th scope=col>gender</th><th scope=col>ageClass</th><th scope=col>age</th><th scope=col>leg</th><th scope=col>legLen</th><th scope=col>legTime</th><th scope=col>mpm</th><th scope=col>logLT</th><th scope=col>logLL</th></tr></thead>\n",
       "<tbody>\n",
       "\t<tr><td>1988    </td><td>1001    </td><td>M       </td><td>40      </td><td>44.5    </td><td>1       </td><td>5.75    </td><td>43.48   </td><td> 7.56   </td><td>3.772301</td><td>1.749200</td></tr>\n",
       "\t<tr><td>1988    </td><td>1002    </td><td>M       </td><td>20      </td><td>18.5    </td><td>2       </td><td>3.67    </td><td>31.27   </td><td> 8.52   </td><td>3.442659</td><td>1.300192</td></tr>\n",
       "\t<tr><td>1988    </td><td>1003    </td><td>M       </td><td>50      </td><td>51.0    </td><td>3       </td><td>7.74    </td><td>59.52   </td><td> 7.69   </td><td>4.086312</td><td>2.046402</td></tr>\n",
       "\t<tr><td>1988    </td><td>1004    </td><td>M       </td><td>50      </td><td>54.5    </td><td>4       </td><td>4.10    </td><td>42.77   </td><td>10.43   </td><td>3.755837</td><td>1.410987</td></tr>\n",
       "\t<tr><td>1988    </td><td>1005    </td><td>M       </td><td>21      </td><td>33.0    </td><td>5       </td><td>7.58    </td><td>65.95   </td><td> 8.70   </td><td>4.188897</td><td>2.025513</td></tr>\n",
       "\t<tr><td>1988    </td><td>1006    </td><td>F       </td><td>21      </td><td>34.0    </td><td>6       </td><td>3.18    </td><td>29.88   </td><td> 9.40   </td><td>3.397189</td><td>1.156881</td></tr>\n",
       "</tbody>\n",
       "</table>\n"
      ],
      "text/latex": [
       "\\begin{tabular}{r|lllllllllll}\n",
       " year & id & gender & ageClass & age & leg & legLen & legTime & mpm & logLT & logLL\\\\\n",
       "\\hline\n",
       "\t 1988     & 1001     & M        & 40       & 44.5     & 1        & 5.75     & 43.48    &  7.56    & 3.772301 & 1.749200\\\\\n",
       "\t 1988     & 1002     & M        & 20       & 18.5     & 2        & 3.67     & 31.27    &  8.52    & 3.442659 & 1.300192\\\\\n",
       "\t 1988     & 1003     & M        & 50       & 51.0     & 3        & 7.74     & 59.52    &  7.69    & 4.086312 & 2.046402\\\\\n",
       "\t 1988     & 1004     & M        & 50       & 54.5     & 4        & 4.10     & 42.77    & 10.43    & 3.755837 & 1.410987\\\\\n",
       "\t 1988     & 1005     & M        & 21       & 33.0     & 5        & 7.58     & 65.95    &  8.70    & 4.188897 & 2.025513\\\\\n",
       "\t 1988     & 1006     & F        & 21       & 34.0     & 6        & 3.18     & 29.88    &  9.40    & 3.397189 & 1.156881\\\\\n",
       "\\end{tabular}\n"
      ],
      "text/markdown": [
       "\n",
       "| year | id | gender | ageClass | age | leg | legLen | legTime | mpm | logLT | logLL |\n",
       "|---|---|---|---|---|---|---|---|---|---|---|\n",
       "| 1988     | 1001     | M        | 40       | 44.5     | 1        | 5.75     | 43.48    |  7.56    | 3.772301 | 1.749200 |\n",
       "| 1988     | 1002     | M        | 20       | 18.5     | 2        | 3.67     | 31.27    |  8.52    | 3.442659 | 1.300192 |\n",
       "| 1988     | 1003     | M        | 50       | 51.0     | 3        | 7.74     | 59.52    |  7.69    | 4.086312 | 2.046402 |\n",
       "| 1988     | 1004     | M        | 50       | 54.5     | 4        | 4.10     | 42.77    | 10.43    | 3.755837 | 1.410987 |\n",
       "| 1988     | 1005     | M        | 21       | 33.0     | 5        | 7.58     | 65.95    |  8.70    | 4.188897 | 2.025513 |\n",
       "| 1988     | 1006     | F        | 21       | 34.0     | 6        | 3.18     | 29.88    |  9.40    | 3.397189 | 1.156881 |\n",
       "\n"
      ],
      "text/plain": [
       "  year id   gender ageClass age  leg legLen legTime mpm   logLT    logLL   \n",
       "1 1988 1001 M      40       44.5 1   5.75   43.48    7.56 3.772301 1.749200\n",
       "2 1988 1002 M      20       18.5 2   3.67   31.27    8.52 3.442659 1.300192\n",
       "3 1988 1003 M      50       51.0 3   7.74   59.52    7.69 4.086312 2.046402\n",
       "4 1988 1004 M      50       54.5 4   4.10   42.77   10.43 3.755837 1.410987\n",
       "5 1988 1005 M      21       33.0 5   7.58   65.95    8.70 4.188897 2.025513\n",
       "6 1988 1006 F      21       34.0 6   3.18   29.88    9.40 3.397189 1.156881"
      ]
     },
     "metadata": {},
     "output_type": "display_data"
    },
    {
     "name": "stdout",
     "output_type": "stream",
     "text": [
      "'data.frame':\t4085 obs. of  11 variables:\n",
      " $ year    : Factor w/ 31 levels \"1988\",\"1989\",..: 1 1 1 1 1 1 1 1 1 1 ...\n",
      " $ id      : Factor w/ 1506 levels \"10008\",\"1001\",..: 2 6 15 19 23 25 29 32 33 34 ...\n",
      " $ gender  : Factor w/ 2 levels \"F\",\"M\": 2 2 2 2 2 1 2 2 2 2 ...\n",
      " $ ageClass: Factor w/ 14 levels \"14\",\"16\",\"20\",..: 6 3 8 8 4 4 6 8 3 6 ...\n",
      " $ age     : num  44.5 18.5 51 54.5 33 34 43 53.5 18 41.5 ...\n",
      " $ leg     : Factor w/ 6 levels \"1\",\"2\",\"3\",\"4\",..: 1 2 3 4 5 6 1 2 3 4 ...\n",
      " $ legLen  : num  5.75 3.67 7.74 4.1 7.58 3.18 5.75 3.67 7.74 4.1 ...\n",
      " $ legTime : num  43.5 31.3 59.5 42.8 66 ...\n",
      " $ mpm     : num  7.56 8.52 7.69 10.43 8.7 ...\n",
      " $ logLT   : num  3.77 3.44 4.09 3.76 4.19 ...\n",
      " $ logLL   : num  1.75 1.3 2.05 1.41 2.03 ...\n",
      " - attr(*, \"na.action\")= 'omit' Named int  21 55 114 155 162 215 231 294 300 364 ...\n",
      "  ..- attr(*, \"names\")= chr  \"21\" \"55\" \"114\" \"155\" ...\n"
     ]
    }
   ],
   "source": [
    "detach (greensand)\n",
    "# attach dataframe with no NA\n",
    "attach(greensandNoNA)\n",
    "# Check it has loaded OK\n",
    "head(greensandNoNA)\n",
    "str(greensandNoNA)"
   ]
  },
  {
   "cell_type": "markdown",
   "id": "e8dc4f76",
   "metadata": {},
   "source": [
    "##### Transformation consideration\n",
    "\n",
    "I will not transform my response this time as GLM's are for non-normal responses, so this is not necessary.\n",
    "\n",
    "I may however fit a model keeping my transformation of the leg lengths, as transformations for explanatory variables is to enhance linearity, and GLM's are still linear models. \n",
    "\n",
    "However I would also fit a model without the transformation to see which one fits better."
   ]
  },
  {
   "cell_type": "markdown",
   "id": "d8860fc1",
   "metadata": {},
   "source": [
    "##### Considering which variables and interactions\n",
    "\n",
    "Again I'm omitting `id` as justified earlier"
   ]
  },
  {
   "cell_type": "code",
   "execution_count": 94,
   "id": "28242482",
   "metadata": {
    "scrolled": true
   },
   "outputs": [
    {
     "data": {
      "text/html": [
       "<table>\n",
       "<thead><tr><th scope=col>year</th><th scope=col>gender</th><th scope=col>age</th><th scope=col>leg</th><th scope=col>legLen</th><th scope=col>logLL</th><th scope=col>legTime</th></tr></thead>\n",
       "<tbody>\n",
       "\t<tr><td>1988    </td><td>M       </td><td>44.5    </td><td>1       </td><td>5.75    </td><td>1.749200</td><td>43.48   </td></tr>\n",
       "\t<tr><td>1988    </td><td>M       </td><td>18.5    </td><td>2       </td><td>3.67    </td><td>1.300192</td><td>31.27   </td></tr>\n",
       "\t<tr><td>1988    </td><td>M       </td><td>51.0    </td><td>3       </td><td>7.74    </td><td>2.046402</td><td>59.52   </td></tr>\n",
       "\t<tr><td>1988    </td><td>M       </td><td>54.5    </td><td>4       </td><td>4.10    </td><td>1.410987</td><td>42.77   </td></tr>\n",
       "\t<tr><td>1988    </td><td>M       </td><td>33.0    </td><td>5       </td><td>7.58    </td><td>2.025513</td><td>65.95   </td></tr>\n",
       "\t<tr><td>1988    </td><td>F       </td><td>34.0    </td><td>6       </td><td>3.18    </td><td>1.156881</td><td>29.88   </td></tr>\n",
       "</tbody>\n",
       "</table>\n"
      ],
      "text/latex": [
       "\\begin{tabular}{r|lllllll}\n",
       " year & gender & age & leg & legLen & logLL & legTime\\\\\n",
       "\\hline\n",
       "\t 1988     & M        & 44.5     & 1        & 5.75     & 1.749200 & 43.48   \\\\\n",
       "\t 1988     & M        & 18.5     & 2        & 3.67     & 1.300192 & 31.27   \\\\\n",
       "\t 1988     & M        & 51.0     & 3        & 7.74     & 2.046402 & 59.52   \\\\\n",
       "\t 1988     & M        & 54.5     & 4        & 4.10     & 1.410987 & 42.77   \\\\\n",
       "\t 1988     & M        & 33.0     & 5        & 7.58     & 2.025513 & 65.95   \\\\\n",
       "\t 1988     & F        & 34.0     & 6        & 3.18     & 1.156881 & 29.88   \\\\\n",
       "\\end{tabular}\n"
      ],
      "text/markdown": [
       "\n",
       "| year | gender | age | leg | legLen | logLL | legTime |\n",
       "|---|---|---|---|---|---|---|\n",
       "| 1988     | M        | 44.5     | 1        | 5.75     | 1.749200 | 43.48    |\n",
       "| 1988     | M        | 18.5     | 2        | 3.67     | 1.300192 | 31.27    |\n",
       "| 1988     | M        | 51.0     | 3        | 7.74     | 2.046402 | 59.52    |\n",
       "| 1988     | M        | 54.5     | 4        | 4.10     | 1.410987 | 42.77    |\n",
       "| 1988     | M        | 33.0     | 5        | 7.58     | 2.025513 | 65.95    |\n",
       "| 1988     | F        | 34.0     | 6        | 3.18     | 1.156881 | 29.88    |\n",
       "\n"
      ],
      "text/plain": [
       "  year gender age  leg legLen logLL    legTime\n",
       "1 1988 M      44.5 1   5.75   1.749200 43.48  \n",
       "2 1988 M      18.5 2   3.67   1.300192 31.27  \n",
       "3 1988 M      51.0 3   7.74   2.046402 59.52  \n",
       "4 1988 M      54.5 4   4.10   1.410987 42.77  \n",
       "5 1988 M      33.0 5   7.58   2.025513 65.95  \n",
       "6 1988 F      34.0 6   3.18   1.156881 29.88  "
      ]
     },
     "metadata": {},
     "output_type": "display_data"
    }
   ],
   "source": [
    "#create new dataframe\n",
    "dataframe4  <- data.frame(year,gender,age,leg,legLen,logLL,legTime)\n",
    "#check dataframe\n",
    "head(dataframe4)"
   ]
  },
  {
   "cell_type": "code",
   "execution_count": 95,
   "id": "add92f34",
   "metadata": {
    "scrolled": true
   },
   "outputs": [
    {
     "data": {
      "text/html": [
       "<table>\n",
       "<thead><tr><th scope=col>year</th><th scope=col>gender</th><th scope=col>age</th><th scope=col>leg</th><th scope=col>legLen</th><th scope=col>logLL</th><th scope=col>legTime</th></tr></thead>\n",
       "<tbody>\n",
       "\t<tr><td>1988    </td><td>M       </td><td>44.5    </td><td>1       </td><td>5.75    </td><td>1.749200</td><td>43.48   </td></tr>\n",
       "\t<tr><td>1988    </td><td>M       </td><td>18.5    </td><td>2       </td><td>3.67    </td><td>1.300192</td><td>31.27   </td></tr>\n",
       "\t<tr><td>1988    </td><td>M       </td><td>51.0    </td><td>3       </td><td>7.74    </td><td>2.046402</td><td>59.52   </td></tr>\n",
       "\t<tr><td>1988    </td><td>M       </td><td>54.5    </td><td>4       </td><td>4.10    </td><td>1.410987</td><td>42.77   </td></tr>\n",
       "\t<tr><td>1988    </td><td>M       </td><td>33.0    </td><td>5       </td><td>7.58    </td><td>2.025513</td><td>65.95   </td></tr>\n",
       "\t<tr><td>1988    </td><td>F       </td><td>34.0    </td><td>6       </td><td>3.18    </td><td>1.156881</td><td>29.88   </td></tr>\n",
       "</tbody>\n",
       "</table>\n"
      ],
      "text/latex": [
       "\\begin{tabular}{r|lllllll}\n",
       " year & gender & age & leg & legLen & logLL & legTime\\\\\n",
       "\\hline\n",
       "\t 1988     & M        & 44.5     & 1        & 5.75     & 1.749200 & 43.48   \\\\\n",
       "\t 1988     & M        & 18.5     & 2        & 3.67     & 1.300192 & 31.27   \\\\\n",
       "\t 1988     & M        & 51.0     & 3        & 7.74     & 2.046402 & 59.52   \\\\\n",
       "\t 1988     & M        & 54.5     & 4        & 4.10     & 1.410987 & 42.77   \\\\\n",
       "\t 1988     & M        & 33.0     & 5        & 7.58     & 2.025513 & 65.95   \\\\\n",
       "\t 1988     & F        & 34.0     & 6        & 3.18     & 1.156881 & 29.88   \\\\\n",
       "\\end{tabular}\n"
      ],
      "text/markdown": [
       "\n",
       "| year | gender | age | leg | legLen | logLL | legTime |\n",
       "|---|---|---|---|---|---|---|\n",
       "| 1988     | M        | 44.5     | 1        | 5.75     | 1.749200 | 43.48    |\n",
       "| 1988     | M        | 18.5     | 2        | 3.67     | 1.300192 | 31.27    |\n",
       "| 1988     | M        | 51.0     | 3        | 7.74     | 2.046402 | 59.52    |\n",
       "| 1988     | M        | 54.5     | 4        | 4.10     | 1.410987 | 42.77    |\n",
       "| 1988     | M        | 33.0     | 5        | 7.58     | 2.025513 | 65.95    |\n",
       "| 1988     | F        | 34.0     | 6        | 3.18     | 1.156881 | 29.88    |\n",
       "\n"
      ],
      "text/plain": [
       "  year gender age  leg legLen logLL    legTime\n",
       "1 1988 M      44.5 1   5.75   1.749200 43.48  \n",
       "2 1988 M      18.5 2   3.67   1.300192 31.27  \n",
       "3 1988 M      51.0 3   7.74   2.046402 59.52  \n",
       "4 1988 M      54.5 4   4.10   1.410987 42.77  \n",
       "5 1988 M      33.0 5   7.58   2.025513 65.95  \n",
       "6 1988 F      34.0 6   3.18   1.156881 29.88  "
      ]
     },
     "metadata": {},
     "output_type": "display_data"
    }
   ],
   "source": [
    "#detach original dataframe\n",
    "detach(greensandNoNA)\n",
    "\n",
    "#attach new dataframe\n",
    "attach(dataframe4)\n",
    "\n",
    "#check it has loaded ok & check calcs for logLL\n",
    "head(dataframe4)"
   ]
  },
  {
   "cell_type": "markdown",
   "id": "41e0308e",
   "metadata": {},
   "source": [
    "##### Choosing between `leg` and `legLen`"
   ]
  },
  {
   "cell_type": "code",
   "execution_count": 98,
   "id": "ac89a621",
   "metadata": {
    "scrolled": false
   },
   "outputs": [
    {
     "data": {
      "text/html": [
       "<ol class=list-inline>\n",
       "\t<li>198</li>\n",
       "\t<li>27585.8514588674</li>\n",
       "</ol>\n"
      ],
      "text/latex": [
       "\\begin{enumerate*}\n",
       "\\item 198\n",
       "\\item 27585.8514588674\n",
       "\\end{enumerate*}\n"
      ],
      "text/markdown": [
       "1. 198\n",
       "2. 27585.8514588674\n",
       "\n",
       "\n"
      ],
      "text/plain": [
       "[1]   198.00 27585.85"
      ]
     },
     "metadata": {},
     "output_type": "display_data"
    },
    {
     "data": {
      "text/html": [
       "<ol class=list-inline>\n",
       "\t<li>66</li>\n",
       "\t<li>27827.6194875092</li>\n",
       "</ol>\n"
      ],
      "text/latex": [
       "\\begin{enumerate*}\n",
       "\\item 66\n",
       "\\item 27827.6194875092\n",
       "\\end{enumerate*}\n"
      ],
      "text/markdown": [
       "1. 66\n",
       "2. 27827.6194875092\n",
       "\n",
       "\n"
      ],
      "text/plain": [
       "[1]    66.00 27827.62"
      ]
     },
     "metadata": {},
     "output_type": "display_data"
    },
    {
     "data": {
      "text/html": [
       "<ol class=list-inline>\n",
       "\t<li>66</li>\n",
       "\t<li>27615.8147546168</li>\n",
       "</ol>\n"
      ],
      "text/latex": [
       "\\begin{enumerate*}\n",
       "\\item 66\n",
       "\\item 27615.8147546168\n",
       "\\end{enumerate*}\n"
      ],
      "text/markdown": [
       "1. 66\n",
       "2. 27615.8147546168\n",
       "\n",
       "\n"
      ],
      "text/plain": [
       "[1]    66.00 27615.81"
      ]
     },
     "metadata": {},
     "output_type": "display_data"
    }
   ],
   "source": [
    "# Fit first glm model with leg and it's interactions\n",
    "M10 <- glm(legTime ~ (year + gender + age) * leg, family = \"Gamma\"(link = \"log\"))\n",
    "\n",
    "# Fit glm with leg and it's interactions\n",
    "M11 <- glm(legTime ~ (year + gender + age) * legLen, family = \"Gamma\"(link = \"log\"))\n",
    "\n",
    "# Fit glm with leg transformed and it's interactions\n",
    "M12 <- glm(legTime ~ (year + gender + age) * logLL, family = \"Gamma\"(link = \"log\"))\n",
    "\n",
    "# Obtain AIC's\n",
    "extractAIC(M10)\n",
    "extractAIC(M11)\n",
    "extractAIC(M12)"
   ]
  },
  {
   "cell_type": "markdown",
   "id": "2ba5a7a5",
   "metadata": {},
   "source": [
    "Because the models are not nested I am comparing the models by their AIC values. The model which has the lowest AIC is the model with `leg` and it's interactions so I am choosing to keep that variable.\n",
    "\n",
    "Now I will test if the other variables should remain in the model using anova tests"
   ]
  },
  {
   "cell_type": "code",
   "execution_count": 100,
   "id": "c53b6442",
   "metadata": {
    "scrolled": true
   },
   "outputs": [
    {
     "data": {
      "text/html": [
       "<table>\n",
       "<thead><tr><th scope=col>Resid. Df</th><th scope=col>Resid. Dev</th><th scope=col>Df</th><th scope=col>Deviance</th><th scope=col>Pr(&gt;Chi)</th></tr></thead>\n",
       "<tbody>\n",
       "\t<tr><td>4077        </td><td>142.2005    </td><td>NA          </td><td>      NA    </td><td>          NA</td></tr>\n",
       "\t<tr><td>4047        </td><td>136.3461    </td><td>30          </td><td>5.854363    </td><td>1.448925e-19</td></tr>\n",
       "</tbody>\n",
       "</table>\n"
      ],
      "text/latex": [
       "\\begin{tabular}{r|lllll}\n",
       " Resid. Df & Resid. Dev & Df & Deviance & Pr(>Chi)\\\\\n",
       "\\hline\n",
       "\t 4077         & 142.2005     & NA           &       NA     &           NA\\\\\n",
       "\t 4047         & 136.3461     & 30           & 5.854363     & 1.448925e-19\\\\\n",
       "\\end{tabular}\n"
      ],
      "text/markdown": [
       "\n",
       "| Resid. Df | Resid. Dev | Df | Deviance | Pr(>Chi) |\n",
       "|---|---|---|---|---|\n",
       "| 4077         | 142.2005     | NA           |       NA     |           NA |\n",
       "| 4047         | 136.3461     | 30           | 5.854363     | 1.448925e-19 |\n",
       "\n"
      ],
      "text/plain": [
       "  Resid. Df Resid. Dev Df Deviance Pr(>Chi)    \n",
       "1 4077      142.2005   NA       NA           NA\n",
       "2 4047      136.3461   30 5.854363 1.448925e-19"
      ]
     },
     "metadata": {},
     "output_type": "display_data"
    },
    {
     "data": {
      "text/html": [
       "<table>\n",
       "<thead><tr><th scope=col>Resid. Df</th><th scope=col>Resid. Dev</th><th scope=col>Df</th><th scope=col>Deviance</th><th scope=col>Pr(&gt;Chi)</th></tr></thead>\n",
       "<tbody>\n",
       "\t<tr><td>4048         </td><td>154.0334     </td><td>NA           </td><td>      NA     </td><td>           NA</td></tr>\n",
       "\t<tr><td>4047         </td><td>136.3461     </td><td> 1           </td><td>17.68733     </td><td>1.067725e-106</td></tr>\n",
       "</tbody>\n",
       "</table>\n"
      ],
      "text/latex": [
       "\\begin{tabular}{r|lllll}\n",
       " Resid. Df & Resid. Dev & Df & Deviance & Pr(>Chi)\\\\\n",
       "\\hline\n",
       "\t 4048          & 154.0334      & NA            &       NA      &            NA\\\\\n",
       "\t 4047          & 136.3461      &  1            & 17.68733      & 1.067725e-106\\\\\n",
       "\\end{tabular}\n"
      ],
      "text/markdown": [
       "\n",
       "| Resid. Df | Resid. Dev | Df | Deviance | Pr(>Chi) |\n",
       "|---|---|---|---|---|\n",
       "| 4048          | 154.0334      | NA            |       NA      |            NA |\n",
       "| 4047          | 136.3461      |  1            | 17.68733      | 1.067725e-106 |\n",
       "\n"
      ],
      "text/plain": [
       "  Resid. Df Resid. Dev Df Deviance Pr(>Chi)     \n",
       "1 4048      154.0334   NA       NA            NA\n",
       "2 4047      136.3461    1 17.68733 1.067725e-106"
      ]
     },
     "metadata": {},
     "output_type": "display_data"
    },
    {
     "data": {
      "text/html": [
       "<table>\n",
       "<thead><tr><th scope=col>Resid. Df</th><th scope=col>Resid. Dev</th><th scope=col>Df</th><th scope=col>Deviance</th><th scope=col>Pr(&gt;Chi)</th></tr></thead>\n",
       "<tbody>\n",
       "\t<tr><td>4048        </td><td>148.8528    </td><td>NA          </td><td>      NA    </td><td>          NA</td></tr>\n",
       "\t<tr><td>4047        </td><td>136.3461    </td><td> 1          </td><td>12.50666    </td><td>5.258242e-76</td></tr>\n",
       "</tbody>\n",
       "</table>\n"
      ],
      "text/latex": [
       "\\begin{tabular}{r|lllll}\n",
       " Resid. Df & Resid. Dev & Df & Deviance & Pr(>Chi)\\\\\n",
       "\\hline\n",
       "\t 4048         & 148.8528     & NA           &       NA     &           NA\\\\\n",
       "\t 4047         & 136.3461     &  1           & 12.50666     & 5.258242e-76\\\\\n",
       "\\end{tabular}\n"
      ],
      "text/markdown": [
       "\n",
       "| Resid. Df | Resid. Dev | Df | Deviance | Pr(>Chi) |\n",
       "|---|---|---|---|---|\n",
       "| 4048         | 148.8528     | NA           |       NA     |           NA |\n",
       "| 4047         | 136.3461     |  1           | 12.50666     | 5.258242e-76 |\n",
       "\n"
      ],
      "text/plain": [
       "  Resid. Df Resid. Dev Df Deviance Pr(>Chi)    \n",
       "1 4048      148.8528   NA       NA           NA\n",
       "2 4047      136.3461    1 12.50666 5.258242e-76"
      ]
     },
     "metadata": {},
     "output_type": "display_data"
    },
    {
     "data": {
      "text/html": [
       "<table>\n",
       "<thead><tr><th scope=col>Resid. Df</th><th scope=col>Resid. Dev</th><th scope=col>Df</th><th scope=col>Deviance</th><th scope=col>Pr(&gt;Chi)</th></tr></thead>\n",
       "<tbody>\n",
       "\t<tr><td>4052    </td><td>289.8696</td><td>NA      </td><td>      NA</td><td>NA      </td></tr>\n",
       "\t<tr><td>4047    </td><td>136.3461</td><td> 5      </td><td>153.5235</td><td> 0      </td></tr>\n",
       "</tbody>\n",
       "</table>\n"
      ],
      "text/latex": [
       "\\begin{tabular}{r|lllll}\n",
       " Resid. Df & Resid. Dev & Df & Deviance & Pr(>Chi)\\\\\n",
       "\\hline\n",
       "\t 4052     & 289.8696 & NA       &       NA & NA      \\\\\n",
       "\t 4047     & 136.3461 &  5       & 153.5235 &  0      \\\\\n",
       "\\end{tabular}\n"
      ],
      "text/markdown": [
       "\n",
       "| Resid. Df | Resid. Dev | Df | Deviance | Pr(>Chi) |\n",
       "|---|---|---|---|---|\n",
       "| 4052     | 289.8696 | NA       |       NA | NA       |\n",
       "| 4047     | 136.3461 |  5       | 153.5235 |  0       |\n",
       "\n"
      ],
      "text/plain": [
       "  Resid. Df Resid. Dev Df Deviance Pr(>Chi)\n",
       "1 4052      289.8696   NA       NA NA      \n",
       "2 4047      136.3461    5 153.5235  0      "
      ]
     },
     "metadata": {},
     "output_type": "display_data"
    }
   ],
   "source": [
    "# Fit glm without factor year\n",
    "M13 <- glm(legTime ~ gender + age + leg, family = \"Gamma\"(link = \"log\"))\n",
    "\n",
    "# Fit glm without factor gender\n",
    "M14 <- glm(legTime ~ year + age + leg, family = \"Gamma\"(link = \"log\"))\n",
    "\n",
    "# Fit glm without covariate age\n",
    "M15 <- glm(legTime ~ year + gender + leg, family = \"Gamma\"(link = \"log\"))\n",
    "\n",
    "# Fit glm without factor leg\n",
    "M16 <- glm(legTime ~ year + gender + age, family = \"Gamma\"(link = \"log\"))\n",
    "\n",
    "# Fit glm with all variables to compare to\n",
    "M17 <- glm(legTime ~ year + gender + age + leg, family = \"Gamma\"(link = \"log\"))\n",
    "\n",
    "# compare models to model with all variables\n",
    "anova(M13, M17, test=\"Chisq\")\n",
    "anova(M14, M17, test=\"Chisq\")\n",
    "anova(M15, M17, test=\"Chisq\")\n",
    "anova(M16, M17, test=\"Chisq\")"
   ]
  },
  {
   "cell_type": "markdown",
   "id": "6f460a91",
   "metadata": {},
   "source": [
    "The p-value for the deviance differences for the factors `year`, `gender` and the covariate `age` are very small, which implies that the deviance difference is large enough to suggest that there is a significant gain in fit using these variables.\n",
    "\n",
    "However the p-value for `leg` suggests that the factor does not need to be in the model. \n",
    "\n",
    "However the interactions for this variable may contribute something to the model. And due to the hierarchy principle if we are to include any interactions with this variable we will need to keep it in. So I will test again with the interactions for `leg` included to see if there is a gain in fit with them."
   ]
  },
  {
   "cell_type": "code",
   "execution_count": 101,
   "id": "0e901ac1",
   "metadata": {},
   "outputs": [
    {
     "data": {
      "text/html": [
       "<table>\n",
       "<thead><tr><th scope=col>Resid. Df</th><th scope=col>Resid. Dev</th><th scope=col>Df</th><th scope=col>Deviance</th><th scope=col>Pr(&gt;Chi)</th></tr></thead>\n",
       "<tbody>\n",
       "\t<tr><td>4047         </td><td>136.3461     </td><td> NA          </td><td>      NA     </td><td>           NA</td></tr>\n",
       "\t<tr><td>3887         </td><td> 88.2722     </td><td>160          </td><td>48.07389     </td><td>5.171639e-289</td></tr>\n",
       "</tbody>\n",
       "</table>\n"
      ],
      "text/latex": [
       "\\begin{tabular}{r|lllll}\n",
       " Resid. Df & Resid. Dev & Df & Deviance & Pr(>Chi)\\\\\n",
       "\\hline\n",
       "\t 4047          & 136.3461      &  NA           &       NA      &            NA\\\\\n",
       "\t 3887          &  88.2722      & 160           & 48.07389      & 5.171639e-289\\\\\n",
       "\\end{tabular}\n"
      ],
      "text/markdown": [
       "\n",
       "| Resid. Df | Resid. Dev | Df | Deviance | Pr(>Chi) |\n",
       "|---|---|---|---|---|\n",
       "| 4047          | 136.3461      |  NA           |       NA      |            NA |\n",
       "| 3887          |  88.2722      | 160           | 48.07389      | 5.171639e-289 |\n",
       "\n"
      ],
      "text/plain": [
       "  Resid. Df Resid. Dev Df  Deviance Pr(>Chi)     \n",
       "1 4047      136.3461    NA       NA            NA\n",
       "2 3887       88.2722   160 48.07389 5.171639e-289"
      ]
     },
     "metadata": {},
     "output_type": "display_data"
    }
   ],
   "source": [
    "# Fit model with interactions for leg\n",
    "M18 <- glm(legTime ~ (year + gender + age) * leg, family = \"Gamma\"(link = \"log\"))\n",
    "\n",
    "# Fit model without interactions for leg\n",
    "M19 <- glm(legTime ~ year + gender + age + leg, family = \"Gamma\"(link = \"log\"))\n",
    "\n",
    "# compare models\n",
    "anova(M19, M18, test=\"Chisq\")"
   ]
  },
  {
   "cell_type": "markdown",
   "id": "cc6b1a99",
   "metadata": {},
   "source": [
    "The p-value is very small which tells us that the deviance difference is large enough to suggest that there is a significant gain in fit using the interactions for this variable. So I will keep it in for now.\n",
    "\n",
    "The glm approach is to fit the saturated model and the null model and perform stepwise regression so all of the interactions will now be considered.\n",
    "\n",
    "**Note:** I will use the model `legTime`~ `age` as my null model."
   ]
  },
  {
   "cell_type": "code",
   "execution_count": 102,
   "id": "19560536",
   "metadata": {
    "scrolled": false
   },
   "outputs": [],
   "source": [
    "# Fit Exponential/Gamma distribution with saturated model and untransformed var\n",
    "fullModel <- glm(legTime ~ year * gender * age * leg, family = \"Gamma\"(link = \"log\"))\n",
    "                  \n",
    "#Fit null model\n",
    "nullModel <- glm(legTime ~ age, family = \"Gamma\"(link = \"log\"))                  "
   ]
  },
  {
   "cell_type": "code",
   "execution_count": 103,
   "id": "7f2420a1",
   "metadata": {
    "scrolled": true
   },
   "outputs": [
    {
     "name": "stdout",
     "output_type": "stream",
     "text": [
      "Start:  AIC=27991.94\n",
      "legTime ~ year * gender * age * leg\n",
      "\n",
      "                       Df Deviance   AIC\n",
      "- year:gender:age:leg 125   78.059 27835\n",
      "<none>                      75.771 27992\n",
      "\n",
      "Step:  AIC=27863.86\n",
      "legTime ~ year + gender + age + leg + year:gender + year:age + \n",
      "    gender:age + year:leg + gender:leg + age:leg + year:gender:age + \n",
      "    year:gender:leg + year:age:leg + gender:age:leg\n",
      "\n",
      "                       Df Deviance   AIC\n",
      "- year:gender:leg     145   81.070 27697\n",
      "- year:age:leg        150   81.550 27706\n",
      "- year:gender:age      30   78.739 27832\n",
      "<none>                      78.059 27864\n",
      "- gender:age:leg        5   78.312 27864\n",
      "+ year:gender:age:leg 125   75.771 28021\n",
      "\n",
      "Step:  AIC=27728.97\n",
      "legTime ~ year + gender + age + leg + year:gender + year:age + \n",
      "    gender:age + year:leg + gender:leg + age:leg + year:gender:age + \n",
      "    year:age:leg + gender:age:leg\n",
      "\n",
      "                   Df Deviance   AIC\n",
      "- year:age:leg    150   84.571 27571\n",
      "- year:gender:age  30   81.760 27697\n",
      "- gender:age:leg    5   81.208 27725\n",
      "<none>                  81.070 27729\n",
      "+ year:gender:leg 145   78.059 27897\n",
      "\n",
      "Step:  AIC=27602.28\n",
      "legTime ~ year + gender + age + leg + year:gender + year:age + \n",
      "    gender:age + year:leg + gender:leg + age:leg + year:gender:age + \n",
      "    gender:age:leg\n",
      "\n",
      "                   Df Deviance   AIC\n",
      "- year:gender:age  30   85.123 27564\n",
      "- gender:age:leg    5   84.692 27597\n",
      "<none>                  84.571 27602\n",
      "+ year:age:leg    150   81.070 27763\n",
      "+ year:gender:leg 145   81.550 27772\n",
      "- year:leg        150  129.473 29092\n",
      "\n",
      "Step:  AIC=27568.92\n",
      "legTime ~ year + gender + age + leg + year:gender + year:age + \n",
      "    gender:age + year:leg + gender:leg + age:leg + gender:age:leg\n",
      "\n",
      "                   Df Deviance   AIC\n",
      "- year:gender      30   85.953 27542\n",
      "- gender:age:leg    5   85.221 27563\n",
      "<none>                  85.123 27569\n",
      "- year:age         30   86.880 27579\n",
      "+ year:gender:age  30   84.571 27607\n",
      "+ year:age:leg    150   81.760 27735\n",
      "+ year:gender:leg 145   82.084 27738\n",
      "- year:leg        150  130.869 29092\n",
      "\n",
      "Step:  AIC=27548.7\n",
      "legTime ~ year + gender + age + leg + year:age + gender:age + \n",
      "    year:leg + gender:leg + age:leg + gender:age:leg\n",
      "\n",
      "                  Df Deviance   AIC\n",
      "- gender:age:leg   5   86.041 27542\n",
      "<none>                 85.953 27549\n",
      "- year:age        30   87.871 27565\n",
      "+ year:gender     30   85.123 27576\n",
      "+ year:age:leg   150   82.596 27716\n",
      "- year:leg       150  132.055 29077\n",
      "\n",
      "Step:  AIC=27542.88\n",
      "legTime ~ year + gender + age + leg + year:age + gender:age + \n",
      "    year:leg + gender:leg + age:leg\n",
      "\n",
      "                  Df Deviance   AIC\n",
      "- gender:leg       5   86.223 27540\n",
      "- age:leg          5   86.279 27542\n",
      "<none>                 86.041 27543\n",
      "+ gender:age:leg   5   85.953 27549\n",
      "- gender:age       1   86.374 27554\n",
      "- year:age        30   87.946 27558\n",
      "+ year:gender     30   85.221 27570\n",
      "+ year:age:leg   150   82.681 27710\n",
      "- year:leg       150  132.297 29077\n",
      "\n",
      "Step:  AIC=27541.58\n",
      "legTime ~ year + gender + age + leg + year:age + gender:age + \n",
      "    year:leg + age:leg\n",
      "\n",
      "                Df Deviance   AIC\n",
      "- age:leg        5   86.449 27541\n",
      "<none>               86.223 27542\n",
      "+ gender:leg     5   86.041 27544\n",
      "- gender:age     1   86.549 27553\n",
      "- year:age      30   88.107 27556\n",
      "+ year:gender   30   85.408 27569\n",
      "+ year:age:leg 150   82.845 27708\n",
      "- year:leg     150  132.718 29085\n",
      "\n",
      "Step:  AIC=27542.3\n",
      "legTime ~ year + gender + age + leg + year:age + gender:age + \n",
      "    year:leg\n",
      "\n"
     ]
    },
    {
     "data": {
      "text/plain": [
       "\n",
       "Call:\n",
       "glm(formula = legTime ~ year + gender + age + leg + year:age + \n",
       "    gender:age + year:leg, family = Gamma(link = \"log\"))\n",
       "\n",
       "Deviance Residuals: \n",
       "     Min        1Q    Median        3Q       Max  \n",
       "-0.37043  -0.10295  -0.02911   0.06529   1.02877  \n",
       "\n",
       "Coefficients:\n",
       "                Estimate Std. Error z value Pr(>|z|)    \n",
       "(Intercept)    3.7958187  0.7323991   5.183 2.19e-07 ***\n",
       "year1989      -0.0968528  1.1264354  -0.086   0.9315    \n",
       "year1990      -0.0282623  0.9408617  -0.030   0.9760    \n",
       "year1991      -0.1288950  0.9943331  -0.130   0.8969    \n",
       "year1992       0.2435950  0.9857334   0.247   0.8048    \n",
       "year1993      -0.0846287  0.8770437  -0.096   0.9231    \n",
       "year1994      -0.1275000  0.8707392  -0.146   0.8836    \n",
       "year1995      -0.0725569  0.8477304  -0.086   0.9318    \n",
       "year1996      -0.1165521  0.9056582  -0.129   0.8976    \n",
       "year1997      -0.0817365  0.8811283  -0.093   0.9261    \n",
       "year1998      -0.1613243  0.9265752  -0.174   0.8618    \n",
       "year1999      -0.0098743  0.9533548  -0.010   0.9917    \n",
       "year2000      -0.1347814  0.9249413  -0.146   0.8841    \n",
       "year2002       0.0693485  0.9473458   0.073   0.9416    \n",
       "year2003       0.0135840  0.9114047   0.015   0.9881    \n",
       "year2004      -0.0956632  0.9051964  -0.106   0.9158    \n",
       "year2005       0.1115829  1.0165842   0.110   0.9126    \n",
       "year2006      -0.0358257  0.8448870  -0.042   0.9662    \n",
       "year2007      -0.0045613  0.8469080  -0.005   0.9957    \n",
       "year2008       0.1590743  0.8336421   0.191   0.8487    \n",
       "year2009      -0.0035332  0.8230043  -0.004   0.9966    \n",
       "year2010       0.0261039  0.8135227   0.032   0.9744    \n",
       "year2011       0.0107244  0.8042695   0.013   0.9894    \n",
       "year2012      -0.0507592  0.7851863  -0.065   0.9485    \n",
       "year2013      -0.1410456  0.7813110  -0.181   0.8567    \n",
       "year2014      -0.0746558  0.7737310  -0.096   0.9231    \n",
       "year2015      -0.1240076  0.7755582  -0.160   0.8730    \n",
       "year2016      -0.0778412  0.7754554  -0.100   0.9200    \n",
       "year2017       0.0008673  0.7795501   0.001   0.9991    \n",
       "year2018      -0.0931949  0.7884357  -0.118   0.9059    \n",
       "year2019      -0.0060617  0.7852243  -0.008   0.9938    \n",
       "genderM       -0.2324535  0.1366412  -1.701   0.0889 .  \n",
       "age            0.0031211  0.0180187   0.173   0.8625    \n",
       "leg2          -0.2089893  0.5782224  -0.361   0.7178    \n",
       "leg3           0.2638560  0.6056117   0.436   0.6631    \n",
       "leg4          -0.2264182  0.6027299  -0.376   0.7072    \n",
       "leg5           0.4106378  0.5773813   0.711   0.4770    \n",
       "leg6          -0.4624342  0.5781290  -0.800   0.4238    \n",
       "year1989:age  -0.0010521  0.0272099  -0.039   0.9692    \n",
       "year1990:age  -0.0019937  0.0244045  -0.082   0.9349    \n",
       "year1991:age  -0.0014435  0.0234468  -0.062   0.9509    \n",
       "year1992:age  -0.0069049  0.0224266  -0.308   0.7582    \n",
       "year1993:age  -0.0012735  0.0204931  -0.062   0.9504    \n",
       "year1994:age  -0.0010717  0.0207773  -0.052   0.9589    \n",
       "year1995:age  -0.0014296  0.0200703  -0.071   0.9432    \n",
       "year1996:age  -0.0019972  0.0209953  -0.095   0.9242    \n",
       "year1997:age  -0.0037975  0.0209404  -0.181   0.8561    \n",
       "year1998:age  -0.0007925  0.0208744  -0.038   0.9697    \n",
       "year1999:age  -0.0011638  0.0218931  -0.053   0.9576    \n",
       "year2000:age   0.0035210  0.0212758   0.165   0.8686    \n",
       "year2002:age  -0.0015681  0.0215729  -0.073   0.9421    \n",
       "year2003:age  -0.0009035  0.0206891  -0.044   0.9652    \n",
       "year2004:age   0.0015359  0.0210893   0.073   0.9419    \n",
       "year2005:age  -0.0030351  0.0215396  -0.141   0.8879    \n",
       "year2006:age   0.0015040  0.0198772   0.076   0.9397    \n",
       "year2007:age   0.0001270  0.0198054   0.006   0.9949    \n",
       "year2008:age  -0.0025937  0.0195376  -0.133   0.8944    \n",
       "year2009:age   0.0010993  0.0192602   0.057   0.9545    \n",
       "year2010:age   0.0005989  0.0190257   0.031   0.9749    \n",
       "year2011:age  -0.0010963  0.0190795  -0.057   0.9542    \n",
       "year2012:age   0.0010618  0.0186734   0.057   0.9547    \n",
       "year2013:age   0.0027376  0.0186751   0.147   0.8835    \n",
       "year2014:age   0.0024066  0.0185477   0.130   0.8968    \n",
       "year2015:age   0.0026850  0.0185784   0.145   0.8851    \n",
       "year2016:age   0.0017236  0.0185656   0.093   0.9260    \n",
       "year2017:age   0.0018659  0.0186399   0.100   0.9203    \n",
       "year2018:age   0.0023633  0.0187100   0.126   0.8995    \n",
       "year2019:age   0.0009534  0.0186807   0.051   0.9593    \n",
       "genderM:age    0.0016292  0.0030514   0.534   0.5934    \n",
       "year1989:leg2  0.3284610  0.8374971   0.392   0.6949    \n",
       "year1990:leg2  0.2901140  0.7714136   0.376   0.7069    \n",
       "year1991:leg2  0.3501484  0.7647171   0.458   0.6470    \n",
       "year1992:leg2  0.1829386  0.7515234   0.243   0.8077    \n",
       "year1993:leg2  0.3784489  0.6915073   0.547   0.5842    \n",
       "year1994:leg2  0.4140435  0.6779192   0.611   0.5414    \n",
       "year1995:leg2  0.3376760  0.6816582   0.495   0.6203    \n",
       "year1996:leg2  0.3646127  0.6947654   0.525   0.5997    \n",
       "year1997:leg2  0.3776479  0.6911243   0.546   0.5848    \n",
       "year1998:leg2  0.4128457  0.6999906   0.590   0.5553    \n",
       "year1999:leg2 -0.0843744  0.7062589  -0.119   0.9049    \n",
       "year2000:leg2 -0.1306704  0.7021478  -0.186   0.8524    \n",
       "year2002:leg2 -0.1355967  0.7389750  -0.183   0.8544    \n",
       "year2003:leg2 -0.0572008  0.7248509  -0.079   0.9371    \n",
       "year2004:leg2 -0.1191844  0.7341806  -0.162   0.8710    \n",
       "year2005:leg2 -0.0970969  0.7344139  -0.132   0.8948    \n",
       "year2006:leg2 -0.1205503  0.6731012  -0.179   0.8579    \n",
       "year2007:leg2 -0.0874870  0.6521543  -0.134   0.8933    \n",
       "year2008:leg2 -0.0979307  0.6452474  -0.152   0.8794    \n",
       "year2009:leg2 -0.1341733  0.6403550  -0.210   0.8340    \n",
       "year2010:leg2 -0.1307708  0.6354349  -0.206   0.8369    \n",
       "year2011:leg2 -0.0563383  0.6334342  -0.089   0.9291    \n",
       "year2012:leg2 -0.0648189  0.6201279  -0.105   0.9168    \n",
       "year2013:leg2 -0.0602796  0.6186211  -0.097   0.9224    \n",
       "year2014:leg2 -0.0848145  0.6163875  -0.138   0.8906    \n",
       "year2015:leg2 -0.1355850  0.6186230  -0.219   0.8265    \n",
       "year2016:leg2 -0.0421191  0.6167444  -0.068   0.9456    \n",
       "year2017:leg2 -0.1110018  0.6160548  -0.180   0.8570    \n",
       "year2018:leg2 -0.1346953  0.6172271  -0.218   0.8273    \n",
       "year2019:leg2 -0.1089965  0.6148355  -0.177   0.8593    \n",
       "year1989:leg3 -0.0510156  0.8675816  -0.059   0.9531    \n",
       "year1990:leg3 -0.1730322  0.8051410  -0.215   0.8298    \n",
       "year1991:leg3 -0.0871523  0.7867121  -0.111   0.9118    \n",
       "year1992:leg3 -0.1179273  0.7681832  -0.154   0.8780    \n",
       "year1993:leg3 -0.0950083  0.7180338  -0.132   0.8947    \n",
       "year1994:leg3 -0.0899627  0.7024250  -0.128   0.8981    \n",
       "year1995:leg3 -0.1546036  0.6986834  -0.221   0.8249    \n",
       "year1996:leg3 -0.0368542  0.7178153  -0.051   0.9591    \n",
       "year1997:leg3 -0.0692267  0.7109422  -0.097   0.9224    \n",
       "year1998:leg3 -0.0463118  0.7277874  -0.064   0.9493    \n",
       "year1999:leg3  0.0890391  0.7361395   0.121   0.9037    \n",
       "year2000:leg3  0.0508597  0.7224478   0.070   0.9439    \n",
       "year2002:leg3  0.0138202  0.7601884   0.018   0.9855    \n",
       "year2003:leg3  0.0587907  0.7468661   0.079   0.9373    \n",
       "year2004:leg3  0.0118249  0.7488675   0.016   0.9874    \n",
       "year2005:leg3  0.2183591  0.7587228   0.288   0.7735    \n",
       "year2006:leg3  0.0741600  0.6937264   0.107   0.9149    \n",
       "year2007:leg3  0.0821855  0.6758672   0.122   0.9032    \n",
       "year2008:leg3  0.0246827  0.6700917   0.037   0.9706    \n",
       "year2009:leg3  0.0412041  0.6610416   0.062   0.9503    \n",
       "year2010:leg3  0.0163540  0.6593359   0.025   0.9802    \n",
       "year2011:leg3  0.0927135  0.6584903   0.141   0.8880    \n",
       "year2012:leg3  0.1865146  0.6456048   0.289   0.7727    \n",
       "year2013:leg3  0.2078451  0.6442184   0.323   0.7470    \n",
       "year2014:leg3  0.2113778  0.6425170   0.329   0.7422    \n",
       "year2015:leg3  0.1500509  0.6443928   0.233   0.8159    \n",
       "year2016:leg3  0.2145514  0.6421389   0.334   0.7383    \n",
       "year2017:leg3  0.2438393  0.6430305   0.379   0.7045    \n",
       "year2018:leg3  0.1777561  0.6426332   0.277   0.7821    \n",
       "year2019:leg3  0.1792303  0.6406143   0.280   0.7796    \n",
       "year1989:leg4  0.3777144  0.8549336   0.442   0.6586    \n",
       "year1990:leg4  0.3980553  0.7887237   0.505   0.6138    \n",
       "year1991:leg4  0.4408500  0.7835205   0.563   0.5737    \n",
       "year1992:leg4  0.2239552  0.7784544   0.288   0.7736    \n",
       "year1993:leg4  0.4836776  0.7126333   0.679   0.4973    \n",
       "year1994:leg4  0.7600147  0.7022674   1.082   0.2792    \n",
       "year1995:leg4  0.7198992  0.6963374   1.034   0.3012    \n",
       "year1996:leg4  0.7110800  0.7136774   0.996   0.3191    \n",
       "year1997:leg4  0.8203727  0.7161677   1.146   0.2520    \n",
       "year1998:leg4  0.8661455  0.7123416   1.216   0.2240    \n",
       "year1999:leg4  0.3764946  0.7236967   0.520   0.6029    \n",
       "year2000:leg4  0.3400793  0.7201899   0.472   0.6368    \n",
       "year2002:leg4  0.2189404  0.7583729   0.289   0.7728    \n",
       "year2003:leg4  0.2333591  0.7394314   0.316   0.7523    \n",
       "year2004:leg4  0.2344712  0.7446898   0.315   0.7529    \n",
       "year2005:leg4  0.3799904  0.7658103   0.496   0.6198    \n",
       "year2006:leg4  0.2992204  0.6938970   0.431   0.6663    \n",
       "year2007:leg4  0.2838107  0.6740975   0.421   0.6737    \n",
       "year2008:leg4  0.2885782  0.6658507   0.433   0.6647    \n",
       "year2009:leg4  0.2234385  0.6583942   0.339   0.7343    \n",
       "year2010:leg4  0.2824939  0.6575683   0.430   0.6675    \n",
       "year2011:leg4  0.2986891  0.6556982   0.456   0.6487    \n",
       "year2012:leg4  0.2922409  0.6430054   0.454   0.6495    \n",
       "year2013:leg4  0.2682182  0.6406192   0.419   0.6754    \n",
       "year2014:leg4  0.2526865  0.6402097   0.395   0.6931    \n",
       "year2015:leg4  0.2773686  0.6421680   0.432   0.6658    \n",
       "year2016:leg4  0.3198987  0.6397251   0.500   0.6170    \n",
       "year2017:leg4  0.3161429  0.6390083   0.495   0.6208    \n",
       "year2018:leg4  0.2727313  0.6398471   0.426   0.6699    \n",
       "year2019:leg4  0.2760748  0.6382258   0.433   0.6653    \n",
       "year1989:leg5  0.0378960  0.8368727   0.045   0.9639    \n",
       "year1990:leg5 -0.1810747  0.7833187  -0.231   0.8172    \n",
       "year1991:leg5 -0.0863886  0.7761450  -0.111   0.9114    \n",
       "year1992:leg5 -0.2416050  0.7602318  -0.318   0.7506    \n",
       "year1993:leg5 -0.1708507  0.6912936  -0.247   0.8048    \n",
       "year1994:leg5 -0.4895485  0.6778352  -0.722   0.4702    \n",
       "year1995:leg5 -0.5649485  0.6745046  -0.838   0.4023    \n",
       "year1996:leg5 -0.4705261  0.6956560  -0.676   0.4988    \n",
       "year1997:leg5 -0.4942180  0.6887917  -0.718   0.4731    \n",
       "year1998:leg5 -0.4580692  0.6982694  -0.656   0.5118    \n",
       "year1999:leg5 -0.4135254  0.7026513  -0.589   0.5562    \n",
       "year2000:leg5 -0.3792105  0.7108963  -0.533   0.5937    \n",
       "year2002:leg5 -0.4840319  0.7379614  -0.656   0.5119    \n",
       "year2003:leg5 -0.3252383  0.7240829  -0.449   0.6533    \n",
       "year2004:leg5 -0.4736355  0.7272161  -0.651   0.5149    \n",
       "year2005:leg5 -0.1771174  0.7521570  -0.235   0.8138    \n",
       "year2006:leg5 -0.3956106  0.6704609  -0.590   0.5552    \n",
       "year2007:leg5 -0.3919250  0.6548965  -0.598   0.5495    \n",
       "year2008:leg5 -0.3786512  0.6430365  -0.589   0.5560    \n",
       "year2009:leg5 -0.4711436  0.6373759  -0.739   0.4598    \n",
       "year2010:leg5 -0.4160627  0.6334215  -0.657   0.5113    \n",
       "year2011:leg5 -0.3911793  0.6329695  -0.618   0.5366    \n",
       "year2012:leg5 -0.4484601  0.6203350  -0.723   0.4697    \n",
       "year2013:leg5 -0.4174431  0.6173556  -0.676   0.4989    \n",
       "year2014:leg5 -0.4276220  0.6164048  -0.694   0.4878    \n",
       "year2015:leg5 -0.4375192  0.6177485  -0.708   0.4788    \n",
       "year2016:leg5 -0.3882343  0.6168379  -0.629   0.5291    \n",
       "year2017:leg5 -0.3889394  0.6151211  -0.632   0.5272    \n",
       "year2018:leg5 -0.3783337  0.6164458  -0.614   0.5394    \n",
       "year2019:leg5 -0.3884754  0.6142812  -0.632   0.5271    \n",
       "year1989:leg6  0.6093567  0.8378137   0.727   0.4670    \n",
       "year1990:leg6  0.5493916  0.7784817   0.706   0.4804    \n",
       "year1991:leg6  0.6641465  0.7806741   0.851   0.3949    \n",
       "year1992:leg6  0.5227079  0.7493164   0.698   0.4854    \n",
       "year1993:leg6  0.5292725  0.6999664   0.756   0.4496    \n",
       "year1994:leg6  0.5927209  0.6847268   0.866   0.3867    \n",
       "year1995:leg6  0.5110004  0.6809082   0.750   0.4530    \n",
       "year1996:leg6  0.6210785  0.6954386   0.893   0.3718    \n",
       "year1997:leg6  0.5721191  0.6873383   0.832   0.4052    \n",
       "year1998:leg6  0.6927156  0.6961215   0.995   0.3197    \n",
       "year1999:leg6  0.2287834  0.7091803   0.323   0.7470    \n",
       "year2000:leg6  0.1938931  0.7077712   0.274   0.7841    \n",
       "year2002:leg6  0.2017538  0.7479723   0.270   0.7874    \n",
       "year2003:leg6  0.2611594  0.7197803   0.363   0.7167    \n",
       "year2004:leg6  0.1978432  0.7251777   0.273   0.7850    \n",
       "year2005:leg6  0.2969585  0.7388158   0.402   0.6877    \n",
       "year2006:leg6  0.2347236  0.6707544   0.350   0.7264    \n",
       "year2007:leg6  0.2576990  0.6539848   0.394   0.6935    \n",
       "year2008:leg6  0.2795013  0.6437150   0.434   0.6641    \n",
       "year2009:leg6  0.2790258  0.6382308   0.437   0.6620    \n",
       "year2010:leg6  0.2098639  0.6353116   0.330   0.7411    \n",
       "year2011:leg6  0.3000311  0.6330169   0.474   0.6355    \n",
       "year2012:leg6  0.2494502  0.6203085   0.402   0.6876    \n",
       "year2013:leg6  0.2517430  0.6183842   0.407   0.6839    \n",
       "year2014:leg6  0.2799494  0.6171366   0.454   0.6501    \n",
       "year2015:leg6  0.2849399  0.6184443   0.461   0.6450    \n",
       "year2016:leg6  0.3082619  0.6165581   0.500   0.6171    \n",
       "year2017:leg6  0.2429905  0.6157383   0.395   0.6931    \n",
       "year2018:leg6  0.2439184  0.6166704   0.396   0.6924    \n",
       "year2019:leg6  0.2506819  0.6152139   0.407   0.6837    \n",
       "---\n",
       "Signif. codes:  0 '***' 0.001 '**' 0.01 '*' 0.05 '.' 0.1 ' ' 1\n",
       "\n",
       "(Dispersion parameter for Gamma family taken to be 1)\n",
       "\n",
       "    Null deviance: 315.773  on 4084  degrees of freedom\n",
       "Residual deviance:  86.449  on 3866  degrees of freedom\n",
       "AIC: 27542\n",
       "\n",
       "Number of Fisher Scoring iterations: 5\n"
      ]
     },
     "metadata": {},
     "output_type": "display_data"
    },
    {
     "name": "stdout",
     "output_type": "stream",
     "text": [
      "Start:  AIC=32303.3\n",
      "legTime ~ age\n",
      "\n",
      "         Df Deviance   AIC\n",
      "+ leg     5   161.54 30607\n",
      "+ gender  1   297.32 32207\n",
      "+ year   30   296.56 32256\n",
      "<none>        305.62 32303\n",
      "\n",
      "Step:  AIC=29684.78\n",
      "legTime ~ age + leg\n",
      "\n",
      "          Df Deviance   AIC\n",
      "+ gender   1   142.20 29239\n",
      "+ year    30   154.03 29571\n",
      "+ age:leg  5   160.76 29677\n",
      "<none>         161.54 29685\n",
      "- leg      5   305.62 33012\n",
      "\n",
      "Step:  AIC=29162.62\n",
      "legTime ~ age + leg + gender\n",
      "\n",
      "             Df Deviance   AIC\n",
      "+ year       30   136.35 29070\n",
      "+ age:leg     5   141.37 29151\n",
      "+ gender:age  1   142.05 29161\n",
      "+ gender:leg  5   141.81 29162\n",
      "<none>            142.20 29163\n",
      "- gender      1   161.54 29665\n",
      "- leg         5   297.32 33197\n",
      "\n",
      "Step:  AIC=29049.9\n",
      "legTime ~ age + leg + gender + year\n",
      "\n",
      "               Df Deviance   AIC\n",
      "+ year:leg    150   88.657 28052\n",
      "+ age:leg       5  135.494 29037\n",
      "+ year:age     30  133.693 29038\n",
      "+ gender:age    1  136.096 29045\n",
      "+ gender:leg    5  135.969 29050\n",
      "<none>             136.346 29050\n",
      "+ year:gender  30  135.204 29079\n",
      "- year         30  142.200 29149\n",
      "- gender        1  154.033 29529\n",
      "- leg           5  289.870 33218\n",
      "\n",
      "Step:  AIC=27583.66\n",
      "legTime ~ age + leg + gender + year + leg:year\n",
      "\n",
      "               Df Deviance   AIC\n",
      "+ year:age     30   86.740 27569\n",
      "+ gender:age    1   88.368 27575\n",
      "<none>              88.657 27584\n",
      "+ age:leg       5   88.428 27585\n",
      "+ gender:leg    5   88.505 27588\n",
      "+ year:gender  30   87.592 27602\n",
      "- gender        1  111.008 28448\n",
      "- leg:year    150  136.346 29132\n",
      "\n",
      "Step:  AIC=27554.07\n",
      "legTime ~ age + leg + gender + year + leg:year + age:year\n",
      "\n",
      "               Df Deviance   AIC\n",
      "+ gender:age    1   86.449 27545\n",
      "<none>              86.740 27554\n",
      "+ age:leg       5   86.549 27557\n",
      "+ gender:leg    5   86.574 27558\n",
      "- age:year     30   88.657 27570\n",
      "+ year:gender  30   85.918 27582\n",
      "- gender        1  108.259 28401\n",
      "- leg:year    150  133.693 29105\n",
      "\n",
      "Step:  AIC=27542.3\n",
      "legTime ~ age + leg + gender + year + leg:year + age:year + age:gender\n",
      "\n",
      "               Df Deviance   AIC\n",
      "<none>              86.449 27542\n",
      "+ age:leg       5   86.223 27543\n",
      "+ gender:leg    5   86.279 27546\n",
      "- age:gender    1   86.740 27552\n",
      "- age:year     30   88.368 27558\n",
      "+ year:gender  30   85.616 27569\n",
      "- leg:year    150  133.448 29099\n"
     ]
    },
    {
     "data": {
      "text/plain": [
       "\n",
       "Call:\n",
       "glm(formula = legTime ~ age + leg + gender + year + leg:year + \n",
       "    age:year + age:gender, family = Gamma(link = \"log\"))\n",
       "\n",
       "Deviance Residuals: \n",
       "     Min        1Q    Median        3Q       Max  \n",
       "-0.37043  -0.10295  -0.02911   0.06529   1.02877  \n",
       "\n",
       "Coefficients:\n",
       "                Estimate Std. Error z value Pr(>|z|)    \n",
       "(Intercept)    3.7958187  0.7323991   5.183 2.19e-07 ***\n",
       "age            0.0031211  0.0180187   0.173   0.8625    \n",
       "leg2          -0.2089893  0.5782224  -0.361   0.7178    \n",
       "leg3           0.2638560  0.6056117   0.436   0.6631    \n",
       "leg4          -0.2264182  0.6027299  -0.376   0.7072    \n",
       "leg5           0.4106378  0.5773813   0.711   0.4770    \n",
       "leg6          -0.4624342  0.5781290  -0.800   0.4238    \n",
       "genderM       -0.2324535  0.1366412  -1.701   0.0889 .  \n",
       "year1989      -0.0968528  1.1264354  -0.086   0.9315    \n",
       "year1990      -0.0282623  0.9408617  -0.030   0.9760    \n",
       "year1991      -0.1288950  0.9943331  -0.130   0.8969    \n",
       "year1992       0.2435950  0.9857334   0.247   0.8048    \n",
       "year1993      -0.0846287  0.8770437  -0.096   0.9231    \n",
       "year1994      -0.1275000  0.8707392  -0.146   0.8836    \n",
       "year1995      -0.0725569  0.8477304  -0.086   0.9318    \n",
       "year1996      -0.1165521  0.9056582  -0.129   0.8976    \n",
       "year1997      -0.0817365  0.8811283  -0.093   0.9261    \n",
       "year1998      -0.1613243  0.9265752  -0.174   0.8618    \n",
       "year1999      -0.0098743  0.9533548  -0.010   0.9917    \n",
       "year2000      -0.1347814  0.9249413  -0.146   0.8841    \n",
       "year2002       0.0693485  0.9473458   0.073   0.9416    \n",
       "year2003       0.0135840  0.9114047   0.015   0.9881    \n",
       "year2004      -0.0956632  0.9051964  -0.106   0.9158    \n",
       "year2005       0.1115829  1.0165842   0.110   0.9126    \n",
       "year2006      -0.0358257  0.8448870  -0.042   0.9662    \n",
       "year2007      -0.0045613  0.8469080  -0.005   0.9957    \n",
       "year2008       0.1590743  0.8336421   0.191   0.8487    \n",
       "year2009      -0.0035332  0.8230043  -0.004   0.9966    \n",
       "year2010       0.0261039  0.8135227   0.032   0.9744    \n",
       "year2011       0.0107244  0.8042695   0.013   0.9894    \n",
       "year2012      -0.0507592  0.7851863  -0.065   0.9485    \n",
       "year2013      -0.1410456  0.7813110  -0.181   0.8567    \n",
       "year2014      -0.0746558  0.7737310  -0.096   0.9231    \n",
       "year2015      -0.1240076  0.7755582  -0.160   0.8730    \n",
       "year2016      -0.0778412  0.7754554  -0.100   0.9200    \n",
       "year2017       0.0008673  0.7795501   0.001   0.9991    \n",
       "year2018      -0.0931949  0.7884357  -0.118   0.9059    \n",
       "year2019      -0.0060617  0.7852243  -0.008   0.9938    \n",
       "leg2:year1989  0.3284610  0.8374971   0.392   0.6949    \n",
       "leg3:year1989 -0.0510156  0.8675816  -0.059   0.9531    \n",
       "leg4:year1989  0.3777144  0.8549336   0.442   0.6586    \n",
       "leg5:year1989  0.0378960  0.8368727   0.045   0.9639    \n",
       "leg6:year1989  0.6093567  0.8378137   0.727   0.4670    \n",
       "leg2:year1990  0.2901140  0.7714136   0.376   0.7069    \n",
       "leg3:year1990 -0.1730322  0.8051410  -0.215   0.8298    \n",
       "leg4:year1990  0.3980553  0.7887237   0.505   0.6138    \n",
       "leg5:year1990 -0.1810747  0.7833187  -0.231   0.8172    \n",
       "leg6:year1990  0.5493916  0.7784817   0.706   0.4804    \n",
       "leg2:year1991  0.3501484  0.7647171   0.458   0.6470    \n",
       "leg3:year1991 -0.0871523  0.7867121  -0.111   0.9118    \n",
       "leg4:year1991  0.4408500  0.7835205   0.563   0.5737    \n",
       "leg5:year1991 -0.0863886  0.7761450  -0.111   0.9114    \n",
       "leg6:year1991  0.6641465  0.7806741   0.851   0.3949    \n",
       "leg2:year1992  0.1829386  0.7515234   0.243   0.8077    \n",
       "leg3:year1992 -0.1179273  0.7681832  -0.154   0.8780    \n",
       "leg4:year1992  0.2239552  0.7784544   0.288   0.7736    \n",
       "leg5:year1992 -0.2416050  0.7602318  -0.318   0.7506    \n",
       "leg6:year1992  0.5227079  0.7493164   0.698   0.4854    \n",
       "leg2:year1993  0.3784489  0.6915073   0.547   0.5842    \n",
       "leg3:year1993 -0.0950083  0.7180338  -0.132   0.8947    \n",
       "leg4:year1993  0.4836776  0.7126333   0.679   0.4973    \n",
       "leg5:year1993 -0.1708507  0.6912936  -0.247   0.8048    \n",
       "leg6:year1993  0.5292725  0.6999664   0.756   0.4496    \n",
       "leg2:year1994  0.4140435  0.6779192   0.611   0.5414    \n",
       "leg3:year1994 -0.0899627  0.7024250  -0.128   0.8981    \n",
       "leg4:year1994  0.7600147  0.7022674   1.082   0.2792    \n",
       "leg5:year1994 -0.4895485  0.6778352  -0.722   0.4702    \n",
       "leg6:year1994  0.5927209  0.6847268   0.866   0.3867    \n",
       "leg2:year1995  0.3376760  0.6816582   0.495   0.6203    \n",
       "leg3:year1995 -0.1546036  0.6986834  -0.221   0.8249    \n",
       "leg4:year1995  0.7198992  0.6963374   1.034   0.3012    \n",
       "leg5:year1995 -0.5649485  0.6745046  -0.838   0.4023    \n",
       "leg6:year1995  0.5110004  0.6809082   0.750   0.4530    \n",
       "leg2:year1996  0.3646127  0.6947654   0.525   0.5997    \n",
       "leg3:year1996 -0.0368542  0.7178153  -0.051   0.9591    \n",
       "leg4:year1996  0.7110800  0.7136774   0.996   0.3191    \n",
       "leg5:year1996 -0.4705261  0.6956560  -0.676   0.4988    \n",
       "leg6:year1996  0.6210785  0.6954386   0.893   0.3718    \n",
       "leg2:year1997  0.3776479  0.6911243   0.546   0.5848    \n",
       "leg3:year1997 -0.0692267  0.7109422  -0.097   0.9224    \n",
       "leg4:year1997  0.8203727  0.7161677   1.146   0.2520    \n",
       "leg5:year1997 -0.4942180  0.6887917  -0.718   0.4731    \n",
       "leg6:year1997  0.5721191  0.6873383   0.832   0.4052    \n",
       "leg2:year1998  0.4128457  0.6999906   0.590   0.5553    \n",
       "leg3:year1998 -0.0463118  0.7277874  -0.064   0.9493    \n",
       "leg4:year1998  0.8661455  0.7123416   1.216   0.2240    \n",
       "leg5:year1998 -0.4580692  0.6982694  -0.656   0.5118    \n",
       "leg6:year1998  0.6927156  0.6961215   0.995   0.3197    \n",
       "leg2:year1999 -0.0843744  0.7062589  -0.119   0.9049    \n",
       "leg3:year1999  0.0890391  0.7361395   0.121   0.9037    \n",
       "leg4:year1999  0.3764946  0.7236967   0.520   0.6029    \n",
       "leg5:year1999 -0.4135254  0.7026513  -0.589   0.5562    \n",
       "leg6:year1999  0.2287834  0.7091803   0.323   0.7470    \n",
       "leg2:year2000 -0.1306704  0.7021478  -0.186   0.8524    \n",
       "leg3:year2000  0.0508597  0.7224478   0.070   0.9439    \n",
       "leg4:year2000  0.3400793  0.7201899   0.472   0.6368    \n",
       "leg5:year2000 -0.3792105  0.7108963  -0.533   0.5937    \n",
       "leg6:year2000  0.1938931  0.7077712   0.274   0.7841    \n",
       "leg2:year2002 -0.1355967  0.7389750  -0.183   0.8544    \n",
       "leg3:year2002  0.0138202  0.7601884   0.018   0.9855    \n",
       "leg4:year2002  0.2189404  0.7583729   0.289   0.7728    \n",
       "leg5:year2002 -0.4840319  0.7379614  -0.656   0.5119    \n",
       "leg6:year2002  0.2017538  0.7479723   0.270   0.7874    \n",
       "leg2:year2003 -0.0572008  0.7248509  -0.079   0.9371    \n",
       "leg3:year2003  0.0587907  0.7468661   0.079   0.9373    \n",
       "leg4:year2003  0.2333591  0.7394314   0.316   0.7523    \n",
       "leg5:year2003 -0.3252383  0.7240829  -0.449   0.6533    \n",
       "leg6:year2003  0.2611594  0.7197803   0.363   0.7167    \n",
       "leg2:year2004 -0.1191844  0.7341806  -0.162   0.8710    \n",
       "leg3:year2004  0.0118249  0.7488675   0.016   0.9874    \n",
       "leg4:year2004  0.2344712  0.7446898   0.315   0.7529    \n",
       "leg5:year2004 -0.4736355  0.7272161  -0.651   0.5149    \n",
       "leg6:year2004  0.1978432  0.7251777   0.273   0.7850    \n",
       "leg2:year2005 -0.0970969  0.7344139  -0.132   0.8948    \n",
       "leg3:year2005  0.2183591  0.7587228   0.288   0.7735    \n",
       "leg4:year2005  0.3799904  0.7658103   0.496   0.6198    \n",
       "leg5:year2005 -0.1771174  0.7521570  -0.235   0.8138    \n",
       "leg6:year2005  0.2969585  0.7388158   0.402   0.6877    \n",
       "leg2:year2006 -0.1205503  0.6731012  -0.179   0.8579    \n",
       "leg3:year2006  0.0741600  0.6937264   0.107   0.9149    \n",
       "leg4:year2006  0.2992204  0.6938970   0.431   0.6663    \n",
       "leg5:year2006 -0.3956106  0.6704609  -0.590   0.5552    \n",
       "leg6:year2006  0.2347236  0.6707544   0.350   0.7264    \n",
       "leg2:year2007 -0.0874870  0.6521543  -0.134   0.8933    \n",
       "leg3:year2007  0.0821855  0.6758672   0.122   0.9032    \n",
       "leg4:year2007  0.2838107  0.6740975   0.421   0.6737    \n",
       "leg5:year2007 -0.3919250  0.6548965  -0.598   0.5495    \n",
       "leg6:year2007  0.2576990  0.6539848   0.394   0.6935    \n",
       "leg2:year2008 -0.0979307  0.6452474  -0.152   0.8794    \n",
       "leg3:year2008  0.0246827  0.6700917   0.037   0.9706    \n",
       "leg4:year2008  0.2885782  0.6658507   0.433   0.6647    \n",
       "leg5:year2008 -0.3786512  0.6430365  -0.589   0.5560    \n",
       "leg6:year2008  0.2795013  0.6437150   0.434   0.6641    \n",
       "leg2:year2009 -0.1341733  0.6403550  -0.210   0.8340    \n",
       "leg3:year2009  0.0412041  0.6610416   0.062   0.9503    \n",
       "leg4:year2009  0.2234385  0.6583942   0.339   0.7343    \n",
       "leg5:year2009 -0.4711436  0.6373759  -0.739   0.4598    \n",
       "leg6:year2009  0.2790258  0.6382308   0.437   0.6620    \n",
       "leg2:year2010 -0.1307708  0.6354349  -0.206   0.8369    \n",
       "leg3:year2010  0.0163540  0.6593359   0.025   0.9802    \n",
       "leg4:year2010  0.2824939  0.6575683   0.430   0.6675    \n",
       "leg5:year2010 -0.4160627  0.6334215  -0.657   0.5113    \n",
       "leg6:year2010  0.2098639  0.6353116   0.330   0.7411    \n",
       "leg2:year2011 -0.0563383  0.6334342  -0.089   0.9291    \n",
       "leg3:year2011  0.0927135  0.6584903   0.141   0.8880    \n",
       "leg4:year2011  0.2986891  0.6556982   0.456   0.6487    \n",
       "leg5:year2011 -0.3911793  0.6329695  -0.618   0.5366    \n",
       "leg6:year2011  0.3000311  0.6330169   0.474   0.6355    \n",
       "leg2:year2012 -0.0648189  0.6201279  -0.105   0.9168    \n",
       "leg3:year2012  0.1865146  0.6456048   0.289   0.7727    \n",
       "leg4:year2012  0.2922409  0.6430054   0.454   0.6495    \n",
       "leg5:year2012 -0.4484601  0.6203350  -0.723   0.4697    \n",
       "leg6:year2012  0.2494502  0.6203085   0.402   0.6876    \n",
       "leg2:year2013 -0.0602796  0.6186211  -0.097   0.9224    \n",
       "leg3:year2013  0.2078451  0.6442184   0.323   0.7470    \n",
       "leg4:year2013  0.2682182  0.6406192   0.419   0.6754    \n",
       "leg5:year2013 -0.4174431  0.6173556  -0.676   0.4989    \n",
       "leg6:year2013  0.2517430  0.6183842   0.407   0.6839    \n",
       "leg2:year2014 -0.0848145  0.6163875  -0.138   0.8906    \n",
       "leg3:year2014  0.2113778  0.6425170   0.329   0.7422    \n",
       "leg4:year2014  0.2526865  0.6402097   0.395   0.6931    \n",
       "leg5:year2014 -0.4276220  0.6164048  -0.694   0.4878    \n",
       "leg6:year2014  0.2799494  0.6171366   0.454   0.6501    \n",
       "leg2:year2015 -0.1355850  0.6186230  -0.219   0.8265    \n",
       "leg3:year2015  0.1500509  0.6443928   0.233   0.8159    \n",
       "leg4:year2015  0.2773686  0.6421680   0.432   0.6658    \n",
       "leg5:year2015 -0.4375192  0.6177485  -0.708   0.4788    \n",
       "leg6:year2015  0.2849399  0.6184443   0.461   0.6450    \n",
       "leg2:year2016 -0.0421191  0.6167444  -0.068   0.9456    \n",
       "leg3:year2016  0.2145514  0.6421389   0.334   0.7383    \n",
       "leg4:year2016  0.3198987  0.6397251   0.500   0.6170    \n",
       "leg5:year2016 -0.3882343  0.6168379  -0.629   0.5291    \n",
       "leg6:year2016  0.3082619  0.6165581   0.500   0.6171    \n",
       "leg2:year2017 -0.1110018  0.6160548  -0.180   0.8570    \n",
       "leg3:year2017  0.2438393  0.6430305   0.379   0.7045    \n",
       "leg4:year2017  0.3161429  0.6390083   0.495   0.6208    \n",
       "leg5:year2017 -0.3889394  0.6151211  -0.632   0.5272    \n",
       "leg6:year2017  0.2429905  0.6157383   0.395   0.6931    \n",
       "leg2:year2018 -0.1346953  0.6172271  -0.218   0.8273    \n",
       "leg3:year2018  0.1777561  0.6426332   0.277   0.7821    \n",
       "leg4:year2018  0.2727313  0.6398471   0.426   0.6699    \n",
       "leg5:year2018 -0.3783337  0.6164458  -0.614   0.5394    \n",
       "leg6:year2018  0.2439184  0.6166704   0.396   0.6924    \n",
       "leg2:year2019 -0.1089965  0.6148355  -0.177   0.8593    \n",
       "leg3:year2019  0.1792303  0.6406143   0.280   0.7796    \n",
       "leg4:year2019  0.2760748  0.6382258   0.433   0.6653    \n",
       "leg5:year2019 -0.3884754  0.6142812  -0.632   0.5271    \n",
       "leg6:year2019  0.2506819  0.6152139   0.407   0.6837    \n",
       "age:year1989  -0.0010521  0.0272099  -0.039   0.9692    \n",
       "age:year1990  -0.0019937  0.0244045  -0.082   0.9349    \n",
       "age:year1991  -0.0014435  0.0234468  -0.062   0.9509    \n",
       "age:year1992  -0.0069049  0.0224266  -0.308   0.7582    \n",
       "age:year1993  -0.0012735  0.0204931  -0.062   0.9504    \n",
       "age:year1994  -0.0010717  0.0207773  -0.052   0.9589    \n",
       "age:year1995  -0.0014296  0.0200703  -0.071   0.9432    \n",
       "age:year1996  -0.0019972  0.0209953  -0.095   0.9242    \n",
       "age:year1997  -0.0037975  0.0209404  -0.181   0.8561    \n",
       "age:year1998  -0.0007925  0.0208744  -0.038   0.9697    \n",
       "age:year1999  -0.0011638  0.0218931  -0.053   0.9576    \n",
       "age:year2000   0.0035210  0.0212758   0.165   0.8686    \n",
       "age:year2002  -0.0015681  0.0215729  -0.073   0.9421    \n",
       "age:year2003  -0.0009035  0.0206891  -0.044   0.9652    \n",
       "age:year2004   0.0015359  0.0210893   0.073   0.9419    \n",
       "age:year2005  -0.0030351  0.0215396  -0.141   0.8879    \n",
       "age:year2006   0.0015040  0.0198772   0.076   0.9397    \n",
       "age:year2007   0.0001270  0.0198054   0.006   0.9949    \n",
       "age:year2008  -0.0025937  0.0195376  -0.133   0.8944    \n",
       "age:year2009   0.0010993  0.0192602   0.057   0.9545    \n",
       "age:year2010   0.0005989  0.0190257   0.031   0.9749    \n",
       "age:year2011  -0.0010963  0.0190795  -0.057   0.9542    \n",
       "age:year2012   0.0010618  0.0186734   0.057   0.9547    \n",
       "age:year2013   0.0027376  0.0186751   0.147   0.8835    \n",
       "age:year2014   0.0024066  0.0185477   0.130   0.8968    \n",
       "age:year2015   0.0026850  0.0185784   0.145   0.8851    \n",
       "age:year2016   0.0017236  0.0185656   0.093   0.9260    \n",
       "age:year2017   0.0018659  0.0186399   0.100   0.9203    \n",
       "age:year2018   0.0023633  0.0187100   0.126   0.8995    \n",
       "age:year2019   0.0009534  0.0186807   0.051   0.9593    \n",
       "age:genderM    0.0016292  0.0030514   0.534   0.5934    \n",
       "---\n",
       "Signif. codes:  0 '***' 0.001 '**' 0.01 '*' 0.05 '.' 0.1 ' ' 1\n",
       "\n",
       "(Dispersion parameter for Gamma family taken to be 1)\n",
       "\n",
       "    Null deviance: 315.773  on 4084  degrees of freedom\n",
       "Residual deviance:  86.449  on 3866  degrees of freedom\n",
       "AIC: 27542\n",
       "\n",
       "Number of Fisher Scoring iterations: 5\n"
      ]
     },
     "metadata": {},
     "output_type": "display_data"
    }
   ],
   "source": [
    "# run in both directions starting with full model no interactions\n",
    "stepwiseFull3  <- step(fullModel, direction = \"both\", scope = list(lower = nullModel, upper = fullModel))\n",
    "# Tell R dispersion is 1 to get exponential distn\n",
    "summary(stepwiseFull3, dispersion = 1)\n",
    "\n",
    "# run in both directions starting with null model\n",
    "stepwiseNull3  <- step(nullModel, direction = \"both\", scope = list(lower = nullModel, upper = fullModel))\n",
    "# Tell R dispersion is 1 to get exponential distn\n",
    "summary(stepwiseNull3, dispersion = 1)"
   ]
  },
  {
   "cell_type": "code",
   "execution_count": 104,
   "id": "ba1ecaa2",
   "metadata": {
    "scrolled": false
   },
   "outputs": [
    {
     "data": {
      "text/html": [
       "<ol class=list-inline>\n",
       "\t<li>2</li>\n",
       "\t<li>32303.2962187229</li>\n",
       "</ol>\n"
      ],
      "text/latex": [
       "\\begin{enumerate*}\n",
       "\\item 2\n",
       "\\item 32303.2962187229\n",
       "\\end{enumerate*}\n"
      ],
      "text/markdown": [
       "1. 2\n",
       "2. 32303.2962187229\n",
       "\n",
       "\n"
      ],
      "text/plain": [
       "[1]     2.0 32303.3"
      ]
     },
     "metadata": {},
     "output_type": "display_data"
    },
    {
     "data": {
      "text/html": [
       "<ol class=list-inline>\n",
       "\t<li>714</li>\n",
       "\t<li>27991.9357457333</li>\n",
       "</ol>\n"
      ],
      "text/latex": [
       "\\begin{enumerate*}\n",
       "\\item 714\n",
       "\\item 27991.9357457333\n",
       "\\end{enumerate*}\n"
      ],
      "text/markdown": [
       "1. 714\n",
       "2. 27991.9357457333\n",
       "\n",
       "\n"
      ],
      "text/plain": [
       "[1]   714.00 27991.94"
      ]
     },
     "metadata": {},
     "output_type": "display_data"
    },
    {
     "data": {
      "text/html": [
       "<ol class=list-inline>\n",
       "\t<li>219</li>\n",
       "\t<li>27542.2973087054</li>\n",
       "</ol>\n"
      ],
      "text/latex": [
       "\\begin{enumerate*}\n",
       "\\item 219\n",
       "\\item 27542.2973087054\n",
       "\\end{enumerate*}\n"
      ],
      "text/markdown": [
       "1. 219\n",
       "2. 27542.2973087054\n",
       "\n",
       "\n"
      ],
      "text/plain": [
       "[1]   219.0 27542.3"
      ]
     },
     "metadata": {},
     "output_type": "display_data"
    },
    {
     "data": {
      "text/html": [
       "<ol class=list-inline>\n",
       "\t<li>219</li>\n",
       "\t<li>27542.2973087054</li>\n",
       "</ol>\n"
      ],
      "text/latex": [
       "\\begin{enumerate*}\n",
       "\\item 219\n",
       "\\item 27542.2973087054\n",
       "\\end{enumerate*}\n"
      ],
      "text/markdown": [
       "1. 219\n",
       "2. 27542.2973087054\n",
       "\n",
       "\n"
      ],
      "text/plain": [
       "[1]   219.0 27542.3"
      ]
     },
     "metadata": {},
     "output_type": "display_data"
    }
   ],
   "source": [
    "# Obtain AIC's for fitted models\n",
    "extractAIC(nullModel)\n",
    "extractAIC(fullModel)\n",
    "#Obtain AIC's for models through stepwise\n",
    "extractAIC(stepwiseFull3)\n",
    "extractAIC(stepwiseNull3)"
   ]
  },
  {
   "cell_type": "markdown",
   "id": "4a7d26ac",
   "metadata": {},
   "source": [
    "##### Choosing the final model\n",
    "\n",
    "The two models suggested are the same which is reassuring which is \n",
    "\n",
    "`legTime` ~  `age` + `leg` + `gender` + `year` + `leg:year` + `age:year` + `age:gender`\n",
    "\n",
    "Both models contains all four variables variables and three two way interactions.\n",
    "\n",
    "From the summaries, we can see that $D = 86.449$ and $r = 3866$.\n",
    "\n",
    "Therefore,\n",
    "\n",
    "$\\frac{D}{r} = \\frac{86.449}{3866} \\simeq 0.022.$\n",
    "\n",
    "Since $D/r$ is less than $2$, we can conclude that overdispersion isn't a problem.\n",
    "\n",
    "By the rule of thumb, we can conclude that the model is a good fit as $D \\leq r$. "
   ]
  },
  {
   "cell_type": "code",
   "execution_count": 107,
   "id": "7c8f92a3",
   "metadata": {},
   "outputs": [
    {
     "data": {
      "text/plain": [
       "\n",
       "Call:\n",
       "glm(formula = legTime ~ age + leg + gender + year + leg:year + \n",
       "    age:year + age:gender, family = Gamma(link = \"log\"))\n",
       "\n",
       "Deviance Residuals: \n",
       "     Min        1Q    Median        3Q       Max  \n",
       "-0.37043  -0.10295  -0.02911   0.06529   1.02877  \n",
       "\n",
       "Coefficients:\n",
       "                Estimate Std. Error z value Pr(>|z|)    \n",
       "(Intercept)    3.7958187  0.7323991   5.183 2.19e-07 ***\n",
       "age            0.0031211  0.0180187   0.173   0.8625    \n",
       "leg2          -0.2089893  0.5782224  -0.361   0.7178    \n",
       "leg3           0.2638560  0.6056117   0.436   0.6631    \n",
       "leg4          -0.2264182  0.6027299  -0.376   0.7072    \n",
       "leg5           0.4106378  0.5773813   0.711   0.4770    \n",
       "leg6          -0.4624342  0.5781290  -0.800   0.4238    \n",
       "genderM       -0.2324535  0.1366412  -1.701   0.0889 .  \n",
       "year1989      -0.0968528  1.1264354  -0.086   0.9315    \n",
       "year1990      -0.0282623  0.9408617  -0.030   0.9760    \n",
       "year1991      -0.1288950  0.9943331  -0.130   0.8969    \n",
       "year1992       0.2435950  0.9857334   0.247   0.8048    \n",
       "year1993      -0.0846287  0.8770437  -0.096   0.9231    \n",
       "year1994      -0.1275000  0.8707392  -0.146   0.8836    \n",
       "year1995      -0.0725569  0.8477304  -0.086   0.9318    \n",
       "year1996      -0.1165521  0.9056582  -0.129   0.8976    \n",
       "year1997      -0.0817365  0.8811283  -0.093   0.9261    \n",
       "year1998      -0.1613243  0.9265752  -0.174   0.8618    \n",
       "year1999      -0.0098743  0.9533548  -0.010   0.9917    \n",
       "year2000      -0.1347814  0.9249413  -0.146   0.8841    \n",
       "year2002       0.0693485  0.9473458   0.073   0.9416    \n",
       "year2003       0.0135840  0.9114047   0.015   0.9881    \n",
       "year2004      -0.0956632  0.9051964  -0.106   0.9158    \n",
       "year2005       0.1115829  1.0165842   0.110   0.9126    \n",
       "year2006      -0.0358257  0.8448870  -0.042   0.9662    \n",
       "year2007      -0.0045613  0.8469080  -0.005   0.9957    \n",
       "year2008       0.1590743  0.8336421   0.191   0.8487    \n",
       "year2009      -0.0035332  0.8230043  -0.004   0.9966    \n",
       "year2010       0.0261039  0.8135227   0.032   0.9744    \n",
       "year2011       0.0107244  0.8042695   0.013   0.9894    \n",
       "year2012      -0.0507592  0.7851863  -0.065   0.9485    \n",
       "year2013      -0.1410456  0.7813110  -0.181   0.8567    \n",
       "year2014      -0.0746558  0.7737310  -0.096   0.9231    \n",
       "year2015      -0.1240076  0.7755582  -0.160   0.8730    \n",
       "year2016      -0.0778412  0.7754554  -0.100   0.9200    \n",
       "year2017       0.0008673  0.7795501   0.001   0.9991    \n",
       "year2018      -0.0931949  0.7884357  -0.118   0.9059    \n",
       "year2019      -0.0060617  0.7852243  -0.008   0.9938    \n",
       "leg2:year1989  0.3284610  0.8374971   0.392   0.6949    \n",
       "leg3:year1989 -0.0510156  0.8675816  -0.059   0.9531    \n",
       "leg4:year1989  0.3777144  0.8549336   0.442   0.6586    \n",
       "leg5:year1989  0.0378960  0.8368727   0.045   0.9639    \n",
       "leg6:year1989  0.6093567  0.8378137   0.727   0.4670    \n",
       "leg2:year1990  0.2901140  0.7714136   0.376   0.7069    \n",
       "leg3:year1990 -0.1730322  0.8051410  -0.215   0.8298    \n",
       "leg4:year1990  0.3980553  0.7887237   0.505   0.6138    \n",
       "leg5:year1990 -0.1810747  0.7833187  -0.231   0.8172    \n",
       "leg6:year1990  0.5493916  0.7784817   0.706   0.4804    \n",
       "leg2:year1991  0.3501484  0.7647171   0.458   0.6470    \n",
       "leg3:year1991 -0.0871523  0.7867121  -0.111   0.9118    \n",
       "leg4:year1991  0.4408500  0.7835205   0.563   0.5737    \n",
       "leg5:year1991 -0.0863886  0.7761450  -0.111   0.9114    \n",
       "leg6:year1991  0.6641465  0.7806741   0.851   0.3949    \n",
       "leg2:year1992  0.1829386  0.7515234   0.243   0.8077    \n",
       "leg3:year1992 -0.1179273  0.7681832  -0.154   0.8780    \n",
       "leg4:year1992  0.2239552  0.7784544   0.288   0.7736    \n",
       "leg5:year1992 -0.2416050  0.7602318  -0.318   0.7506    \n",
       "leg6:year1992  0.5227079  0.7493164   0.698   0.4854    \n",
       "leg2:year1993  0.3784489  0.6915073   0.547   0.5842    \n",
       "leg3:year1993 -0.0950083  0.7180338  -0.132   0.8947    \n",
       "leg4:year1993  0.4836776  0.7126333   0.679   0.4973    \n",
       "leg5:year1993 -0.1708507  0.6912936  -0.247   0.8048    \n",
       "leg6:year1993  0.5292725  0.6999664   0.756   0.4496    \n",
       "leg2:year1994  0.4140435  0.6779192   0.611   0.5414    \n",
       "leg3:year1994 -0.0899627  0.7024250  -0.128   0.8981    \n",
       "leg4:year1994  0.7600147  0.7022674   1.082   0.2792    \n",
       "leg5:year1994 -0.4895485  0.6778352  -0.722   0.4702    \n",
       "leg6:year1994  0.5927209  0.6847268   0.866   0.3867    \n",
       "leg2:year1995  0.3376760  0.6816582   0.495   0.6203    \n",
       "leg3:year1995 -0.1546036  0.6986834  -0.221   0.8249    \n",
       "leg4:year1995  0.7198992  0.6963374   1.034   0.3012    \n",
       "leg5:year1995 -0.5649485  0.6745046  -0.838   0.4023    \n",
       "leg6:year1995  0.5110004  0.6809082   0.750   0.4530    \n",
       "leg2:year1996  0.3646127  0.6947654   0.525   0.5997    \n",
       "leg3:year1996 -0.0368542  0.7178153  -0.051   0.9591    \n",
       "leg4:year1996  0.7110800  0.7136774   0.996   0.3191    \n",
       "leg5:year1996 -0.4705261  0.6956560  -0.676   0.4988    \n",
       "leg6:year1996  0.6210785  0.6954386   0.893   0.3718    \n",
       "leg2:year1997  0.3776479  0.6911243   0.546   0.5848    \n",
       "leg3:year1997 -0.0692267  0.7109422  -0.097   0.9224    \n",
       "leg4:year1997  0.8203727  0.7161677   1.146   0.2520    \n",
       "leg5:year1997 -0.4942180  0.6887917  -0.718   0.4731    \n",
       "leg6:year1997  0.5721191  0.6873383   0.832   0.4052    \n",
       "leg2:year1998  0.4128457  0.6999906   0.590   0.5553    \n",
       "leg3:year1998 -0.0463118  0.7277874  -0.064   0.9493    \n",
       "leg4:year1998  0.8661455  0.7123416   1.216   0.2240    \n",
       "leg5:year1998 -0.4580692  0.6982694  -0.656   0.5118    \n",
       "leg6:year1998  0.6927156  0.6961215   0.995   0.3197    \n",
       "leg2:year1999 -0.0843744  0.7062589  -0.119   0.9049    \n",
       "leg3:year1999  0.0890391  0.7361395   0.121   0.9037    \n",
       "leg4:year1999  0.3764946  0.7236967   0.520   0.6029    \n",
       "leg5:year1999 -0.4135254  0.7026513  -0.589   0.5562    \n",
       "leg6:year1999  0.2287834  0.7091803   0.323   0.7470    \n",
       "leg2:year2000 -0.1306704  0.7021478  -0.186   0.8524    \n",
       "leg3:year2000  0.0508597  0.7224478   0.070   0.9439    \n",
       "leg4:year2000  0.3400793  0.7201899   0.472   0.6368    \n",
       "leg5:year2000 -0.3792105  0.7108963  -0.533   0.5937    \n",
       "leg6:year2000  0.1938931  0.7077712   0.274   0.7841    \n",
       "leg2:year2002 -0.1355967  0.7389750  -0.183   0.8544    \n",
       "leg3:year2002  0.0138202  0.7601884   0.018   0.9855    \n",
       "leg4:year2002  0.2189404  0.7583729   0.289   0.7728    \n",
       "leg5:year2002 -0.4840319  0.7379614  -0.656   0.5119    \n",
       "leg6:year2002  0.2017538  0.7479723   0.270   0.7874    \n",
       "leg2:year2003 -0.0572008  0.7248509  -0.079   0.9371    \n",
       "leg3:year2003  0.0587907  0.7468661   0.079   0.9373    \n",
       "leg4:year2003  0.2333591  0.7394314   0.316   0.7523    \n",
       "leg5:year2003 -0.3252383  0.7240829  -0.449   0.6533    \n",
       "leg6:year2003  0.2611594  0.7197803   0.363   0.7167    \n",
       "leg2:year2004 -0.1191844  0.7341806  -0.162   0.8710    \n",
       "leg3:year2004  0.0118249  0.7488675   0.016   0.9874    \n",
       "leg4:year2004  0.2344712  0.7446898   0.315   0.7529    \n",
       "leg5:year2004 -0.4736355  0.7272161  -0.651   0.5149    \n",
       "leg6:year2004  0.1978432  0.7251777   0.273   0.7850    \n",
       "leg2:year2005 -0.0970969  0.7344139  -0.132   0.8948    \n",
       "leg3:year2005  0.2183591  0.7587228   0.288   0.7735    \n",
       "leg4:year2005  0.3799904  0.7658103   0.496   0.6198    \n",
       "leg5:year2005 -0.1771174  0.7521570  -0.235   0.8138    \n",
       "leg6:year2005  0.2969585  0.7388158   0.402   0.6877    \n",
       "leg2:year2006 -0.1205503  0.6731012  -0.179   0.8579    \n",
       "leg3:year2006  0.0741600  0.6937264   0.107   0.9149    \n",
       "leg4:year2006  0.2992204  0.6938970   0.431   0.6663    \n",
       "leg5:year2006 -0.3956106  0.6704609  -0.590   0.5552    \n",
       "leg6:year2006  0.2347236  0.6707544   0.350   0.7264    \n",
       "leg2:year2007 -0.0874870  0.6521543  -0.134   0.8933    \n",
       "leg3:year2007  0.0821855  0.6758672   0.122   0.9032    \n",
       "leg4:year2007  0.2838107  0.6740975   0.421   0.6737    \n",
       "leg5:year2007 -0.3919250  0.6548965  -0.598   0.5495    \n",
       "leg6:year2007  0.2576990  0.6539848   0.394   0.6935    \n",
       "leg2:year2008 -0.0979307  0.6452474  -0.152   0.8794    \n",
       "leg3:year2008  0.0246827  0.6700917   0.037   0.9706    \n",
       "leg4:year2008  0.2885782  0.6658507   0.433   0.6647    \n",
       "leg5:year2008 -0.3786512  0.6430365  -0.589   0.5560    \n",
       "leg6:year2008  0.2795013  0.6437150   0.434   0.6641    \n",
       "leg2:year2009 -0.1341733  0.6403550  -0.210   0.8340    \n",
       "leg3:year2009  0.0412041  0.6610416   0.062   0.9503    \n",
       "leg4:year2009  0.2234385  0.6583942   0.339   0.7343    \n",
       "leg5:year2009 -0.4711436  0.6373759  -0.739   0.4598    \n",
       "leg6:year2009  0.2790258  0.6382308   0.437   0.6620    \n",
       "leg2:year2010 -0.1307708  0.6354349  -0.206   0.8369    \n",
       "leg3:year2010  0.0163540  0.6593359   0.025   0.9802    \n",
       "leg4:year2010  0.2824939  0.6575683   0.430   0.6675    \n",
       "leg5:year2010 -0.4160627  0.6334215  -0.657   0.5113    \n",
       "leg6:year2010  0.2098639  0.6353116   0.330   0.7411    \n",
       "leg2:year2011 -0.0563383  0.6334342  -0.089   0.9291    \n",
       "leg3:year2011  0.0927135  0.6584903   0.141   0.8880    \n",
       "leg4:year2011  0.2986891  0.6556982   0.456   0.6487    \n",
       "leg5:year2011 -0.3911793  0.6329695  -0.618   0.5366    \n",
       "leg6:year2011  0.3000311  0.6330169   0.474   0.6355    \n",
       "leg2:year2012 -0.0648189  0.6201279  -0.105   0.9168    \n",
       "leg3:year2012  0.1865146  0.6456048   0.289   0.7727    \n",
       "leg4:year2012  0.2922409  0.6430054   0.454   0.6495    \n",
       "leg5:year2012 -0.4484601  0.6203350  -0.723   0.4697    \n",
       "leg6:year2012  0.2494502  0.6203085   0.402   0.6876    \n",
       "leg2:year2013 -0.0602796  0.6186211  -0.097   0.9224    \n",
       "leg3:year2013  0.2078451  0.6442184   0.323   0.7470    \n",
       "leg4:year2013  0.2682182  0.6406192   0.419   0.6754    \n",
       "leg5:year2013 -0.4174431  0.6173556  -0.676   0.4989    \n",
       "leg6:year2013  0.2517430  0.6183842   0.407   0.6839    \n",
       "leg2:year2014 -0.0848145  0.6163875  -0.138   0.8906    \n",
       "leg3:year2014  0.2113778  0.6425170   0.329   0.7422    \n",
       "leg4:year2014  0.2526865  0.6402097   0.395   0.6931    \n",
       "leg5:year2014 -0.4276220  0.6164048  -0.694   0.4878    \n",
       "leg6:year2014  0.2799494  0.6171366   0.454   0.6501    \n",
       "leg2:year2015 -0.1355850  0.6186230  -0.219   0.8265    \n",
       "leg3:year2015  0.1500509  0.6443928   0.233   0.8159    \n",
       "leg4:year2015  0.2773686  0.6421680   0.432   0.6658    \n",
       "leg5:year2015 -0.4375192  0.6177485  -0.708   0.4788    \n",
       "leg6:year2015  0.2849399  0.6184443   0.461   0.6450    \n",
       "leg2:year2016 -0.0421191  0.6167444  -0.068   0.9456    \n",
       "leg3:year2016  0.2145514  0.6421389   0.334   0.7383    \n",
       "leg4:year2016  0.3198987  0.6397251   0.500   0.6170    \n",
       "leg5:year2016 -0.3882343  0.6168379  -0.629   0.5291    \n",
       "leg6:year2016  0.3082619  0.6165581   0.500   0.6171    \n",
       "leg2:year2017 -0.1110018  0.6160548  -0.180   0.8570    \n",
       "leg3:year2017  0.2438393  0.6430305   0.379   0.7045    \n",
       "leg4:year2017  0.3161429  0.6390083   0.495   0.6208    \n",
       "leg5:year2017 -0.3889394  0.6151211  -0.632   0.5272    \n",
       "leg6:year2017  0.2429905  0.6157383   0.395   0.6931    \n",
       "leg2:year2018 -0.1346953  0.6172271  -0.218   0.8273    \n",
       "leg3:year2018  0.1777561  0.6426332   0.277   0.7821    \n",
       "leg4:year2018  0.2727313  0.6398471   0.426   0.6699    \n",
       "leg5:year2018 -0.3783337  0.6164458  -0.614   0.5394    \n",
       "leg6:year2018  0.2439184  0.6166704   0.396   0.6924    \n",
       "leg2:year2019 -0.1089965  0.6148355  -0.177   0.8593    \n",
       "leg3:year2019  0.1792303  0.6406143   0.280   0.7796    \n",
       "leg4:year2019  0.2760748  0.6382258   0.433   0.6653    \n",
       "leg5:year2019 -0.3884754  0.6142812  -0.632   0.5271    \n",
       "leg6:year2019  0.2506819  0.6152139   0.407   0.6837    \n",
       "age:year1989  -0.0010521  0.0272099  -0.039   0.9692    \n",
       "age:year1990  -0.0019937  0.0244045  -0.082   0.9349    \n",
       "age:year1991  -0.0014435  0.0234468  -0.062   0.9509    \n",
       "age:year1992  -0.0069049  0.0224266  -0.308   0.7582    \n",
       "age:year1993  -0.0012735  0.0204931  -0.062   0.9504    \n",
       "age:year1994  -0.0010717  0.0207773  -0.052   0.9589    \n",
       "age:year1995  -0.0014296  0.0200703  -0.071   0.9432    \n",
       "age:year1996  -0.0019972  0.0209953  -0.095   0.9242    \n",
       "age:year1997  -0.0037975  0.0209404  -0.181   0.8561    \n",
       "age:year1998  -0.0007925  0.0208744  -0.038   0.9697    \n",
       "age:year1999  -0.0011638  0.0218931  -0.053   0.9576    \n",
       "age:year2000   0.0035210  0.0212758   0.165   0.8686    \n",
       "age:year2002  -0.0015681  0.0215729  -0.073   0.9421    \n",
       "age:year2003  -0.0009035  0.0206891  -0.044   0.9652    \n",
       "age:year2004   0.0015359  0.0210893   0.073   0.9419    \n",
       "age:year2005  -0.0030351  0.0215396  -0.141   0.8879    \n",
       "age:year2006   0.0015040  0.0198772   0.076   0.9397    \n",
       "age:year2007   0.0001270  0.0198054   0.006   0.9949    \n",
       "age:year2008  -0.0025937  0.0195376  -0.133   0.8944    \n",
       "age:year2009   0.0010993  0.0192602   0.057   0.9545    \n",
       "age:year2010   0.0005989  0.0190257   0.031   0.9749    \n",
       "age:year2011  -0.0010963  0.0190795  -0.057   0.9542    \n",
       "age:year2012   0.0010618  0.0186734   0.057   0.9547    \n",
       "age:year2013   0.0027376  0.0186751   0.147   0.8835    \n",
       "age:year2014   0.0024066  0.0185477   0.130   0.8968    \n",
       "age:year2015   0.0026850  0.0185784   0.145   0.8851    \n",
       "age:year2016   0.0017236  0.0185656   0.093   0.9260    \n",
       "age:year2017   0.0018659  0.0186399   0.100   0.9203    \n",
       "age:year2018   0.0023633  0.0187100   0.126   0.8995    \n",
       "age:year2019   0.0009534  0.0186807   0.051   0.9593    \n",
       "age:genderM    0.0016292  0.0030514   0.534   0.5934    \n",
       "---\n",
       "Signif. codes:  0 '***' 0.001 '**' 0.01 '*' 0.05 '.' 0.1 ' ' 1\n",
       "\n",
       "(Dispersion parameter for Gamma family taken to be 1)\n",
       "\n",
       "    Null deviance: 315.773  on 4084  degrees of freedom\n",
       "Residual deviance:  86.449  on 3866  degrees of freedom\n",
       "AIC: 27542\n",
       "\n",
       "Number of Fisher Scoring iterations: 5\n"
      ]
     },
     "metadata": {},
     "output_type": "display_data"
    }
   ],
   "source": [
    "# Fit final model\n",
    "finalGLM  <- glm(legTime ~  age + leg + gender + year + leg:year + age:year + age:gender, family = \"Gamma\"(link = \"log\"))\n",
    "# Tell R dispersion is 1 to get exponential distn\n",
    "summary(finalGLM, dispersion = 1)"
   ]
  },
  {
   "cell_type": "markdown",
   "id": "f3472961",
   "metadata": {},
   "source": [
    "###### Interpret the final model\n",
    "\n",
    "The deviance residuals show us the model has a slightly negative median and maximum value is much higher in absolute value than the minimum. The first quartile is further from zero than the third quartile. This indicates that the residuals are not symmetric about zero but right-skew.\n",
    "\n",
    "My final model's response is how much time (in minutes) it takes for a runner to complete a leg in the race based upon the year the race was ran, the participant's age, gender and the leg they ran. \n",
    "\n",
    "The fitted mean response is (rounded to 3 d.p)\n",
    "\n",
    "$\\log{E(Y_i)} =  3.796 + 0.003\\text{age} + \\text{leg} + \\text{gender} + \\text{year} + \\text{leg:year} + \\text{age:year} + \\text{age:gender}$\n",
    "\n",
    "The fitted linear predictor is\n",
    "\n",
    "$\\widehat\\eta = \\text{age} + \\text{leg} + \\text{gender} + \\text{year} + \\text{leg:year} + \\text{age:year} + \\text{age:gender}$\n",
    "\n",
    "After the linear predictor has been calculated, to get the mean response this figure will need to be raised to the power of $e$. \n",
    "\n",
    "Which R will do automatically for us."
   ]
  },
  {
   "cell_type": "markdown",
   "id": "cb7e5f1a",
   "metadata": {},
   "source": [
    "##### Interpret the final model - Age\n",
    "\n",
    "The fitted coefficient for `age` is 0.0031211 for every unit increase in age the linear predictor will increase by a factor of 0.0031211. When the other variables remain fixed. \n",
    "\n",
    "The relationship does make sense, as `age` increases there is a positive regression co-efficient. Meaning the older the person is, the longer the time it takes to complete a leg, meaning the runner is slower which you would expect.\n"
   ]
  },
  {
   "cell_type": "markdown",
   "id": "072f9e76",
   "metadata": {},
   "source": [
    "###### Leg number \n",
    "\n",
    "Nothing changes when the level is 1, when the leg number ran is number 1. \n",
    "\n",
    "For the legs 3 and the estimated main effect is positive. \n",
    "\n",
    "This means that the linear predictor will increase by the magnitude of the respective main effect, compared to leg number 1, when all other values are fixed. And vice versa for the negative main effects.\n",
    "\n",
    "Below is a table of the legs arranged in shortest to longest and their main effects\n",
    "\n",
    "|Leg Number|Main effect|\n",
    "|----------|-----------|\n",
    "|2         |-0.2089893 |\n",
    "|6         |-0.4624342 |\n",
    "|5         |0.4106378  |\n",
    "|1         |N/A        |\n",
    "|4         |-0.2264182 |\n",
    "|3         |0.2638560  |\n",
    "\n",
    "This relationship is a little odd as leg number 5 is shorter than leg number 1 and leg number 4 is typically longer than leg number 1. However this is the relationship we have seen in our linear models as well, so shouldn't come as much of a shock."
   ]
  },
  {
   "cell_type": "markdown",
   "id": "5219e93a",
   "metadata": {},
   "source": [
    "###### Gender\n",
    "\n",
    "Nothing is to be added on when the level is 1, when the runner's gender is female. Assuming all the other values are fixed at this point. \n",
    "\n",
    "For level 2 for `gender` (male) the estimated main effect is -0.2324535\n",
    "\n",
    "This means that the linear predictor decreases by 0.2324535, when all other values are fixed.\n",
    "\n",
    "This relationship makes sense as male runners tend to run faster than female runners.\n",
    "\n",
    "There is a two 2 way interaction with the factor `gender` which is `age`:`gender` \n",
    "\n",
    "Nothing changes when the level is 1 (gender is female). \n",
    "\n",
    "For `age`:`gender` the interaction parameter is 0.0016292\n",
    "\n",
    "Due to the interaction with age for males (level 2), as age increases, the negative effect of gender at level 2 on the response, decreases slightly. So the older the male runner is, less time is taken off compared to younger male runners.\n",
    "\n",
    "For example at the median level of age, which is 44.5 years, compared to females (level 1), males change the linear predictor by \n",
    "\n",
    "$-0.2324535 + (0.0016292 \\times 44.5) \\simeq -0.16$. When all other variables remain fixed\n",
    "\n",
    "Table to show compared to level 1 of `gender`, the change in the linear predictor (using quantiles of age), when all other variable remain fixed.\n",
    "\n",
    "|Gender Level|Age          |Main effect|Interaction effect|Total effect of level 2 (male) |\n",
    "|------------|-------------|-----------|------------------|-------------------------------|\n",
    "|2           |36.5 (Q1)    |-0.2324535 |0.0594658         |-0.1729877                     |\n",
    "|2           |44.5 (Median)|-0.2324535 |0.0724994         |-0.1599541                     |\n",
    "|2           |53 (Q3)      |-0.2324535 |0.0863476         |-0.1461059                     |\n",
    "\n",
    "This relationship makes sense as the older the male runner is, the less effect of being a male (faster) runner has on the leg time."
   ]
  },
  {
   "cell_type": "code",
   "execution_count": 106,
   "id": "96e7c495",
   "metadata": {},
   "outputs": [
    {
     "data": {
      "text/html": [
       "0.0594658"
      ],
      "text/latex": [
       "0.0594658"
      ],
      "text/markdown": [
       "0.0594658"
      ],
      "text/plain": [
       "[1] 0.0594658"
      ]
     },
     "metadata": {},
     "output_type": "display_data"
    },
    {
     "data": {
      "text/html": [
       "0.0724994"
      ],
      "text/latex": [
       "0.0724994"
      ],
      "text/markdown": [
       "0.0724994"
      ],
      "text/plain": [
       "[1] 0.0724994"
      ]
     },
     "metadata": {},
     "output_type": "display_data"
    },
    {
     "data": {
      "text/html": [
       "0.0863476"
      ],
      "text/latex": [
       "0.0863476"
      ],
      "text/markdown": [
       "0.0863476"
      ],
      "text/plain": [
       "[1] 0.0863476"
      ]
     },
     "metadata": {},
     "output_type": "display_data"
    },
    {
     "data": {
      "text/html": [
       "-0.1729877"
      ],
      "text/latex": [
       "-0.1729877"
      ],
      "text/markdown": [
       "-0.1729877"
      ],
      "text/plain": [
       "[1] -0.1729877"
      ]
     },
     "metadata": {},
     "output_type": "display_data"
    },
    {
     "data": {
      "text/html": [
       "-0.1599541"
      ],
      "text/latex": [
       "-0.1599541"
      ],
      "text/markdown": [
       "-0.1599541"
      ],
      "text/plain": [
       "[1] -0.1599541"
      ]
     },
     "metadata": {},
     "output_type": "display_data"
    },
    {
     "data": {
      "text/html": [
       "-0.1461059"
      ],
      "text/latex": [
       "-0.1461059"
      ],
      "text/markdown": [
       "-0.1461059"
      ],
      "text/plain": [
       "[1] -0.1461059"
      ]
     },
     "metadata": {},
     "output_type": "display_data"
    }
   ],
   "source": [
    "(36.5 * 0.0016292)\n",
    "(44.5 * 0.0016292)\n",
    "(53 * 0.0016292)\n",
    "\n",
    "-0.2324535 + (36.5 * 0.0016292)\n",
    "-0.2324535 + (44.5 * 0.0016292)\n",
    "-0.2324535 + (53 * 0.0016292)"
   ]
  },
  {
   "cell_type": "markdown",
   "id": "2ffbe735",
   "metadata": {},
   "source": [
    "###### Year\n",
    "\n",
    "Nothing changes when the level is 1, when the year chosen is 1988. \n",
    "\n",
    "For the years 1989 to 1991 the estimated main effect is negative. This means that the linear predictor will decrease by the magnitude of the respective main effect, compared to 1988 when all other values are fixed.\n",
    "\n",
    "For the year 1992, the estimated main effect is positive. This means that the linear predictor will increase by the magnitude of the respective main effect, compared to 1988, when all other values are fixed.\n",
    "\n",
    "And so on for the remaining years excl 2001 as the race was not ran this year. \n",
    "\n",
    "Below is a table to show which years show an increase in the linear predictor and which show a decrease, compared to 1988, for the main effects, when all other values are fixed.\n",
    "\n",
    "|Year    |Signs of main effects|\n",
    "|--------|---------------------|\n",
    "|89 to 91|Negative             |\n",
    "|1992    |Positive             |\n",
    "|93 to 00|Negative             |\n",
    "|2001    |N/A                  |\n",
    "|02 to 03|Positive             |\n",
    "|2004    |Negative             |\n",
    "|2005    |Positive             |\n",
    "|06 to 07|Negative             |\n",
    "|2008    |Positive             |\n",
    "|2009    |Negative             |\n",
    "|10 to 11|Positive             |\n",
    "|12 to 16|Negative             |\n",
    "|2017    |Positive             |\n",
    "|18 to 19|Negative             |\n",
    "\n",
    "\n",
    "This relationship will show the effect that year had on the linear predictor for those years. \n",
    "\n",
    "It is worth noting that the linear predictor is reduced for 22 out of the 30 years of data we have as opposed to 23 year we saw in the MLR model so the glm has made a nuanced difference."
   ]
  },
  {
   "cell_type": "markdown",
   "id": "631668f9",
   "metadata": {},
   "source": [
    "There are two 2 way interactions with the factor `year`\n",
    "\n",
    "`age`:`year` & `leg`:`year`\n",
    "\n",
    "###### `age`:`year`\n",
    "\n",
    "Below is a table to show if the interaction effect is positive or negative for that level of `year` compared to 1988, when all other variables are fixed.\n",
    "\n",
    "|Year    |Signs of interactions|\n",
    "|--------|---------------------|\n",
    "|89 to 99|Negative             |\n",
    "|2000    |Positive             |\n",
    "|2001    |N/A                  |\n",
    "|02 to 03|Negative             |\n",
    "|2004    |Positive             |\n",
    "|2005    |Negative             |\n",
    "|06 to 07|Positive             |\n",
    "|2008    |Negative             |\n",
    "|09 to 10|Positive             |\n",
    "|2011    |Negative             |\n",
    "|12 to 19|Positive             |\n",
    "\n",
    "These tables tells us one of four things can happen:\n",
    "\n",
    "As age increases if the main effect of the year is positive and the interaction effect is positive. This interaction will magnify the increase in the linear predictor for that year. Such as the year 2010.\n",
    "\n",
    "As age increases if the main effect of the year is negative and the interaction effect is positive. The negative effect of the year level on the linear predictor, will be decreased for older runners. Such as the year 2000.\n",
    "\n",
    "These relationships make sense as you would expect older runners to have slightly longer leg times.\n",
    "\n",
    "As age increases if the main effect of the year is positive and the interaction effect is negative. The positive effect of the year level on the linear predictor, will be decreased for older runners. Such as the year 1992.\n",
    "\n",
    "As age increases if the main effect of the year is negative and the interaction effect is negative. This interaction will magnify the decrease in the linear predictor for that year. Such as the year 1994.\n",
    "\n",
    "This is interesting as you would expect older runners to have higher leg times. However it could be picking up another variable we haven't captured such as weather conditions at the time or something else. Also the magnitude of the effects would affect the final calculations. So I'm not overly worried about this."
   ]
  },
  {
   "cell_type": "markdown",
   "id": "b60181f0",
   "metadata": {},
   "source": [
    "###### `leg`:`year`\n",
    "\n",
    "Nothing is to be added on when the leg ran is number 1 and the year of the race is 1988. Assuming all the other values are fixed at this point. \n",
    "\n",
    "As both of the variables are factors, this interaction means that the values for the main effects and the value for the interaction are all added together.\n",
    "\n",
    "For example if the leg ran was number 5 and the race year was 1992, the linear predictor would change by \n",
    "\n",
    "(Main effect for leg number) + (Main effect for year) + (Interaction effect)\n",
    "\n",
    "In this case the change would be\n",
    "\n",
    "$ 0.4106378 + 0.2435950 + (-0.2416050) \\simeq 0.41 $. When all other variables remain fixed\n",
    "\n",
    "So this interaction adjusts the response when taking into account what the leg times were for the year this race was ran and which leg number was ran as we saw earlier when combining these two factors the results were quite different over the years."
   ]
  },
  {
   "cell_type": "code",
   "execution_count": 108,
   "id": "59a49967",
   "metadata": {
    "scrolled": false
   },
   "outputs": [
    {
     "data": {
      "image/png": "[encoded data removed]",
      "text/plain": [
       "Plot with title \"Normal Q-Q plot\""
      ]
     },
     "metadata": {},
     "output_type": "display_data"
    }
   ],
   "source": [
    "# Diagnostic plots for glms\n",
    "par(mfrow = c(2,2))\n",
    "glmResidPlot(finalGLM)"
   ]
  },
  {
   "cell_type": "markdown",
   "id": "512a8ad6",
   "metadata": {},
   "source": [
    "In the plot of the standardised deviance residuals against a transformation of the response mean does not include the smoothed red line. This makes it difficult to see whether the linearity assumption is reasonable. However the deviance residuals seem fairly randomly scattered about zero, although there are a few residuals with large positive values that seem outlying from the majority. At each small region of the x-axis, it seems plausible that the average of the residuals is around zero. The larger number of negative residuals for the fitted values balances the higher magnitude of the positive residuals values. Overall, the plot does not suggest any problems with the linearity assumption.\n",
    "\n",
    "The points seem to be randomly scattered across the index number in the plots of standardised deviance residuals against index and squared standardised deviance residuals against index. As such, the assumption of independence seems reasonable.\n",
    "\n",
    "In the next plot there are a few points which seem to have high positive residuals the rest of them seem to be fairly well mixed up. Also, since all the responses were measured on different runners, the independence assumption also seems plausible from the context of the study. (Hint for EMA states: Some runners have taken part in the race in more than one year, but this should not have a big impact on the independence assumption)\n",
    "\n",
    "Looking at the final data plot very few data points lie across the fitted line. The points in the plot systematically deviate quite far from the line, especially for negative and positive residuals. As such, it looks like the exponential regression model may not be suitable for modelling these data."
   ]
  },
  {
   "cell_type": "code",
   "execution_count": 109,
   "id": "b35f5e53",
   "metadata": {},
   "outputs": [],
   "source": [
    "detach(dataframe4)"
   ]
  },
  {
   "cell_type": "markdown",
   "id": "6b1f2ae8",
   "metadata": {},
   "source": [
    "## Using a test data set on the models"
   ]
  },
  {
   "cell_type": "code",
   "execution_count": 196,
   "id": "97e10da4",
   "metadata": {},
   "outputs": [],
   "source": [
    "# load dataframe\n",
    "load(\"greensand21.RData\")"
   ]
  },
  {
   "cell_type": "code",
   "execution_count": 198,
   "id": "03a83f95",
   "metadata": {},
   "outputs": [
    {
     "name": "stdout",
     "output_type": "stream",
     "text": [
      "'data.frame':\t204 obs. of  9 variables:\n",
      " $ year    : Factor w/ 1 level \"2021\": 1 1 1 1 1 1 1 1 1 1 ...\n",
      " $ id      : Factor w/ 198 levels \"1021\",\"2011\",..: 57 54 59 61 25 90 74 112 120 78 ...\n",
      " $ gender  : Factor w/ 2 levels \"F\",\"M\": 1 1 1 1 1 1 2 2 2 2 ...\n",
      " $ ageClass: Factor w/ 11 levels \"16\",\"20\",\"21\",..: 8 6 10 4 6 6 5 3 5 3 ...\n",
      " $ age     : num  58 48 65.5 32.5 53 51.5 40.5 31 44.5 32.5 ...\n",
      " $ leg     : Factor w/ 6 levels \"1\",\"2\",\"3\",\"4\",..: 1 2 3 4 5 6 1 2 3 4 ...\n",
      " $ legLen  : num  5.54 4.05 9.1 5.84 5.28 4.68 5.54 4.05 9.1 5.84 ...\n",
      " $ legTime : num  59.4 33.1 71.3 44.5 43.1 ...\n",
      " $ mpm     : num  10.73 8.17 7.84 7.63 8.16 ...\n"
     ]
    }
   ],
   "source": [
    "str(greensand21)"
   ]
  },
  {
   "cell_type": "code",
   "execution_count": 216,
   "id": "c1a49df2",
   "metadata": {},
   "outputs": [
    {
     "data": {
      "text/html": [
       "<table>\n",
       "<thead><tr><th scope=col>year</th><th scope=col>id</th><th scope=col>gender</th><th scope=col>ageClass</th><th scope=col>age</th><th scope=col>leg</th><th scope=col>legLen</th><th scope=col>legTime</th><th scope=col>mpm</th></tr></thead>\n",
       "<tbody>\n",
       "\t<tr><td>2019 </td><td>27262</td><td>F    </td><td>55   </td><td>58.0 </td><td>1    </td><td>5.54 </td><td>59.42</td><td>10.73</td></tr>\n",
       "\t<tr><td>2019 </td><td>27228</td><td>F    </td><td>45   </td><td>48.0 </td><td>2    </td><td>4.05 </td><td>33.08</td><td> 8.17</td></tr>\n",
       "\t<tr><td>2019 </td><td>28014</td><td>F    </td><td>65   </td><td>65.5 </td><td>3    </td><td>9.10 </td><td>71.32</td><td> 7.84</td></tr>\n",
       "\t<tr><td>2019 </td><td>28100</td><td>F    </td><td>35   </td><td>32.5 </td><td>4    </td><td>5.84 </td><td>44.55</td><td> 7.63</td></tr>\n",
       "\t<tr><td>2019 </td><td>24046</td><td>F    </td><td>45   </td><td>53.0 </td><td>5    </td><td>5.28 </td><td>43.08</td><td> 8.16</td></tr>\n",
       "\t<tr><td>2019 </td><td>30227</td><td>F    </td><td>45   </td><td>51.5 </td><td>6    </td><td>4.68 </td><td>35.83</td><td> 7.66</td></tr>\n",
       "</tbody>\n",
       "</table>\n"
      ],
      "text/latex": [
       "\\begin{tabular}{r|lllllllll}\n",
       " year & id & gender & ageClass & age & leg & legLen & legTime & mpm\\\\\n",
       "\\hline\n",
       "\t 2019  & 27262 & F     & 55    & 58.0  & 1     & 5.54  & 59.42 & 10.73\\\\\n",
       "\t 2019  & 27228 & F     & 45    & 48.0  & 2     & 4.05  & 33.08 &  8.17\\\\\n",
       "\t 2019  & 28014 & F     & 65    & 65.5  & 3     & 9.10  & 71.32 &  7.84\\\\\n",
       "\t 2019  & 28100 & F     & 35    & 32.5  & 4     & 5.84  & 44.55 &  7.63\\\\\n",
       "\t 2019  & 24046 & F     & 45    & 53.0  & 5     & 5.28  & 43.08 &  8.16\\\\\n",
       "\t 2019  & 30227 & F     & 45    & 51.5  & 6     & 4.68  & 35.83 &  7.66\\\\\n",
       "\\end{tabular}\n"
      ],
      "text/markdown": [
       "\n",
       "| year | id | gender | ageClass | age | leg | legLen | legTime | mpm |\n",
       "|---|---|---|---|---|---|---|---|---|\n",
       "| 2019  | 27262 | F     | 55    | 58.0  | 1     | 5.54  | 59.42 | 10.73 |\n",
       "| 2019  | 27228 | F     | 45    | 48.0  | 2     | 4.05  | 33.08 |  8.17 |\n",
       "| 2019  | 28014 | F     | 65    | 65.5  | 3     | 9.10  | 71.32 |  7.84 |\n",
       "| 2019  | 28100 | F     | 35    | 32.5  | 4     | 5.84  | 44.55 |  7.63 |\n",
       "| 2019  | 24046 | F     | 45    | 53.0  | 5     | 5.28  | 43.08 |  8.16 |\n",
       "| 2019  | 30227 | F     | 45    | 51.5  | 6     | 4.68  | 35.83 |  7.66 |\n",
       "\n"
      ],
      "text/plain": [
       "  year id    gender ageClass age  leg legLen legTime mpm  \n",
       "1 2019 27262 F      55       58.0 1   5.54   59.42   10.73\n",
       "2 2019 27228 F      45       48.0 2   4.05   33.08    8.17\n",
       "3 2019 28014 F      65       65.5 3   9.10   71.32    7.84\n",
       "4 2019 28100 F      35       32.5 4   5.84   44.55    7.63\n",
       "5 2019 24046 F      45       53.0 5   5.28   43.08    8.16\n",
       "6 2019 30227 F      45       51.5 6   4.68   35.83    7.66"
      ]
     },
     "metadata": {},
     "output_type": "display_data"
    }
   ],
   "source": [
    "# Make the vectors (variables) in the data frame directly accessible to R\n",
    "attach(greensand21)\n",
    "\n",
    "# Check the dataframe has loaded OK\n",
    "head(greensand21)"
   ]
  },
  {
   "cell_type": "code",
   "execution_count": 217,
   "id": "b85826a1",
   "metadata": {},
   "outputs": [
    {
     "name": "stdout",
     "output_type": "stream",
     "text": [
      "Missing values by variable"
     ]
    },
    {
     "data": {
      "text/html": [
       "<dl class=dl-horizontal>\n",
       "\t<dt>year</dt>\n",
       "\t\t<dd>0</dd>\n",
       "\t<dt>id</dt>\n",
       "\t\t<dd>0</dd>\n",
       "\t<dt>gender</dt>\n",
       "\t\t<dd>0</dd>\n",
       "\t<dt>ageClass</dt>\n",
       "\t\t<dd>0</dd>\n",
       "\t<dt>age</dt>\n",
       "\t\t<dd>0</dd>\n",
       "\t<dt>leg</dt>\n",
       "\t\t<dd>0</dd>\n",
       "\t<dt>legLen</dt>\n",
       "\t\t<dd>0</dd>\n",
       "\t<dt>legTime</dt>\n",
       "\t\t<dd>0</dd>\n",
       "\t<dt>mpm</dt>\n",
       "\t\t<dd>0</dd>\n",
       "</dl>\n"
      ],
      "text/latex": [
       "\\begin{description*}\n",
       "\\item[year] 0\n",
       "\\item[id] 0\n",
       "\\item[gender] 0\n",
       "\\item[ageClass] 0\n",
       "\\item[age] 0\n",
       "\\item[leg] 0\n",
       "\\item[legLen] 0\n",
       "\\item[legTime] 0\n",
       "\\item[mpm] 0\n",
       "\\end{description*}\n"
      ],
      "text/markdown": [
       "year\n",
       ":   0id\n",
       ":   0gender\n",
       ":   0ageClass\n",
       ":   0age\n",
       ":   0leg\n",
       ":   0legLen\n",
       ":   0legTime\n",
       ":   0mpm\n",
       ":   0\n",
       "\n"
      ],
      "text/plain": [
       "    year       id   gender ageClass      age      leg   legLen  legTime \n",
       "       0        0        0        0        0        0        0        0 \n",
       "     mpm \n",
       "       0 "
      ]
     },
     "metadata": {},
     "output_type": "display_data"
    }
   ],
   "source": [
    "# code to check if missing values for any variables\n",
    "cat(\"Missing values by variable\")\n",
    "colSums(is.na(greensand21))"
   ]
  },
  {
   "cell_type": "code",
   "execution_count": 218,
   "id": "2287ffc4",
   "metadata": {},
   "outputs": [
    {
     "data": {
      "image/png": "[encoded data removed]",
      "text/plain": [
       "plot without title"
      ]
     },
     "metadata": {},
     "output_type": "display_data"
    }
   ],
   "source": [
    "# sense check male:female ratio\n",
    "plot(gender)"
   ]
  },
  {
   "cell_type": "code",
   "execution_count": 219,
   "id": "41ceabdf",
   "metadata": {},
   "outputs": [],
   "source": [
    "detach(greensand21)"
   ]
  },
  {
   "cell_type": "code",
   "execution_count": 220,
   "id": "167cae83",
   "metadata": {},
   "outputs": [],
   "source": [
    "# change year to 2019 in new dataframe\n",
    "greensand21$year  <- \"2019\""
   ]
  },
  {
   "cell_type": "code",
   "execution_count": 213,
   "id": "5c800a6f",
   "metadata": {
    "scrolled": true
   },
   "outputs": [
    {
     "name": "stdout",
     "output_type": "stream",
     "text": [
      "'data.frame':\t204 obs. of  9 variables:\n",
      " $ year    : chr  \"2019\" \"2019\" \"2019\" \"2019\" ...\n",
      " $ id      : Factor w/ 198 levels \"1021\",\"2011\",..: 57 54 59 61 25 90 74 112 120 78 ...\n",
      " $ gender  : Factor w/ 2 levels \"F\",\"M\": 1 1 1 1 1 1 2 2 2 2 ...\n",
      " $ ageClass: Factor w/ 11 levels \"16\",\"20\",\"21\",..: 8 6 10 4 6 6 5 3 5 3 ...\n",
      " $ age     : num  58 48 65.5 32.5 53 51.5 40.5 31 44.5 32.5 ...\n",
      " $ leg     : Factor w/ 6 levels \"1\",\"2\",\"3\",\"4\",..: 1 2 3 4 5 6 1 2 3 4 ...\n",
      " $ legLen  : num  5.54 4.05 9.1 5.84 5.28 4.68 5.54 4.05 9.1 5.84 ...\n",
      " $ legTime : num  59.4 33.1 71.3 44.5 43.1 ...\n",
      " $ mpm     : num  10.73 8.17 7.84 7.63 8.16 ...\n"
     ]
    }
   ],
   "source": [
    "# check change\n",
    "str(greensand21)"
   ]
  },
  {
   "cell_type": "code",
   "execution_count": 221,
   "id": "1415e8d4",
   "metadata": {},
   "outputs": [],
   "source": [
    "# change year to 2019 in new dataframe to factor\n",
    "greensand21$year  <- as.factor(greensand21$year)"
   ]
  },
  {
   "cell_type": "code",
   "execution_count": 222,
   "id": "a76f74aa",
   "metadata": {},
   "outputs": [
    {
     "name": "stdout",
     "output_type": "stream",
     "text": [
      "'data.frame':\t204 obs. of  9 variables:\n",
      " $ year    : Factor w/ 1 level \"2019\": 1 1 1 1 1 1 1 1 1 1 ...\n",
      " $ id      : Factor w/ 198 levels \"1021\",\"2011\",..: 57 54 59 61 25 90 74 112 120 78 ...\n",
      " $ gender  : Factor w/ 2 levels \"F\",\"M\": 1 1 1 1 1 1 2 2 2 2 ...\n",
      " $ ageClass: Factor w/ 11 levels \"16\",\"20\",\"21\",..: 8 6 10 4 6 6 5 3 5 3 ...\n",
      " $ age     : num  58 48 65.5 32.5 53 51.5 40.5 31 44.5 32.5 ...\n",
      " $ leg     : Factor w/ 6 levels \"1\",\"2\",\"3\",\"4\",..: 1 2 3 4 5 6 1 2 3 4 ...\n",
      " $ legLen  : num  5.54 4.05 9.1 5.84 5.28 4.68 5.54 4.05 9.1 5.84 ...\n",
      " $ legTime : num  59.4 33.1 71.3 44.5 43.1 ...\n",
      " $ mpm     : num  10.73 8.17 7.84 7.63 8.16 ...\n"
     ]
    }
   ],
   "source": [
    "str(greensand21)"
   ]
  },
  {
   "cell_type": "code",
   "execution_count": 223,
   "id": "038b1648",
   "metadata": {},
   "outputs": [
    {
     "data": {
      "text/html": [
       "<table>\n",
       "<thead><tr><th scope=col>year</th><th scope=col>id</th><th scope=col>gender</th><th scope=col>ageClass</th><th scope=col>age</th><th scope=col>leg</th><th scope=col>legLen</th><th scope=col>legTime</th><th scope=col>mpm</th></tr></thead>\n",
       "<tbody>\n",
       "\t<tr><td>2019 </td><td>27262</td><td>F    </td><td>55   </td><td>58.0 </td><td>1    </td><td>5.54 </td><td>59.42</td><td>10.73</td></tr>\n",
       "\t<tr><td>2019 </td><td>27228</td><td>F    </td><td>45   </td><td>48.0 </td><td>2    </td><td>4.05 </td><td>33.08</td><td> 8.17</td></tr>\n",
       "\t<tr><td>2019 </td><td>28014</td><td>F    </td><td>65   </td><td>65.5 </td><td>3    </td><td>9.10 </td><td>71.32</td><td> 7.84</td></tr>\n",
       "\t<tr><td>2019 </td><td>28100</td><td>F    </td><td>35   </td><td>32.5 </td><td>4    </td><td>5.84 </td><td>44.55</td><td> 7.63</td></tr>\n",
       "\t<tr><td>2019 </td><td>24046</td><td>F    </td><td>45   </td><td>53.0 </td><td>5    </td><td>5.28 </td><td>43.08</td><td> 8.16</td></tr>\n",
       "\t<tr><td>2019 </td><td>30227</td><td>F    </td><td>45   </td><td>51.5 </td><td>6    </td><td>4.68 </td><td>35.83</td><td> 7.66</td></tr>\n",
       "</tbody>\n",
       "</table>\n"
      ],
      "text/latex": [
       "\\begin{tabular}{r|lllllllll}\n",
       " year & id & gender & ageClass & age & leg & legLen & legTime & mpm\\\\\n",
       "\\hline\n",
       "\t 2019  & 27262 & F     & 55    & 58.0  & 1     & 5.54  & 59.42 & 10.73\\\\\n",
       "\t 2019  & 27228 & F     & 45    & 48.0  & 2     & 4.05  & 33.08 &  8.17\\\\\n",
       "\t 2019  & 28014 & F     & 65    & 65.5  & 3     & 9.10  & 71.32 &  7.84\\\\\n",
       "\t 2019  & 28100 & F     & 35    & 32.5  & 4     & 5.84  & 44.55 &  7.63\\\\\n",
       "\t 2019  & 24046 & F     & 45    & 53.0  & 5     & 5.28  & 43.08 &  8.16\\\\\n",
       "\t 2019  & 30227 & F     & 45    & 51.5  & 6     & 4.68  & 35.83 &  7.66\\\\\n",
       "\\end{tabular}\n"
      ],
      "text/markdown": [
       "\n",
       "| year | id | gender | ageClass | age | leg | legLen | legTime | mpm |\n",
       "|---|---|---|---|---|---|---|---|---|\n",
       "| 2019  | 27262 | F     | 55    | 58.0  | 1     | 5.54  | 59.42 | 10.73 |\n",
       "| 2019  | 27228 | F     | 45    | 48.0  | 2     | 4.05  | 33.08 |  8.17 |\n",
       "| 2019  | 28014 | F     | 65    | 65.5  | 3     | 9.10  | 71.32 |  7.84 |\n",
       "| 2019  | 28100 | F     | 35    | 32.5  | 4     | 5.84  | 44.55 |  7.63 |\n",
       "| 2019  | 24046 | F     | 45    | 53.0  | 5     | 5.28  | 43.08 |  8.16 |\n",
       "| 2019  | 30227 | F     | 45    | 51.5  | 6     | 4.68  | 35.83 |  7.66 |\n",
       "\n"
      ],
      "text/plain": [
       "  year id    gender ageClass age  leg legLen legTime mpm  \n",
       "1 2019 27262 F      55       58.0 1   5.54   59.42   10.73\n",
       "2 2019 27228 F      45       48.0 2   4.05   33.08    8.17\n",
       "3 2019 28014 F      65       65.5 3   9.10   71.32    7.84\n",
       "4 2019 28100 F      35       32.5 4   5.84   44.55    7.63\n",
       "5 2019 24046 F      45       53.0 5   5.28   43.08    8.16\n",
       "6 2019 30227 F      45       51.5 6   4.68   35.83    7.66"
      ]
     },
     "metadata": {},
     "output_type": "display_data"
    }
   ],
   "source": [
    "# re-attach dataframe\n",
    "attach(greensand21)\n",
    "head(greensand21)"
   ]
  },
  {
   "cell_type": "code",
   "execution_count": 224,
   "id": "79c3dbc7",
   "metadata": {},
   "outputs": [
    {
     "data": {
      "text/html": [
       "<table>\n",
       "<thead><tr><th scope=col>age</th><th scope=col>leg</th><th scope=col>gender</th><th scope=col>year</th></tr></thead>\n",
       "<tbody>\n",
       "\t<tr><td>58.0</td><td>1   </td><td>F   </td><td>2019</td></tr>\n",
       "\t<tr><td>48.0</td><td>2   </td><td>F   </td><td>2019</td></tr>\n",
       "\t<tr><td>65.5</td><td>3   </td><td>F   </td><td>2019</td></tr>\n",
       "\t<tr><td>32.5</td><td>4   </td><td>F   </td><td>2019</td></tr>\n",
       "\t<tr><td>53.0</td><td>5   </td><td>F   </td><td>2019</td></tr>\n",
       "\t<tr><td>51.5</td><td>6   </td><td>F   </td><td>2019</td></tr>\n",
       "</tbody>\n",
       "</table>\n"
      ],
      "text/latex": [
       "\\begin{tabular}{r|llll}\n",
       " age & leg & gender & year\\\\\n",
       "\\hline\n",
       "\t 58.0 & 1    & F    & 2019\\\\\n",
       "\t 48.0 & 2    & F    & 2019\\\\\n",
       "\t 65.5 & 3    & F    & 2019\\\\\n",
       "\t 32.5 & 4    & F    & 2019\\\\\n",
       "\t 53.0 & 5    & F    & 2019\\\\\n",
       "\t 51.5 & 6    & F    & 2019\\\\\n",
       "\\end{tabular}\n"
      ],
      "text/markdown": [
       "\n",
       "| age | leg | gender | year |\n",
       "|---|---|---|---|\n",
       "| 58.0 | 1    | F    | 2019 |\n",
       "| 48.0 | 2    | F    | 2019 |\n",
       "| 65.5 | 3    | F    | 2019 |\n",
       "| 32.5 | 4    | F    | 2019 |\n",
       "| 53.0 | 5    | F    | 2019 |\n",
       "| 51.5 | 6    | F    | 2019 |\n",
       "\n"
      ],
      "text/plain": [
       "  age  leg gender year\n",
       "1 58.0 1   F      2019\n",
       "2 48.0 2   F      2019\n",
       "3 65.5 3   F      2019\n",
       "4 32.5 4   F      2019\n",
       "5 53.0 5   F      2019\n",
       "6 51.5 6   F      2019"
      ]
     },
     "metadata": {},
     "output_type": "display_data"
    },
    {
     "name": "stdout",
     "output_type": "stream",
     "text": [
      "'data.frame':\t204 obs. of  4 variables:\n",
      " $ age   : num  58 48 65.5 32.5 53 51.5 40.5 31 44.5 32.5 ...\n",
      " $ leg   : Factor w/ 6 levels \"1\",\"2\",\"3\",\"4\",..: 1 2 3 4 5 6 1 2 3 4 ...\n",
      " $ gender: Factor w/ 2 levels \"F\",\"M\": 1 1 1 1 1 1 2 2 2 2 ...\n",
      " $ year  : Factor w/ 1 level \"2019\": 1 1 1 1 1 1 1 1 1 1 ...\n"
     ]
    }
   ],
   "source": [
    "#create new dataframe for predictions for models with age\n",
    "dataframe8  <- data.frame(age,leg,gender,year)\n",
    "\n",
    "head(dataframe8)\n",
    "str(dataframe8)"
   ]
  },
  {
   "cell_type": "code",
   "execution_count": 225,
   "id": "a9d69e64",
   "metadata": {},
   "outputs": [],
   "source": [
    "#attach new dataframe\n",
    "detach(greensand21)\n",
    "attach(dataframe8)"
   ]
  },
  {
   "cell_type": "code",
   "execution_count": 226,
   "id": "1f66f715",
   "metadata": {},
   "outputs": [
    {
     "data": {
      "text/html": [
       "<table>\n",
       "<thead><tr><th scope=col>age</th><th scope=col>leg</th><th scope=col>gender</th><th scope=col>year</th><th scope=col>PredictionsMLR1A</th><th scope=col>PredictionsGLM1A</th></tr></thead>\n",
       "<tbody>\n",
       "\t<tr><td>58.0    </td><td>1       </td><td>F       </td><td>2019    </td><td>4.016682</td><td>56.04079</td></tr>\n",
       "\t<tr><td>48.0    </td><td>2       </td><td>F       </td><td>2019    </td><td>3.658375</td><td>39.14798</td></tr>\n",
       "\t<tr><td>65.5    </td><td>3       </td><td>F       </td><td>2019    </td><td>4.496544</td><td>89.99238</td></tr>\n",
       "\t<tr><td>32.5    </td><td>4       </td><td>F       </td><td>2019    </td><td>3.957552</td><td>53.08190</td></tr>\n",
       "\t<tr><td>53.0    </td><td>5       </td><td>F       </td><td>2019    </td><td>4.014812</td><td>56.14118</td></tr>\n",
       "\t<tr><td>51.5    </td><td>6       </td><td>F       </td><td>2019    </td><td>3.772857</td><td>44.16105</td></tr>\n",
       "</tbody>\n",
       "</table>\n"
      ],
      "text/latex": [
       "\\begin{tabular}{r|llllll}\n",
       " age & leg & gender & year & PredictionsMLR1A & PredictionsGLM1A\\\\\n",
       "\\hline\n",
       "\t 58.0     & 1        & F        & 2019     & 4.016682 & 56.04079\\\\\n",
       "\t 48.0     & 2        & F        & 2019     & 3.658375 & 39.14798\\\\\n",
       "\t 65.5     & 3        & F        & 2019     & 4.496544 & 89.99238\\\\\n",
       "\t 32.5     & 4        & F        & 2019     & 3.957552 & 53.08190\\\\\n",
       "\t 53.0     & 5        & F        & 2019     & 4.014812 & 56.14118\\\\\n",
       "\t 51.5     & 6        & F        & 2019     & 3.772857 & 44.16105\\\\\n",
       "\\end{tabular}\n"
      ],
      "text/markdown": [
       "\n",
       "| age | leg | gender | year | PredictionsMLR1A | PredictionsGLM1A |\n",
       "|---|---|---|---|---|---|\n",
       "| 58.0     | 1        | F        | 2019     | 4.016682 | 56.04079 |\n",
       "| 48.0     | 2        | F        | 2019     | 3.658375 | 39.14798 |\n",
       "| 65.5     | 3        | F        | 2019     | 4.496544 | 89.99238 |\n",
       "| 32.5     | 4        | F        | 2019     | 3.957552 | 53.08190 |\n",
       "| 53.0     | 5        | F        | 2019     | 4.014812 | 56.14118 |\n",
       "| 51.5     | 6        | F        | 2019     | 3.772857 | 44.16105 |\n",
       "\n"
      ],
      "text/plain": [
       "  age  leg gender year PredictionsMLR1A PredictionsGLM1A\n",
       "1 58.0 1   F      2019 4.016682         56.04079        \n",
       "2 48.0 2   F      2019 3.658375         39.14798        \n",
       "3 65.5 3   F      2019 4.496544         89.99238        \n",
       "4 32.5 4   F      2019 3.957552         53.08190        \n",
       "5 53.0 5   F      2019 4.014812         56.14118        \n",
       "6 51.5 6   F      2019 3.772857         44.16105        "
      ]
     },
     "metadata": {},
     "output_type": "display_data"
    }
   ],
   "source": [
    "# add predictions to dataframe\n",
    "dataframe8$PredictionsMLR1A  <- predict(finalMLR, newdata = dataframe8)\n",
    "dataframe8$PredictionsGLM1A  <- predict(finalGLM,newdata = dataframe8, type = \"response\")\n",
    "\n",
    "head(dataframe8)"
   ]
  },
  {
   "cell_type": "code",
   "execution_count": 227,
   "id": "a37be500",
   "metadata": {},
   "outputs": [],
   "source": [
    "#re-attach dataframe with new values\n",
    "detach(dataframe8)\n",
    "attach(dataframe8)"
   ]
  },
  {
   "cell_type": "code",
   "execution_count": 231,
   "id": "f063c93f",
   "metadata": {},
   "outputs": [
    {
     "data": {
      "text/html": [
       "<table>\n",
       "<thead><tr><th scope=col>age</th><th scope=col>leg</th><th scope=col>gender</th><th scope=col>year</th><th scope=col>PredictionsMLR1A</th><th scope=col>PredictionsGLM1A</th><th scope=col>PredMLR1</th><th scope=col>PredMLR1A</th></tr></thead>\n",
       "<tbody>\n",
       "\t<tr><td>58.0    </td><td>1       </td><td>F       </td><td>2019    </td><td>4.016682</td><td>56.04079</td><td>55.51661</td><td>55.51661</td></tr>\n",
       "\t<tr><td>48.0    </td><td>2       </td><td>F       </td><td>2019    </td><td>3.658375</td><td>39.14798</td><td>38.79823</td><td>38.79823</td></tr>\n",
       "\t<tr><td>65.5    </td><td>3       </td><td>F       </td><td>2019    </td><td>4.496544</td><td>89.99238</td><td>89.70661</td><td>89.70661</td></tr>\n",
       "\t<tr><td>32.5    </td><td>4       </td><td>F       </td><td>2019    </td><td>3.957552</td><td>53.08190</td><td>52.32909</td><td>52.32909</td></tr>\n",
       "\t<tr><td>53.0    </td><td>5       </td><td>F       </td><td>2019    </td><td>4.014812</td><td>56.14118</td><td>55.41290</td><td>55.41290</td></tr>\n",
       "\t<tr><td>51.5    </td><td>6       </td><td>F       </td><td>2019    </td><td>3.772857</td><td>44.16105</td><td>43.50419</td><td>43.50419</td></tr>\n",
       "</tbody>\n",
       "</table>\n"
      ],
      "text/latex": [
       "\\begin{tabular}{r|llllllll}\n",
       " age & leg & gender & year & PredictionsMLR1A & PredictionsGLM1A & PredMLR1 & PredMLR1A\\\\\n",
       "\\hline\n",
       "\t 58.0     & 1        & F        & 2019     & 4.016682 & 56.04079 & 55.51661 & 55.51661\\\\\n",
       "\t 48.0     & 2        & F        & 2019     & 3.658375 & 39.14798 & 38.79823 & 38.79823\\\\\n",
       "\t 65.5     & 3        & F        & 2019     & 4.496544 & 89.99238 & 89.70661 & 89.70661\\\\\n",
       "\t 32.5     & 4        & F        & 2019     & 3.957552 & 53.08190 & 52.32909 & 52.32909\\\\\n",
       "\t 53.0     & 5        & F        & 2019     & 4.014812 & 56.14118 & 55.41290 & 55.41290\\\\\n",
       "\t 51.5     & 6        & F        & 2019     & 3.772857 & 44.16105 & 43.50419 & 43.50419\\\\\n",
       "\\end{tabular}\n"
      ],
      "text/markdown": [
       "\n",
       "| age | leg | gender | year | PredictionsMLR1A | PredictionsGLM1A | PredMLR1 | PredMLR1A |\n",
       "|---|---|---|---|---|---|---|---|\n",
       "| 58.0     | 1        | F        | 2019     | 4.016682 | 56.04079 | 55.51661 | 55.51661 |\n",
       "| 48.0     | 2        | F        | 2019     | 3.658375 | 39.14798 | 38.79823 | 38.79823 |\n",
       "| 65.5     | 3        | F        | 2019     | 4.496544 | 89.99238 | 89.70661 | 89.70661 |\n",
       "| 32.5     | 4        | F        | 2019     | 3.957552 | 53.08190 | 52.32909 | 52.32909 |\n",
       "| 53.0     | 5        | F        | 2019     | 4.014812 | 56.14118 | 55.41290 | 55.41290 |\n",
       "| 51.5     | 6        | F        | 2019     | 3.772857 | 44.16105 | 43.50419 | 43.50419 |\n",
       "\n"
      ],
      "text/plain": [
       "  age  leg gender year PredictionsMLR1A PredictionsGLM1A PredMLR1 PredMLR1A\n",
       "1 58.0 1   F      2019 4.016682         56.04079         55.51661 55.51661 \n",
       "2 48.0 2   F      2019 3.658375         39.14798         38.79823 38.79823 \n",
       "3 65.5 3   F      2019 4.496544         89.99238         89.70661 89.70661 \n",
       "4 32.5 4   F      2019 3.957552         53.08190         52.32909 52.32909 \n",
       "5 53.0 5   F      2019 4.014812         56.14118         55.41290 55.41290 \n",
       "6 51.5 6   F      2019 3.772857         44.16105         43.50419 43.50419 "
      ]
     },
     "metadata": {},
     "output_type": "display_data"
    }
   ],
   "source": [
    "# convert MLR predictions \n",
    "dataframe8$PredMLR1A  <- exp(PredictionsMLR1A)\n",
    "head(dataframe8)"
   ]
  },
  {
   "cell_type": "code",
   "execution_count": 232,
   "id": "ee0043d9",
   "metadata": {},
   "outputs": [
    {
     "data": {
      "text/html": [
       "<table>\n",
       "<thead><tr><th scope=col>age</th><th scope=col>leg</th><th scope=col>gender</th><th scope=col>year</th><th scope=col>PredictionsMLR1A</th><th scope=col>PredictionsGLM1A</th><th scope=col>PredMLR1</th><th scope=col>PredMLR1A</th></tr></thead>\n",
       "<tbody>\n",
       "\t<tr><td>58.0    </td><td>1       </td><td>F       </td><td>2019    </td><td>4.016682</td><td>56.04079</td><td>55.51661</td><td>55.51661</td></tr>\n",
       "\t<tr><td>48.0    </td><td>2       </td><td>F       </td><td>2019    </td><td>3.658375</td><td>39.14798</td><td>38.79823</td><td>38.79823</td></tr>\n",
       "\t<tr><td>65.5    </td><td>3       </td><td>F       </td><td>2019    </td><td>4.496544</td><td>89.99238</td><td>89.70661</td><td>89.70661</td></tr>\n",
       "\t<tr><td>32.5    </td><td>4       </td><td>F       </td><td>2019    </td><td>3.957552</td><td>53.08190</td><td>52.32909</td><td>52.32909</td></tr>\n",
       "\t<tr><td>53.0    </td><td>5       </td><td>F       </td><td>2019    </td><td>4.014812</td><td>56.14118</td><td>55.41290</td><td>55.41290</td></tr>\n",
       "\t<tr><td>51.5    </td><td>6       </td><td>F       </td><td>2019    </td><td>3.772857</td><td>44.16105</td><td>43.50419</td><td>43.50419</td></tr>\n",
       "</tbody>\n",
       "</table>\n"
      ],
      "text/latex": [
       "\\begin{tabular}{r|llllllll}\n",
       " age & leg & gender & year & PredictionsMLR1A & PredictionsGLM1A & PredMLR1 & PredMLR1A\\\\\n",
       "\\hline\n",
       "\t 58.0     & 1        & F        & 2019     & 4.016682 & 56.04079 & 55.51661 & 55.51661\\\\\n",
       "\t 48.0     & 2        & F        & 2019     & 3.658375 & 39.14798 & 38.79823 & 38.79823\\\\\n",
       "\t 65.5     & 3        & F        & 2019     & 4.496544 & 89.99238 & 89.70661 & 89.70661\\\\\n",
       "\t 32.5     & 4        & F        & 2019     & 3.957552 & 53.08190 & 52.32909 & 52.32909\\\\\n",
       "\t 53.0     & 5        & F        & 2019     & 4.014812 & 56.14118 & 55.41290 & 55.41290\\\\\n",
       "\t 51.5     & 6        & F        & 2019     & 3.772857 & 44.16105 & 43.50419 & 43.50419\\\\\n",
       "\\end{tabular}\n"
      ],
      "text/markdown": [
       "\n",
       "| age | leg | gender | year | PredictionsMLR1A | PredictionsGLM1A | PredMLR1 | PredMLR1A |\n",
       "|---|---|---|---|---|---|---|---|\n",
       "| 58.0     | 1        | F        | 2019     | 4.016682 | 56.04079 | 55.51661 | 55.51661 |\n",
       "| 48.0     | 2        | F        | 2019     | 3.658375 | 39.14798 | 38.79823 | 38.79823 |\n",
       "| 65.5     | 3        | F        | 2019     | 4.496544 | 89.99238 | 89.70661 | 89.70661 |\n",
       "| 32.5     | 4        | F        | 2019     | 3.957552 | 53.08190 | 52.32909 | 52.32909 |\n",
       "| 53.0     | 5        | F        | 2019     | 4.014812 | 56.14118 | 55.41290 | 55.41290 |\n",
       "| 51.5     | 6        | F        | 2019     | 3.772857 | 44.16105 | 43.50419 | 43.50419 |\n",
       "\n"
      ],
      "text/plain": [
       "  age  leg gender year PredictionsMLR1A PredictionsGLM1A PredMLR1 PredMLR1A\n",
       "1 58.0 1   F      2019 4.016682         56.04079         55.51661 55.51661 \n",
       "2 48.0 2   F      2019 3.658375         39.14798         38.79823 38.79823 \n",
       "3 65.5 3   F      2019 4.496544         89.99238         89.70661 89.70661 \n",
       "4 32.5 4   F      2019 3.957552         53.08190         52.32909 52.32909 \n",
       "5 53.0 5   F      2019 4.014812         56.14118         55.41290 55.41290 \n",
       "6 51.5 6   F      2019 3.772857         44.16105         43.50419 43.50419 "
      ]
     },
     "metadata": {},
     "output_type": "display_data"
    }
   ],
   "source": [
    "#re-attach dataframe with new values\n",
    "detach(dataframe8)\n",
    "attach(dataframe8)\n",
    "\n",
    "head(dataframe8)"
   ]
  },
  {
   "cell_type": "code",
   "execution_count": 233,
   "id": "5194023d",
   "metadata": {},
   "outputs": [
    {
     "data": {
      "text/html": [
       "63.7190759050626"
      ],
      "text/latex": [
       "63.7190759050626"
      ],
      "text/markdown": [
       "63.7190759050626"
      ],
      "text/plain": [
       "[1] 63.71908"
      ]
     },
     "metadata": {},
     "output_type": "display_data"
    },
    {
     "data": {
      "text/html": [
       "0.120454404288894"
      ],
      "text/latex": [
       "0.120454404288894"
      ],
      "text/markdown": [
       "0.120454404288894"
      ],
      "text/plain": [
       "[1] 0.1204544"
      ]
     },
     "metadata": {},
     "output_type": "display_data"
    },
    {
     "data": {
      "text/html": [
       "62.7492453235447"
      ],
      "text/latex": [
       "62.7492453235447"
      ],
      "text/markdown": [
       "62.7492453235447"
      ],
      "text/plain": [
       "[1] 62.74925"
      ]
     },
     "metadata": {},
     "output_type": "display_data"
    },
    {
     "data": {
      "text/html": [
       "0.122179459012547"
      ],
      "text/latex": [
       "0.122179459012547"
      ],
      "text/markdown": [
       "0.122179459012547"
      ],
      "text/plain": [
       "[1] 0.1221795"
      ]
     },
     "metadata": {},
     "output_type": "display_data"
    }
   ],
   "source": [
    "predMLR1A <- dataframe8[,'PredMLR1A']\n",
    "predGLM1A <- dataframe8[,'PredictionsGLM1A']\n",
    "obsAgeA <- greensand21[,'legTime']\n",
    "\n",
    "# code to run MSE for MLR1\n",
    "mean((predMLR1A - obsAgeA)^2)\n",
    "# code to run MAPE\n",
    "mean(abs((predMLR1A - obsAgeA)/obsAgeA))\n",
    "\n",
    "# code to run MSE for GLM1\n",
    "mean((predGLM1A - obsAgeA)^2)\n",
    "# code to run MAPE\n",
    "mean(abs((predGLM1A - obsAgeA)/obsAgeA))"
   ]
  },
  {
   "cell_type": "code",
   "execution_count": 234,
   "id": "201e3afe",
   "metadata": {},
   "outputs": [],
   "source": [
    "detach(dataframe8)\n",
    "attach(greensand21)"
   ]
  },
  {
   "cell_type": "code",
   "execution_count": 235,
   "id": "31e17166",
   "metadata": {},
   "outputs": [
    {
     "data": {
      "text/html": [
       "<table>\n",
       "<thead><tr><th scope=col>leg</th><th scope=col>ageClass</th><th scope=col>gender</th><th scope=col>year</th></tr></thead>\n",
       "<tbody>\n",
       "\t<tr><td>1   </td><td>55  </td><td>F   </td><td>2019</td></tr>\n",
       "\t<tr><td>2   </td><td>45  </td><td>F   </td><td>2019</td></tr>\n",
       "\t<tr><td>3   </td><td>65  </td><td>F   </td><td>2019</td></tr>\n",
       "\t<tr><td>4   </td><td>35  </td><td>F   </td><td>2019</td></tr>\n",
       "\t<tr><td>5   </td><td>45  </td><td>F   </td><td>2019</td></tr>\n",
       "\t<tr><td>6   </td><td>45  </td><td>F   </td><td>2019</td></tr>\n",
       "</tbody>\n",
       "</table>\n"
      ],
      "text/latex": [
       "\\begin{tabular}{r|llll}\n",
       " leg & ageClass & gender & year\\\\\n",
       "\\hline\n",
       "\t 1    & 55   & F    & 2019\\\\\n",
       "\t 2    & 45   & F    & 2019\\\\\n",
       "\t 3    & 65   & F    & 2019\\\\\n",
       "\t 4    & 35   & F    & 2019\\\\\n",
       "\t 5    & 45   & F    & 2019\\\\\n",
       "\t 6    & 45   & F    & 2019\\\\\n",
       "\\end{tabular}\n"
      ],
      "text/markdown": [
       "\n",
       "| leg | ageClass | gender | year |\n",
       "|---|---|---|---|\n",
       "| 1    | 55   | F    | 2019 |\n",
       "| 2    | 45   | F    | 2019 |\n",
       "| 3    | 65   | F    | 2019 |\n",
       "| 4    | 35   | F    | 2019 |\n",
       "| 5    | 45   | F    | 2019 |\n",
       "| 6    | 45   | F    | 2019 |\n",
       "\n"
      ],
      "text/plain": [
       "  leg ageClass gender year\n",
       "1 1   55       F      2019\n",
       "2 2   45       F      2019\n",
       "3 3   65       F      2019\n",
       "4 4   35       F      2019\n",
       "5 5   45       F      2019\n",
       "6 6   45       F      2019"
      ]
     },
     "metadata": {},
     "output_type": "display_data"
    },
    {
     "name": "stdout",
     "output_type": "stream",
     "text": [
      "'data.frame':\t204 obs. of  4 variables:\n",
      " $ leg     : Factor w/ 6 levels \"1\",\"2\",\"3\",\"4\",..: 1 2 3 4 5 6 1 2 3 4 ...\n",
      " $ ageClass: Factor w/ 11 levels \"16\",\"20\",\"21\",..: 8 6 10 4 6 6 5 3 5 3 ...\n",
      " $ gender  : Factor w/ 2 levels \"F\",\"M\": 1 1 1 1 1 1 2 2 2 2 ...\n",
      " $ year    : Factor w/ 1 level \"2019\": 1 1 1 1 1 1 1 1 1 1 ...\n"
     ]
    }
   ],
   "source": [
    "#create new dataframe for predictions for models with age class\n",
    "dataframe9  <- data.frame(leg,ageClass,gender,year)\n",
    "\n",
    "head(dataframe9)\n",
    "str(dataframe9)"
   ]
  },
  {
   "cell_type": "code",
   "execution_count": 236,
   "id": "cbe554d0",
   "metadata": {},
   "outputs": [],
   "source": [
    "#attach new dataframe\n",
    "detach(greensand21)\n",
    "attach(dataframe9)"
   ]
  },
  {
   "cell_type": "code",
   "execution_count": 237,
   "id": "2d3eb044",
   "metadata": {},
   "outputs": [
    {
     "data": {
      "text/html": [
       "<table>\n",
       "<thead><tr><th scope=col>leg</th><th scope=col>ageClass</th><th scope=col>gender</th><th scope=col>year</th><th scope=col>PredictionsMLR2A</th><th scope=col>PredictionsGLM2A</th></tr></thead>\n",
       "<tbody>\n",
       "\t<tr><td>1       </td><td>55      </td><td>F       </td><td>2019    </td><td>4.029378</td><td>56.97222</td></tr>\n",
       "\t<tr><td>2       </td><td>45      </td><td>F       </td><td>2019    </td><td>3.661484</td><td>39.32445</td></tr>\n",
       "\t<tr><td>3       </td><td>65      </td><td>F       </td><td>2019    </td><td>4.547810</td><td>94.64339</td></tr>\n",
       "\t<tr><td>4       </td><td>35      </td><td>F       </td><td>2019    </td><td>3.977937</td><td>53.91450</td></tr>\n",
       "\t<tr><td>5       </td><td>45      </td><td>F       </td><td>2019    </td><td>3.992869</td><td>55.00857</td></tr>\n",
       "\t<tr><td>6       </td><td>45      </td><td>F       </td><td>2019    </td><td>3.761237</td><td>43.69307</td></tr>\n",
       "</tbody>\n",
       "</table>\n"
      ],
      "text/latex": [
       "\\begin{tabular}{r|llllll}\n",
       " leg & ageClass & gender & year & PredictionsMLR2A & PredictionsGLM2A\\\\\n",
       "\\hline\n",
       "\t 1        & 55       & F        & 2019     & 4.029378 & 56.97222\\\\\n",
       "\t 2        & 45       & F        & 2019     & 3.661484 & 39.32445\\\\\n",
       "\t 3        & 65       & F        & 2019     & 4.547810 & 94.64339\\\\\n",
       "\t 4        & 35       & F        & 2019     & 3.977937 & 53.91450\\\\\n",
       "\t 5        & 45       & F        & 2019     & 3.992869 & 55.00857\\\\\n",
       "\t 6        & 45       & F        & 2019     & 3.761237 & 43.69307\\\\\n",
       "\\end{tabular}\n"
      ],
      "text/markdown": [
       "\n",
       "| leg | ageClass | gender | year | PredictionsMLR2A | PredictionsGLM2A |\n",
       "|---|---|---|---|---|---|\n",
       "| 1        | 55       | F        | 2019     | 4.029378 | 56.97222 |\n",
       "| 2        | 45       | F        | 2019     | 3.661484 | 39.32445 |\n",
       "| 3        | 65       | F        | 2019     | 4.547810 | 94.64339 |\n",
       "| 4        | 35       | F        | 2019     | 3.977937 | 53.91450 |\n",
       "| 5        | 45       | F        | 2019     | 3.992869 | 55.00857 |\n",
       "| 6        | 45       | F        | 2019     | 3.761237 | 43.69307 |\n",
       "\n"
      ],
      "text/plain": [
       "  leg ageClass gender year PredictionsMLR2A PredictionsGLM2A\n",
       "1 1   55       F      2019 4.029378         56.97222        \n",
       "2 2   45       F      2019 3.661484         39.32445        \n",
       "3 3   65       F      2019 4.547810         94.64339        \n",
       "4 4   35       F      2019 3.977937         53.91450        \n",
       "5 5   45       F      2019 3.992869         55.00857        \n",
       "6 6   45       F      2019 3.761237         43.69307        "
      ]
     },
     "metadata": {},
     "output_type": "display_data"
    }
   ],
   "source": [
    "# add predictions to dataframe\n",
    "dataframe9$PredictionsMLR2A  <- predict(finalMLR2, newdata = dataframe9)\n",
    "dataframe9$PredictionsGLM2A  <- predict(finalGLM2, newdata = dataframe9, type = \"response\")\n",
    "\n",
    "head(dataframe9)"
   ]
  },
  {
   "cell_type": "code",
   "execution_count": 238,
   "id": "1327bbc6",
   "metadata": {},
   "outputs": [],
   "source": [
    "#re-attach dataframe with new values\n",
    "detach(dataframe9)\n",
    "attach(dataframe9)"
   ]
  },
  {
   "cell_type": "code",
   "execution_count": 239,
   "id": "2db4e073",
   "metadata": {},
   "outputs": [
    {
     "data": {
      "text/html": [
       "<table>\n",
       "<thead><tr><th scope=col>leg</th><th scope=col>ageClass</th><th scope=col>gender</th><th scope=col>year</th><th scope=col>PredictionsMLR2A</th><th scope=col>PredictionsGLM2A</th><th scope=col>PredMLR2A</th></tr></thead>\n",
       "<tbody>\n",
       "\t<tr><td>1       </td><td>55      </td><td>F       </td><td>2019    </td><td>4.029378</td><td>56.97222</td><td>56.22594</td></tr>\n",
       "\t<tr><td>2       </td><td>45      </td><td>F       </td><td>2019    </td><td>3.661484</td><td>39.32445</td><td>38.91907</td></tr>\n",
       "\t<tr><td>3       </td><td>65      </td><td>F       </td><td>2019    </td><td>4.547810</td><td>94.64339</td><td>94.42535</td></tr>\n",
       "\t<tr><td>4       </td><td>35      </td><td>F       </td><td>2019    </td><td>3.977937</td><td>53.91450</td><td>53.40675</td></tr>\n",
       "\t<tr><td>5       </td><td>45      </td><td>F       </td><td>2019    </td><td>3.992869</td><td>55.00857</td><td>54.21018</td></tr>\n",
       "\t<tr><td>6       </td><td>45      </td><td>F       </td><td>2019    </td><td>3.761237</td><td>43.69307</td><td>43.00158</td></tr>\n",
       "</tbody>\n",
       "</table>\n"
      ],
      "text/latex": [
       "\\begin{tabular}{r|lllllll}\n",
       " leg & ageClass & gender & year & PredictionsMLR2A & PredictionsGLM2A & PredMLR2A\\\\\n",
       "\\hline\n",
       "\t 1        & 55       & F        & 2019     & 4.029378 & 56.97222 & 56.22594\\\\\n",
       "\t 2        & 45       & F        & 2019     & 3.661484 & 39.32445 & 38.91907\\\\\n",
       "\t 3        & 65       & F        & 2019     & 4.547810 & 94.64339 & 94.42535\\\\\n",
       "\t 4        & 35       & F        & 2019     & 3.977937 & 53.91450 & 53.40675\\\\\n",
       "\t 5        & 45       & F        & 2019     & 3.992869 & 55.00857 & 54.21018\\\\\n",
       "\t 6        & 45       & F        & 2019     & 3.761237 & 43.69307 & 43.00158\\\\\n",
       "\\end{tabular}\n"
      ],
      "text/markdown": [
       "\n",
       "| leg | ageClass | gender | year | PredictionsMLR2A | PredictionsGLM2A | PredMLR2A |\n",
       "|---|---|---|---|---|---|---|\n",
       "| 1        | 55       | F        | 2019     | 4.029378 | 56.97222 | 56.22594 |\n",
       "| 2        | 45       | F        | 2019     | 3.661484 | 39.32445 | 38.91907 |\n",
       "| 3        | 65       | F        | 2019     | 4.547810 | 94.64339 | 94.42535 |\n",
       "| 4        | 35       | F        | 2019     | 3.977937 | 53.91450 | 53.40675 |\n",
       "| 5        | 45       | F        | 2019     | 3.992869 | 55.00857 | 54.21018 |\n",
       "| 6        | 45       | F        | 2019     | 3.761237 | 43.69307 | 43.00158 |\n",
       "\n"
      ],
      "text/plain": [
       "  leg ageClass gender year PredictionsMLR2A PredictionsGLM2A PredMLR2A\n",
       "1 1   55       F      2019 4.029378         56.97222         56.22594 \n",
       "2 2   45       F      2019 3.661484         39.32445         38.91907 \n",
       "3 3   65       F      2019 4.547810         94.64339         94.42535 \n",
       "4 4   35       F      2019 3.977937         53.91450         53.40675 \n",
       "5 5   45       F      2019 3.992869         55.00857         54.21018 \n",
       "6 6   45       F      2019 3.761237         43.69307         43.00158 "
      ]
     },
     "metadata": {},
     "output_type": "display_data"
    }
   ],
   "source": [
    "# convert MLR predictions \n",
    "dataframe9$PredMLR2A  <- exp(PredictionsMLR2A)\n",
    "head(dataframe9)"
   ]
  },
  {
   "cell_type": "code",
   "execution_count": 240,
   "id": "0da011d7",
   "metadata": {},
   "outputs": [
    {
     "data": {
      "text/html": [
       "<table>\n",
       "<thead><tr><th scope=col>leg</th><th scope=col>ageClass</th><th scope=col>gender</th><th scope=col>year</th><th scope=col>PredictionsMLR2A</th><th scope=col>PredictionsGLM2A</th><th scope=col>PredMLR2A</th></tr></thead>\n",
       "<tbody>\n",
       "\t<tr><td>1       </td><td>55      </td><td>F       </td><td>2019    </td><td>4.029378</td><td>56.97222</td><td>56.22594</td></tr>\n",
       "\t<tr><td>2       </td><td>45      </td><td>F       </td><td>2019    </td><td>3.661484</td><td>39.32445</td><td>38.91907</td></tr>\n",
       "\t<tr><td>3       </td><td>65      </td><td>F       </td><td>2019    </td><td>4.547810</td><td>94.64339</td><td>94.42535</td></tr>\n",
       "\t<tr><td>4       </td><td>35      </td><td>F       </td><td>2019    </td><td>3.977937</td><td>53.91450</td><td>53.40675</td></tr>\n",
       "\t<tr><td>5       </td><td>45      </td><td>F       </td><td>2019    </td><td>3.992869</td><td>55.00857</td><td>54.21018</td></tr>\n",
       "\t<tr><td>6       </td><td>45      </td><td>F       </td><td>2019    </td><td>3.761237</td><td>43.69307</td><td>43.00158</td></tr>\n",
       "</tbody>\n",
       "</table>\n"
      ],
      "text/latex": [
       "\\begin{tabular}{r|lllllll}\n",
       " leg & ageClass & gender & year & PredictionsMLR2A & PredictionsGLM2A & PredMLR2A\\\\\n",
       "\\hline\n",
       "\t 1        & 55       & F        & 2019     & 4.029378 & 56.97222 & 56.22594\\\\\n",
       "\t 2        & 45       & F        & 2019     & 3.661484 & 39.32445 & 38.91907\\\\\n",
       "\t 3        & 65       & F        & 2019     & 4.547810 & 94.64339 & 94.42535\\\\\n",
       "\t 4        & 35       & F        & 2019     & 3.977937 & 53.91450 & 53.40675\\\\\n",
       "\t 5        & 45       & F        & 2019     & 3.992869 & 55.00857 & 54.21018\\\\\n",
       "\t 6        & 45       & F        & 2019     & 3.761237 & 43.69307 & 43.00158\\\\\n",
       "\\end{tabular}\n"
      ],
      "text/markdown": [
       "\n",
       "| leg | ageClass | gender | year | PredictionsMLR2A | PredictionsGLM2A | PredMLR2A |\n",
       "|---|---|---|---|---|---|---|\n",
       "| 1        | 55       | F        | 2019     | 4.029378 | 56.97222 | 56.22594 |\n",
       "| 2        | 45       | F        | 2019     | 3.661484 | 39.32445 | 38.91907 |\n",
       "| 3        | 65       | F        | 2019     | 4.547810 | 94.64339 | 94.42535 |\n",
       "| 4        | 35       | F        | 2019     | 3.977937 | 53.91450 | 53.40675 |\n",
       "| 5        | 45       | F        | 2019     | 3.992869 | 55.00857 | 54.21018 |\n",
       "| 6        | 45       | F        | 2019     | 3.761237 | 43.69307 | 43.00158 |\n",
       "\n"
      ],
      "text/plain": [
       "  leg ageClass gender year PredictionsMLR2A PredictionsGLM2A PredMLR2A\n",
       "1 1   55       F      2019 4.029378         56.97222         56.22594 \n",
       "2 2   45       F      2019 3.661484         39.32445         38.91907 \n",
       "3 3   65       F      2019 4.547810         94.64339         94.42535 \n",
       "4 4   35       F      2019 3.977937         53.91450         53.40675 \n",
       "5 5   45       F      2019 3.992869         55.00857         54.21018 \n",
       "6 6   45       F      2019 3.761237         43.69307         43.00158 "
      ]
     },
     "metadata": {},
     "output_type": "display_data"
    }
   ],
   "source": [
    "#re-attach dataframe with new values\n",
    "detach(dataframe9)\n",
    "attach(dataframe9)\n",
    "\n",
    "head(dataframe9)"
   ]
  },
  {
   "cell_type": "code",
   "execution_count": 241,
   "id": "80d221c1",
   "metadata": {},
   "outputs": [
    {
     "data": {
      "text/html": [
       "66.3436007433883"
      ],
      "text/latex": [
       "66.3436007433883"
      ],
      "text/markdown": [
       "66.3436007433883"
      ],
      "text/plain": [
       "[1] 66.3436"
      ]
     },
     "metadata": {},
     "output_type": "display_data"
    },
    {
     "data": {
      "text/html": [
       "0.123537806422304"
      ],
      "text/latex": [
       "0.123537806422304"
      ],
      "text/markdown": [
       "0.123537806422304"
      ],
      "text/plain": [
       "[1] 0.1235378"
      ]
     },
     "metadata": {},
     "output_type": "display_data"
    },
    {
     "data": {
      "text/html": [
       "65.7586518798029"
      ],
      "text/latex": [
       "65.7586518798029"
      ],
      "text/markdown": [
       "65.7586518798029"
      ],
      "text/plain": [
       "[1] 65.75865"
      ]
     },
     "metadata": {},
     "output_type": "display_data"
    },
    {
     "data": {
      "text/html": [
       "0.125097553990122"
      ],
      "text/latex": [
       "0.125097553990122"
      ],
      "text/markdown": [
       "0.125097553990122"
      ],
      "text/plain": [
       "[1] 0.1250976"
      ]
     },
     "metadata": {},
     "output_type": "display_data"
    }
   ],
   "source": [
    "predMLR2A <- dataframe9[,'PredMLR2A']\n",
    "predGLM2A <- dataframe9[,'PredictionsGLM2A']\n",
    "obsAgeA <- greensand21[,'legTime']\n",
    "\n",
    "# code to run MSE for MLR2\n",
    "mean((predMLR2A - obsAgeA)^2)\n",
    "# code to run MAPE\n",
    "mean(abs((predMLR2A - obsAgeA)/obsAgeA))\n",
    "\n",
    "# code to run MSE for GLM2\n",
    "mean((predGLM2A - obsAgeA)^2)\n",
    "# code to run MAPE\n",
    "mean(abs((predGLM2A - obsAgeA)/obsAgeA))"
   ]
  },
  {
   "cell_type": "code",
   "execution_count": 242,
   "id": "a24918ce",
   "metadata": {},
   "outputs": [],
   "source": [
    "detach(dataframe9)"
   ]
  },
  {
   "cell_type": "markdown",
   "id": "f51dcc98",
   "metadata": {},
   "source": [
    "|Model            |MSE     |MAPE    |\n",
    "|-----------------|--------|--------|\n",
    "|MLR with age     |63.719  |0.120   |\n",
    "|MLR with ageClass|66.344  |0.124   |\n",
    "|GLM with age     |62.749  |0.122   |\n",
    "|GLM with ageClass|65.759  |0.125   |\n",
    "\n",
    "The table above shows the respective MSE's and MAPE's of all four models using the test dataset.\n",
    "\n",
    "The model which has the lowest MSE is the GLM using `age` as a variable so according to MSE this is the best model.\n",
    "\n",
    "The model which has the lowest MAPE is the MLR model using `age` as a variable so according to MAPE this is the best model."
   ]
  },
  {
   "cell_type": "markdown",
   "id": "73d81252",
   "metadata": {},
   "source": [
    "## Recommending which model to use to make predictions\n",
    "\n",
    "The MSE and MAPE values for the models used in part d) ii) were based upon the training dataset which is why these values were lower. You would expect a model to perform better on data that is used to build it. \n",
    "\n",
    "However to test if a model works it is best to try it on a test data set such as we did in part d) iii). The MSE and MAPE values will go up but this is to be expected. \n",
    "\n",
    "Both the GLM and MLR models using `age` as a variable give a MAPE of 12% meaning the predictions are on average 12% away from the actual values they were aiming for. However the MSE for the GLM is lower than the MLR model.\n",
    "\n",
    "Therefore the model I would recommend would be the GLM model using `age` as a variable.\n",
    "\n",
    "The model is \n",
    "\n",
    "`legTime` ~ `age` + `leg` + `gender` + `year` + `leg:year` + `age:year` + `age:gender`"
   ]
  }
 ],
 "metadata": {
  "kernelspec": {
   "display_name": "R",
   "language": "R",
   "name": "ir"
  },
  "language_info": {
   "codemirror_mode": "r",
   "file_extension": ".r",
   "mimetype": "text/x-r-source",
   "name": "R",
   "pygments_lexer": "r",
   "version": "3.6.1"
  }
 },
 "nbformat": 4,
 "nbformat_minor": 5
}
